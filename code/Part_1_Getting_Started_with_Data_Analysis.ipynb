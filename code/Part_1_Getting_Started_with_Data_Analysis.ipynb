{
 "cells": [
  {
   "cell_type": "markdown",
   "id": "440812a2-98ad-40f5-a50d-30be9e4f0ad1",
   "metadata": {},
   "source": [
    "# Analyzing Stack Overflow Survey Data\n",
    "* !pip install polars"
   ]
  },
  {
   "cell_type": "code",
   "execution_count": 1,
   "id": "6e833b84-21f9-4d2b-a64c-c8fd6a10f17d",
   "metadata": {},
   "outputs": [],
   "source": [
    "import polars as pl"
   ]
  },
  {
   "cell_type": "code",
   "execution_count": 2,
   "id": "4deb6f7c-4687-4c2b-8c89-d8360c8958f3",
   "metadata": {},
   "outputs": [
    {
     "data": {
      "text/plain": [
       "'0.19.6'"
      ]
     },
     "execution_count": 2,
     "metadata": {},
     "output_type": "execute_result"
    }
   ],
   "source": [
    "# !pip install polars\n",
    "pl.__version__"
   ]
  },
  {
   "cell_type": "code",
   "execution_count": 3,
   "id": "2a5a337f-f7f6-4ee9-88bf-3ae6bcd2d183",
   "metadata": {},
   "outputs": [
    {
     "data": {
      "text/html": [
       "<div><style>\n",
       ".dataframe > thead > tr > th,\n",
       ".dataframe > tbody > tr > td {\n",
       "  text-align: right;\n",
       "  white-space: pre-wrap;\n",
       "}\n",
       "</style>\n",
       "<small>shape: (88_883, 85)</small><table border=\"1\" class=\"dataframe\"><thead><tr><th>Respondent</th><th>MainBranch</th><th>Hobbyist</th><th>OpenSourcer</th><th>OpenSource</th><th>Employment</th><th>Country</th><th>Student</th><th>EdLevel</th><th>UndergradMajor</th><th>EduOther</th><th>OrgSize</th><th>DevType</th><th>YearsCode</th><th>Age1stCode</th><th>YearsCodePro</th><th>CareerSat</th><th>JobSat</th><th>MgrIdiot</th><th>MgrMoney</th><th>MgrWant</th><th>JobSeek</th><th>LastHireDate</th><th>LastInt</th><th>FizzBuzz</th><th>JobFactors</th><th>ResumeUpdate</th><th>CurrencySymbol</th><th>CurrencyDesc</th><th>CompTotal</th><th>CompFreq</th><th>ConvertedComp</th><th>WorkWeekHrs</th><th>WorkPlan</th><th>WorkChallenge</th><th>WorkRemote</th><th>WorkLoc</th><th>&hellip;</th><th>PlatformDesireNextYear</th><th>WebFrameWorkedWith</th><th>WebFrameDesireNextYear</th><th>MiscTechWorkedWith</th><th>MiscTechDesireNextYear</th><th>DevEnviron</th><th>OpSys</th><th>Containers</th><th>BlockchainOrg</th><th>BlockchainIs</th><th>BetterLife</th><th>ITperson</th><th>OffOn</th><th>SocialMedia</th><th>Extraversion</th><th>ScreenName</th><th>SOVisit1st</th><th>SOVisitFreq</th><th>SOVisitTo</th><th>SOFindAnswer</th><th>SOTimeSaved</th><th>SOHowMuchTime</th><th>SOAccount</th><th>SOPartFreq</th><th>SOJobs</th><th>EntTeams</th><th>SOComm</th><th>WelcomeChange</th><th>SONewContent</th><th>Age</th><th>Gender</th><th>Trans</th><th>Sexuality</th><th>Ethnicity</th><th>Dependents</th><th>SurveyLength</th><th>SurveyEase</th></tr><tr><td>i64</td><td>str</td><td>str</td><td>str</td><td>str</td><td>str</td><td>str</td><td>str</td><td>str</td><td>str</td><td>str</td><td>str</td><td>str</td><td>str</td><td>str</td><td>str</td><td>str</td><td>str</td><td>str</td><td>str</td><td>str</td><td>str</td><td>str</td><td>str</td><td>str</td><td>str</td><td>str</td><td>str</td><td>str</td><td>str</td><td>str</td><td>str</td><td>str</td><td>str</td><td>str</td><td>str</td><td>str</td><td>&hellip;</td><td>str</td><td>str</td><td>str</td><td>str</td><td>str</td><td>str</td><td>str</td><td>str</td><td>str</td><td>str</td><td>str</td><td>str</td><td>str</td><td>str</td><td>str</td><td>str</td><td>str</td><td>str</td><td>str</td><td>str</td><td>str</td><td>str</td><td>str</td><td>str</td><td>str</td><td>str</td><td>str</td><td>str</td><td>str</td><td>str</td><td>str</td><td>str</td><td>str</td><td>str</td><td>str</td><td>str</td><td>str</td></tr></thead><tbody><tr><td>1</td><td>&quot;I am a student…</td><td>&quot;Yes&quot;</td><td>&quot;Never&quot;</td><td>&quot;The quality of…</td><td>&quot;Not employed, …</td><td>&quot;United Kingdom…</td><td>&quot;No&quot;</td><td>&quot;Primary/elemen…</td><td>&quot;NA&quot;</td><td>&quot;Taught yoursel…</td><td>&quot;NA&quot;</td><td>&quot;NA&quot;</td><td>&quot;4&quot;</td><td>&quot;10&quot;</td><td>&quot;NA&quot;</td><td>&quot;NA&quot;</td><td>&quot;NA&quot;</td><td>&quot;NA&quot;</td><td>&quot;NA&quot;</td><td>&quot;NA&quot;</td><td>&quot;NA&quot;</td><td>&quot;NA&quot;</td><td>&quot;NA&quot;</td><td>&quot;NA&quot;</td><td>&quot;NA&quot;</td><td>&quot;NA&quot;</td><td>&quot;NA&quot;</td><td>&quot;NA&quot;</td><td>&quot;NA&quot;</td><td>&quot;NA&quot;</td><td>&quot;NA&quot;</td><td>&quot;NA&quot;</td><td>&quot;NA&quot;</td><td>&quot;NA&quot;</td><td>&quot;NA&quot;</td><td>&quot;NA&quot;</td><td>&hellip;</td><td>&quot;Android;Arduin…</td><td>&quot;Django;Flask&quot;</td><td>&quot;Flask;jQuery&quot;</td><td>&quot;Node.js&quot;</td><td>&quot;Node.js&quot;</td><td>&quot;IntelliJ;Notep…</td><td>&quot;Windows&quot;</td><td>&quot;I do not use c…</td><td>&quot;NA&quot;</td><td>&quot;NA&quot;</td><td>&quot;Yes&quot;</td><td>&quot;Fortunately, s…</td><td>&quot;Yes&quot;</td><td>&quot;Twitter&quot;</td><td>&quot;Online&quot;</td><td>&quot;Username&quot;</td><td>&quot;2017&quot;</td><td>&quot;A few times pe…</td><td>&quot;Find answers t…</td><td>&quot;3-5 times per …</td><td>&quot;Stack Overflow…</td><td>&quot;31-60 minutes&quot;</td><td>&quot;No&quot;</td><td>&quot;NA&quot;</td><td>&quot;No, I didn&#x27;t k…</td><td>&quot;No, and I don&#x27;…</td><td>&quot;Neutral&quot;</td><td>&quot;Just as welcom…</td><td>&quot;Tech articles …</td><td>&quot;14&quot;</td><td>&quot;Man&quot;</td><td>&quot;No&quot;</td><td>&quot;Straight / Het…</td><td>&quot;NA&quot;</td><td>&quot;No&quot;</td><td>&quot;Appropriate in…</td><td>&quot;Neither easy n…</td></tr><tr><td>2</td><td>&quot;I am a student…</td><td>&quot;No&quot;</td><td>&quot;Less than once…</td><td>&quot;The quality of…</td><td>&quot;Not employed, …</td><td>&quot;Bosnia and Her…</td><td>&quot;Yes, full-time…</td><td>&quot;Secondary scho…</td><td>&quot;NA&quot;</td><td>&quot;Taken an onlin…</td><td>&quot;NA&quot;</td><td>&quot;Developer, des…</td><td>&quot;NA&quot;</td><td>&quot;17&quot;</td><td>&quot;NA&quot;</td><td>&quot;NA&quot;</td><td>&quot;NA&quot;</td><td>&quot;NA&quot;</td><td>&quot;NA&quot;</td><td>&quot;NA&quot;</td><td>&quot;I am actively …</td><td>&quot;I&#x27;ve never had…</td><td>&quot;NA&quot;</td><td>&quot;NA&quot;</td><td>&quot;Financial perf…</td><td>&quot;Something else…</td><td>&quot;NA&quot;</td><td>&quot;NA&quot;</td><td>&quot;NA&quot;</td><td>&quot;NA&quot;</td><td>&quot;NA&quot;</td><td>&quot;NA&quot;</td><td>&quot;NA&quot;</td><td>&quot;NA&quot;</td><td>&quot;NA&quot;</td><td>&quot;NA&quot;</td><td>&hellip;</td><td>&quot;Windows&quot;</td><td>&quot;Django&quot;</td><td>&quot;Django&quot;</td><td>&quot;NA&quot;</td><td>&quot;NA&quot;</td><td>&quot;Atom;PyCharm&quot;</td><td>&quot;Windows&quot;</td><td>&quot;I do not use c…</td><td>&quot;NA&quot;</td><td>&quot;Useful across …</td><td>&quot;Yes&quot;</td><td>&quot;Yes&quot;</td><td>&quot;Yes&quot;</td><td>&quot;Instagram&quot;</td><td>&quot;Online&quot;</td><td>&quot;Username&quot;</td><td>&quot;2017&quot;</td><td>&quot;Daily or almos…</td><td>&quot;Find answers t…</td><td>&quot;3-5 times per …</td><td>&quot;Stack Overflow…</td><td>&quot;11-30 minutes&quot;</td><td>&quot;Yes&quot;</td><td>&quot;A few times pe…</td><td>&quot;No, I knew tha…</td><td>&quot;No, and I don&#x27;…</td><td>&quot;Yes, somewhat&quot;</td><td>&quot;Just as welcom…</td><td>&quot;Tech articles …</td><td>&quot;19&quot;</td><td>&quot;Man&quot;</td><td>&quot;No&quot;</td><td>&quot;Straight / Het…</td><td>&quot;NA&quot;</td><td>&quot;No&quot;</td><td>&quot;Appropriate in…</td><td>&quot;Neither easy n…</td></tr><tr><td>3</td><td>&quot;I am not prima…</td><td>&quot;Yes&quot;</td><td>&quot;Never&quot;</td><td>&quot;The quality of…</td><td>&quot;Employed full-…</td><td>&quot;Thailand&quot;</td><td>&quot;No&quot;</td><td>&quot;Bachelor’s deg…</td><td>&quot;Web developmen…</td><td>&quot;Taught yoursel…</td><td>&quot;100 to 499 emp…</td><td>&quot;Designer;Devel…</td><td>&quot;3&quot;</td><td>&quot;22&quot;</td><td>&quot;1&quot;</td><td>&quot;Slightly satis…</td><td>&quot;Slightly satis…</td><td>&quot;Not at all con…</td><td>&quot;Not sure&quot;</td><td>&quot;Not sure&quot;</td><td>&quot;I’m not active…</td><td>&quot;1-2 years ago&quot;</td><td>&quot;Interview with…</td><td>&quot;No&quot;</td><td>&quot;Languages, fra…</td><td>&quot;I was preparin…</td><td>&quot;THB&quot;</td><td>&quot;Thai baht&quot;</td><td>&quot;23000&quot;</td><td>&quot;Monthly&quot;</td><td>&quot;8820&quot;</td><td>&quot;40&quot;</td><td>&quot;There&#x27;s no sch…</td><td>&quot;Distracting wo…</td><td>&quot;Less than once…</td><td>&quot;Home&quot;</td><td>&hellip;</td><td>&quot;NA&quot;</td><td>&quot;NA&quot;</td><td>&quot;Other(s):&quot;</td><td>&quot;NA&quot;</td><td>&quot;NA&quot;</td><td>&quot;Vim;Visual Stu…</td><td>&quot;Linux-based&quot;</td><td>&quot;I do not use c…</td><td>&quot;NA&quot;</td><td>&quot;NA&quot;</td><td>&quot;Yes&quot;</td><td>&quot;Yes&quot;</td><td>&quot;Yes&quot;</td><td>&quot;Reddit&quot;</td><td>&quot;In real life (…</td><td>&quot;Username&quot;</td><td>&quot;2011&quot;</td><td>&quot;A few times pe…</td><td>&quot;Find answers t…</td><td>&quot;6-10 times per…</td><td>&quot;They were abou…</td><td>&quot;NA&quot;</td><td>&quot;Yes&quot;</td><td>&quot;Less than once…</td><td>&quot;Yes&quot;</td><td>&quot;No, I&#x27;ve heard…</td><td>&quot;Neutral&quot;</td><td>&quot;Just as welcom…</td><td>&quot;Tech meetups o…</td><td>&quot;28&quot;</td><td>&quot;Man&quot;</td><td>&quot;No&quot;</td><td>&quot;Straight / Het…</td><td>&quot;NA&quot;</td><td>&quot;Yes&quot;</td><td>&quot;Appropriate in…</td><td>&quot;Neither easy n…</td></tr><tr><td>4</td><td>&quot;I am a develop…</td><td>&quot;No&quot;</td><td>&quot;Never&quot;</td><td>&quot;The quality of…</td><td>&quot;Employed full-…</td><td>&quot;United States&quot;</td><td>&quot;No&quot;</td><td>&quot;Bachelor’s deg…</td><td>&quot;Computer scien…</td><td>&quot;Taken an onlin…</td><td>&quot;100 to 499 emp…</td><td>&quot;Developer, ful…</td><td>&quot;3&quot;</td><td>&quot;16&quot;</td><td>&quot;Less than 1 ye…</td><td>&quot;Very satisfied…</td><td>&quot;Slightly satis…</td><td>&quot;Very confident…</td><td>&quot;No&quot;</td><td>&quot;Not sure&quot;</td><td>&quot;I am not inter…</td><td>&quot;Less than a ye…</td><td>&quot;Write code by …</td><td>&quot;No&quot;</td><td>&quot;Languages, fra…</td><td>&quot;I was preparin…</td><td>&quot;USD&quot;</td><td>&quot;United States …</td><td>&quot;61000&quot;</td><td>&quot;Yearly&quot;</td><td>&quot;61000&quot;</td><td>&quot;80&quot;</td><td>&quot;There&#x27;s no sch…</td><td>&quot;NA&quot;</td><td>&quot;Less than once…</td><td>&quot;Home&quot;</td><td>&hellip;</td><td>&quot;Linux;Windows&quot;</td><td>&quot;NA&quot;</td><td>&quot;NA&quot;</td><td>&quot;.NET&quot;</td><td>&quot;.NET&quot;</td><td>&quot;Eclipse;Vim;Vi…</td><td>&quot;Windows&quot;</td><td>&quot;I do not use c…</td><td>&quot;Not at all&quot;</td><td>&quot;Useful for dec…</td><td>&quot;Yes&quot;</td><td>&quot;SIGH&quot;</td><td>&quot;Yes&quot;</td><td>&quot;Reddit&quot;</td><td>&quot;In real life (…</td><td>&quot;Username&quot;</td><td>&quot;2014&quot;</td><td>&quot;Daily or almos…</td><td>&quot;Find answers t…</td><td>&quot;1-2 times per …</td><td>&quot;Stack Overflow…</td><td>&quot;31-60 minutes&quot;</td><td>&quot;Yes&quot;</td><td>&quot;Less than once…</td><td>&quot;Yes&quot;</td><td>&quot;No, and I don&#x27;…</td><td>&quot;No, not really…</td><td>&quot;Just as welcom…</td><td>&quot;Tech articles …</td><td>&quot;22&quot;</td><td>&quot;Man&quot;</td><td>&quot;No&quot;</td><td>&quot;Straight / Het…</td><td>&quot;White or of Eu…</td><td>&quot;No&quot;</td><td>&quot;Appropriate in…</td><td>&quot;Easy&quot;</td></tr><tr><td>5</td><td>&quot;I am a develop…</td><td>&quot;Yes&quot;</td><td>&quot;Once a month o…</td><td>&quot;OSS is, on ave…</td><td>&quot;Employed full-…</td><td>&quot;Ukraine&quot;</td><td>&quot;No&quot;</td><td>&quot;Bachelor’s deg…</td><td>&quot;Computer scien…</td><td>&quot;Taken an onlin…</td><td>&quot;10,000 or more…</td><td>&quot;Academic resea…</td><td>&quot;16&quot;</td><td>&quot;14&quot;</td><td>&quot;9&quot;</td><td>&quot;Very dissatisf…</td><td>&quot;Slightly dissa…</td><td>&quot;Somewhat confi…</td><td>&quot;Yes&quot;</td><td>&quot;No&quot;</td><td>&quot;I am not inter…</td><td>&quot;Less than a ye…</td><td>&quot;Write any code…</td><td>&quot;No&quot;</td><td>&quot;Industry that …</td><td>&quot;I was preparin…</td><td>&quot;UAH&quot;</td><td>&quot;Ukrainian hryv…</td><td>&quot;NA&quot;</td><td>&quot;NA&quot;</td><td>&quot;NA&quot;</td><td>&quot;55&quot;</td><td>&quot;There is a sch…</td><td>&quot;Being tasked w…</td><td>&quot;A few days eac…</td><td>&quot;Office&quot;</td><td>&hellip;</td><td>&quot;Android;Docker…</td><td>&quot;Django;Express…</td><td>&quot;Flask;jQuery;R…</td><td>&quot;Cordova;Node.j…</td><td>&quot;Apache Spark;H…</td><td>&quot;IntelliJ;Notep…</td><td>&quot;Linux-based&quot;</td><td>&quot;Outside of wor…</td><td>&quot;Not at all&quot;</td><td>&quot;NA&quot;</td><td>&quot;Yes&quot;</td><td>&quot;Also Yes&quot;</td><td>&quot;Yes&quot;</td><td>&quot;Facebook&quot;</td><td>&quot;In real life (…</td><td>&quot;Username&quot;</td><td>&quot;I don&#x27;t rememb…</td><td>&quot;Multiple times…</td><td>&quot;Find answers t…</td><td>&quot;More than 10 t…</td><td>&quot;Stack Overflow…</td><td>&quot;NA&quot;</td><td>&quot;Yes&quot;</td><td>&quot;A few times pe…</td><td>&quot;No, I knew tha…</td><td>&quot;No, I&#x27;ve heard…</td><td>&quot;Yes, definitel…</td><td>&quot;Just as welcom…</td><td>&quot;Tech meetups o…</td><td>&quot;30&quot;</td><td>&quot;Man&quot;</td><td>&quot;No&quot;</td><td>&quot;Straight / Het…</td><td>&quot;White or of Eu…</td><td>&quot;No&quot;</td><td>&quot;Appropriate in…</td><td>&quot;Easy&quot;</td></tr><tr><td>&hellip;</td><td>&hellip;</td><td>&hellip;</td><td>&hellip;</td><td>&hellip;</td><td>&hellip;</td><td>&hellip;</td><td>&hellip;</td><td>&hellip;</td><td>&hellip;</td><td>&hellip;</td><td>&hellip;</td><td>&hellip;</td><td>&hellip;</td><td>&hellip;</td><td>&hellip;</td><td>&hellip;</td><td>&hellip;</td><td>&hellip;</td><td>&hellip;</td><td>&hellip;</td><td>&hellip;</td><td>&hellip;</td><td>&hellip;</td><td>&hellip;</td><td>&hellip;</td><td>&hellip;</td><td>&hellip;</td><td>&hellip;</td><td>&hellip;</td><td>&hellip;</td><td>&hellip;</td><td>&hellip;</td><td>&hellip;</td><td>&hellip;</td><td>&hellip;</td><td>&hellip;</td><td>&hellip;</td><td>&hellip;</td><td>&hellip;</td><td>&hellip;</td><td>&hellip;</td><td>&hellip;</td><td>&hellip;</td><td>&hellip;</td><td>&hellip;</td><td>&hellip;</td><td>&hellip;</td><td>&hellip;</td><td>&hellip;</td><td>&hellip;</td><td>&hellip;</td><td>&hellip;</td><td>&hellip;</td><td>&hellip;</td><td>&hellip;</td><td>&hellip;</td><td>&hellip;</td><td>&hellip;</td><td>&hellip;</td><td>&hellip;</td><td>&hellip;</td><td>&hellip;</td><td>&hellip;</td><td>&hellip;</td><td>&hellip;</td><td>&hellip;</td><td>&hellip;</td><td>&hellip;</td><td>&hellip;</td><td>&hellip;</td><td>&hellip;</td><td>&hellip;</td><td>&hellip;</td><td>&hellip;</td></tr><tr><td>88377</td><td>&quot;NA&quot;</td><td>&quot;Yes&quot;</td><td>&quot;Less than once…</td><td>&quot;The quality of…</td><td>&quot;Not employed, …</td><td>&quot;Canada&quot;</td><td>&quot;No&quot;</td><td>&quot;Primary/elemen…</td><td>&quot;NA&quot;</td><td>&quot;Taught yoursel…</td><td>&quot;NA&quot;</td><td>&quot;NA&quot;</td><td>&quot;NA&quot;</td><td>&quot;NA&quot;</td><td>&quot;NA&quot;</td><td>&quot;NA&quot;</td><td>&quot;NA&quot;</td><td>&quot;NA&quot;</td><td>&quot;NA&quot;</td><td>&quot;NA&quot;</td><td>&quot;NA&quot;</td><td>&quot;NA&quot;</td><td>&quot;NA&quot;</td><td>&quot;NA&quot;</td><td>&quot;NA&quot;</td><td>&quot;NA&quot;</td><td>&quot;NA&quot;</td><td>&quot;NA&quot;</td><td>&quot;NA&quot;</td><td>&quot;NA&quot;</td><td>&quot;NA&quot;</td><td>&quot;NA&quot;</td><td>&quot;NA&quot;</td><td>&quot;NA&quot;</td><td>&quot;NA&quot;</td><td>&quot;NA&quot;</td><td>&hellip;</td><td>&quot;Google Cloud P…</td><td>&quot;jQuery&quot;</td><td>&quot;jQuery;Vue.js&quot;</td><td>&quot;Node.js&quot;</td><td>&quot;React Native;U…</td><td>&quot;Atom;Visual St…</td><td>&quot;Windows&quot;</td><td>&quot;I do not use c…</td><td>&quot;NA&quot;</td><td>&quot;Useful across …</td><td>&quot;Yes&quot;</td><td>&quot;Yes&quot;</td><td>&quot;What?&quot;</td><td>&quot;YouTube&quot;</td><td>&quot;NA&quot;</td><td>&quot;Username&quot;</td><td>&quot;I don&#x27;t rememb…</td><td>&quot;A few times pe…</td><td>&quot;Find answers t…</td><td>&quot;3-5 times per …</td><td>&quot;Stack Overflow…</td><td>&quot;11-30 minutes&quot;</td><td>&quot;Yes&quot;</td><td>&quot;I have never p…</td><td>&quot;No, I knew tha…</td><td>&quot;No, I&#x27;ve heard…</td><td>&quot;No, not at all…</td><td>&quot;NA&quot;</td><td>&quot;Tech articles …</td><td>&quot;NA&quot;</td><td>&quot;Man&quot;</td><td>&quot;No&quot;</td><td>&quot;NA&quot;</td><td>&quot;NA&quot;</td><td>&quot;No&quot;</td><td>&quot;Appropriate in…</td><td>&quot;Easy&quot;</td></tr><tr><td>88601</td><td>&quot;NA&quot;</td><td>&quot;No&quot;</td><td>&quot;Never&quot;</td><td>&quot;The quality of…</td><td>&quot;NA&quot;</td><td>&quot;NA&quot;</td><td>&quot;NA&quot;</td><td>&quot;NA&quot;</td><td>&quot;NA&quot;</td><td>&quot;NA&quot;</td><td>&quot;NA&quot;</td><td>&quot;NA&quot;</td><td>&quot;NA&quot;</td><td>&quot;NA&quot;</td><td>&quot;NA&quot;</td><td>&quot;NA&quot;</td><td>&quot;NA&quot;</td><td>&quot;NA&quot;</td><td>&quot;NA&quot;</td><td>&quot;NA&quot;</td><td>&quot;NA&quot;</td><td>&quot;NA&quot;</td><td>&quot;NA&quot;</td><td>&quot;NA&quot;</td><td>&quot;NA&quot;</td><td>&quot;NA&quot;</td><td>&quot;NA&quot;</td><td>&quot;NA&quot;</td><td>&quot;NA&quot;</td><td>&quot;NA&quot;</td><td>&quot;NA&quot;</td><td>&quot;NA&quot;</td><td>&quot;NA&quot;</td><td>&quot;NA&quot;</td><td>&quot;NA&quot;</td><td>&quot;NA&quot;</td><td>&hellip;</td><td>&quot;NA&quot;</td><td>&quot;NA&quot;</td><td>&quot;NA&quot;</td><td>&quot;NA&quot;</td><td>&quot;NA&quot;</td><td>&quot;NA&quot;</td><td>&quot;NA&quot;</td><td>&quot;NA&quot;</td><td>&quot;NA&quot;</td><td>&quot;NA&quot;</td><td>&quot;NA&quot;</td><td>&quot;NA&quot;</td><td>&quot;NA&quot;</td><td>&quot;NA&quot;</td><td>&quot;NA&quot;</td><td>&quot;NA&quot;</td><td>&quot;NA&quot;</td><td>&quot;NA&quot;</td><td>&quot;NA&quot;</td><td>&quot;NA&quot;</td><td>&quot;NA&quot;</td><td>&quot;NA&quot;</td><td>&quot;NA&quot;</td><td>&quot;NA&quot;</td><td>&quot;NA&quot;</td><td>&quot;NA&quot;</td><td>&quot;NA&quot;</td><td>&quot;NA&quot;</td><td>&quot;NA&quot;</td><td>&quot;NA&quot;</td><td>&quot;NA&quot;</td><td>&quot;NA&quot;</td><td>&quot;NA&quot;</td><td>&quot;NA&quot;</td><td>&quot;NA&quot;</td><td>&quot;NA&quot;</td><td>&quot;NA&quot;</td></tr><tr><td>88802</td><td>&quot;NA&quot;</td><td>&quot;No&quot;</td><td>&quot;Never&quot;</td><td>&quot;NA&quot;</td><td>&quot;Employed full-…</td><td>&quot;NA&quot;</td><td>&quot;NA&quot;</td><td>&quot;NA&quot;</td><td>&quot;NA&quot;</td><td>&quot;NA&quot;</td><td>&quot;NA&quot;</td><td>&quot;NA&quot;</td><td>&quot;NA&quot;</td><td>&quot;NA&quot;</td><td>&quot;NA&quot;</td><td>&quot;NA&quot;</td><td>&quot;NA&quot;</td><td>&quot;NA&quot;</td><td>&quot;NA&quot;</td><td>&quot;NA&quot;</td><td>&quot;NA&quot;</td><td>&quot;NA&quot;</td><td>&quot;NA&quot;</td><td>&quot;NA&quot;</td><td>&quot;NA&quot;</td><td>&quot;NA&quot;</td><td>&quot;NA&quot;</td><td>&quot;NA&quot;</td><td>&quot;NA&quot;</td><td>&quot;NA&quot;</td><td>&quot;NA&quot;</td><td>&quot;NA&quot;</td><td>&quot;NA&quot;</td><td>&quot;NA&quot;</td><td>&quot;NA&quot;</td><td>&quot;NA&quot;</td><td>&hellip;</td><td>&quot;NA&quot;</td><td>&quot;NA&quot;</td><td>&quot;NA&quot;</td><td>&quot;NA&quot;</td><td>&quot;NA&quot;</td><td>&quot;NA&quot;</td><td>&quot;NA&quot;</td><td>&quot;NA&quot;</td><td>&quot;NA&quot;</td><td>&quot;NA&quot;</td><td>&quot;NA&quot;</td><td>&quot;NA&quot;</td><td>&quot;NA&quot;</td><td>&quot;NA&quot;</td><td>&quot;NA&quot;</td><td>&quot;NA&quot;</td><td>&quot;NA&quot;</td><td>&quot;NA&quot;</td><td>&quot;NA&quot;</td><td>&quot;NA&quot;</td><td>&quot;NA&quot;</td><td>&quot;NA&quot;</td><td>&quot;NA&quot;</td><td>&quot;NA&quot;</td><td>&quot;NA&quot;</td><td>&quot;NA&quot;</td><td>&quot;NA&quot;</td><td>&quot;NA&quot;</td><td>&quot;NA&quot;</td><td>&quot;NA&quot;</td><td>&quot;NA&quot;</td><td>&quot;NA&quot;</td><td>&quot;NA&quot;</td><td>&quot;NA&quot;</td><td>&quot;NA&quot;</td><td>&quot;NA&quot;</td><td>&quot;NA&quot;</td></tr><tr><td>88816</td><td>&quot;NA&quot;</td><td>&quot;No&quot;</td><td>&quot;Never&quot;</td><td>&quot;OSS is, on ave…</td><td>&quot;Independent co…</td><td>&quot;NA&quot;</td><td>&quot;NA&quot;</td><td>&quot;NA&quot;</td><td>&quot;NA&quot;</td><td>&quot;NA&quot;</td><td>&quot;NA&quot;</td><td>&quot;NA&quot;</td><td>&quot;NA&quot;</td><td>&quot;NA&quot;</td><td>&quot;NA&quot;</td><td>&quot;NA&quot;</td><td>&quot;NA&quot;</td><td>&quot;NA&quot;</td><td>&quot;NA&quot;</td><td>&quot;NA&quot;</td><td>&quot;NA&quot;</td><td>&quot;NA&quot;</td><td>&quot;NA&quot;</td><td>&quot;NA&quot;</td><td>&quot;NA&quot;</td><td>&quot;NA&quot;</td><td>&quot;NA&quot;</td><td>&quot;NA&quot;</td><td>&quot;NA&quot;</td><td>&quot;NA&quot;</td><td>&quot;NA&quot;</td><td>&quot;NA&quot;</td><td>&quot;NA&quot;</td><td>&quot;NA&quot;</td><td>&quot;NA&quot;</td><td>&quot;NA&quot;</td><td>&hellip;</td><td>&quot;NA&quot;</td><td>&quot;NA&quot;</td><td>&quot;NA&quot;</td><td>&quot;NA&quot;</td><td>&quot;NA&quot;</td><td>&quot;NA&quot;</td><td>&quot;NA&quot;</td><td>&quot;NA&quot;</td><td>&quot;NA&quot;</td><td>&quot;NA&quot;</td><td>&quot;NA&quot;</td><td>&quot;NA&quot;</td><td>&quot;NA&quot;</td><td>&quot;NA&quot;</td><td>&quot;NA&quot;</td><td>&quot;NA&quot;</td><td>&quot;NA&quot;</td><td>&quot;NA&quot;</td><td>&quot;NA&quot;</td><td>&quot;NA&quot;</td><td>&quot;NA&quot;</td><td>&quot;NA&quot;</td><td>&quot;NA&quot;</td><td>&quot;NA&quot;</td><td>&quot;NA&quot;</td><td>&quot;NA&quot;</td><td>&quot;NA&quot;</td><td>&quot;NA&quot;</td><td>&quot;NA&quot;</td><td>&quot;NA&quot;</td><td>&quot;NA&quot;</td><td>&quot;NA&quot;</td><td>&quot;NA&quot;</td><td>&quot;NA&quot;</td><td>&quot;NA&quot;</td><td>&quot;NA&quot;</td><td>&quot;NA&quot;</td></tr><tr><td>88863</td><td>&quot;NA&quot;</td><td>&quot;Yes&quot;</td><td>&quot;Less than once…</td><td>&quot;OSS is, on ave…</td><td>&quot;Not employed, …</td><td>&quot;Spain&quot;</td><td>&quot;Yes, full-time…</td><td>&quot;Professional d…</td><td>&quot;Computer scien…</td><td>&quot;Taken an onlin…</td><td>&quot;NA&quot;</td><td>&quot;NA&quot;</td><td>&quot;8&quot;</td><td>&quot;11&quot;</td><td>&quot;3&quot;</td><td>&quot;NA&quot;</td><td>&quot;NA&quot;</td><td>&quot;NA&quot;</td><td>&quot;NA&quot;</td><td>&quot;NA&quot;</td><td>&quot;NA&quot;</td><td>&quot;NA&quot;</td><td>&quot;NA&quot;</td><td>&quot;NA&quot;</td><td>&quot;NA&quot;</td><td>&quot;NA&quot;</td><td>&quot;NA&quot;</td><td>&quot;NA&quot;</td><td>&quot;NA&quot;</td><td>&quot;NA&quot;</td><td>&quot;NA&quot;</td><td>&quot;NA&quot;</td><td>&quot;NA&quot;</td><td>&quot;NA&quot;</td><td>&quot;NA&quot;</td><td>&quot;NA&quot;</td><td>&hellip;</td><td>&quot;Android;AWS;Go…</td><td>&quot;Django;jQuery;…</td><td>&quot;Django&quot;</td><td>&quot;Unity 3D;Unrea…</td><td>&quot;NA&quot;</td><td>&quot;Android Studio…</td><td>&quot;Linux-based&quot;</td><td>&quot;Production&quot;</td><td>&quot;NA&quot;</td><td>&quot;Useful for dec…</td><td>&quot;Yes&quot;</td><td>&quot;Also Yes&quot;</td><td>&quot;Yes&quot;</td><td>&quot;WhatsApp&quot;</td><td>&quot;In real life (…</td><td>&quot;NA&quot;</td><td>&quot;2012&quot;</td><td>&quot;Daily or almos…</td><td>&quot;Find answers t…</td><td>&quot;6-10 times per…</td><td>&quot;Stack Overflow…</td><td>&quot;11-30 minutes&quot;</td><td>&quot;Yes&quot;</td><td>&quot;A few times pe…</td><td>&quot;Yes&quot;</td><td>&quot;No, I&#x27;ve heard…</td><td>&quot;Yes, somewhat&quot;</td><td>&quot;Somewhat less …</td><td>&quot;Tech articles …</td><td>&quot;18&quot;</td><td>&quot;Man&quot;</td><td>&quot;No&quot;</td><td>&quot;Straight / Het…</td><td>&quot;Hispanic or La…</td><td>&quot;No&quot;</td><td>&quot;Appropriate in…</td><td>&quot;Easy&quot;</td></tr></tbody></table></div>"
      ],
      "text/plain": [
       "shape: (88_883, 85)\n",
       "┌───────────┬───────────┬──────────┬───────────┬───┬───────────┬───────────┬───────────┬───────────┐\n",
       "│ Responden ┆ MainBranc ┆ Hobbyist ┆ OpenSourc ┆ … ┆ Ethnicity ┆ Dependent ┆ SurveyLen ┆ SurveyEas │\n",
       "│ t         ┆ h         ┆ ---      ┆ er        ┆   ┆ ---       ┆ s         ┆ gth       ┆ e         │\n",
       "│ ---       ┆ ---       ┆ str      ┆ ---       ┆   ┆ str       ┆ ---       ┆ ---       ┆ ---       │\n",
       "│ i64       ┆ str       ┆          ┆ str       ┆   ┆           ┆ str       ┆ str       ┆ str       │\n",
       "╞═══════════╪═══════════╪══════════╪═══════════╪═══╪═══════════╪═══════════╪═══════════╪═══════════╡\n",
       "│ 1         ┆ I am a    ┆ Yes      ┆ Never     ┆ … ┆ NA        ┆ No        ┆ Appropria ┆ Neither   │\n",
       "│           ┆ student   ┆          ┆           ┆   ┆           ┆           ┆ te in     ┆ easy nor  │\n",
       "│           ┆ who is    ┆          ┆           ┆   ┆           ┆           ┆ length    ┆ difficult │\n",
       "│           ┆ learning  ┆          ┆           ┆   ┆           ┆           ┆           ┆           │\n",
       "│           ┆ t…        ┆          ┆           ┆   ┆           ┆           ┆           ┆           │\n",
       "│ 2         ┆ I am a    ┆ No       ┆ Less than ┆ … ┆ NA        ┆ No        ┆ Appropria ┆ Neither   │\n",
       "│           ┆ student   ┆          ┆ once per  ┆   ┆           ┆           ┆ te in     ┆ easy nor  │\n",
       "│           ┆ who is    ┆          ┆ year      ┆   ┆           ┆           ┆ length    ┆ difficult │\n",
       "│           ┆ learning  ┆          ┆           ┆   ┆           ┆           ┆           ┆           │\n",
       "│           ┆ t…        ┆          ┆           ┆   ┆           ┆           ┆           ┆           │\n",
       "│ 3         ┆ I am not  ┆ Yes      ┆ Never     ┆ … ┆ NA        ┆ Yes       ┆ Appropria ┆ Neither   │\n",
       "│           ┆ primarily ┆          ┆           ┆   ┆           ┆           ┆ te in     ┆ easy nor  │\n",
       "│           ┆ a develop ┆          ┆           ┆   ┆           ┆           ┆ length    ┆ difficult │\n",
       "│           ┆ er, …     ┆          ┆           ┆   ┆           ┆           ┆           ┆           │\n",
       "│ 4         ┆ I am a    ┆ No       ┆ Never     ┆ … ┆ White or  ┆ No        ┆ Appropria ┆ Easy      │\n",
       "│           ┆ developer ┆          ┆           ┆   ┆ of        ┆           ┆ te in     ┆           │\n",
       "│           ┆ by profes ┆          ┆           ┆   ┆ European  ┆           ┆ length    ┆           │\n",
       "│           ┆ sion      ┆          ┆           ┆   ┆ descent   ┆           ┆           ┆           │\n",
       "│ 5         ┆ I am a    ┆ Yes      ┆ Once a    ┆ … ┆ White or  ┆ No        ┆ Appropria ┆ Easy      │\n",
       "│           ┆ developer ┆          ┆ month or  ┆   ┆ of        ┆           ┆ te in     ┆           │\n",
       "│           ┆ by profes ┆          ┆ more      ┆   ┆ European  ┆           ┆ length    ┆           │\n",
       "│           ┆ sion      ┆          ┆ often     ┆   ┆ descent;M ┆           ┆           ┆           │\n",
       "│           ┆           ┆          ┆           ┆   ┆ ul…       ┆           ┆           ┆           │\n",
       "│ …         ┆ …         ┆ …        ┆ …         ┆ … ┆ …         ┆ …         ┆ …         ┆ …         │\n",
       "│ 88377     ┆ NA        ┆ Yes      ┆ Less than ┆ … ┆ NA        ┆ No        ┆ Appropria ┆ Easy      │\n",
       "│           ┆           ┆          ┆ once a    ┆   ┆           ┆           ┆ te in     ┆           │\n",
       "│           ┆           ┆          ┆ month but ┆   ┆           ┆           ┆ length    ┆           │\n",
       "│           ┆           ┆          ┆ more …    ┆   ┆           ┆           ┆           ┆           │\n",
       "│ 88601     ┆ NA        ┆ No       ┆ Never     ┆ … ┆ NA        ┆ NA        ┆ NA        ┆ NA        │\n",
       "│ 88802     ┆ NA        ┆ No       ┆ Never     ┆ … ┆ NA        ┆ NA        ┆ NA        ┆ NA        │\n",
       "│ 88816     ┆ NA        ┆ No       ┆ Never     ┆ … ┆ NA        ┆ NA        ┆ NA        ┆ NA        │\n",
       "│ 88863     ┆ NA        ┆ Yes      ┆ Less than ┆ … ┆ Hispanic  ┆ No        ┆ Appropria ┆ Easy      │\n",
       "│           ┆           ┆          ┆ once per  ┆   ┆ or Latino ┆           ┆ te in     ┆           │\n",
       "│           ┆           ┆          ┆ year      ┆   ┆ /Latina;W ┆           ┆ length    ┆           │\n",
       "│           ┆           ┆          ┆           ┆   ┆ hite …    ┆           ┆           ┆           │\n",
       "└───────────┴───────────┴──────────┴───────────┴───┴───────────┴───────────┴───────────┴───────────┘"
      ]
     },
     "execution_count": 3,
     "metadata": {},
     "output_type": "execute_result"
    }
   ],
   "source": [
    "pl.Config.set_tbl_rows(10)\n",
    "df = pl.read_csv('data/survey_results_public.csv')\n",
    "df"
   ]
  },
  {
   "cell_type": "code",
   "execution_count": 4,
   "id": "8fed6dca-001b-41b7-99b7-6c5eeaef10e0",
   "metadata": {},
   "outputs": [
    {
     "data": {
      "text/html": [
       "<div><style>\n",
       ".dataframe > thead > tr > th,\n",
       ".dataframe > tbody > tr > td {\n",
       "  text-align: right;\n",
       "  white-space: pre-wrap;\n",
       "}\n",
       "</style>\n",
       "<small>shape: (85, 2)</small><table border=\"1\" class=\"dataframe\"><thead><tr><th>Column</th><th>QuestionText</th></tr><tr><td>str</td><td>str</td></tr></thead><tbody><tr><td>&quot;Respondent&quot;</td><td>&quot;Randomized respondent ID number (not in order of …</td></tr><tr><td>&quot;MainBranch&quot;</td><td>&quot;Which of the following options best describes you…</td></tr><tr><td>&quot;Hobbyist&quot;</td><td>&quot;Do you code as a hobby?&quot;</td></tr><tr><td>&quot;OpenSourcer&quot;</td><td>&quot;How often do you contribute to open source?&quot;</td></tr><tr><td>&quot;OpenSource&quot;</td><td>&quot;How do you feel about the quality of open source …</td></tr><tr><td>&hellip;</td><td>&hellip;</td></tr><tr><td>&quot;Sexuality&quot;</td><td>&quot;Which of the following do you currently identify …</td></tr><tr><td>&quot;Ethnicity&quot;</td><td>&quot;Which of the following do you identify as? Please…</td></tr><tr><td>&quot;Dependents&quot;</td><td>&quot;Do you have any dependents (e.g., children, elder…</td></tr><tr><td>&quot;SurveyLength&quot;</td><td>&quot;How do you feel about the length of the survey th…</td></tr><tr><td>&quot;SurveyEase&quot;</td><td>&quot;How easy or difficult was this survey to complete…</td></tr></tbody></table></div>"
      ],
      "text/plain": [
       "shape: (85, 2)\n",
       "┌──────────────┬─────────────────────────────────────────────────────┐\n",
       "│ Column       ┆ QuestionText                                        │\n",
       "│ ---          ┆ ---                                                 │\n",
       "│ str          ┆ str                                                 │\n",
       "╞══════════════╪═════════════════════════════════════════════════════╡\n",
       "│ Respondent   ┆ Randomized respondent ID number (not in order of s… │\n",
       "│ MainBranch   ┆ Which of the following options best describes you … │\n",
       "│ Hobbyist     ┆ Do you code as a hobby?                             │\n",
       "│ OpenSourcer  ┆ How often do you contribute to open source?         │\n",
       "│ OpenSource   ┆ How do you feel about the quality of open source s… │\n",
       "│ …            ┆ …                                                   │\n",
       "│ Sexuality    ┆ Which of the following do you currently identify a… │\n",
       "│ Ethnicity    ┆ Which of the following do you identify as? Please … │\n",
       "│ Dependents   ┆ Do you have any dependents (e.g., children, elders… │\n",
       "│ SurveyLength ┆ How do you feel about the length of the survey thi… │\n",
       "│ SurveyEase   ┆ How easy or difficult was this survey to complete?  │\n",
       "└──────────────┴─────────────────────────────────────────────────────┘"
      ]
     },
     "execution_count": 4,
     "metadata": {},
     "output_type": "execute_result"
    }
   ],
   "source": [
    "pl.Config.set_fmt_str_lengths(50)\n",
    "pl.Config.set_tbl_rows(85)\n",
    "schema_df = pl.read_csv('data/survey_results_schema.csv')\n",
    "schema_df"
   ]
  }
 ],
 "metadata": {
  "kernelspec": {
   "display_name": "Python 3 (ipykernel)",
   "language": "python",
   "name": "python3"
  },
  "language_info": {
   "codemirror_mode": {
    "name": "ipython",
    "version": 3
   },
   "file_extension": ".py",
   "mimetype": "text/x-python",
   "name": "python",
   "nbconvert_exporter": "python",
   "pygments_lexer": "ipython3",
   "version": "3.11.4"
  }
 },
 "nbformat": 4,
 "nbformat_minor": 5
}
