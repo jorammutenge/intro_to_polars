{
 "cells": [
  {
   "cell_type": "markdown",
   "metadata": {},
   "source": [
    "# Part 4b: More String Operations (Splitting)"
   ]
  },
  {
   "cell_type": "code",
   "execution_count": 3,
   "metadata": {},
   "outputs": [
    {
     "data": {
      "text/html": [
       "<div><style>\n",
       ".dataframe > thead > tr > th,\n",
       ".dataframe > tbody > tr > td {\n",
       "  text-align: right;\n",
       "  white-space: pre-wrap;\n",
       "}\n",
       "</style>\n",
       "<small>shape: (9_961, 2)</small><table border=\"1\" class=\"dataframe\"><thead><tr><th>Name</th><th>Address</th></tr><tr><td>str</td><td>str</td></tr></thead><tbody><tr><td>&quot;Frank Manning&quot;</td><td>&quot;6461 Quinn Groves, East Matthew, New Hampshire, 1…</td></tr><tr><td>&quot;Elizabeth Johnson&quot;</td><td>&quot;1360 Tracey Ports Apt. 419, Kyleport, Vermont, 31…</td></tr><tr><td>&quot;Donald Stephens&quot;</td><td>&quot;19120 Fleming Manors, Prestonstad, Montana, 23495…</td></tr><tr><td>&quot;Michael Vincent III&quot;</td><td>&quot;441 Olivia Creek, Jimmymouth, Georgia, 82991&quot;</td></tr><tr><td>&quot;Jasmine Zamora&quot;</td><td>&quot;4246 Chelsey Ford Apt. 310, Karamouth, Utah, 7625…</td></tr><tr><td>&hellip;</td><td>&hellip;</td></tr><tr><td>&quot;Dana Browning&quot;</td><td>&quot;762 Andrew Views Apt. 254, North Paul, New Mexico…</td></tr><tr><td>&quot;Amanda Anderson&quot;</td><td>&quot;44188 Day Crest Apt. 901, Lake Marcia, Maine, 373…</td></tr><tr><td>&quot;Eric Davis&quot;</td><td>&quot;73015 Michelle Squares, Watsonville, West Virgini…</td></tr><tr><td>&quot;Taylor Hernandez&quot;</td><td>&quot;129 Keith Greens, Haleyfurt, Oklahoma, 98916&quot;</td></tr><tr><td>&quot;Sherry Nicholson&quot;</td><td>&quot;355 Griffin Valley, Davidtown, New Mexico, 17581&quot;</td></tr></tbody></table></div>"
      ],
      "text/plain": [
       "shape: (9_961, 2)\n",
       "┌─────────────────────┬─────────────────────────────────────────────────────┐\n",
       "│ Name                ┆ Address                                             │\n",
       "│ ---                 ┆ ---                                                 │\n",
       "│ str                 ┆ str                                                 │\n",
       "╞═════════════════════╪═════════════════════════════════════════════════════╡\n",
       "│ Frank Manning       ┆ 6461 Quinn Groves, East Matthew, New Hampshire, 16… │\n",
       "│ Elizabeth Johnson   ┆ 1360 Tracey Ports Apt. 419, Kyleport, Vermont, 319… │\n",
       "│ Donald Stephens     ┆ 19120 Fleming Manors, Prestonstad, Montana, 23495   │\n",
       "│ Michael Vincent III ┆ 441 Olivia Creek, Jimmymouth, Georgia, 82991        │\n",
       "│ Jasmine Zamora      ┆ 4246 Chelsey Ford Apt. 310, Karamouth, Utah, 76252  │\n",
       "│ …                   ┆ …                                                   │\n",
       "│ Dana Browning       ┆ 762 Andrew Views Apt. 254, North Paul, New Mexico,… │\n",
       "│ Amanda Anderson     ┆ 44188 Day Crest Apt. 901, Lake Marcia, Maine, 3737… │\n",
       "│ Eric Davis          ┆ 73015 Michelle Squares, Watsonville, West Virginia… │\n",
       "│ Taylor Hernandez    ┆ 129 Keith Greens, Haleyfurt, Oklahoma, 98916        │\n",
       "│ Sherry Nicholson    ┆ 355 Griffin Valley, Davidtown, New Mexico, 17581    │\n",
       "└─────────────────────┴─────────────────────────────────────────────────────┘"
      ]
     },
     "execution_count": 3,
     "metadata": {},
     "output_type": "execute_result"
    }
   ],
   "source": [
    "import polars as pl\n",
    "pl.Config.set_tbl_rows(10)\n",
    "pl.Config.set_fmt_str_lengths(50)\n",
    "\n",
    "df = pl.read_csv('https://raw.githubusercontent.com/paskhaver/pandas-in-action/master/chapter_06_working_with_text_data/customers.csv')\n",
    "df"
   ]
  },
  {
   "cell_type": "code",
   "execution_count": 4,
   "metadata": {},
   "outputs": [
    {
     "data": {
      "text/plain": [
       "['555', '555', '5555']"
      ]
     },
     "execution_count": 4,
     "metadata": {},
     "output_type": "execute_result"
    }
   ],
   "source": [
    "# Lets talk about splitting strings\n",
    "phone_number = '555-555-5555'\n",
    "phone_number.split('-')"
   ]
  },
  {
   "cell_type": "code",
   "execution_count": 15,
   "metadata": {},
   "outputs": [
    {
     "data": {
      "text/html": [
       "<div><style>\n",
       ".dataframe > thead > tr > th,\n",
       ".dataframe > tbody > tr > td {\n",
       "  text-align: right;\n",
       "  white-space: pre-wrap;\n",
       "}\n",
       "</style>\n",
       "<small>shape: (9_961,)</small><table border=\"1\" class=\"dataframe\"><thead><tr><th>field_0</th></tr><tr><td>str</td></tr></thead><tbody><tr><td>&quot;Frank&quot;</td></tr><tr><td>&quot;Elizabeth&quot;</td></tr><tr><td>&quot;Donald&quot;</td></tr><tr><td>&quot;Michael&quot;</td></tr><tr><td>&quot;Jasmine&quot;</td></tr><tr><td>&hellip;</td></tr><tr><td>&quot;Dana&quot;</td></tr><tr><td>&quot;Amanda&quot;</td></tr><tr><td>&quot;Eric&quot;</td></tr><tr><td>&quot;Taylor&quot;</td></tr><tr><td>&quot;Sherry&quot;</td></tr></tbody></table></div>"
      ],
      "text/plain": [
       "shape: (9_961,)\n",
       "Series: 'field_0' [str]\n",
       "[\n",
       "\t\"Frank\"\n",
       "\t\"Elizabeth\"\n",
       "\t\"Donald\"\n",
       "\t\"Michael\"\n",
       "\t\"Jasmine\"\n",
       "\t…\n",
       "\t\"Dana\"\n",
       "\t\"Amanda\"\n",
       "\t\"Eric\"\n",
       "\t\"Taylor\"\n",
       "\t\"Sherry\"\n",
       "]"
      ]
     },
     "execution_count": 15,
     "metadata": {},
     "output_type": "execute_result"
    }
   ],
   "source": [
    "# df['Name'].str.split(' ').list[0]\n",
    "df['Name'].str.splitn(' ', 2).struct[0]"
   ]
  },
  {
   "cell_type": "code",
   "execution_count": null,
   "metadata": {},
   "outputs": [],
   "source": []
  },
  {
   "cell_type": "code",
   "execution_count": 129,
   "metadata": {},
   "outputs": [
    {
     "data": {
      "text/html": [
       "<div><style>\n",
       ".dataframe > thead > tr > th,\n",
       ".dataframe > tbody > tr > td {\n",
       "  text-align: right;\n",
       "  white-space: pre-wrap;\n",
       "}\n",
       "</style>\n",
       "<small>shape: (9_961, 4)</small><table border=\"1\" class=\"dataframe\"><thead><tr><th>Name</th><th>Address</th><th>First_Name</th><th>Last_Name</th></tr><tr><td>str</td><td>str</td><td>str</td><td>str</td></tr></thead><tbody><tr><td>&quot;Frank Manning&quot;</td><td>&quot;6461 Quinn Groves, East Matthew, New Hampshire, 1…</td><td>&quot;Frank&quot;</td><td>&quot;Manning&quot;</td></tr><tr><td>&quot;Elizabeth Johnson&quot;</td><td>&quot;1360 Tracey Ports Apt. 419, Kyleport, Vermont, 31…</td><td>&quot;Elizabeth&quot;</td><td>&quot;Johnson&quot;</td></tr><tr><td>&quot;Donald Stephens&quot;</td><td>&quot;19120 Fleming Manors, Prestonstad, Montana, 23495…</td><td>&quot;Donald&quot;</td><td>&quot;Stephens&quot;</td></tr><tr><td>&quot;Michael Vincent III&quot;</td><td>&quot;441 Olivia Creek, Jimmymouth, Georgia, 82991&quot;</td><td>&quot;Michael&quot;</td><td>&quot;Vincent III&quot;</td></tr><tr><td>&quot;Jasmine Zamora&quot;</td><td>&quot;4246 Chelsey Ford Apt. 310, Karamouth, Utah, 7625…</td><td>&quot;Jasmine&quot;</td><td>&quot;Zamora&quot;</td></tr><tr><td>&hellip;</td><td>&hellip;</td><td>&hellip;</td><td>&hellip;</td></tr><tr><td>&quot;Dana Browning&quot;</td><td>&quot;762 Andrew Views Apt. 254, North Paul, New Mexico…</td><td>&quot;Dana&quot;</td><td>&quot;Browning&quot;</td></tr><tr><td>&quot;Amanda Anderson&quot;</td><td>&quot;44188 Day Crest Apt. 901, Lake Marcia, Maine, 373…</td><td>&quot;Amanda&quot;</td><td>&quot;Anderson&quot;</td></tr><tr><td>&quot;Eric Davis&quot;</td><td>&quot;73015 Michelle Squares, Watsonville, West Virgini…</td><td>&quot;Eric&quot;</td><td>&quot;Davis&quot;</td></tr><tr><td>&quot;Taylor Hernandez&quot;</td><td>&quot;129 Keith Greens, Haleyfurt, Oklahoma, 98916&quot;</td><td>&quot;Taylor&quot;</td><td>&quot;Hernandez&quot;</td></tr><tr><td>&quot;Sherry Nicholson&quot;</td><td>&quot;355 Griffin Valley, Davidtown, New Mexico, 17581&quot;</td><td>&quot;Sherry&quot;</td><td>&quot;Nicholson&quot;</td></tr></tbody></table></div>"
      ],
      "text/plain": [
       "shape: (9_961, 4)\n",
       "┌─────────────────────┬─────────────────────────────────────────────────┬────────────┬─────────────┐\n",
       "│ Name                ┆ Address                                         ┆ First_Name ┆ Last_Name   │\n",
       "│ ---                 ┆ ---                                             ┆ ---        ┆ ---         │\n",
       "│ str                 ┆ str                                             ┆ str        ┆ str         │\n",
       "╞═════════════════════╪═════════════════════════════════════════════════╪════════════╪═════════════╡\n",
       "│ Frank Manning       ┆ 6461 Quinn Groves, East Matthew, New Hampshire, ┆ Frank      ┆ Manning     │\n",
       "│                     ┆ 16…                                             ┆            ┆             │\n",
       "│ Elizabeth Johnson   ┆ 1360 Tracey Ports Apt. 419, Kyleport, Vermont,  ┆ Elizabeth  ┆ Johnson     │\n",
       "│                     ┆ 319…                                            ┆            ┆             │\n",
       "│ Donald Stephens     ┆ 19120 Fleming Manors, Prestonstad, Montana,     ┆ Donald     ┆ Stephens    │\n",
       "│                     ┆ 23495                                           ┆            ┆             │\n",
       "│ Michael Vincent III ┆ 441 Olivia Creek, Jimmymouth, Georgia, 82991    ┆ Michael    ┆ Vincent III │\n",
       "│ Jasmine Zamora      ┆ 4246 Chelsey Ford Apt. 310, Karamouth, Utah,    ┆ Jasmine    ┆ Zamora      │\n",
       "│                     ┆ 76252                                           ┆            ┆             │\n",
       "│ …                   ┆ …                                               ┆ …          ┆ …           │\n",
       "│ Dana Browning       ┆ 762 Andrew Views Apt. 254, North Paul, New      ┆ Dana       ┆ Browning    │\n",
       "│                     ┆ Mexico,…                                        ┆            ┆             │\n",
       "│ Amanda Anderson     ┆ 44188 Day Crest Apt. 901, Lake Marcia, Maine,   ┆ Amanda     ┆ Anderson    │\n",
       "│                     ┆ 3737…                                           ┆            ┆             │\n",
       "│ Eric Davis          ┆ 73015 Michelle Squares, Watsonville, West       ┆ Eric       ┆ Davis       │\n",
       "│                     ┆ Virginia…                                       ┆            ┆             │\n",
       "│ Taylor Hernandez    ┆ 129 Keith Greens, Haleyfurt, Oklahoma, 98916    ┆ Taylor     ┆ Hernandez   │\n",
       "│ Sherry Nicholson    ┆ 355 Griffin Valley, Davidtown, New Mexico,      ┆ Sherry     ┆ Nicholson   │\n",
       "│                     ┆ 17581                                           ┆            ┆             │\n",
       "└─────────────────────┴─────────────────────────────────────────────────┴────────────┴─────────────┘"
      ]
     },
     "execution_count": 129,
     "metadata": {},
     "output_type": "execute_result"
    }
   ],
   "source": [
    "# Separate the first and last name\n",
    "\n",
    "(df\n",
    " .with_columns([pl.col('Name').str.splitn(\" \", 2).struct[0].alias('First_Name'),\n",
    "                pl.col('Name').str.splitn(\" \", 2).struct[1].alias('Last_Name')])\n",
    " )"
   ]
  },
  {
   "cell_type": "code",
   "execution_count": 16,
   "metadata": {},
   "outputs": [
    {
     "data": {
      "text/html": [
       "<div><style>\n",
       ".dataframe > thead > tr > th,\n",
       ".dataframe > tbody > tr > td {\n",
       "  text-align: right;\n",
       "  white-space: pre-wrap;\n",
       "}\n",
       "</style>\n",
       "<small>shape: (9_961, 3)</small><table border=\"1\" class=\"dataframe\"><thead><tr><th>Address</th><th>First_Name</th><th>Last_Name</th></tr><tr><td>str</td><td>str</td><td>str</td></tr></thead><tbody><tr><td>&quot;6461 Quinn Groves, East Matthew, New Hampshire, 1…</td><td>&quot;Frank&quot;</td><td>&quot;Manning&quot;</td></tr><tr><td>&quot;1360 Tracey Ports Apt. 419, Kyleport, Vermont, 31…</td><td>&quot;Elizabeth&quot;</td><td>&quot;Johnson&quot;</td></tr><tr><td>&quot;19120 Fleming Manors, Prestonstad, Montana, 23495…</td><td>&quot;Donald&quot;</td><td>&quot;Stephens&quot;</td></tr><tr><td>&quot;441 Olivia Creek, Jimmymouth, Georgia, 82991&quot;</td><td>&quot;Michael&quot;</td><td>&quot;Vincent III&quot;</td></tr><tr><td>&quot;4246 Chelsey Ford Apt. 310, Karamouth, Utah, 7625…</td><td>&quot;Jasmine&quot;</td><td>&quot;Zamora&quot;</td></tr><tr><td>&hellip;</td><td>&hellip;</td><td>&hellip;</td></tr><tr><td>&quot;762 Andrew Views Apt. 254, North Paul, New Mexico…</td><td>&quot;Dana&quot;</td><td>&quot;Browning&quot;</td></tr><tr><td>&quot;44188 Day Crest Apt. 901, Lake Marcia, Maine, 373…</td><td>&quot;Amanda&quot;</td><td>&quot;Anderson&quot;</td></tr><tr><td>&quot;73015 Michelle Squares, Watsonville, West Virgini…</td><td>&quot;Eric&quot;</td><td>&quot;Davis&quot;</td></tr><tr><td>&quot;129 Keith Greens, Haleyfurt, Oklahoma, 98916&quot;</td><td>&quot;Taylor&quot;</td><td>&quot;Hernandez&quot;</td></tr><tr><td>&quot;355 Griffin Valley, Davidtown, New Mexico, 17581&quot;</td><td>&quot;Sherry&quot;</td><td>&quot;Nicholson&quot;</td></tr></tbody></table></div>"
      ],
      "text/plain": [
       "shape: (9_961, 3)\n",
       "┌─────────────────────────────────────────────────────┬────────────┬─────────────┐\n",
       "│ Address                                             ┆ First_Name ┆ Last_Name   │\n",
       "│ ---                                                 ┆ ---        ┆ ---         │\n",
       "│ str                                                 ┆ str        ┆ str         │\n",
       "╞═════════════════════════════════════════════════════╪════════════╪═════════════╡\n",
       "│ 6461 Quinn Groves, East Matthew, New Hampshire, 16… ┆ Frank      ┆ Manning     │\n",
       "│ 1360 Tracey Ports Apt. 419, Kyleport, Vermont, 319… ┆ Elizabeth  ┆ Johnson     │\n",
       "│ 19120 Fleming Manors, Prestonstad, Montana, 23495   ┆ Donald     ┆ Stephens    │\n",
       "│ 441 Olivia Creek, Jimmymouth, Georgia, 82991        ┆ Michael    ┆ Vincent III │\n",
       "│ 4246 Chelsey Ford Apt. 310, Karamouth, Utah, 76252  ┆ Jasmine    ┆ Zamora      │\n",
       "│ …                                                   ┆ …          ┆ …           │\n",
       "│ 762 Andrew Views Apt. 254, North Paul, New Mexico,… ┆ Dana       ┆ Browning    │\n",
       "│ 44188 Day Crest Apt. 901, Lake Marcia, Maine, 3737… ┆ Amanda     ┆ Anderson    │\n",
       "│ 73015 Michelle Squares, Watsonville, West Virginia… ┆ Eric       ┆ Davis       │\n",
       "│ 129 Keith Greens, Haleyfurt, Oklahoma, 98916        ┆ Taylor     ┆ Hernandez   │\n",
       "│ 355 Griffin Valley, Davidtown, New Mexico, 17581    ┆ Sherry     ┆ Nicholson   │\n",
       "└─────────────────────────────────────────────────────┴────────────┴─────────────┘"
      ]
     },
     "execution_count": 16,
     "metadata": {},
     "output_type": "execute_result"
    }
   ],
   "source": [
    "# Assign col names\n",
    "(df\n",
    " .with_columns([pl.col('Name').str.splitn(\" \", 2).struct[0].alias('First_Name'),\n",
    "                pl.col('Name').str.splitn(\" \", 2).struct[1].alias('Last_Name')])\n",
    " .drop('Name')\n",
    " )"
   ]
  },
  {
   "cell_type": "code",
   "execution_count": 18,
   "metadata": {},
   "outputs": [
    {
     "data": {
      "text/html": [
       "<div><style>\n",
       ".dataframe > thead > tr > th,\n",
       ".dataframe > tbody > tr > td {\n",
       "  text-align: right;\n",
       "  white-space: pre-wrap;\n",
       "}\n",
       "</style>\n",
       "<small>shape: (9_961,)</small><table border=\"1\" class=\"dataframe\"><thead><tr><th>Address</th></tr><tr><td>struct[4]</td></tr></thead><tbody><tr><td>{&quot;6461 Quinn Groves&quot;,&quot;East Matthew&quot;,&quot;New Hampshire&quot;,&quot;16656&quot;}</td></tr><tr><td>{&quot;1360 Tracey Ports Apt. 419&quot;,&quot;Kyleport&quot;,&quot;Vermont&quot;,&quot;31924&quot;}</td></tr><tr><td>{&quot;19120 Fleming Manors&quot;,&quot;Prestonstad&quot;,&quot;Montana&quot;,&quot;23495&quot;}</td></tr><tr><td>{&quot;441 Olivia Creek&quot;,&quot;Jimmymouth&quot;,&quot;Georgia&quot;,&quot;82991&quot;}</td></tr><tr><td>{&quot;4246 Chelsey Ford Apt. 310&quot;,&quot;Karamouth&quot;,&quot;Utah&quot;,&quot;76252&quot;}</td></tr><tr><td>&hellip;</td></tr><tr><td>{&quot;762 Andrew Views Apt. 254&quot;,&quot;North Paul&quot;,&quot;New Mexico&quot;,&quot;28889&quot;}</td></tr><tr><td>{&quot;44188 Day Crest Apt. 901&quot;,&quot;Lake Marcia&quot;,&quot;Maine&quot;,&quot;37378&quot;}</td></tr><tr><td>{&quot;73015 Michelle Squares&quot;,&quot;Watsonville&quot;,&quot;West Virginia&quot;,&quot;03933&quot;}</td></tr><tr><td>{&quot;129 Keith Greens&quot;,&quot;Haleyfurt&quot;,&quot;Oklahoma&quot;,&quot;98916&quot;}</td></tr><tr><td>{&quot;355 Griffin Valley&quot;,&quot;Davidtown&quot;,&quot;New Mexico&quot;,&quot;17581&quot;}</td></tr></tbody></table></div>"
      ],
      "text/plain": [
       "shape: (9_961,)\n",
       "Series: 'Address' [struct[4]]\n",
       "[\n",
       "\t{\"6461 Quinn Groves\",\"East Matthew\",\"New Hampshire\",\"16656\"}\n",
       "\t{\"1360 Tracey Ports Apt. 419\",\"Kyleport\",\"Vermont\",\"31924\"}\n",
       "\t{\"19120 Fleming Manors\",\"Prestonstad\",\"Montana\",\"23495\"}\n",
       "\t{\"441 Olivia Creek\",\"Jimmymouth\",\"Georgia\",\"82991\"}\n",
       "\t{\"4246 Chelsey Ford Apt. 310\",\"Karamouth\",\"Utah\",\"76252\"}\n",
       "\t…\n",
       "\t{\"762 Andrew Views Apt. 254\",\"North Paul\",\"New Mexico\",\"28889\"}\n",
       "\t{\"44188 Day Crest Apt. 901\",\"Lake Marcia\",\"Maine\",\"37378\"}\n",
       "\t{\"73015 Michelle Squares\",\"Watsonville\",\"West Virginia\",\"03933\"}\n",
       "\t{\"129 Keith Greens\",\"Haleyfurt\",\"Oklahoma\",\"98916\"}\n",
       "\t{\"355 Griffin Valley\",\"Davidtown\",\"New Mexico\",\"17581\"}\n",
       "]"
      ]
     },
     "execution_count": 18,
     "metadata": {},
     "output_type": "execute_result"
    }
   ],
   "source": [
    "# df ['Address'].str.split(', ')\n",
    "df['Address'].str.split_exact(', ', 3) #this is not a list anymore\n",
    " "
   ]
  },
  {
   "cell_type": "code",
   "execution_count": 141,
   "metadata": {},
   "outputs": [
    {
     "data": {
      "text/html": [
       "<div><style>\n",
       ".dataframe > thead > tr > th,\n",
       ".dataframe > tbody > tr > td {\n",
       "  text-align: right;\n",
       "  white-space: pre-wrap;\n",
       "}\n",
       "</style>\n",
       "<small>shape: (9_961, 6)</small><table border=\"1\" class=\"dataframe\"><thead><tr><th>Name</th><th>Address</th><th>Street_Name</th><th>City</th><th>State</th><th>Zip_Code</th></tr><tr><td>str</td><td>str</td><td>str</td><td>str</td><td>str</td><td>str</td></tr></thead><tbody><tr><td>&quot;Frank Manning&quot;</td><td>&quot;6461 Quinn Groves, East Matthew, New Hampshire, 1…</td><td>&quot;6461 Quinn Groves&quot;</td><td>&quot;East Matthew&quot;</td><td>&quot;New Hampshire&quot;</td><td>&quot;16656&quot;</td></tr><tr><td>&quot;Elizabeth Johnson&quot;</td><td>&quot;1360 Tracey Ports Apt. 419, Kyleport, Vermont, 31…</td><td>&quot;1360 Tracey Ports Apt. 419&quot;</td><td>&quot;Kyleport&quot;</td><td>&quot;Vermont&quot;</td><td>&quot;31924&quot;</td></tr><tr><td>&quot;Donald Stephens&quot;</td><td>&quot;19120 Fleming Manors, Prestonstad, Montana, 23495…</td><td>&quot;19120 Fleming Manors&quot;</td><td>&quot;Prestonstad&quot;</td><td>&quot;Montana&quot;</td><td>&quot;23495&quot;</td></tr><tr><td>&quot;Michael Vincent III&quot;</td><td>&quot;441 Olivia Creek, Jimmymouth, Georgia, 82991&quot;</td><td>&quot;441 Olivia Creek&quot;</td><td>&quot;Jimmymouth&quot;</td><td>&quot;Georgia&quot;</td><td>&quot;82991&quot;</td></tr><tr><td>&quot;Jasmine Zamora&quot;</td><td>&quot;4246 Chelsey Ford Apt. 310, Karamouth, Utah, 7625…</td><td>&quot;4246 Chelsey Ford Apt. 310&quot;</td><td>&quot;Karamouth&quot;</td><td>&quot;Utah&quot;</td><td>&quot;76252&quot;</td></tr><tr><td>&hellip;</td><td>&hellip;</td><td>&hellip;</td><td>&hellip;</td><td>&hellip;</td><td>&hellip;</td></tr><tr><td>&quot;Dana Browning&quot;</td><td>&quot;762 Andrew Views Apt. 254, North Paul, New Mexico…</td><td>&quot;762 Andrew Views Apt. 254&quot;</td><td>&quot;North Paul&quot;</td><td>&quot;New Mexico&quot;</td><td>&quot;28889&quot;</td></tr><tr><td>&quot;Amanda Anderson&quot;</td><td>&quot;44188 Day Crest Apt. 901, Lake Marcia, Maine, 373…</td><td>&quot;44188 Day Crest Apt. 901&quot;</td><td>&quot;Lake Marcia&quot;</td><td>&quot;Maine&quot;</td><td>&quot;37378&quot;</td></tr><tr><td>&quot;Eric Davis&quot;</td><td>&quot;73015 Michelle Squares, Watsonville, West Virgini…</td><td>&quot;73015 Michelle Squares&quot;</td><td>&quot;Watsonville&quot;</td><td>&quot;West Virginia&quot;</td><td>&quot;03933&quot;</td></tr><tr><td>&quot;Taylor Hernandez&quot;</td><td>&quot;129 Keith Greens, Haleyfurt, Oklahoma, 98916&quot;</td><td>&quot;129 Keith Greens&quot;</td><td>&quot;Haleyfurt&quot;</td><td>&quot;Oklahoma&quot;</td><td>&quot;98916&quot;</td></tr><tr><td>&quot;Sherry Nicholson&quot;</td><td>&quot;355 Griffin Valley, Davidtown, New Mexico, 17581&quot;</td><td>&quot;355 Griffin Valley&quot;</td><td>&quot;Davidtown&quot;</td><td>&quot;New Mexico&quot;</td><td>&quot;17581&quot;</td></tr></tbody></table></div>"
      ],
      "text/plain": [
       "shape: (9_961, 6)\n",
       "┌──────────────────┬──────────────────┬──────────────────┬──────────────┬───────────────┬──────────┐\n",
       "│ Name             ┆ Address          ┆ Street_Name      ┆ City         ┆ State         ┆ Zip_Code │\n",
       "│ ---              ┆ ---              ┆ ---              ┆ ---          ┆ ---           ┆ ---      │\n",
       "│ str              ┆ str              ┆ str              ┆ str          ┆ str           ┆ str      │\n",
       "╞══════════════════╪══════════════════╪══════════════════╪══════════════╪═══════════════╪══════════╡\n",
       "│ Frank Manning    ┆ 6461 Quinn       ┆ 6461 Quinn       ┆ East Matthew ┆ New Hampshire ┆ 16656    │\n",
       "│                  ┆ Groves, East     ┆ Groves           ┆              ┆               ┆          │\n",
       "│                  ┆ Matthew, New     ┆                  ┆              ┆               ┆          │\n",
       "│                  ┆ Hampshire, 16…   ┆                  ┆              ┆               ┆          │\n",
       "│ Elizabeth        ┆ 1360 Tracey      ┆ 1360 Tracey      ┆ Kyleport     ┆ Vermont       ┆ 31924    │\n",
       "│ Johnson          ┆ Ports Apt. 419,  ┆ Ports Apt. 419   ┆              ┆               ┆          │\n",
       "│                  ┆ Kyleport,        ┆                  ┆              ┆               ┆          │\n",
       "│                  ┆ Vermont, 319…    ┆                  ┆              ┆               ┆          │\n",
       "│ Donald Stephens  ┆ 19120 Fleming    ┆ 19120 Fleming    ┆ Prestonstad  ┆ Montana       ┆ 23495    │\n",
       "│                  ┆ Manors,          ┆ Manors           ┆              ┆               ┆          │\n",
       "│                  ┆ Prestonstad,     ┆                  ┆              ┆               ┆          │\n",
       "│                  ┆ Montana, 23495   ┆                  ┆              ┆               ┆          │\n",
       "│ Michael Vincent  ┆ 441 Olivia       ┆ 441 Olivia Creek ┆ Jimmymouth   ┆ Georgia       ┆ 82991    │\n",
       "│ III              ┆ Creek,           ┆                  ┆              ┆               ┆          │\n",
       "│                  ┆ Jimmymouth,      ┆                  ┆              ┆               ┆          │\n",
       "│                  ┆ Georgia, 82991   ┆                  ┆              ┆               ┆          │\n",
       "│ Jasmine Zamora   ┆ 4246 Chelsey     ┆ 4246 Chelsey     ┆ Karamouth    ┆ Utah          ┆ 76252    │\n",
       "│                  ┆ Ford Apt. 310,   ┆ Ford Apt. 310    ┆              ┆               ┆          │\n",
       "│                  ┆ Karamouth, Utah, ┆                  ┆              ┆               ┆          │\n",
       "│                  ┆ 76252            ┆                  ┆              ┆               ┆          │\n",
       "│ …                ┆ …                ┆ …                ┆ …            ┆ …             ┆ …        │\n",
       "│ Dana Browning    ┆ 762 Andrew Views ┆ 762 Andrew Views ┆ North Paul   ┆ New Mexico    ┆ 28889    │\n",
       "│                  ┆ Apt. 254, North  ┆ Apt. 254         ┆              ┆               ┆          │\n",
       "│                  ┆ Paul, New        ┆                  ┆              ┆               ┆          │\n",
       "│                  ┆ Mexico,…         ┆                  ┆              ┆               ┆          │\n",
       "│ Amanda Anderson  ┆ 44188 Day Crest  ┆ 44188 Day Crest  ┆ Lake Marcia  ┆ Maine         ┆ 37378    │\n",
       "│                  ┆ Apt. 901, Lake   ┆ Apt. 901         ┆              ┆               ┆          │\n",
       "│                  ┆ Marcia, Maine,   ┆                  ┆              ┆               ┆          │\n",
       "│                  ┆ 3737…            ┆                  ┆              ┆               ┆          │\n",
       "│ Eric Davis       ┆ 73015 Michelle   ┆ 73015 Michelle   ┆ Watsonville  ┆ West Virginia ┆ 03933    │\n",
       "│                  ┆ Squares,         ┆ Squares          ┆              ┆               ┆          │\n",
       "│                  ┆ Watsonville,     ┆                  ┆              ┆               ┆          │\n",
       "│                  ┆ West Virginia…   ┆                  ┆              ┆               ┆          │\n",
       "│ Taylor Hernandez ┆ 129 Keith        ┆ 129 Keith Greens ┆ Haleyfurt    ┆ Oklahoma      ┆ 98916    │\n",
       "│                  ┆ Greens,          ┆                  ┆              ┆               ┆          │\n",
       "│                  ┆ Haleyfurt,       ┆                  ┆              ┆               ┆          │\n",
       "│                  ┆ Oklahoma, 98916  ┆                  ┆              ┆               ┆          │\n",
       "│ Sherry Nicholson ┆ 355 Griffin      ┆ 355 Griffin      ┆ Davidtown    ┆ New Mexico    ┆ 17581    │\n",
       "│                  ┆ Valley,          ┆ Valley           ┆              ┆               ┆          │\n",
       "│                  ┆ Davidtown, New   ┆                  ┆              ┆               ┆          │\n",
       "│                  ┆ Mexico, 17581    ┆                  ┆              ┆               ┆          │\n",
       "└──────────────────┴──────────────────┴──────────────────┴──────────────┴───────────────┴──────────┘"
      ]
     },
     "execution_count": 141,
     "metadata": {},
     "output_type": "execute_result"
    }
   ],
   "source": [
    "(df\n",
    " .with_columns(pl.col('Address').str.split_exact(', ', 3)\n",
    "                .struct.rename_fields(['Street_Name', 'City', 'State', 'Zip_Code']).alias('fields'))\n",
    ".unnest('fields')\n",
    " )"
   ]
  }
 ],
 "metadata": {
  "kernelspec": {
   "display_name": "time_env",
   "language": "python",
   "name": "python3"
  },
  "language_info": {
   "codemirror_mode": {
    "name": "ipython",
    "version": 3
   },
   "file_extension": ".py",
   "mimetype": "text/x-python",
   "name": "python",
   "nbconvert_exporter": "python",
   "pygments_lexer": "ipython3",
   "version": "3.11.4"
  },
  "orig_nbformat": 4
 },
 "nbformat": 4,
 "nbformat_minor": 2
}
