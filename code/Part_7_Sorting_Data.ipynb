{
 "cells": [
  {
   "cell_type": "markdown",
   "id": "41e2dd0a",
   "metadata": {},
   "source": [
    "# Part 7 Sorting Data"
   ]
  },
  {
   "cell_type": "code",
   "execution_count": 5,
   "id": "c8498e3a",
   "metadata": {},
   "outputs": [
    {
     "data": {
      "text/html": [
       "<div><style>\n",
       ".dataframe > thead > tr > th,\n",
       ".dataframe > tbody > tr > td {\n",
       "  text-align: right;\n",
       "  white-space: pre-wrap;\n",
       "}\n",
       "</style>\n",
       "<small>shape: (3, 3)</small><table border=\"1\" class=\"dataframe\"><thead><tr><th>first</th><th>last</th><th>email</th></tr><tr><td>str</td><td>str</td><td>str</td></tr></thead><tbody><tr><td>&quot;Ernest&quot;</td><td>&quot;Hemingway&quot;</td><td>&quot;ehemingway@email.com&quot;</td></tr><tr><td>&quot;Stephen&quot;</td><td>&quot;King&quot;</td><td>&quot;sking@email.com&quot;</td></tr><tr><td>&quot;Harper&quot;</td><td>&quot;Lee&quot;</td><td>&quot;hlee@email.com&quot;</td></tr></tbody></table></div>"
      ],
      "text/plain": [
       "shape: (3, 3)\n",
       "┌─────────┬───────────┬──────────────────────┐\n",
       "│ first   ┆ last      ┆ email                │\n",
       "│ ---     ┆ ---       ┆ ---                  │\n",
       "│ str     ┆ str       ┆ str                  │\n",
       "╞═════════╪═══════════╪══════════════════════╡\n",
       "│ Ernest  ┆ Hemingway ┆ ehemingway@email.com │\n",
       "│ Stephen ┆ King      ┆ sking@email.com      │\n",
       "│ Harper  ┆ Lee       ┆ hlee@email.com       │\n",
       "└─────────┴───────────┴──────────────────────┘"
      ]
     },
     "execution_count": 5,
     "metadata": {},
     "output_type": "execute_result"
    }
   ],
   "source": [
    "# Our authors\n",
    "authors = {\n",
    "    'first':['Ernest','Stephen','Harper'],\n",
    "    'last':['Hemingway','King','Lee'],\n",
    "    'email':['ehemingway@email.com','sking@email.com','hlee@email.com']\n",
    "}\n",
    "\n",
    "ff = pl.DataFrame(authors)\n",
    "ff"
   ]
  },
  {
   "cell_type": "code",
   "execution_count": 6,
   "id": "271d972c",
   "metadata": {},
   "outputs": [
    {
     "data": {
      "text/html": [
       "<div><style>\n",
       ".dataframe > thead > tr > th,\n",
       ".dataframe > tbody > tr > td {\n",
       "  text-align: right;\n",
       "  white-space: pre-wrap;\n",
       "}\n",
       "</style>\n",
       "<small>shape: (3, 3)</small><table border=\"1\" class=\"dataframe\"><thead><tr><th>first</th><th>last</th><th>email</th></tr><tr><td>str</td><td>str</td><td>str</td></tr></thead><tbody><tr><td>&quot;Ernest&quot;</td><td>&quot;Hemingway&quot;</td><td>&quot;ehemingway@email.com&quot;</td></tr><tr><td>&quot;Harper&quot;</td><td>&quot;Lee&quot;</td><td>&quot;hlee@email.com&quot;</td></tr><tr><td>&quot;Stephen&quot;</td><td>&quot;King&quot;</td><td>&quot;sking@email.com&quot;</td></tr></tbody></table></div>"
      ],
      "text/plain": [
       "shape: (3, 3)\n",
       "┌─────────┬───────────┬──────────────────────┐\n",
       "│ first   ┆ last      ┆ email                │\n",
       "│ ---     ┆ ---       ┆ ---                  │\n",
       "│ str     ┆ str       ┆ str                  │\n",
       "╞═════════╪═══════════╪══════════════════════╡\n",
       "│ Ernest  ┆ Hemingway ┆ ehemingway@email.com │\n",
       "│ Harper  ┆ Lee       ┆ hlee@email.com       │\n",
       "│ Stephen ┆ King      ┆ sking@email.com      │\n",
       "└─────────┴───────────┴──────────────────────┘"
      ]
     },
     "execution_count": 6,
     "metadata": {},
     "output_type": "execute_result"
    }
   ],
   "source": [
    "ff.sort(by='first')"
   ]
  },
  {
   "cell_type": "code",
   "execution_count": 7,
   "id": "530150f6",
   "metadata": {},
   "outputs": [
    {
     "data": {
      "text/html": [
       "<div><style>\n",
       ".dataframe > thead > tr > th,\n",
       ".dataframe > tbody > tr > td {\n",
       "  text-align: right;\n",
       "  white-space: pre-wrap;\n",
       "}\n",
       "</style>\n",
       "<small>shape: (3, 3)</small><table border=\"1\" class=\"dataframe\"><thead><tr><th>first</th><th>last</th><th>email</th></tr><tr><td>str</td><td>str</td><td>str</td></tr></thead><tbody><tr><td>&quot;Stephen&quot;</td><td>&quot;King&quot;</td><td>&quot;sking@email.com&quot;</td></tr><tr><td>&quot;Harper&quot;</td><td>&quot;Lee&quot;</td><td>&quot;hlee@email.com&quot;</td></tr><tr><td>&quot;Ernest&quot;</td><td>&quot;Hemingway&quot;</td><td>&quot;ehemingway@email.com&quot;</td></tr></tbody></table></div>"
      ],
      "text/plain": [
       "shape: (3, 3)\n",
       "┌─────────┬───────────┬──────────────────────┐\n",
       "│ first   ┆ last      ┆ email                │\n",
       "│ ---     ┆ ---       ┆ ---                  │\n",
       "│ str     ┆ str       ┆ str                  │\n",
       "╞═════════╪═══════════╪══════════════════════╡\n",
       "│ Stephen ┆ King      ┆ sking@email.com      │\n",
       "│ Harper  ┆ Lee       ┆ hlee@email.com       │\n",
       "│ Ernest  ┆ Hemingway ┆ ehemingway@email.com │\n",
       "└─────────┴───────────┴──────────────────────┘"
      ]
     },
     "execution_count": 7,
     "metadata": {},
     "output_type": "execute_result"
    }
   ],
   "source": [
    "# Sort by multiple columns\n",
    "ff.sort(['first','last'], descending=[True,False])"
   ]
  },
  {
   "cell_type": "code",
   "execution_count": 8,
   "id": "06617dda",
   "metadata": {},
   "outputs": [
    {
     "data": {
      "text/html": [
       "<div><style>\n",
       ".dataframe > thead > tr > th,\n",
       ".dataframe > tbody > tr > td {\n",
       "  text-align: right;\n",
       "  white-space: pre-wrap;\n",
       "}\n",
       "</style>\n",
       "<small>shape: (3,)</small><table border=\"1\" class=\"dataframe\"><thead><tr><th>first</th></tr><tr><td>str</td></tr></thead><tbody><tr><td>&quot;Ernest&quot;</td></tr><tr><td>&quot;Harper&quot;</td></tr><tr><td>&quot;Stephen&quot;</td></tr></tbody></table></div>"
      ],
      "text/plain": [
       "shape: (3,)\n",
       "Series: 'first' [str]\n",
       "[\n",
       "\t\"Ernest\"\n",
       "\t\"Harper\"\n",
       "\t\"Stephen\"\n",
       "]"
      ]
     },
     "execution_count": 8,
     "metadata": {},
     "output_type": "execute_result"
    }
   ],
   "source": [
    "ff['first'].sort()"
   ]
  },
  {
   "cell_type": "code",
   "execution_count": 9,
   "id": "c9c2194d",
   "metadata": {},
   "outputs": [
    {
     "data": {
      "text/html": [
       "<div><style>\n",
       ".dataframe > thead > tr > th,\n",
       ".dataframe > tbody > tr > td {\n",
       "  text-align: right;\n",
       "  white-space: pre-wrap;\n",
       "}\n",
       "</style>\n",
       "<small>shape: (88_883,)</small><table border=\"1\" class=\"dataframe\"><thead><tr><th>Country</th></tr><tr><td>str</td></tr></thead><tbody><tr><td>&quot;Afghanistan&quot;</td></tr><tr><td>&quot;Afghanistan&quot;</td></tr><tr><td>&quot;Afghanistan&quot;</td></tr><tr><td>&quot;Afghanistan&quot;</td></tr><tr><td>&quot;Afghanistan&quot;</td></tr><tr><td>&hellip;</td></tr><tr><td>&quot;Zimbabwe&quot;</td></tr><tr><td>&quot;Zimbabwe&quot;</td></tr><tr><td>&quot;Zimbabwe&quot;</td></tr><tr><td>&quot;Zimbabwe&quot;</td></tr><tr><td>&quot;Zimbabwe&quot;</td></tr></tbody></table></div>"
      ],
      "text/plain": [
       "shape: (88_883,)\n",
       "Series: 'Country' [str]\n",
       "[\n",
       "\t\"Afghanistan\"\n",
       "\t\"Afghanistan\"\n",
       "\t\"Afghanistan\"\n",
       "\t\"Afghanistan\"\n",
       "\t\"Afghanistan\"\n",
       "\t…\n",
       "\t\"Zimbabwe\"\n",
       "\t\"Zimbabwe\"\n",
       "\t\"Zimbabwe\"\n",
       "\t\"Zimbabwe\"\n",
       "\t\"Zimbabwe\"\n",
       "]"
      ]
     },
     "execution_count": 9,
     "metadata": {},
     "output_type": "execute_result"
    }
   ],
   "source": [
    "# Sort by country on our survey data\n",
    "df['Country'].sort()"
   ]
  },
  {
   "cell_type": "code",
   "execution_count": 12,
   "id": "1949922d",
   "metadata": {},
   "outputs": [
    {
     "data": {
      "text/html": [
       "<div><style>\n",
       ".dataframe > thead > tr > th,\n",
       ".dataframe > tbody > tr > td {\n",
       "  text-align: right;\n",
       "  white-space: pre-wrap;\n",
       "}\n",
       "</style>\n",
       "<small>shape: (88_883, 2)</small><table border=\"1\" class=\"dataframe\"><thead><tr><th>Country</th><th>ConvertedComp</th></tr><tr><td>str</td><td>str</td></tr></thead><tbody><tr><td>&quot;Afghanistan&quot;</td><td>&quot;NA&quot;</td></tr><tr><td>&quot;Afghanistan&quot;</td><td>&quot;NA&quot;</td></tr><tr><td>&quot;Afghanistan&quot;</td><td>&quot;NA&quot;</td></tr><tr><td>&quot;Afghanistan&quot;</td><td>&quot;NA&quot;</td></tr><tr><td>&quot;Afghanistan&quot;</td><td>&quot;NA&quot;</td></tr><tr><td>&hellip;</td><td>&hellip;</td></tr><tr><td>&quot;Zimbabwe&quot;</td><td>&quot;180000&quot;</td></tr><tr><td>&quot;Zimbabwe&quot;</td><td>&quot;18000&quot;</td></tr><tr><td>&quot;Zimbabwe&quot;</td><td>&quot;15000&quot;</td></tr><tr><td>&quot;Zimbabwe&quot;</td><td>&quot;12000&quot;</td></tr><tr><td>&quot;Zimbabwe&quot;</td><td>&quot;12000&quot;</td></tr></tbody></table></div>"
      ],
      "text/plain": [
       "shape: (88_883, 2)\n",
       "┌─────────────┬───────────────┐\n",
       "│ Country     ┆ ConvertedComp │\n",
       "│ ---         ┆ ---           │\n",
       "│ str         ┆ str           │\n",
       "╞═════════════╪═══════════════╡\n",
       "│ Afghanistan ┆ NA            │\n",
       "│ Afghanistan ┆ NA            │\n",
       "│ Afghanistan ┆ NA            │\n",
       "│ Afghanistan ┆ NA            │\n",
       "│ Afghanistan ┆ NA            │\n",
       "│ …           ┆ …             │\n",
       "│ Zimbabwe    ┆ 180000        │\n",
       "│ Zimbabwe    ┆ 18000         │\n",
       "│ Zimbabwe    ┆ 15000         │\n",
       "│ Zimbabwe    ┆ 12000         │\n",
       "│ Zimbabwe    ┆ 12000         │\n",
       "└─────────────┴───────────────┘"
      ]
     },
     "execution_count": 12,
     "metadata": {},
     "output_type": "execute_result"
    }
   ],
   "source": [
    "# Show country in ascending and Salary in descending\n",
    "df[['Country','ConvertedComp']].sort(['Country','ConvertedComp'], descending=[False,True])"
   ]
  },
  {
   "cell_type": "code",
   "execution_count": 13,
   "id": "b90f9e82",
   "metadata": {},
   "outputs": [
    {
     "data": {
      "text/html": [
       "<div><style>\n",
       ".dataframe > thead > tr > th,\n",
       ".dataframe > tbody > tr > td {\n",
       "  text-align: right;\n",
       "  white-space: pre-wrap;\n",
       "}\n",
       "</style>\n",
       "<small>shape: (55_823, 2)</small><table border=\"1\" class=\"dataframe\"><thead><tr><th>Country</th><th>ConvertedComp</th></tr><tr><td>str</td><td>str</td></tr></thead><tbody><tr><td>&quot;Afghanistan&quot;</td><td>&quot;7980&quot;</td></tr><tr><td>&quot;Afghanistan&quot;</td><td>&quot;4464&quot;</td></tr><tr><td>&quot;Afghanistan&quot;</td><td>&quot;3996&quot;</td></tr><tr><td>&quot;Afghanistan&quot;</td><td>&quot;1e+06&quot;</td></tr><tr><td>&quot;Afghanistan&quot;</td><td>&quot;19152&quot;</td></tr><tr><td>&hellip;</td><td>&hellip;</td></tr><tr><td>&quot;Zimbabwe&quot;</td><td>&quot;180000&quot;</td></tr><tr><td>&quot;Zimbabwe&quot;</td><td>&quot;18000&quot;</td></tr><tr><td>&quot;Zimbabwe&quot;</td><td>&quot;15000&quot;</td></tr><tr><td>&quot;Zimbabwe&quot;</td><td>&quot;12000&quot;</td></tr><tr><td>&quot;Zimbabwe&quot;</td><td>&quot;12000&quot;</td></tr></tbody></table></div>"
      ],
      "text/plain": [
       "shape: (55_823, 2)\n",
       "┌─────────────┬───────────────┐\n",
       "│ Country     ┆ ConvertedComp │\n",
       "│ ---         ┆ ---           │\n",
       "│ str         ┆ str           │\n",
       "╞═════════════╪═══════════════╡\n",
       "│ Afghanistan ┆ 7980          │\n",
       "│ Afghanistan ┆ 4464          │\n",
       "│ Afghanistan ┆ 3996          │\n",
       "│ Afghanistan ┆ 1e+06         │\n",
       "│ Afghanistan ┆ 19152         │\n",
       "│ …           ┆ …             │\n",
       "│ Zimbabwe    ┆ 180000        │\n",
       "│ Zimbabwe    ┆ 18000         │\n",
       "│ Zimbabwe    ┆ 15000         │\n",
       "│ Zimbabwe    ┆ 12000         │\n",
       "│ Zimbabwe    ┆ 12000         │\n",
       "└─────────────┴───────────────┘"
      ]
     },
     "execution_count": 13,
     "metadata": {},
     "output_type": "execute_result"
    }
   ],
   "source": [
    "# Do without missing values.\n",
    "(df\n",
    " .select(['Country','ConvertedComp'])\n",
    " .filter(pl.col('ConvertedComp') != 'NA')\n",
    " .sort(['Country','ConvertedComp'], descending=[False,True])\n",
    " )"
   ]
  },
  {
   "cell_type": "code",
   "execution_count": 16,
   "id": "fdfaca39",
   "metadata": {},
   "outputs": [
    {
     "data": {
      "text/html": [
       "<div><style>\n",
       ".dataframe > thead > tr > th,\n",
       ".dataframe > tbody > tr > td {\n",
       "  text-align: right;\n",
       "  white-space: pre-wrap;\n",
       "}\n",
       "</style>\n",
       "<small>shape: (10, 1)</small><table border=\"1\" class=\"dataframe\"><thead><tr><th>ConvertedComp</th></tr><tr><td>f64</td></tr></thead><tbody><tr><td>null</td></tr><tr><td>null</td></tr><tr><td>null</td></tr><tr><td>null</td></tr><tr><td>null</td></tr><tr><td>null</td></tr><tr><td>null</td></tr><tr><td>null</td></tr><tr><td>null</td></tr><tr><td>null</td></tr></tbody></table></div>"
      ],
      "text/plain": [
       "shape: (10, 1)\n",
       "┌───────────────┐\n",
       "│ ConvertedComp │\n",
       "│ ---           │\n",
       "│ f64           │\n",
       "╞═══════════════╡\n",
       "│ null          │\n",
       "│ null          │\n",
       "│ null          │\n",
       "│ null          │\n",
       "│ null          │\n",
       "│ null          │\n",
       "│ null          │\n",
       "│ null          │\n",
       "│ null          │\n",
       "│ null          │\n",
       "└───────────────┘"
      ]
     },
     "execution_count": 16,
     "metadata": {},
     "output_type": "execute_result"
    }
   ],
   "source": [
    "\n",
    "(df\n",
    " .with_columns(pl.when(pl.col('ConvertedComp') == 'NA') # Replacing NA with None\n",
    "               .then(None)\n",
    "               .otherwise(pl.col('ConvertedComp').cast(pl.Float64, strict=False))\n",
    "               .alias('ConvertedComp'))\n",
    " .top_k(10, by='ConvertedComp') #top 10 salaries\n",
    "#  .bottom_k(10, by='ConvertedComp')\n",
    " .select('ConvertedComp')\n",
    " )"
   ]
  }
 ],
 "metadata": {
  "kernelspec": {
   "display_name": "Python 3 (ipykernel)",
   "language": "python",
   "name": "python3"
  },
  "language_info": {
   "codemirror_mode": {
    "name": "ipython",
    "version": 3
   },
   "file_extension": ".py",
   "mimetype": "text/x-python",
   "name": "python",
   "nbconvert_exporter": "python",
   "pygments_lexer": "ipython3",
   "version": "3.11.5"
  }
 },
 "nbformat": 4,
 "nbformat_minor": 5
}
