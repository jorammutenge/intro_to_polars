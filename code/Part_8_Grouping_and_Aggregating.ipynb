{
 "cells": [
  {
   "cell_type": "markdown",
   "id": "e1848cde",
   "metadata": {},
   "source": [
    "# Part 8: Grouping & Aggregating"
   ]
  },
  {
   "cell_type": "code",
   "execution_count": 7,
   "id": "49734926",
   "metadata": {},
   "outputs": [
    {
     "data": {
      "text/html": [
       "<div><style>\n",
       ".dataframe > thead > tr > th,\n",
       ".dataframe > tbody > tr > td {\n",
       "  text-align: right;\n",
       "  white-space: pre-wrap;\n",
       "}\n",
       "</style>\n",
       "<small>shape: (15,)</small><table border=\"1\" class=\"dataframe\"><thead><tr><th>ConvertedComp</th></tr><tr><td>str</td></tr></thead><tbody><tr><td>&quot;NA&quot;</td></tr><tr><td>&quot;NA&quot;</td></tr><tr><td>&quot;8820&quot;</td></tr><tr><td>&quot;61000&quot;</td></tr><tr><td>&quot;NA&quot;</td></tr><tr><td>&hellip;</td></tr><tr><td>&quot;NA&quot;</td></tr><tr><td>&quot;NA&quot;</td></tr><tr><td>&quot;90000&quot;</td></tr><tr><td>&quot;57060&quot;</td></tr><tr><td>&quot;NA&quot;</td></tr></tbody></table></div>"
      ],
      "text/plain": [
       "shape: (15,)\n",
       "Series: 'ConvertedComp' [str]\n",
       "[\n",
       "\t\"NA\"\n",
       "\t\"NA\"\n",
       "\t\"8820\"\n",
       "\t\"61000\"\n",
       "\t\"NA\"\n",
       "\t…\n",
       "\t\"NA\"\n",
       "\t\"NA\"\n",
       "\t\"90000\"\n",
       "\t\"57060\"\n",
       "\t\"NA\"\n",
       "]"
      ]
     },
     "execution_count": 7,
     "metadata": {},
     "output_type": "execute_result"
    }
   ],
   "source": [
    "df['ConvertedComp'].head(15)"
   ]
  },
  {
   "cell_type": "code",
   "execution_count": 8,
   "id": "b4330330",
   "metadata": {},
   "outputs": [],
   "source": [
    "# Check median salary\n",
    "# Doesn't work. Datatype is string\n",
    "df['ConvertedComp'].median()"
   ]
  },
  {
   "cell_type": "code",
   "execution_count": 9,
   "id": "99351bb0",
   "metadata": {},
   "outputs": [
    {
     "data": {
      "text/html": [
       "<div><style>\n",
       ".dataframe > thead > tr > th,\n",
       ".dataframe > tbody > tr > td {\n",
       "  text-align: right;\n",
       "  white-space: pre-wrap;\n",
       "}\n",
       "</style>\n",
       "<small>shape: (1, 1)</small><table border=\"1\" class=\"dataframe\"><thead><tr><th>ConvertedComp</th></tr><tr><td>f64</td></tr></thead><tbody><tr><td>57287.0</td></tr></tbody></table></div>"
      ],
      "text/plain": [
       "shape: (1, 1)\n",
       "┌───────────────┐\n",
       "│ ConvertedComp │\n",
       "│ ---           │\n",
       "│ f64           │\n",
       "╞═══════════════╡\n",
       "│ 57287.0       │\n",
       "└───────────────┘"
      ]
     },
     "execution_count": 9,
     "metadata": {},
     "output_type": "execute_result"
    }
   ],
   "source": [
    "# Convert to float\n",
    "(df\n",
    " .with_columns(pl.when(pl.col('ConvertedComp') == 'NA')\n",
    "               .then(None)\n",
    "               .otherwise(pl.col('ConvertedComp'))\n",
    "               .alias('ConvertedComp')\n",
    "               .cast(pl.Float64))\n",
    " .select(pl.col('ConvertedComp'))\n",
    " .median() #now it works\n",
    ")"
   ]
  },
  {
   "cell_type": "code",
   "execution_count": 10,
   "id": "70bf1a22",
   "metadata": {},
   "outputs": [],
   "source": [
    "# Change all cols that must be numerical\n",
    "columns_to_process = ['CompTotal', 'ConvertedComp', 'WorkWeekHrs', 'CodeRevHrs', 'Age']\n",
    "\n",
    "# Loop through the columns and apply the transformation\n",
    "for col_name in columns_to_process:\n",
    "    df = df.with_columns(\n",
    "        pl.when(pl.col(col_name) == 'NA')\n",
    "        .then(None)\n",
    "        .when(pl.col(col_name) == 'Unknown')\n",
    "        .then(None)\n",
    "        .otherwise(pl.col(col_name))\n",
    "        .alias(col_name)\n",
    "        .cast(pl.Float64)\n",
    "    )"
   ]
  },
  {
   "cell_type": "code",
   "execution_count": 11,
   "id": "974d766a",
   "metadata": {},
   "outputs": [
    {
     "data": {
      "text/html": [
       "<div><style>\n",
       ".dataframe > thead > tr > th,\n",
       ".dataframe > tbody > tr > td {\n",
       "  text-align: right;\n",
       "  white-space: pre-wrap;\n",
       "}\n",
       "</style>\n",
       "<small>shape: (88_883, 5)</small><table border=\"1\" class=\"dataframe\"><thead><tr><th>CompTotal</th><th>ConvertedComp</th><th>WorkWeekHrs</th><th>CodeRevHrs</th><th>Age</th></tr><tr><td>f64</td><td>f64</td><td>f64</td><td>f64</td><td>f64</td></tr></thead><tbody><tr><td>null</td><td>null</td><td>null</td><td>null</td><td>14.0</td></tr><tr><td>null</td><td>null</td><td>null</td><td>null</td><td>19.0</td></tr><tr><td>23000.0</td><td>8820.0</td><td>40.0</td><td>null</td><td>28.0</td></tr><tr><td>61000.0</td><td>61000.0</td><td>80.0</td><td>null</td><td>22.0</td></tr><tr><td>null</td><td>null</td><td>55.0</td><td>null</td><td>30.0</td></tr><tr><td>&hellip;</td><td>&hellip;</td><td>&hellip;</td><td>&hellip;</td><td>&hellip;</td></tr><tr><td>null</td><td>null</td><td>null</td><td>null</td><td>null</td></tr><tr><td>null</td><td>null</td><td>null</td><td>null</td><td>null</td></tr><tr><td>null</td><td>null</td><td>null</td><td>null</td><td>null</td></tr><tr><td>null</td><td>null</td><td>null</td><td>null</td><td>null</td></tr><tr><td>null</td><td>null</td><td>null</td><td>null</td><td>18.0</td></tr></tbody></table></div>"
      ],
      "text/plain": [
       "shape: (88_883, 5)\n",
       "┌───────────┬───────────────┬─────────────┬────────────┬──────┐\n",
       "│ CompTotal ┆ ConvertedComp ┆ WorkWeekHrs ┆ CodeRevHrs ┆ Age  │\n",
       "│ ---       ┆ ---           ┆ ---         ┆ ---        ┆ ---  │\n",
       "│ f64       ┆ f64           ┆ f64         ┆ f64        ┆ f64  │\n",
       "╞═══════════╪═══════════════╪═════════════╪════════════╪══════╡\n",
       "│ null      ┆ null          ┆ null        ┆ null       ┆ 14.0 │\n",
       "│ null      ┆ null          ┆ null        ┆ null       ┆ 19.0 │\n",
       "│ 23000.0   ┆ 8820.0        ┆ 40.0        ┆ null       ┆ 28.0 │\n",
       "│ 61000.0   ┆ 61000.0       ┆ 80.0        ┆ null       ┆ 22.0 │\n",
       "│ null      ┆ null          ┆ 55.0        ┆ null       ┆ 30.0 │\n",
       "│ …         ┆ …             ┆ …           ┆ …          ┆ …    │\n",
       "│ null      ┆ null          ┆ null        ┆ null       ┆ null │\n",
       "│ null      ┆ null          ┆ null        ┆ null       ┆ null │\n",
       "│ null      ┆ null          ┆ null        ┆ null       ┆ null │\n",
       "│ null      ┆ null          ┆ null        ┆ null       ┆ null │\n",
       "│ null      ┆ null          ┆ null        ┆ null       ┆ 18.0 │\n",
       "└───────────┴───────────────┴─────────────┴────────────┴──────┘"
      ]
     },
     "execution_count": 11,
     "metadata": {},
     "output_type": "execute_result"
    }
   ],
   "source": [
    "# Check to see their datatypes\n",
    "df[['CompTotal', 'ConvertedComp', 'WorkWeekHrs', 'CodeRevHrs', 'Age']]"
   ]
  },
  {
   "cell_type": "code",
   "execution_count": 12,
   "id": "331496f6",
   "metadata": {},
   "outputs": [
    {
     "data": {
      "text/html": [
       "<div><style>\n",
       ".dataframe > thead > tr > th,\n",
       ".dataframe > tbody > tr > td {\n",
       "  text-align: right;\n",
       "  white-space: pre-wrap;\n",
       "}\n",
       "</style>\n",
       "<small>shape: (1, 5)</small><table border=\"1\" class=\"dataframe\"><thead><tr><th>CompTotal</th><th>ConvertedComp</th><th>WorkWeekHrs</th><th>CodeRevHrs</th><th>Age</th></tr><tr><td>f64</td><td>f64</td><td>f64</td><td>f64</td><td>f64</td></tr></thead><tbody><tr><td>62000.0</td><td>57287.0</td><td>40.0</td><td>4.0</td><td>29.0</td></tr></tbody></table></div>"
      ],
      "text/plain": [
       "shape: (1, 5)\n",
       "┌───────────┬───────────────┬─────────────┬────────────┬──────┐\n",
       "│ CompTotal ┆ ConvertedComp ┆ WorkWeekHrs ┆ CodeRevHrs ┆ Age  │\n",
       "│ ---       ┆ ---           ┆ ---         ┆ ---        ┆ ---  │\n",
       "│ f64       ┆ f64           ┆ f64         ┆ f64        ┆ f64  │\n",
       "╞═══════════╪═══════════════╪═════════════╪════════════╪══════╡\n",
       "│ 62000.0   ┆ 57287.0       ┆ 40.0        ┆ 4.0        ┆ 29.0 │\n",
       "└───────────┴───────────────┴─────────────┴────────────┴──────┘"
      ]
     },
     "execution_count": 12,
     "metadata": {},
     "output_type": "execute_result"
    }
   ],
   "source": [
    "# Median for entire dataframe\n",
    "df.median()\n",
    "df[['CompTotal', 'ConvertedComp', 'WorkWeekHrs', 'CodeRevHrs', 'Age']].median()"
   ]
  },
  {
   "cell_type": "code",
   "execution_count": 13,
   "id": "346dd6f2",
   "metadata": {},
   "outputs": [
    {
     "data": {
      "text/html": [
       "<div><style>\n",
       ".dataframe > thead > tr > th,\n",
       ".dataframe > tbody > tr > td {\n",
       "  text-align: right;\n",
       "  white-space: pre-wrap;\n",
       "}\n",
       "</style>\n",
       "<small>shape: (9, 6)</small><table border=\"1\" class=\"dataframe\"><thead><tr><th>describe</th><th>CompTotal</th><th>ConvertedComp</th><th>WorkWeekHrs</th><th>CodeRevHrs</th><th>Age</th></tr><tr><td>str</td><td>f64</td><td>f64</td><td>f64</td><td>f64</td><td>f64</td></tr></thead><tbody><tr><td>&quot;count&quot;</td><td>88883.0</td><td>88883.0</td><td>88883.0</td><td>88883.0</td><td>88883.0</td></tr><tr><td>&quot;null_count&quot;</td><td>32938.0</td><td>33060.0</td><td>24380.0</td><td>39093.0</td><td>9673.0</td></tr><tr><td>&quot;mean&quot;</td><td>5.5190e11</td><td>127110.738423</td><td>42.127197</td><td>5.084308</td><td>30.336699</td></tr><tr><td>&quot;std&quot;</td><td>7.3319e13</td><td>284152.303842</td><td>37.28761</td><td>5.513931</td><td>9.17839</td></tr><tr><td>&quot;min&quot;</td><td>0.0</td><td>0.0</td><td>1.0</td><td>0.0</td><td>1.0</td></tr><tr><td>&quot;25%&quot;</td><td>20000.0</td><td>25776.0</td><td>40.0</td><td>2.0</td><td>24.0</td></tr><tr><td>&quot;50%&quot;</td><td>62000.0</td><td>57287.0</td><td>40.0</td><td>4.0</td><td>29.0</td></tr><tr><td>&quot;75%&quot;</td><td>120000.0</td><td>100000.0</td><td>45.0</td><td>6.0</td><td>35.0</td></tr><tr><td>&quot;max&quot;</td><td>1.0000e16</td><td>2e6</td><td>4850.0</td><td>99.0</td><td>99.0</td></tr></tbody></table></div>"
      ],
      "text/plain": [
       "shape: (9, 6)\n",
       "┌────────────┬───────────┬───────────────┬─────────────┬────────────┬───────────┐\n",
       "│ describe   ┆ CompTotal ┆ ConvertedComp ┆ WorkWeekHrs ┆ CodeRevHrs ┆ Age       │\n",
       "│ ---        ┆ ---       ┆ ---           ┆ ---         ┆ ---        ┆ ---       │\n",
       "│ str        ┆ f64       ┆ f64           ┆ f64         ┆ f64        ┆ f64       │\n",
       "╞════════════╪═══════════╪═══════════════╪═════════════╪════════════╪═══════════╡\n",
       "│ count      ┆ 88883.0   ┆ 88883.0       ┆ 88883.0     ┆ 88883.0    ┆ 88883.0   │\n",
       "│ null_count ┆ 32938.0   ┆ 33060.0       ┆ 24380.0     ┆ 39093.0    ┆ 9673.0    │\n",
       "│ mean       ┆ 5.5190e11 ┆ 127110.738423 ┆ 42.127197   ┆ 5.084308   ┆ 30.336699 │\n",
       "│ std        ┆ 7.3319e13 ┆ 284152.303842 ┆ 37.28761    ┆ 5.513931   ┆ 9.17839   │\n",
       "│ min        ┆ 0.0       ┆ 0.0           ┆ 1.0         ┆ 0.0        ┆ 1.0       │\n",
       "│ 25%        ┆ 20000.0   ┆ 25776.0       ┆ 40.0        ┆ 2.0        ┆ 24.0      │\n",
       "│ 50%        ┆ 62000.0   ┆ 57287.0       ┆ 40.0        ┆ 4.0        ┆ 29.0      │\n",
       "│ 75%        ┆ 120000.0  ┆ 100000.0      ┆ 45.0        ┆ 6.0        ┆ 35.0      │\n",
       "│ max        ┆ 1.0000e16 ┆ 2e6           ┆ 4850.0      ┆ 99.0       ┆ 99.0      │\n",
       "└────────────┴───────────┴───────────────┴─────────────┴────────────┴───────────┘"
      ]
     },
     "execution_count": 13,
     "metadata": {},
     "output_type": "execute_result"
    }
   ],
   "source": [
    "# Use describe to get summary stats\n",
    "df.describe()\n",
    "df[['CompTotal', 'ConvertedComp', 'WorkWeekHrs', 'CodeRevHrs', 'Age']].describe()"
   ]
  },
  {
   "cell_type": "code",
   "execution_count": 14,
   "id": "7276d86d",
   "metadata": {},
   "outputs": [
    {
     "data": {
      "text/html": [
       "<div><style>\n",
       ".dataframe > thead > tr > th,\n",
       ".dataframe > tbody > tr > td {\n",
       "  text-align: right;\n",
       "  white-space: pre-wrap;\n",
       "}\n",
       "</style>\n",
       "<small>shape: (2, 2)</small><table border=\"1\" class=\"dataframe\"><thead><tr><th>Hobbyist</th><th>counts</th></tr><tr><td>str</td><td>u32</td></tr></thead><tbody><tr><td>&quot;Yes&quot;</td><td>71257</td></tr><tr><td>&quot;No&quot;</td><td>17626</td></tr></tbody></table></div>"
      ],
      "text/plain": [
       "shape: (2, 2)\n",
       "┌──────────┬────────┐\n",
       "│ Hobbyist ┆ counts │\n",
       "│ ---      ┆ ---    │\n",
       "│ str      ┆ u32    │\n",
       "╞══════════╪════════╡\n",
       "│ Yes      ┆ 71257  │\n",
       "│ No       ┆ 17626  │\n",
       "└──────────┴────────┘"
      ]
     },
     "execution_count": 14,
     "metadata": {},
     "output_type": "execute_result"
    }
   ],
   "source": [
    "# How many people answered yes/no\n",
    "df['Hobbyist'].value_counts()"
   ]
  },
  {
   "cell_type": "code",
   "execution_count": 15,
   "id": "e318ee26",
   "metadata": {},
   "outputs": [
    {
     "data": {
      "text/html": [
       "<div><style>\n",
       ".dataframe > thead > tr > th,\n",
       ".dataframe > tbody > tr > td {\n",
       "  text-align: right;\n",
       "  white-space: pre-wrap;\n",
       "}\n",
       "</style>\n",
       "<small>shape: (88_883,)</small><table border=\"1\" class=\"dataframe\"><thead><tr><th>SocialMedia</th></tr><tr><td>str</td></tr></thead><tbody><tr><td>&quot;Twitter&quot;</td></tr><tr><td>&quot;Instagram&quot;</td></tr><tr><td>&quot;Reddit&quot;</td></tr><tr><td>&quot;Reddit&quot;</td></tr><tr><td>&quot;Facebook&quot;</td></tr><tr><td>&hellip;</td></tr><tr><td>&quot;YouTube&quot;</td></tr><tr><td>&quot;NA&quot;</td></tr><tr><td>&quot;NA&quot;</td></tr><tr><td>&quot;NA&quot;</td></tr><tr><td>&quot;WhatsApp&quot;</td></tr></tbody></table></div>"
      ],
      "text/plain": [
       "shape: (88_883,)\n",
       "Series: 'SocialMedia' [str]\n",
       "[\n",
       "\t\"Twitter\"\n",
       "\t\"Instagram\"\n",
       "\t\"Reddit\"\n",
       "\t\"Reddit\"\n",
       "\t\"Facebook\"\n",
       "\t…\n",
       "\t\"YouTube\"\n",
       "\t\"NA\"\n",
       "\t\"NA\"\n",
       "\t\"NA\"\n",
       "\t\"WhatsApp\"\n",
       "]"
      ]
     },
     "execution_count": 15,
     "metadata": {},
     "output_type": "execute_result"
    }
   ],
   "source": [
    "# Show which social media is used most\n",
    "df['SocialMedia']"
   ]
  },
  {
   "cell_type": "code",
   "execution_count": 16,
   "id": "299af8f8",
   "metadata": {},
   "outputs": [
    {
     "data": {
      "text/html": [
       "<div><style>\n",
       ".dataframe > thead > tr > th,\n",
       ".dataframe > tbody > tr > td {\n",
       "  text-align: right;\n",
       "  white-space: pre-wrap;\n",
       "}\n",
       "</style>\n",
       "<small>shape: (1, 2)</small><table border=\"1\" class=\"dataframe\"><thead><tr><th>Column</th><th>QuestionText</th></tr><tr><td>str</td><td>str</td></tr></thead><tbody><tr><td>&quot;SocialMedia&quot;</td><td>&quot;What social media site do you use the most?&quot;</td></tr></tbody></table></div>"
      ],
      "text/plain": [
       "shape: (1, 2)\n",
       "┌─────────────┬─────────────────────────────────────────────┐\n",
       "│ Column      ┆ QuestionText                                │\n",
       "│ ---         ┆ ---                                         │\n",
       "│ str         ┆ str                                         │\n",
       "╞═════════════╪═════════════════════════════════════════════╡\n",
       "│ SocialMedia ┆ What social media site do you use the most? │\n",
       "└─────────────┴─────────────────────────────────────────────┘"
      ]
     },
     "execution_count": 16,
     "metadata": {},
     "output_type": "execute_result"
    }
   ],
   "source": [
    "# See the actual question that was asked\n",
    "schema_df.filter(pl.col('Column') == 'SocialMedia')"
   ]
  },
  {
   "cell_type": "code",
   "execution_count": 17,
   "id": "494eb861",
   "metadata": {},
   "outputs": [
    {
     "data": {
      "text/html": [
       "<div><style>\n",
       ".dataframe > thead > tr > th,\n",
       ".dataframe > tbody > tr > td {\n",
       "  text-align: right;\n",
       "  white-space: pre-wrap;\n",
       "}\n",
       "</style>\n",
       "<small>shape: (15, 2)</small><table border=\"1\" class=\"dataframe\"><thead><tr><th>SocialMedia</th><th>counts</th></tr><tr><td>str</td><td>u32</td></tr></thead><tbody><tr><td>&quot;Reddit&quot;</td><td>14374</td></tr><tr><td>&quot;YouTube&quot;</td><td>13830</td></tr><tr><td>&quot;WhatsApp&quot;</td><td>13347</td></tr><tr><td>&quot;Facebook&quot;</td><td>13178</td></tr><tr><td>&quot;Twitter&quot;</td><td>11398</td></tr><tr><td>&hellip;</td><td>&hellip;</td></tr><tr><td>&quot;Snapchat&quot;</td><td>628</td></tr><tr><td>&quot;VK ВКонта́кте&quot;</td><td>603</td></tr><tr><td>&quot;Weibo 新浪微博&quot;</td><td>56</td></tr><tr><td>&quot;Youku Tudou 优酷&quot;</td><td>21</td></tr><tr><td>&quot;Hello&quot;</td><td>19</td></tr></tbody></table></div>"
      ],
      "text/plain": [
       "shape: (15, 2)\n",
       "┌──────────────────┬────────┐\n",
       "│ SocialMedia      ┆ counts │\n",
       "│ ---              ┆ ---    │\n",
       "│ str              ┆ u32    │\n",
       "╞══════════════════╪════════╡\n",
       "│ Reddit           ┆ 14374  │\n",
       "│ YouTube          ┆ 13830  │\n",
       "│ WhatsApp         ┆ 13347  │\n",
       "│ Facebook         ┆ 13178  │\n",
       "│ Twitter          ┆ 11398  │\n",
       "│ …                ┆ …      │\n",
       "│ Snapchat         ┆ 628    │\n",
       "│ VK ВКонта́кте     ┆ 603    │\n",
       "│ Weibo 新浪微博   ┆ 56     │\n",
       "│ Youku Tudou 优酷 ┆ 21     │\n",
       "│ Hello            ┆ 19     │\n",
       "└──────────────────┴────────┘"
      ]
     },
     "execution_count": 17,
     "metadata": {},
     "output_type": "execute_result"
    }
   ],
   "source": [
    "# Show which social media is used most\n",
    "df['SocialMedia'].value_counts(sort=True)"
   ]
  },
  {
   "cell_type": "code",
   "execution_count": 18,
   "id": "a10b3330",
   "metadata": {},
   "outputs": [
    {
     "data": {
      "text/html": [
       "<div><style>\n",
       ".dataframe > thead > tr > th,\n",
       ".dataframe > tbody > tr > td {\n",
       "  text-align: right;\n",
       "  white-space: pre-wrap;\n",
       "}\n",
       "</style>\n",
       "<small>shape: (180, 2)</small><table border=\"1\" class=\"dataframe\"><thead><tr><th>Country</th><th>counts</th></tr><tr><td>str</td><td>u32</td></tr></thead><tbody><tr><td>&quot;United States&quot;</td><td>20949</td></tr><tr><td>&quot;India&quot;</td><td>9061</td></tr><tr><td>&quot;Germany&quot;</td><td>5866</td></tr><tr><td>&quot;United Kingdom&quot;</td><td>5737</td></tr><tr><td>&quot;Canada&quot;</td><td>3395</td></tr><tr><td>&hellip;</td><td>&hellip;</td></tr><tr><td>&quot;Papua New Guinea&quot;</td><td>1</td></tr><tr><td>&quot;Saint Kitts and Nevis&quot;</td><td>1</td></tr><tr><td>&quot;Saint Vincent and the Grenadines&quot;</td><td>1</td></tr><tr><td>&quot;Sao Tome and Principe&quot;</td><td>1</td></tr><tr><td>&quot;Chad&quot;</td><td>1</td></tr></tbody></table></div>"
      ],
      "text/plain": [
       "shape: (180, 2)\n",
       "┌──────────────────────────────────┬────────┐\n",
       "│ Country                          ┆ counts │\n",
       "│ ---                              ┆ ---    │\n",
       "│ str                              ┆ u32    │\n",
       "╞══════════════════════════════════╪════════╡\n",
       "│ United States                    ┆ 20949  │\n",
       "│ India                            ┆ 9061   │\n",
       "│ Germany                          ┆ 5866   │\n",
       "│ United Kingdom                   ┆ 5737   │\n",
       "│ Canada                           ┆ 3395   │\n",
       "│ …                                ┆ …      │\n",
       "│ Papua New Guinea                 ┆ 1      │\n",
       "│ Saint Kitts and Nevis            ┆ 1      │\n",
       "│ Saint Vincent and the Grenadines ┆ 1      │\n",
       "│ Sao Tome and Principe            ┆ 1      │\n",
       "│ Chad                             ┆ 1      │\n",
       "└──────────────────────────────────┴────────┘"
      ]
     },
     "execution_count": 18,
     "metadata": {},
     "output_type": "execute_result"
    }
   ],
   "source": [
    "# Which social media platform is used the most in a specific country\n",
    "# Combine country and social media cols. This is where groupby comes in handy\n",
    "# First find which country answered this survey the most.\n",
    "\n",
    "df['Country'].value_counts(sort=True)"
   ]
  },
  {
   "cell_type": "code",
   "execution_count": 19,
   "id": "be0d1a2f",
   "metadata": {},
   "outputs": [],
   "source": [
    "# Group by country\n",
    "country_grp = df.group_by('Country')"
   ]
  },
  {
   "cell_type": "code",
   "execution_count": 20,
   "id": "f57d2869",
   "metadata": {},
   "outputs": [
    {
     "data": {
      "text/html": [
       "<div><style>\n",
       ".dataframe > thead > tr > th,\n",
       ".dataframe > tbody > tr > td {\n",
       "  text-align: right;\n",
       "  white-space: pre-wrap;\n",
       "}\n",
       "</style>\n",
       "<small>shape: (15, 2)</small><table border=\"1\" class=\"dataframe\"><thead><tr><th>SocialMedia</th><th>counts</th></tr><tr><td>str</td><td>u32</td></tr></thead><tbody><tr><td>&quot;WhatsApp&quot;</td><td>2990</td></tr><tr><td>&quot;YouTube&quot;</td><td>1820</td></tr><tr><td>&quot;LinkedIn&quot;</td><td>955</td></tr><tr><td>&quot;Facebook&quot;</td><td>841</td></tr><tr><td>&quot;Instagram&quot;</td><td>822</td></tr><tr><td>&hellip;</td><td>&hellip;</td></tr><tr><td>&quot;Hello&quot;</td><td>5</td></tr><tr><td>&quot;WeChat 微信&quot;</td><td>5</td></tr><tr><td>&quot;VK ВКонта́кте&quot;</td><td>4</td></tr><tr><td>&quot;Youku Tudou 优酷&quot;</td><td>2</td></tr><tr><td>&quot;Weibo 新浪微博&quot;</td><td>1</td></tr></tbody></table></div>"
      ],
      "text/plain": [
       "shape: (15, 2)\n",
       "┌──────────────────┬────────┐\n",
       "│ SocialMedia      ┆ counts │\n",
       "│ ---              ┆ ---    │\n",
       "│ str              ┆ u32    │\n",
       "╞══════════════════╪════════╡\n",
       "│ WhatsApp         ┆ 2990   │\n",
       "│ YouTube          ┆ 1820   │\n",
       "│ LinkedIn         ┆ 955    │\n",
       "│ Facebook         ┆ 841    │\n",
       "│ Instagram        ┆ 822    │\n",
       "│ …                ┆ …      │\n",
       "│ Hello            ┆ 5      │\n",
       "│ WeChat 微信      ┆ 5      │\n",
       "│ VK ВКонта́кте     ┆ 4      │\n",
       "│ Youku Tudou 优酷 ┆ 2      │\n",
       "│ Weibo 新浪微博   ┆ 1      │\n",
       "└──────────────────┴────────┘"
      ]
     },
     "execution_count": 20,
     "metadata": {},
     "output_type": "execute_result"
    }
   ],
   "source": [
    "# Most widely used social media platform in India\n",
    "(df\n",
    " .filter(pl.col('Country') == 'India')\n",
    " ['SocialMedia'].value_counts(sort=True)\n",
    " )"
   ]
  },
  {
   "cell_type": "code",
   "execution_count": 21,
   "id": "cf3d4ee9",
   "metadata": {},
   "outputs": [
    {
     "data": {
      "text/html": [
       "<div><style>\n",
       ".dataframe > thead > tr > th,\n",
       ".dataframe > tbody > tr > td {\n",
       "  text-align: right;\n",
       "  white-space: pre-wrap;\n",
       "}\n",
       "</style>\n",
       "<small>shape: (88_883, 2)</small><table border=\"1\" class=\"dataframe\"><thead><tr><th>Country</th><th>SocialMedia</th></tr><tr><td>str</td><td>str</td></tr></thead><tbody><tr><td>&quot;United Kingdom&quot;</td><td>&quot;Twitter&quot;</td></tr><tr><td>&quot;Bosnia and Herzegovina&quot;</td><td>&quot;Instagram&quot;</td></tr><tr><td>&quot;Thailand&quot;</td><td>&quot;Reddit&quot;</td></tr><tr><td>&quot;United States&quot;</td><td>&quot;Reddit&quot;</td></tr><tr><td>&quot;Ukraine&quot;</td><td>&quot;Facebook&quot;</td></tr><tr><td>&hellip;</td><td>&hellip;</td></tr><tr><td>&quot;Canada&quot;</td><td>&quot;YouTube&quot;</td></tr><tr><td>&quot;NA&quot;</td><td>&quot;NA&quot;</td></tr><tr><td>&quot;NA&quot;</td><td>&quot;NA&quot;</td></tr><tr><td>&quot;NA&quot;</td><td>&quot;NA&quot;</td></tr><tr><td>&quot;Spain&quot;</td><td>&quot;WhatsApp&quot;</td></tr></tbody></table></div>"
      ],
      "text/plain": [
       "shape: (88_883, 2)\n",
       "┌────────────────────────┬─────────────┐\n",
       "│ Country                ┆ SocialMedia │\n",
       "│ ---                    ┆ ---         │\n",
       "│ str                    ┆ str         │\n",
       "╞════════════════════════╪═════════════╡\n",
       "│ United Kingdom         ┆ Twitter     │\n",
       "│ Bosnia and Herzegovina ┆ Instagram   │\n",
       "│ Thailand               ┆ Reddit      │\n",
       "│ United States          ┆ Reddit      │\n",
       "│ Ukraine                ┆ Facebook    │\n",
       "│ …                      ┆ …           │\n",
       "│ Canada                 ┆ YouTube     │\n",
       "│ NA                     ┆ NA          │\n",
       "│ NA                     ┆ NA          │\n",
       "│ NA                     ┆ NA          │\n",
       "│ Spain                  ┆ WhatsApp    │\n",
       "└────────────────────────┴─────────────┘"
      ]
     },
     "execution_count": 21,
     "metadata": {},
     "output_type": "execute_result"
    }
   ],
   "source": [
    "df[['Country','SocialMedia']]"
   ]
  },
  {
   "cell_type": "code",
   "execution_count": 22,
   "id": "12dbd892",
   "metadata": {},
   "outputs": [
    {
     "data": {
      "text/html": [
       "<div><style>\n",
       ".dataframe > thead > tr > th,\n",
       ".dataframe > tbody > tr > td {\n",
       "  text-align: right;\n",
       "  white-space: pre-wrap;\n",
       "}\n",
       "</style>\n",
       "<small>shape: (1_345, 3)</small><table border=\"1\" class=\"dataframe\"><thead><tr><th>Country</th><th>SocialMedia</th><th>Count</th></tr><tr><td>str</td><td>str</td><td>u32</td></tr></thead><tbody><tr><td>&quot;Afghanistan&quot;</td><td>&quot;I don&#x27;t use social media&quot;</td><td>6</td></tr><tr><td>&quot;Afghanistan&quot;</td><td>&quot;Twitter&quot;</td><td>1</td></tr><tr><td>&quot;Afghanistan&quot;</td><td>&quot;WhatsApp&quot;</td><td>4</td></tr><tr><td>&quot;Afghanistan&quot;</td><td>&quot;Instagram&quot;</td><td>1</td></tr><tr><td>&quot;Afghanistan&quot;</td><td>&quot;Facebook&quot;</td><td>15</td></tr><tr><td>&hellip;</td><td>&hellip;</td><td>&hellip;</td></tr><tr><td>&quot;Zimbabwe&quot;</td><td>&quot;Reddit&quot;</td><td>1</td></tr><tr><td>&quot;Zimbabwe&quot;</td><td>&quot;WhatsApp&quot;</td><td>20</td></tr><tr><td>&quot;Zimbabwe&quot;</td><td>&quot;Instagram&quot;</td><td>2</td></tr><tr><td>&quot;Zimbabwe&quot;</td><td>&quot;Facebook&quot;</td><td>3</td></tr><tr><td>&quot;Zimbabwe&quot;</td><td>&quot;Twitter&quot;</td><td>8</td></tr></tbody></table></div>"
      ],
      "text/plain": [
       "shape: (1_345, 3)\n",
       "┌─────────────┬──────────────────────────┬───────┐\n",
       "│ Country     ┆ SocialMedia              ┆ Count │\n",
       "│ ---         ┆ ---                      ┆ ---   │\n",
       "│ str         ┆ str                      ┆ u32   │\n",
       "╞═════════════╪══════════════════════════╪═══════╡\n",
       "│ Afghanistan ┆ I don't use social media ┆ 6     │\n",
       "│ Afghanistan ┆ Twitter                  ┆ 1     │\n",
       "│ Afghanistan ┆ WhatsApp                 ┆ 4     │\n",
       "│ Afghanistan ┆ Instagram                ┆ 1     │\n",
       "│ Afghanistan ┆ Facebook                 ┆ 15    │\n",
       "│ …           ┆ …                        ┆ …     │\n",
       "│ Zimbabwe    ┆ Reddit                   ┆ 1     │\n",
       "│ Zimbabwe    ┆ WhatsApp                 ┆ 20    │\n",
       "│ Zimbabwe    ┆ Instagram                ┆ 2     │\n",
       "│ Zimbabwe    ┆ Facebook                 ┆ 3     │\n",
       "│ Zimbabwe    ┆ Twitter                  ┆ 8     │\n",
       "└─────────────┴──────────────────────────┴───────┘"
      ]
     },
     "execution_count": 22,
     "metadata": {},
     "output_type": "execute_result"
    }
   ],
   "source": [
    "# Finally!\n",
    "(df\n",
    " .group_by(['Country', 'SocialMedia'])\n",
    " .agg(pl.col('SocialMedia').count().alias('Count'))\n",
    " .sort('Country')\n",
    "#  .filter(pl.col('Country') == 'India')\n",
    "#  .sort('Count', descending=True)\n",
    " )"
   ]
  },
  {
   "cell_type": "code",
   "execution_count": 23,
   "id": "280ae6bc",
   "metadata": {},
   "outputs": [
    {
     "data": {
      "text/html": [
       "<div><style>\n",
       ".dataframe > thead > tr > th,\n",
       ".dataframe > tbody > tr > td {\n",
       "  text-align: right;\n",
       "  white-space: pre-wrap;\n",
       "}\n",
       "</style>\n",
       "<small>shape: (180, 2)</small><table border=\"1\" class=\"dataframe\"><thead><tr><th>Country</th><th>ConvertedComp</th></tr><tr><td>str</td><td>f64</td></tr></thead><tbody><tr><td>&quot;Dominica&quot;</td><td>null</td></tr><tr><td>&quot;Hungary&quot;</td><td>26412.0</td></tr><tr><td>&quot;Luxembourg&quot;</td><td>74364.0</td></tr><tr><td>&quot;Mali&quot;</td><td>10476.0</td></tr><tr><td>&quot;Democratic Republic of the Congo&quot;</td><td>110484.0</td></tr><tr><td>&hellip;</td><td>&hellip;</td></tr><tr><td>&quot;Swaziland&quot;</td><td>62371.0</td></tr><tr><td>&quot;San Marino&quot;</td><td>301788.0</td></tr><tr><td>&quot;India&quot;</td><td>10080.0</td></tr><tr><td>&quot;North Korea&quot;</td><td>null</td></tr><tr><td>&quot;Switzerland&quot;</td><td>95440.0</td></tr></tbody></table></div>"
      ],
      "text/plain": [
       "shape: (180, 2)\n",
       "┌──────────────────────────────────┬───────────────┐\n",
       "│ Country                          ┆ ConvertedComp │\n",
       "│ ---                              ┆ ---           │\n",
       "│ str                              ┆ f64           │\n",
       "╞══════════════════════════════════╪═══════════════╡\n",
       "│ Dominica                         ┆ null          │\n",
       "│ Hungary                          ┆ 26412.0       │\n",
       "│ Luxembourg                       ┆ 74364.0       │\n",
       "│ Mali                             ┆ 10476.0       │\n",
       "│ Democratic Republic of the Congo ┆ 110484.0      │\n",
       "│ …                                ┆ …             │\n",
       "│ Swaziland                        ┆ 62371.0       │\n",
       "│ San Marino                       ┆ 301788.0      │\n",
       "│ India                            ┆ 10080.0       │\n",
       "│ North Korea                      ┆ null          │\n",
       "│ Switzerland                      ┆ 95440.0       │\n",
       "└──────────────────────────────────┴───────────────┘"
      ]
     },
     "execution_count": 23,
     "metadata": {},
     "output_type": "execute_result"
    }
   ],
   "source": [
    "# See median salary for each country\n",
    "(df\n",
    " .group_by('Country')\n",
    " .agg(pl.col('ConvertedComp').median())\n",
    "#  .filter(pl.col('Country') == 'Germany')\n",
    " )"
   ]
  },
  {
   "cell_type": "code",
   "execution_count": 24,
   "id": "b891287e",
   "metadata": {},
   "outputs": [
    {
     "data": {
      "text/html": [
       "<div><style>\n",
       ".dataframe > thead > tr > th,\n",
       ".dataframe > tbody > tr > td {\n",
       "  text-align: right;\n",
       "  white-space: pre-wrap;\n",
       "}\n",
       "</style>\n",
       "<small>shape: (180, 3)</small><table border=\"1\" class=\"dataframe\"><thead><tr><th>Country</th><th>median_ConvertedComp</th><th>mean_ConvertedComp</th></tr><tr><td>str</td><td>f64</td><td>f64</td></tr></thead><tbody><tr><td>&quot;United Republic of Tanzania&quot;</td><td>5192.0</td><td>34691.117647</td></tr><tr><td>&quot;Bosnia and Herzegovina&quot;</td><td>18360.0</td><td>24996.283333</td></tr><tr><td>&quot;Mongolia&quot;</td><td>8562.0</td><td>8745.5</td></tr><tr><td>&quot;Saudi Arabia&quot;</td><td>43200.0</td><td>46463.408163</td></tr><tr><td>&quot;Guinea&quot;</td><td>1956.0</td><td>1956.0</td></tr><tr><td>&hellip;</td><td>&hellip;</td><td>&hellip;</td></tr><tr><td>&quot;Georgia&quot;</td><td>13548.0</td><td>42008.204082</td></tr><tr><td>&quot;Singapore&quot;</td><td>57758.5</td><td>120621.50641</td></tr><tr><td>&quot;South Africa&quot;</td><td>38354.0</td><td>63550.602871</td></tr><tr><td>&quot;Spain&quot;</td><td>40101.0</td><td>88724.357262</td></tr><tr><td>&quot;Guyana&quot;</td><td>null</td><td>null</td></tr></tbody></table></div>"
      ],
      "text/plain": [
       "shape: (180, 3)\n",
       "┌─────────────────────────────┬──────────────────────┬────────────────────┐\n",
       "│ Country                     ┆ median_ConvertedComp ┆ mean_ConvertedComp │\n",
       "│ ---                         ┆ ---                  ┆ ---                │\n",
       "│ str                         ┆ f64                  ┆ f64                │\n",
       "╞═════════════════════════════╪══════════════════════╪════════════════════╡\n",
       "│ United Republic of Tanzania ┆ 5192.0               ┆ 34691.117647       │\n",
       "│ Bosnia and Herzegovina      ┆ 18360.0              ┆ 24996.283333       │\n",
       "│ Mongolia                    ┆ 8562.0               ┆ 8745.5             │\n",
       "│ Saudi Arabia                ┆ 43200.0              ┆ 46463.408163       │\n",
       "│ Guinea                      ┆ 1956.0               ┆ 1956.0             │\n",
       "│ …                           ┆ …                    ┆ …                  │\n",
       "│ Georgia                     ┆ 13548.0              ┆ 42008.204082       │\n",
       "│ Singapore                   ┆ 57758.5              ┆ 120621.50641       │\n",
       "│ South Africa                ┆ 38354.0              ┆ 63550.602871       │\n",
       "│ Spain                       ┆ 40101.0              ┆ 88724.357262       │\n",
       "│ Guyana                      ┆ null                 ┆ null               │\n",
       "└─────────────────────────────┴──────────────────────┴────────────────────┘"
      ]
     },
     "execution_count": 24,
     "metadata": {},
     "output_type": "execute_result"
    }
   ],
   "source": [
    "# Multiple aggregates\n",
    "(df\n",
    " .group_by('Country')\n",
    "#  .agg(pl.median('ConvertedComp'), \n",
    "#       pl.mean('ConvertedComp')) #GOTCHA!\n",
    " .agg([pl.median('ConvertedComp').prefix('median_'),\n",
    "       pl.mean('ConvertedComp').prefix('mean_')])\n",
    " )"
   ]
  },
  {
   "cell_type": "code",
   "execution_count": 25,
   "id": "08503662",
   "metadata": {},
   "outputs": [
    {
     "data": {
      "text/html": [
       "<div><style>\n",
       ".dataframe > thead > tr > th,\n",
       ".dataframe > tbody > tr > td {\n",
       "  text-align: right;\n",
       "  white-space: pre-wrap;\n",
       "}\n",
       "</style>\n",
       "<small>shape: (1, 3)</small><table border=\"1\" class=\"dataframe\"><thead><tr><th>Country</th><th>median_ConvertedComp</th><th>mean_ConvertedComp</th></tr><tr><td>str</td><td>f64</td><td>f64</td></tr></thead><tbody><tr><td>&quot;Canada&quot;</td><td>68705.0</td><td>134018.564909</td></tr></tbody></table></div>"
      ],
      "text/plain": [
       "shape: (1, 3)\n",
       "┌─────────┬──────────────────────┬────────────────────┐\n",
       "│ Country ┆ median_ConvertedComp ┆ mean_ConvertedComp │\n",
       "│ ---     ┆ ---                  ┆ ---                │\n",
       "│ str     ┆ f64                  ┆ f64                │\n",
       "╞═════════╪══════════════════════╪════════════════════╡\n",
       "│ Canada  ┆ 68705.0              ┆ 134018.564909      │\n",
       "└─────────┴──────────────────────┴────────────────────┘"
      ]
     },
     "execution_count": 25,
     "metadata": {},
     "output_type": "execute_result"
    }
   ],
   "source": [
    "# Median and Mean for Canada\n",
    "(df\n",
    " .group_by('Country')\n",
    " .agg([pl.median('ConvertedComp').prefix('median_'),\n",
    "       pl.mean('ConvertedComp').prefix('mean_')])\n",
    " .filter(pl.col('Country') == 'Canada')\n",
    "#  .melt()\n",
    " )"
   ]
  },
  {
   "cell_type": "code",
   "execution_count": 26,
   "id": "a408d54e",
   "metadata": {},
   "outputs": [
    {
     "data": {
      "text/plain": [
       "3105"
      ]
     },
     "execution_count": 26,
     "metadata": {},
     "output_type": "execute_result"
    }
   ],
   "source": [
    "# How many people from India know Python\n",
    "(df\n",
    " .filter((pl.col('Country') == 'India')\n",
    "         & pl.col('LanguageWorkedWith').str.contains('Python'))\n",
    " .height\n",
    " )"
   ]
  },
  {
   "cell_type": "code",
   "execution_count": 27,
   "id": "290e2d72",
   "metadata": {},
   "outputs": [
    {
     "data": {
      "text/html": [
       "<div><style>\n",
       ".dataframe > thead > tr > th,\n",
       ".dataframe > tbody > tr > td {\n",
       "  text-align: right;\n",
       "  white-space: pre-wrap;\n",
       "}\n",
       "</style>\n",
       "<small>shape: (180, 2)</small><table border=\"1\" class=\"dataframe\"><thead><tr><th>Country</th><th>NumRespondents</th></tr><tr><td>str</td><td>u32</td></tr></thead><tbody><tr><td>&quot;Turkey&quot;</td><td>949</td></tr><tr><td>&quot;Australia&quot;</td><td>1903</td></tr><tr><td>&quot;Andorra&quot;</td><td>7</td></tr><tr><td>&quot;Indonesia&quot;</td><td>507</td></tr><tr><td>&quot;Lesotho&quot;</td><td>3</td></tr><tr><td>&hellip;</td><td>&hellip;</td></tr><tr><td>&quot;Tunisia&quot;</td><td>130</td></tr><tr><td>&quot;Costa Rica&quot;</td><td>84</td></tr><tr><td>&quot;Sri Lanka&quot;</td><td>372</td></tr><tr><td>&quot;Sierra Leone&quot;</td><td>2</td></tr><tr><td>&quot;Timor-Leste&quot;</td><td>1</td></tr></tbody></table></div>"
      ],
      "text/plain": [
       "shape: (180, 2)\n",
       "┌──────────────┬────────────────┐\n",
       "│ Country      ┆ NumRespondents │\n",
       "│ ---          ┆ ---            │\n",
       "│ str          ┆ u32            │\n",
       "╞══════════════╪════════════════╡\n",
       "│ Turkey       ┆ 949            │\n",
       "│ Australia    ┆ 1903           │\n",
       "│ Andorra      ┆ 7              │\n",
       "│ Indonesia    ┆ 507            │\n",
       "│ Lesotho      ┆ 3              │\n",
       "│ …            ┆ …              │\n",
       "│ Tunisia      ┆ 130            │\n",
       "│ Costa Rica   ┆ 84             │\n",
       "│ Sri Lanka    ┆ 372            │\n",
       "│ Sierra Leone ┆ 2              │\n",
       "│ Timor-Leste  ┆ 1              │\n",
       "└──────────────┴────────────────┘"
      ]
     },
     "execution_count": 27,
     "metadata": {},
     "output_type": "execute_result"
    }
   ],
   "source": [
    "## CHALLENGE\n",
    "# Percentage of people from each country who know Python\n",
    "country_respondents = df['Country'].value_counts().rename({'counts': 'NumRespondents'})\n",
    "country_respondents"
   ]
  },
  {
   "cell_type": "code",
   "execution_count": 29,
   "id": "35ef5f6c",
   "metadata": {},
   "outputs": [
    {
     "data": {
      "text/html": [
       "<div><style>\n",
       ".dataframe > thead > tr > th,\n",
       ".dataframe > tbody > tr > td {\n",
       "  text-align: right;\n",
       "  white-space: pre-wrap;\n",
       "}\n",
       "</style>\n",
       "<small>shape: (162, 2)</small><table border=\"1\" class=\"dataframe\"><thead><tr><th>Country</th><th>NumKnowsPython</th></tr><tr><td>str</td><td>u32</td></tr></thead><tbody><tr><td>&quot;Pakistan&quot;</td><td>251</td></tr><tr><td>&quot;Belarus&quot;</td><td>69</td></tr><tr><td>&quot;Armenia&quot;</td><td>28</td></tr><tr><td>&quot;Chile&quot;</td><td>102</td></tr><tr><td>&quot;Ukraine&quot;</td><td>246</td></tr><tr><td>&hellip;</td><td>&hellip;</td></tr><tr><td>&quot;Zambia&quot;</td><td>4</td></tr><tr><td>&quot;Iran&quot;</td><td>268</td></tr><tr><td>&quot;Côte d&#x27;Ivoire&quot;</td><td>11</td></tr><tr><td>&quot;Libyan Arab Jamahiriya&quot;</td><td>2</td></tr><tr><td>&quot;Panama&quot;</td><td>13</td></tr></tbody></table></div>"
      ],
      "text/plain": [
       "shape: (162, 2)\n",
       "┌────────────────────────┬────────────────┐\n",
       "│ Country                ┆ NumKnowsPython │\n",
       "│ ---                    ┆ ---            │\n",
       "│ str                    ┆ u32            │\n",
       "╞════════════════════════╪════════════════╡\n",
       "│ Pakistan               ┆ 251            │\n",
       "│ Belarus                ┆ 69             │\n",
       "│ Armenia                ┆ 28             │\n",
       "│ Chile                  ┆ 102            │\n",
       "│ Ukraine                ┆ 246            │\n",
       "│ …                      ┆ …              │\n",
       "│ Zambia                 ┆ 4              │\n",
       "│ Iran                   ┆ 268            │\n",
       "│ Côte d'Ivoire          ┆ 11             │\n",
       "│ Libyan Arab Jamahiriya ┆ 2              │\n",
       "│ Panama                 ┆ 13             │\n",
       "└────────────────────────┴────────────────┘"
      ]
     },
     "execution_count": 29,
     "metadata": {},
     "output_type": "execute_result"
    }
   ],
   "source": [
    "# worked!\n",
    "(df\n",
    " .filter(pl.col('LanguageWorkedWith').str.contains('Python'))\n",
    " .group_by('Country')\n",
    " .agg(pl.col('LanguageWorkedWith').str.contains('Python').count().alias('NumKnowsPython'))\n",
    " )"
   ]
  },
  {
   "cell_type": "code",
   "execution_count": 30,
   "id": "09088438",
   "metadata": {},
   "outputs": [
    {
     "data": {
      "text/html": [
       "<div><style>\n",
       ".dataframe > thead > tr > th,\n",
       ".dataframe > tbody > tr > td {\n",
       "  text-align: right;\n",
       "  white-space: pre-wrap;\n",
       "}\n",
       "</style>\n",
       "<small>shape: (162, 2)</small><table border=\"1\" class=\"dataframe\"><thead><tr><th>Country</th><th>NumKnowsPython</th></tr><tr><td>str</td><td>u32</td></tr></thead><tbody><tr><td>&quot;Malta&quot;</td><td>20</td></tr><tr><td>&quot;Democratic Republic of the Congo&quot;</td><td>3</td></tr><tr><td>&quot;Slovakia&quot;</td><td>101</td></tr><tr><td>&quot;Ireland&quot;</td><td>209</td></tr><tr><td>&quot;Qatar&quot;</td><td>5</td></tr><tr><td>&hellip;</td><td>&hellip;</td></tr><tr><td>&quot;Hong Kong (S.A.R.)&quot;</td><td>88</td></tr><tr><td>&quot;Cameroon&quot;</td><td>16</td></tr><tr><td>&quot;Azerbaijan&quot;</td><td>17</td></tr><tr><td>&quot;Peru&quot;</td><td>47</td></tr><tr><td>&quot;Kazakhstan&quot;</td><td>15</td></tr></tbody></table></div>"
      ],
      "text/plain": [
       "shape: (162, 2)\n",
       "┌──────────────────────────────────┬────────────────┐\n",
       "│ Country                          ┆ NumKnowsPython │\n",
       "│ ---                              ┆ ---            │\n",
       "│ str                              ┆ u32            │\n",
       "╞══════════════════════════════════╪════════════════╡\n",
       "│ Malta                            ┆ 20             │\n",
       "│ Democratic Republic of the Congo ┆ 3              │\n",
       "│ Slovakia                         ┆ 101            │\n",
       "│ Ireland                          ┆ 209            │\n",
       "│ Qatar                            ┆ 5              │\n",
       "│ …                                ┆ …              │\n",
       "│ Hong Kong (S.A.R.)               ┆ 88             │\n",
       "│ Cameroon                         ┆ 16             │\n",
       "│ Azerbaijan                       ┆ 17             │\n",
       "│ Peru                             ┆ 47             │\n",
       "│ Kazakhstan                       ┆ 15             │\n",
       "└──────────────────────────────────┴────────────────┘"
      ]
     },
     "execution_count": 30,
     "metadata": {},
     "output_type": "execute_result"
    }
   ],
   "source": [
    "# Create dataframe for people who know python\n",
    "python_df = (df\n",
    " .filter(pl.col('LanguageWorkedWith').str.contains('Python'))\n",
    " .group_by('Country')\n",
    " .agg(pl.col('LanguageWorkedWith').str.contains('Python').count().alias('NumKnowsPython'))\n",
    " )\n",
    "python_df"
   ]
  },
  {
   "cell_type": "code",
   "execution_count": 31,
   "id": "ada05205",
   "metadata": {},
   "outputs": [
    {
     "data": {
      "text/html": [
       "<div><style>\n",
       ".dataframe > thead > tr > th,\n",
       ".dataframe > tbody > tr > td {\n",
       "  text-align: right;\n",
       "  white-space: pre-wrap;\n",
       "}\n",
       "</style>\n",
       "<small>shape: (180, 3)</small><table border=\"1\" class=\"dataframe\"><thead><tr><th>Country</th><th>NumRespondents</th><th>NumKnowsPython</th></tr><tr><td>str</td><td>u32</td><td>u32</td></tr></thead><tbody><tr><td>&quot;Turkey&quot;</td><td>949</td><td>371</td></tr><tr><td>&quot;Australia&quot;</td><td>1903</td><td>790</td></tr><tr><td>&quot;Andorra&quot;</td><td>7</td><td>null</td></tr><tr><td>&quot;Indonesia&quot;</td><td>507</td><td>148</td></tr><tr><td>&quot;Lesotho&quot;</td><td>3</td><td>1</td></tr><tr><td>&hellip;</td><td>&hellip;</td><td>&hellip;</td></tr><tr><td>&quot;Tunisia&quot;</td><td>130</td><td>40</td></tr><tr><td>&quot;Costa Rica&quot;</td><td>84</td><td>30</td></tr><tr><td>&quot;Sri Lanka&quot;</td><td>372</td><td>137</td></tr><tr><td>&quot;Sierra Leone&quot;</td><td>2</td><td>1</td></tr><tr><td>&quot;Timor-Leste&quot;</td><td>1</td><td>1</td></tr></tbody></table></div>"
      ],
      "text/plain": [
       "shape: (180, 3)\n",
       "┌──────────────┬────────────────┬────────────────┐\n",
       "│ Country      ┆ NumRespondents ┆ NumKnowsPython │\n",
       "│ ---          ┆ ---            ┆ ---            │\n",
       "│ str          ┆ u32            ┆ u32            │\n",
       "╞══════════════╪════════════════╪════════════════╡\n",
       "│ Turkey       ┆ 949            ┆ 371            │\n",
       "│ Australia    ┆ 1903           ┆ 790            │\n",
       "│ Andorra      ┆ 7              ┆ null           │\n",
       "│ Indonesia    ┆ 507            ┆ 148            │\n",
       "│ Lesotho      ┆ 3              ┆ 1              │\n",
       "│ …            ┆ …              ┆ …              │\n",
       "│ Tunisia      ┆ 130            ┆ 40             │\n",
       "│ Costa Rica   ┆ 84             ┆ 30             │\n",
       "│ Sri Lanka    ┆ 372            ┆ 137            │\n",
       "│ Sierra Leone ┆ 2              ┆ 1              │\n",
       "│ Timor-Leste  ┆ 1              ┆ 1              │\n",
       "└──────────────┴────────────────┴────────────────┘"
      ]
     },
     "execution_count": 31,
     "metadata": {},
     "output_type": "execute_result"
    }
   ],
   "source": [
    "# Join the dataframes\n",
    "python_df = country_respondents.join(python_df, on='Country', how='left')\n",
    "python_df"
   ]
  },
  {
   "cell_type": "code",
   "execution_count": 35,
   "id": "33db930a",
   "metadata": {},
   "outputs": [
    {
     "data": {
      "text/html": [
       "<div><style>\n",
       ".dataframe > thead > tr > th,\n",
       ".dataframe > tbody > tr > td {\n",
       "  text-align: right;\n",
       "  white-space: pre-wrap;\n",
       "}\n",
       "</style>\n",
       "<small>shape: (1, 4)</small><table border=\"1\" class=\"dataframe\"><thead><tr><th>Country</th><th>NumRespondents</th><th>NumKnowsPython</th><th>PctKnowsPython</th></tr><tr><td>str</td><td>u32</td><td>u32</td><td>f64</td></tr></thead><tbody><tr><td>&quot;United States&quot;</td><td>20949</td><td>10083</td><td>48.131176</td></tr></tbody></table></div>"
      ],
      "text/plain": [
       "shape: (1, 4)\n",
       "┌───────────────┬────────────────┬────────────────┬────────────────┐\n",
       "│ Country       ┆ NumRespondents ┆ NumKnowsPython ┆ PctKnowsPython │\n",
       "│ ---           ┆ ---            ┆ ---            ┆ ---            │\n",
       "│ str           ┆ u32            ┆ u32            ┆ f64            │\n",
       "╞═══════════════╪════════════════╪════════════════╪════════════════╡\n",
       "│ United States ┆ 20949          ┆ 10083          ┆ 48.131176      │\n",
       "└───────────────┴────────────────┴────────────────┴────────────────┘"
      ]
     },
     "execution_count": 35,
     "metadata": {},
     "output_type": "execute_result"
    }
   ],
   "source": [
    "(python_df\n",
    " .with_columns(((pl.col('NumKnowsPython') / pl.col('NumRespondents'))*100).alias('PctKnowsPython'))\n",
    " .sort('PctKnowsPython', descending=True) #A little misleading for 1 respondent.\n",
    " .filter(pl.col('Country') == 'United States') #see pct for USA\n",
    " )"
   ]
  }
 ],
 "metadata": {
  "kernelspec": {
   "display_name": "Python 3 (ipykernel)",
   "language": "python",
   "name": "python3"
  },
  "language_info": {
   "codemirror_mode": {
    "name": "ipython",
    "version": 3
   },
   "file_extension": ".py",
   "mimetype": "text/x-python",
   "name": "python",
   "nbconvert_exporter": "python",
   "pygments_lexer": "ipython3",
   "version": "3.11.5"
  }
 },
 "nbformat": 4,
 "nbformat_minor": 5
}
