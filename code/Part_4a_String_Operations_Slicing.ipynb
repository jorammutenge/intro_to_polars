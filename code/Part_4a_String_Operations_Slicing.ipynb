{
 "cells": [
  {
   "cell_type": "markdown",
   "metadata": {},
   "source": [
    "# Part 4: String Operations (Slicing)"
   ]
  },
  {
   "cell_type": "code",
   "execution_count": 4,
   "metadata": {},
   "outputs": [
    {
     "data": {
      "text/html": [
       "<div><style>\n",
       ".dataframe > thead > tr > th,\n",
       ".dataframe > tbody > tr > td {\n",
       "  text-align: right;\n",
       "  white-space: pre-wrap;\n",
       "}\n",
       "</style>\n",
       "<small>shape: (260_235, 2)</small><table border=\"1\" class=\"dataframe\"><thead><tr><th>Name</th><th>Risk</th></tr><tr><td>str</td><td>str</td></tr></thead><tbody><tr><td>&quot;PRAIRIELAND MO…</td><td>&quot;Risk 1 (High)&quot;</td></tr><tr><td>&quot;EL RUISENOR DA…</td><td>&quot;Risk 1 (High)&quot;</td></tr><tr><td>&quot;KING CRAB HOUS…</td><td>&quot;Risk 1 (High)&quot;</td></tr><tr><td>&quot;CATERPILLAR CA…</td><td>&quot;Risk 1 (High)&quot;</td></tr><tr><td>&quot;HEALTHY SUBSTA…</td><td>&quot;Risk 3 (Low)&quot;</td></tr><tr><td>&hellip;</td><td>&hellip;</td></tr><tr><td>&quot;Cafe 608&quot;</td><td>&quot;Risk 1 (High)&quot;</td></tr><tr><td>&quot;TEMPO CAFE&quot;</td><td>&quot;Risk 1 (High)&quot;</td></tr><tr><td>&quot;MICHAEL&#x27;S ON M…</td><td>&quot;Risk 1 (High)&quot;</td></tr><tr><td>&quot;DUNKIN DONUTS/…</td><td>&quot;Risk 2 (Medium…</td></tr><tr><td>&quot;TROQUET&quot;</td><td>&quot;Risk 1 (High)&quot;</td></tr></tbody></table></div>"
      ],
      "text/plain": [
       "shape: (260_235, 2)\n",
       "┌──────────────────────────────┬─────────────────┐\n",
       "│ Name                         ┆ Risk            │\n",
       "│ ---                          ┆ ---             │\n",
       "│ str                          ┆ str             │\n",
       "╞══════════════════════════════╪═════════════════╡\n",
       "│ PRAIRIELAND MONTESSORI       ┆ Risk 1 (High)   │\n",
       "│ EL RUISENOR DAY CARE CENTER  ┆ Risk 1 (High)   │\n",
       "│ KING CRAB HOUSE              ┆ Risk 1 (High)   │\n",
       "│ CATERPILLAR CARE             ┆ Risk 1 (High)   │\n",
       "│ HEALTHY SUBSTANCE CANTINA    ┆ Risk 3 (Low)    │\n",
       "│ …                            ┆ …               │\n",
       "│ Cafe 608                     ┆ Risk 1 (High)   │\n",
       "│ TEMPO CAFE                   ┆ Risk 1 (High)   │\n",
       "│ MICHAEL'S ON MAIN CAFE       ┆ Risk 1 (High)   │\n",
       "│ DUNKIN DONUTS/BASKIN-ROBBINS ┆ Risk 2 (Medium) │\n",
       "│ TROQUET                      ┆ Risk 1 (High)   │\n",
       "└──────────────────────────────┴─────────────────┘"
      ]
     },
     "execution_count": 4,
     "metadata": {},
     "output_type": "execute_result"
    }
   ],
   "source": [
    "import polars as pl\n",
    "pl.Config.set_tbl_rows(10)\n",
    "\n",
    "df = pl.read_csv('data/chicago_food_inspections.csv')\n",
    "df"
   ]
  },
  {
   "cell_type": "markdown",
   "metadata": {},
   "source": [
    "## Series and DataFrame"
   ]
  },
  {
   "cell_type": "code",
   "execution_count": 5,
   "metadata": {},
   "outputs": [
    {
     "data": {
      "text/plain": [
       "polars.series.series.Series"
      ]
     },
     "execution_count": 5,
     "metadata": {},
     "output_type": "execute_result"
    }
   ],
   "source": [
    "type(df['Name'])\n",
    "# type(df.select(pl.col('Name')))"
   ]
  },
  {
   "cell_type": "markdown",
   "metadata": {},
   "source": [
    "## Change letter case"
   ]
  },
  {
   "cell_type": "code",
   "execution_count": 6,
   "metadata": {},
   "outputs": [
    {
     "data": {
      "text/html": [
       "<div><style>\n",
       ".dataframe > thead > tr > th,\n",
       ".dataframe > tbody > tr > td {\n",
       "  text-align: right;\n",
       "  white-space: pre-wrap;\n",
       "}\n",
       "</style>\n",
       "<small>shape: (260_235,)</small><table border=\"1\" class=\"dataframe\"><thead><tr><th>Name</th></tr><tr><td>str</td></tr></thead><tbody><tr><td>&quot;prairieland mo…</td></tr><tr><td>&quot;el ruisenor da…</td></tr><tr><td>&quot;king crab hous…</td></tr><tr><td>&quot;caterpillar ca…</td></tr><tr><td>&quot;healthy substa…</td></tr><tr><td>&hellip;</td></tr><tr><td>&quot;cafe 608&quot;</td></tr><tr><td>&quot;tempo cafe&quot;</td></tr><tr><td>&quot;michael&#x27;s on m…</td></tr><tr><td>&quot;dunkin donuts/…</td></tr><tr><td>&quot;troquet&quot;</td></tr></tbody></table></div>"
      ],
      "text/plain": [
       "shape: (260_235,)\n",
       "Series: 'Name' [str]\n",
       "[\n",
       "\t\"prairieland mo…\n",
       "\t\"el ruisenor da…\n",
       "\t\"king crab hous…\n",
       "\t\"caterpillar ca…\n",
       "\t\"healthy substa…\n",
       "\t…\n",
       "\t\"cafe 608\"\n",
       "\t\"tempo cafe\"\n",
       "\t\"michael's on m…\n",
       "\t\"dunkin donuts/…\n",
       "\t\"troquet\"\n",
       "]"
      ]
     },
     "execution_count": 6,
     "metadata": {},
     "output_type": "execute_result"
    }
   ],
   "source": [
    "df['Name'].str.to_lowercase()"
   ]
  },
  {
   "cell_type": "code",
   "execution_count": 7,
   "metadata": {},
   "outputs": [
    {
     "data": {
      "text/html": [
       "<div><style>\n",
       ".dataframe > thead > tr > th,\n",
       ".dataframe > tbody > tr > td {\n",
       "  text-align: right;\n",
       "  white-space: pre-wrap;\n",
       "}\n",
       "</style>\n",
       "<small>shape: (260_235,)</small><table border=\"1\" class=\"dataframe\"><thead><tr><th>Name</th></tr><tr><td>str</td></tr></thead><tbody><tr><td>&quot;Prairieland Mo…</td></tr><tr><td>&quot;El Ruisenor Da…</td></tr><tr><td>&quot;King Crab Hous…</td></tr><tr><td>&quot;Caterpillar Ca…</td></tr><tr><td>&quot;Healthy Substa…</td></tr><tr><td>&hellip;</td></tr><tr><td>&quot;Cafe 608&quot;</td></tr><tr><td>&quot;Tempo Cafe&quot;</td></tr><tr><td>&quot;Michael&#x27;s On M…</td></tr><tr><td>&quot;Dunkin Donuts/…</td></tr><tr><td>&quot;Troquet&quot;</td></tr></tbody></table></div>"
      ],
      "text/plain": [
       "shape: (260_235,)\n",
       "Series: 'Name' [str]\n",
       "[\n",
       "\t\"Prairieland Mo…\n",
       "\t\"El Ruisenor Da…\n",
       "\t\"King Crab Hous…\n",
       "\t\"Caterpillar Ca…\n",
       "\t\"Healthy Substa…\n",
       "\t…\n",
       "\t\"Cafe 608\"\n",
       "\t\"Tempo Cafe\"\n",
       "\t\"Michael's On M…\n",
       "\t\"Dunkin Donuts/…\n",
       "\t\"Troquet\"\n",
       "]"
      ]
     },
     "execution_count": 7,
     "metadata": {},
     "output_type": "execute_result"
    }
   ],
   "source": [
    "df['Name'].str.to_titlecase()"
   ]
  },
  {
   "cell_type": "code",
   "execution_count": 57,
   "metadata": {},
   "outputs": [
    {
     "data": {
      "text/html": [
       "<div><style>\n",
       ".dataframe > thead > tr > th,\n",
       ".dataframe > tbody > tr > td {\n",
       "  text-align: right;\n",
       "  white-space: pre-wrap;\n",
       "}\n",
       "</style>\n",
       "<small>shape: (5, 2)</small><table border=\"1\" class=\"dataframe\"><thead><tr><th>Risk</th><th>count</th></tr><tr><td>str</td><td>u32</td></tr></thead><tbody><tr><td>&quot;Risk 2 (Medium…</td><td>48593</td></tr><tr><td>&quot;Risk 3 (Low)&quot;</td><td>21481</td></tr><tr><td>&quot;Risk 1 (High)&quot;</td><td>190031</td></tr><tr><td>null</td><td>78</td></tr><tr><td>&quot;All&quot;</td><td>52</td></tr></tbody></table></div>"
      ],
      "text/plain": [
       "shape: (5, 2)\n",
       "┌─────────────────┬────────┐\n",
       "│ Risk            ┆ count  │\n",
       "│ ---             ┆ ---    │\n",
       "│ str             ┆ u32    │\n",
       "╞═════════════════╪════════╡\n",
       "│ Risk 2 (Medium) ┆ 48593  │\n",
       "│ Risk 3 (Low)    ┆ 21481  │\n",
       "│ Risk 1 (High)   ┆ 190031 │\n",
       "│ null            ┆ 78     │\n",
       "│ All             ┆ 52     │\n",
       "└─────────────────┴────────┘"
      ]
     },
     "execution_count": 57,
     "metadata": {},
     "output_type": "execute_result"
    }
   ],
   "source": [
    "# How many for each risk category?\n",
    "# df['Risk']\n",
    "\n",
    "(df\n",
    " .select(pl.col('Risk')).unique() #show all unique categories\n",
    "\n",
    " .group_by('Risk').count() #count the number of each category\n",
    " )"
   ]
  },
  {
   "cell_type": "markdown",
   "metadata": {},
   "source": [
    "## Replacing values"
   ]
  },
  {
   "cell_type": "code",
   "execution_count": 8,
   "metadata": {},
   "outputs": [
    {
     "data": {
      "text/html": [
       "<div><style>\n",
       ".dataframe > thead > tr > th,\n",
       ".dataframe > tbody > tr > td {\n",
       "  text-align: right;\n",
       "  white-space: pre-wrap;\n",
       "}\n",
       "</style>\n",
       "<small>shape: (4, 1)</small><table border=\"1\" class=\"dataframe\"><thead><tr><th>Risk</th></tr><tr><td>str</td></tr></thead><tbody><tr><td>&quot;Risk 3 (Low)&quot;</td></tr><tr><td>&quot;Risk 4 (Extrem…</td></tr><tr><td>&quot;Risk 1 (High)&quot;</td></tr><tr><td>&quot;Risk 2 (Medium…</td></tr></tbody></table></div>"
      ],
      "text/plain": [
       "shape: (4, 1)\n",
       "┌──────────────────┐\n",
       "│ Risk             │\n",
       "│ ---              │\n",
       "│ str              │\n",
       "╞══════════════════╡\n",
       "│ Risk 3 (Low)     │\n",
       "│ Risk 4 (Extreme) │\n",
       "│ Risk 1 (High)    │\n",
       "│ Risk 2 (Medium)  │\n",
       "└──────────────────┘"
      ]
     },
     "execution_count": 8,
     "metadata": {},
     "output_type": "execute_result"
    }
   ],
   "source": [
    "# Replace All category with Risk 4\n",
    "(df\n",
    " .select(pl.col('Risk'))\n",
    " .drop_nulls() #drop null values\n",
    " .select(pl.col('Risk').str.replace_all('All', 'Risk 4 (Extreme)')) #replace all with risk 4\n",
    " .unique() #show all new unique categories\n",
    " )"
   ]
  },
  {
   "cell_type": "markdown",
   "metadata": {},
   "source": [
    "## Slicing"
   ]
  },
  {
   "cell_type": "code",
   "execution_count": 9,
   "metadata": {},
   "outputs": [],
   "source": [
    "df = (df\n",
    " .select(pl.col('Risk'))\n",
    " .drop_nulls() #drop null values\n",
    " .select(pl.col('Risk').str.replace_all('All', 'Risk 4 (Extreme)')) #replace all with risk 4\n",
    " )"
   ]
  },
  {
   "cell_type": "code",
   "execution_count": 23,
   "metadata": {},
   "outputs": [
    {
     "data": {
      "text/html": [
       "<div><style>\n",
       ".dataframe > thead > tr > th,\n",
       ".dataframe > tbody > tr > td {\n",
       "  text-align: right;\n",
       "  white-space: pre-wrap;\n",
       "}\n",
       "</style>\n",
       "<small>shape: (260_157, 1)</small><table border=\"1\" class=\"dataframe\"><thead><tr><th>Risk</th></tr><tr><td>str</td></tr></thead><tbody><tr><td>&quot;1&quot;</td></tr><tr><td>&quot;1&quot;</td></tr><tr><td>&quot;1&quot;</td></tr><tr><td>&quot;1&quot;</td></tr><tr><td>&quot;3&quot;</td></tr><tr><td>&hellip;</td></tr><tr><td>&quot;1&quot;</td></tr><tr><td>&quot;1&quot;</td></tr><tr><td>&quot;1&quot;</td></tr><tr><td>&quot;2&quot;</td></tr><tr><td>&quot;1&quot;</td></tr></tbody></table></div>"
      ],
      "text/plain": [
       "shape: (260_157, 1)\n",
       "┌──────┐\n",
       "│ Risk │\n",
       "│ ---  │\n",
       "│ str  │\n",
       "╞══════╡\n",
       "│ 1    │\n",
       "│ 1    │\n",
       "│ 1    │\n",
       "│ 1    │\n",
       "│ 3    │\n",
       "│ …    │\n",
       "│ 1    │\n",
       "│ 1    │\n",
       "│ 1    │\n",
       "│ 2    │\n",
       "│ 1    │\n",
       "└──────┘"
      ]
     },
     "execution_count": 23,
     "metadata": {},
     "output_type": "execute_result"
    }
   ],
   "source": [
    "# Get only the digit from the string\n",
    "\n",
    "(df\n",
    " .select(pl.col('Risk').str.slice(5,1)) #get the digit from the string\n",
    "\n",
    " .select(pl.col('Risk').str.extract(r'(\\d)')) #extract the number\n",
    " )"
   ]
  },
  {
   "cell_type": "code",
   "execution_count": 36,
   "metadata": {},
   "outputs": [
    {
     "data": {
      "text/html": [
       "<div><style>\n",
       ".dataframe > thead > tr > th,\n",
       ".dataframe > tbody > tr > td {\n",
       "  text-align: right;\n",
       "  white-space: pre-wrap;\n",
       "}\n",
       "</style>\n",
       "<small>shape: (260_157, 2)</small><table border=\"1\" class=\"dataframe\"><thead><tr><th>Risk</th><th>Risk_</th></tr><tr><td>str</td><td>str</td></tr></thead><tbody><tr><td>&quot;Risk 1 (High)&quot;</td><td>&quot;High&quot;</td></tr><tr><td>&quot;Risk 1 (High)&quot;</td><td>&quot;High&quot;</td></tr><tr><td>&quot;Risk 1 (High)&quot;</td><td>&quot;High&quot;</td></tr><tr><td>&quot;Risk 1 (High)&quot;</td><td>&quot;High&quot;</td></tr><tr><td>&quot;Risk 3 (Low)&quot;</td><td>&quot;Low&quot;</td></tr><tr><td>&hellip;</td><td>&hellip;</td></tr><tr><td>&quot;Risk 1 (High)&quot;</td><td>&quot;High&quot;</td></tr><tr><td>&quot;Risk 1 (High)&quot;</td><td>&quot;High&quot;</td></tr><tr><td>&quot;Risk 1 (High)&quot;</td><td>&quot;High&quot;</td></tr><tr><td>&quot;Risk 2 (Medium…</td><td>&quot;Medium&quot;</td></tr><tr><td>&quot;Risk 1 (High)&quot;</td><td>&quot;High&quot;</td></tr></tbody></table></div>"
      ],
      "text/plain": [
       "shape: (260_157, 2)\n",
       "┌─────────────────┬────────┐\n",
       "│ Risk            ┆ Risk_  │\n",
       "│ ---             ┆ ---    │\n",
       "│ str             ┆ str    │\n",
       "╞═════════════════╪════════╡\n",
       "│ Risk 1 (High)   ┆ High   │\n",
       "│ Risk 1 (High)   ┆ High   │\n",
       "│ Risk 1 (High)   ┆ High   │\n",
       "│ Risk 1 (High)   ┆ High   │\n",
       "│ Risk 3 (Low)    ┆ Low    │\n",
       "│ …               ┆ …      │\n",
       "│ Risk 1 (High)   ┆ High   │\n",
       "│ Risk 1 (High)   ┆ High   │\n",
       "│ Risk 1 (High)   ┆ High   │\n",
       "│ Risk 2 (Medium) ┆ Medium │\n",
       "│ Risk 1 (High)   ┆ High   │\n",
       "└─────────────────┴────────┘"
      ]
     },
     "execution_count": 36,
     "metadata": {},
     "output_type": "execute_result"
    }
   ],
   "source": [
    "# What if we wanted the actual classification?\n",
    "\n",
    "(df\n",
    "#  .select(pl.col('Risk'))#.str.slice(-2,)) #get the digit from the string\n",
    " .with_columns(pl.col('Risk').str.extract(r'.*(Medium|High|Low).*').alias('Risk_'))\n",
    " )\n"
   ]
  },
  {
   "cell_type": "markdown",
   "metadata": {},
   "source": [
    "## Boolean Methods"
   ]
  },
  {
   "cell_type": "code",
   "execution_count": 37,
   "metadata": {},
   "outputs": [
    {
     "data": {
      "text/plain": [
       "True"
      ]
     },
     "execution_count": 37,
     "metadata": {},
     "output_type": "execute_result"
    }
   ],
   "source": [
    "'Pizza' in \"Jet's Pizza\""
   ]
  },
  {
   "cell_type": "code",
   "execution_count": 39,
   "metadata": {},
   "outputs": [
    {
     "data": {
      "text/plain": [
       "False"
      ]
     },
     "execution_count": 39,
     "metadata": {},
     "output_type": "execute_result"
    }
   ],
   "source": [
    "'pizza' in \"Jet's Pizza\""
   ]
  },
  {
   "cell_type": "code",
   "execution_count": 49,
   "metadata": {},
   "outputs": [
    {
     "data": {
      "text/html": [
       "<div><style>\n",
       ".dataframe > thead > tr > th,\n",
       ".dataframe > tbody > tr > td {\n",
       "  text-align: right;\n",
       "  white-space: pre-wrap;\n",
       "}\n",
       "</style>\n",
       "<small>shape: (2_733, 2)</small><table border=\"1\" class=\"dataframe\"><thead><tr><th>Name</th><th>Risk</th></tr><tr><td>str</td><td>str</td></tr></thead><tbody><tr><td>&quot;KING CRAB HOUS…</td><td>&quot;Risk 1 (High)&quot;</td></tr><tr><td>&quot;TACO BURRITO K…</td><td>&quot;Risk 1 (High)&quot;</td></tr><tr><td>&quot;KING SWEETS&quot;</td><td>&quot;Risk 1 (High)&quot;</td></tr><tr><td>&quot;KING CRAB HOUS…</td><td>&quot;Risk 1 (High)&quot;</td></tr><tr><td>&quot;BURGER KING&quot;</td><td>&quot;Risk 2 (Medium…</td></tr><tr><td>&hellip;</td><td>&hellip;</td></tr><tr><td>&quot;BURGER KING #7…</td><td>&quot;Risk 2 (Medium…</td></tr><tr><td>&quot;PEORIA PACKING…</td><td>&quot;Risk 2 (Medium…</td></tr><tr><td>&quot;BURGER KING&quot;</td><td>&quot;Risk 2 (Medium…</td></tr><tr><td>&quot;PARK PACKING&quot;</td><td>&quot;Risk 2 (Medium…</td></tr><tr><td>&quot;KIKKA- KINGSBU…</td><td>&quot;Risk 1 (High)&quot;</td></tr></tbody></table></div>"
      ],
      "text/plain": [
       "shape: (2_733, 2)\n",
       "┌────────────────────┬─────────────────┐\n",
       "│ Name               ┆ Risk            │\n",
       "│ ---                ┆ ---             │\n",
       "│ str                ┆ str             │\n",
       "╞════════════════════╪═════════════════╡\n",
       "│ KING CRAB HOUSE    ┆ Risk 1 (High)   │\n",
       "│ TACO BURRITO KING  ┆ Risk 1 (High)   │\n",
       "│ KING SWEETS        ┆ Risk 1 (High)   │\n",
       "│ KING CRAB HOUSE    ┆ Risk 1 (High)   │\n",
       "│ BURGER KING        ┆ Risk 2 (Medium) │\n",
       "│ …                  ┆ …               │\n",
       "│ BURGER KING #7674  ┆ Risk 2 (Medium) │\n",
       "│ PEORIA PACKING LTD ┆ Risk 2 (Medium) │\n",
       "│ BURGER KING        ┆ Risk 2 (Medium) │\n",
       "│ PARK PACKING       ┆ Risk 2 (Medium) │\n",
       "│ KIKKA- KINGSBURY   ┆ Risk 1 (High)   │\n",
       "└────────────────────┴─────────────────┘"
      ]
     },
     "execution_count": 49,
     "metadata": {},
     "output_type": "execute_result"
    }
   ],
   "source": [
    "# Find a restraurant with the word 'king' in it\n",
    "df = pl.read_csv('data/chicago_food_inspections.csv')\n",
    "\n",
    "(df\n",
    "#  .select(pl.col('Name').str.to_lowercase().str.contains('king')) #not very helpful.\n",
    " .filter(pl.col('Name').str.to_lowercase().str.contains('king')) #now we see rows with king.\n",
    " )"
   ]
  },
  {
   "cell_type": "code",
   "execution_count": 50,
   "metadata": {},
   "outputs": [
    {
     "data": {
      "text/html": [
       "<div><style>\n",
       ".dataframe > thead > tr > th,\n",
       ".dataframe > tbody > tr > td {\n",
       "  text-align: right;\n",
       "  white-space: pre-wrap;\n",
       "}\n",
       "</style>\n",
       "<small>shape: (1_546, 2)</small><table border=\"1\" class=\"dataframe\"><thead><tr><th>Name</th><th>Risk</th></tr><tr><td>str</td><td>str</td></tr></thead><tbody><tr><td>&quot;TACO BURRITO K…</td><td>&quot;Risk 1 (High)&quot;</td></tr><tr><td>&quot;TACOS EL TIO #…</td><td>&quot;Risk 1 (High)&quot;</td></tr><tr><td>&quot;TACO MORO&quot;</td><td>&quot;Risk 1 (High)&quot;</td></tr><tr><td>&quot;TACO MORO&quot;</td><td>&quot;Risk 1 (High)&quot;</td></tr><tr><td>&quot;TACO HOUSE&quot;</td><td>&quot;Risk 1 (High)&quot;</td></tr><tr><td>&hellip;</td><td>&hellip;</td></tr><tr><td>&quot;TACO FRESCO&quot;</td><td>&quot;Risk 1 (High)&quot;</td></tr><tr><td>&quot;TACO BELL&quot;</td><td>&quot;Risk 1 (High)&quot;</td></tr><tr><td>&quot;TACO EL JALICI…</td><td>&quot;Risk 1 (High)&quot;</td></tr><tr><td>&quot;TACO CHINO&quot;</td><td>&quot;Risk 1 (High)&quot;</td></tr><tr><td>&quot;TACO CHINO&quot;</td><td>&quot;Risk 1 (High)&quot;</td></tr></tbody></table></div>"
      ],
      "text/plain": [
       "shape: (1_546, 2)\n",
       "┌────────────────────┬───────────────┐\n",
       "│ Name               ┆ Risk          │\n",
       "│ ---                ┆ ---           │\n",
       "│ str                ┆ str           │\n",
       "╞════════════════════╪═══════════════╡\n",
       "│ TACO BURRITO KING  ┆ Risk 1 (High) │\n",
       "│ TACOS EL TIO # 7   ┆ Risk 1 (High) │\n",
       "│ TACO MORO          ┆ Risk 1 (High) │\n",
       "│ TACO MORO          ┆ Risk 1 (High) │\n",
       "│ TACO HOUSE         ┆ Risk 1 (High) │\n",
       "│ …                  ┆ …             │\n",
       "│ TACO FRESCO        ┆ Risk 1 (High) │\n",
       "│ TACO BELL          ┆ Risk 1 (High) │\n",
       "│ TACO EL JALICIENSE ┆ Risk 1 (High) │\n",
       "│ TACO CHINO         ┆ Risk 1 (High) │\n",
       "│ TACO CHINO         ┆ Risk 1 (High) │\n",
       "└────────────────────┴───────────────┘"
      ]
     },
     "execution_count": 50,
     "metadata": {},
     "output_type": "execute_result"
    }
   ],
   "source": [
    "# Get names that start with 'taco'\n",
    "(df\n",
    " .filter(pl.col('Name').str.to_lowercase().str.starts_with('taco'))\n",
    " )"
   ]
  },
  {
   "cell_type": "code",
   "execution_count": 51,
   "metadata": {},
   "outputs": [
    {
     "data": {
      "text/html": [
       "<div><style>\n",
       ".dataframe > thead > tr > th,\n",
       ".dataframe > tbody > tr > td {\n",
       "  text-align: right;\n",
       "  white-space: pre-wrap;\n",
       "}\n",
       "</style>\n",
       "<small>shape: (368, 2)</small><table border=\"1\" class=\"dataframe\"><thead><tr><th>Name</th><th>Risk</th></tr><tr><td>str</td><td>str</td></tr></thead><tbody><tr><td>&quot;MESON DEL TACO…</td><td>&quot;Risk 1 (High)&quot;</td></tr><tr><td>&quot;PEPE&#x27;S TACO&quot;</td><td>&quot;Risk 1 (High)&quot;</td></tr><tr><td>&quot;QUERETACO&quot;</td><td>&quot;Risk 2 (Medium…</td></tr><tr><td>&quot;GUAPO TACO&quot;</td><td>&quot;Risk 1 (High)&quot;</td></tr><tr><td>&quot;SU TAQUERIA EL…</td><td>&quot;Risk 1 (High)&quot;</td></tr><tr><td>&hellip;</td><td>&hellip;</td></tr><tr><td>&quot;CYBER TACO&quot;</td><td>&quot;Risk 1 (High)&quot;</td></tr><tr><td>&quot;PEPE TACO&quot;</td><td>&quot;Risk 1 (High)&quot;</td></tr><tr><td>&quot;ROCKIN TACO&quot;</td><td>&quot;Risk 1 (High)&quot;</td></tr><tr><td>&quot;CYBER TACO&quot;</td><td>&quot;Risk 1 (High)&quot;</td></tr><tr><td>&quot;ROCKIN TACO&quot;</td><td>&quot;Risk 1 (High)&quot;</td></tr></tbody></table></div>"
      ],
      "text/plain": [
       "shape: (368, 2)\n",
       "┌─────────────────────────────┬─────────────────┐\n",
       "│ Name                        ┆ Risk            │\n",
       "│ ---                         ┆ ---             │\n",
       "│ str                         ┆ str             │\n",
       "╞═════════════════════════════╪═════════════════╡\n",
       "│ MESON DEL TACO              ┆ Risk 1 (High)   │\n",
       "│ PEPE'S TACO                 ┆ Risk 1 (High)   │\n",
       "│ QUERETACO                   ┆ Risk 2 (Medium) │\n",
       "│ GUAPO TACO                  ┆ Risk 1 (High)   │\n",
       "│ SU TAQUERIA EL REY DEL TACO ┆ Risk 1 (High)   │\n",
       "│ …                           ┆ …               │\n",
       "│ CYBER TACO                  ┆ Risk 1 (High)   │\n",
       "│ PEPE TACO                   ┆ Risk 1 (High)   │\n",
       "│ ROCKIN TACO                 ┆ Risk 1 (High)   │\n",
       "│ CYBER TACO                  ┆ Risk 1 (High)   │\n",
       "│ ROCKIN TACO                 ┆ Risk 1 (High)   │\n",
       "└─────────────────────────────┴─────────────────┘"
      ]
     },
     "execution_count": 51,
     "metadata": {},
     "output_type": "execute_result"
    }
   ],
   "source": [
    "# Get names that end with 'taco'\n",
    "(df\n",
    " .filter(pl.col('Name').str.to_lowercase().str.ends_with('taco'))\n",
    " )"
   ]
  }
 ],
 "metadata": {
  "kernelspec": {
   "display_name": "time_env",
   "language": "python",
   "name": "python3"
  },
  "language_info": {
   "codemirror_mode": {
    "name": "ipython",
    "version": 3
   },
   "file_extension": ".py",
   "mimetype": "text/x-python",
   "name": "python",
   "nbconvert_exporter": "python",
   "pygments_lexer": "ipython3",
   "version": "3.11.4"
  },
  "orig_nbformat": 4
 },
 "nbformat": 4,
 "nbformat_minor": 2
}
