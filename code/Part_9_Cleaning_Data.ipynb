{
 "cells": [
  {
   "cell_type": "markdown",
   "id": "69d0c601",
   "metadata": {},
   "source": [
    "# Part 9: Data Cleaning"
   ]
  },
  {
   "cell_type": "code",
   "execution_count": 59,
   "id": "fc382b6d",
   "metadata": {},
   "outputs": [
    {
     "data": {
      "text/html": [
       "<div><style>\n",
       ".dataframe > thead > tr > th,\n",
       ".dataframe > tbody > tr > td {\n",
       "  text-align: right;\n",
       "  white-space: pre-wrap;\n",
       "}\n",
       "</style>\n",
       "<small>shape: (7, 4)</small><table border=\"1\" class=\"dataframe\"><thead><tr><th>first</th><th>last</th><th>email</th><th>age</th></tr><tr><td>str</td><td>str</td><td>str</td><td>str</td></tr></thead><tbody><tr><td>&quot;Ernest&quot;</td><td>&quot;Hemingway&quot;</td><td>&quot;ehemingway@email.com&quot;</td><td>&quot;33&quot;</td></tr><tr><td>&quot;Stephen&quot;</td><td>&quot;King&quot;</td><td>&quot;sking@email.com&quot;</td><td>&quot;55&quot;</td></tr><tr><td>&quot;Harper&quot;</td><td>&quot;Lee&quot;</td><td>&quot;hlee@email.com&quot;</td><td>&quot;63&quot;</td></tr><tr><td>&quot;J.K.&quot;</td><td>&quot;Rowling&quot;</td><td>null</td><td>&quot;36&quot;</td></tr><tr><td>null</td><td>null</td><td>null</td><td>null</td></tr><tr><td>null</td><td>null</td><td>&quot;mangelou@email.com&quot;</td><td>null</td></tr><tr><td>&quot;NA&quot;</td><td>&quot;Missing&quot;</td><td>&quot;NA&quot;</td><td>&quot;Missing&quot;</td></tr></tbody></table></div>"
      ],
      "text/plain": [
       "shape: (7, 4)\n",
       "┌─────────┬───────────┬──────────────────────┬─────────┐\n",
       "│ first   ┆ last      ┆ email                ┆ age     │\n",
       "│ ---     ┆ ---       ┆ ---                  ┆ ---     │\n",
       "│ str     ┆ str       ┆ str                  ┆ str     │\n",
       "╞═════════╪═══════════╪══════════════════════╪═════════╡\n",
       "│ Ernest  ┆ Hemingway ┆ ehemingway@email.com ┆ 33      │\n",
       "│ Stephen ┆ King      ┆ sking@email.com      ┆ 55      │\n",
       "│ Harper  ┆ Lee       ┆ hlee@email.com       ┆ 63      │\n",
       "│ J.K.    ┆ Rowling   ┆ null                 ┆ 36      │\n",
       "│ null    ┆ null      ┆ null                 ┆ null    │\n",
       "│ null    ┆ null      ┆ mangelou@email.com   ┆ null    │\n",
       "│ NA      ┆ Missing   ┆ NA                   ┆ Missing │\n",
       "└─────────┴───────────┴──────────────────────┴─────────┘"
      ]
     },
     "execution_count": 59,
     "metadata": {},
     "output_type": "execute_result"
    }
   ],
   "source": [
    "authors = {\n",
    "    'first': ['Ernest', 'Stephen', 'Harper', 'J.K.', np.nan, None, 'NA'],\n",
    "    'last': ['Hemingway', 'King', 'Lee', 'Rowling', np.nan, np.nan, 'Missing'],\n",
    "    'email': ['ehemingway@email.com', 'sking@email.com', 'hlee@email.com', None, np.nan, 'mangelou@email.com', 'NA'],\n",
    "    'age': ['33', '55', '63', '36', None, None, 'Missing']\n",
    "}\n",
    "\n",
    "ff = pl.DataFrame(authors)\n",
    "ff"
   ]
  },
  {
   "cell_type": "code",
   "execution_count": 60,
   "id": "90b24cfd",
   "metadata": {},
   "outputs": [
    {
     "data": {
      "text/html": [
       "<div><style>\n",
       ".dataframe > thead > tr > th,\n",
       ".dataframe > tbody > tr > td {\n",
       "  text-align: right;\n",
       "  white-space: pre-wrap;\n",
       "}\n",
       "</style>\n",
       "<small>shape: (4, 4)</small><table border=\"1\" class=\"dataframe\"><thead><tr><th>first</th><th>last</th><th>email</th><th>age</th></tr><tr><td>str</td><td>str</td><td>str</td><td>str</td></tr></thead><tbody><tr><td>&quot;Ernest&quot;</td><td>&quot;Hemingway&quot;</td><td>&quot;ehemingway@email.com&quot;</td><td>&quot;33&quot;</td></tr><tr><td>&quot;Stephen&quot;</td><td>&quot;King&quot;</td><td>&quot;sking@email.com&quot;</td><td>&quot;55&quot;</td></tr><tr><td>&quot;Harper&quot;</td><td>&quot;Lee&quot;</td><td>&quot;hlee@email.com&quot;</td><td>&quot;63&quot;</td></tr><tr><td>&quot;NA&quot;</td><td>&quot;Missing&quot;</td><td>&quot;NA&quot;</td><td>&quot;Missing&quot;</td></tr></tbody></table></div>"
      ],
      "text/plain": [
       "shape: (4, 4)\n",
       "┌─────────┬───────────┬──────────────────────┬─────────┐\n",
       "│ first   ┆ last      ┆ email                ┆ age     │\n",
       "│ ---     ┆ ---       ┆ ---                  ┆ ---     │\n",
       "│ str     ┆ str       ┆ str                  ┆ str     │\n",
       "╞═════════╪═══════════╪══════════════════════╪═════════╡\n",
       "│ Ernest  ┆ Hemingway ┆ ehemingway@email.com ┆ 33      │\n",
       "│ Stephen ┆ King      ┆ sking@email.com      ┆ 55      │\n",
       "│ Harper  ┆ Lee       ┆ hlee@email.com       ┆ 63      │\n",
       "│ NA      ┆ Missing   ┆ NA                   ┆ Missing │\n",
       "└─────────┴───────────┴──────────────────────┴─────────┘"
      ]
     },
     "execution_count": 60,
     "metadata": {},
     "output_type": "execute_result"
    }
   ],
   "source": [
    "# Drop if no first, last or email or age\n",
    "ff.drop_nulls()"
   ]
  },
  {
   "cell_type": "code",
   "execution_count": 61,
   "id": "1b6d6d66",
   "metadata": {},
   "outputs": [
    {
     "data": {
      "text/html": [
       "<div><style>\n",
       ".dataframe > thead > tr > th,\n",
       ".dataframe > tbody > tr > td {\n",
       "  text-align: right;\n",
       "  white-space: pre-wrap;\n",
       "}\n",
       "</style>\n",
       "<small>shape: (6, 4)</small><table border=\"1\" class=\"dataframe\"><thead><tr><th>first</th><th>last</th><th>email</th><th>age</th></tr><tr><td>str</td><td>str</td><td>str</td><td>str</td></tr></thead><tbody><tr><td>&quot;Ernest&quot;</td><td>&quot;Hemingway&quot;</td><td>&quot;ehemingway@email.com&quot;</td><td>&quot;33&quot;</td></tr><tr><td>&quot;Stephen&quot;</td><td>&quot;King&quot;</td><td>&quot;sking@email.com&quot;</td><td>&quot;55&quot;</td></tr><tr><td>&quot;Harper&quot;</td><td>&quot;Lee&quot;</td><td>&quot;hlee@email.com&quot;</td><td>&quot;63&quot;</td></tr><tr><td>&quot;J.K.&quot;</td><td>&quot;Rowling&quot;</td><td>null</td><td>&quot;36&quot;</td></tr><tr><td>null</td><td>null</td><td>&quot;mangelou@email.com&quot;</td><td>null</td></tr><tr><td>&quot;NA&quot;</td><td>&quot;Missing&quot;</td><td>&quot;NA&quot;</td><td>&quot;Missing&quot;</td></tr></tbody></table></div>"
      ],
      "text/plain": [
       "shape: (6, 4)\n",
       "┌─────────┬───────────┬──────────────────────┬─────────┐\n",
       "│ first   ┆ last      ┆ email                ┆ age     │\n",
       "│ ---     ┆ ---       ┆ ---                  ┆ ---     │\n",
       "│ str     ┆ str       ┆ str                  ┆ str     │\n",
       "╞═════════╪═══════════╪══════════════════════╪═════════╡\n",
       "│ Ernest  ┆ Hemingway ┆ ehemingway@email.com ┆ 33      │\n",
       "│ Stephen ┆ King      ┆ sking@email.com      ┆ 55      │\n",
       "│ Harper  ┆ Lee       ┆ hlee@email.com       ┆ 63      │\n",
       "│ J.K.    ┆ Rowling   ┆ null                 ┆ 36      │\n",
       "│ null    ┆ null      ┆ mangelou@email.com   ┆ null    │\n",
       "│ NA      ┆ Missing   ┆ NA                   ┆ Missing │\n",
       "└─────────┴───────────┴──────────────────────┴─────────┘"
      ]
     },
     "execution_count": 61,
     "metadata": {},
     "output_type": "execute_result"
    }
   ],
   "source": [
    "# Drop if all the values in row are missing\n",
    "ff.filter(~pl.all_horizontal(pl.all().is_null()))"
   ]
  },
  {
   "cell_type": "code",
   "execution_count": 62,
   "id": "3665d42d",
   "metadata": {},
   "outputs": [
    {
     "data": {
      "text/html": [
       "<div><style>\n",
       ".dataframe > thead > tr > th,\n",
       ".dataframe > tbody > tr > td {\n",
       "  text-align: right;\n",
       "  white-space: pre-wrap;\n",
       "}\n",
       "</style>\n",
       "<small>shape: (5, 4)</small><table border=\"1\" class=\"dataframe\"><thead><tr><th>first</th><th>last</th><th>email</th><th>age</th></tr><tr><td>str</td><td>str</td><td>str</td><td>str</td></tr></thead><tbody><tr><td>&quot;Ernest&quot;</td><td>&quot;Hemingway&quot;</td><td>&quot;ehemingway@email.com&quot;</td><td>&quot;33&quot;</td></tr><tr><td>&quot;Stephen&quot;</td><td>&quot;King&quot;</td><td>&quot;sking@email.com&quot;</td><td>&quot;55&quot;</td></tr><tr><td>&quot;Harper&quot;</td><td>&quot;Lee&quot;</td><td>&quot;hlee@email.com&quot;</td><td>&quot;63&quot;</td></tr><tr><td>null</td><td>null</td><td>&quot;mangelou@email.com&quot;</td><td>null</td></tr><tr><td>&quot;NA&quot;</td><td>&quot;Missing&quot;</td><td>&quot;NA&quot;</td><td>&quot;Missing&quot;</td></tr></tbody></table></div>"
      ],
      "text/plain": [
       "shape: (5, 4)\n",
       "┌─────────┬───────────┬──────────────────────┬─────────┐\n",
       "│ first   ┆ last      ┆ email                ┆ age     │\n",
       "│ ---     ┆ ---       ┆ ---                  ┆ ---     │\n",
       "│ str     ┆ str       ┆ str                  ┆ str     │\n",
       "╞═════════╪═══════════╪══════════════════════╪═════════╡\n",
       "│ Ernest  ┆ Hemingway ┆ ehemingway@email.com ┆ 33      │\n",
       "│ Stephen ┆ King      ┆ sking@email.com      ┆ 55      │\n",
       "│ Harper  ┆ Lee       ┆ hlee@email.com       ┆ 63      │\n",
       "│ null    ┆ null      ┆ mangelou@email.com   ┆ null    │\n",
       "│ NA      ┆ Missing   ┆ NA                   ┆ Missing │\n",
       "└─────────┴───────────┴──────────────────────┴─────────┘"
      ]
     },
     "execution_count": 62,
     "metadata": {},
     "output_type": "execute_result"
    }
   ],
   "source": [
    "# Drop missing values in specific column\n",
    "# Target email to Drop JK Rowling\n",
    "ff.drop_nulls(subset='email')\n",
    "# ff.drop_nulls(subset=('last','email')) #either column"
   ]
  },
  {
   "cell_type": "code",
   "execution_count": 63,
   "id": "f83fd925",
   "metadata": {},
   "outputs": [
    {
     "data": {
      "text/html": [
       "<div><style>\n",
       ".dataframe > thead > tr > th,\n",
       ".dataframe > tbody > tr > td {\n",
       "  text-align: right;\n",
       "  white-space: pre-wrap;\n",
       "}\n",
       "</style>\n",
       "<small>shape: (6, 4)</small><table border=\"1\" class=\"dataframe\"><thead><tr><th>first</th><th>last</th><th>email</th><th>age</th></tr><tr><td>str</td><td>str</td><td>str</td><td>str</td></tr></thead><tbody><tr><td>&quot;Ernest&quot;</td><td>&quot;Hemingway&quot;</td><td>&quot;ehemingway@email.com&quot;</td><td>&quot;33&quot;</td></tr><tr><td>&quot;Stephen&quot;</td><td>&quot;King&quot;</td><td>&quot;sking@email.com&quot;</td><td>&quot;55&quot;</td></tr><tr><td>&quot;Harper&quot;</td><td>&quot;Lee&quot;</td><td>&quot;hlee@email.com&quot;</td><td>&quot;63&quot;</td></tr><tr><td>&quot;J.K.&quot;</td><td>&quot;Rowling&quot;</td><td>null</td><td>&quot;36&quot;</td></tr><tr><td>null</td><td>null</td><td>&quot;mangelou@email.com&quot;</td><td>null</td></tr><tr><td>&quot;NA&quot;</td><td>&quot;Missing&quot;</td><td>&quot;NA&quot;</td><td>&quot;Missing&quot;</td></tr></tbody></table></div>"
      ],
      "text/plain": [
       "shape: (6, 4)\n",
       "┌─────────┬───────────┬──────────────────────┬─────────┐\n",
       "│ first   ┆ last      ┆ email                ┆ age     │\n",
       "│ ---     ┆ ---       ┆ ---                  ┆ ---     │\n",
       "│ str     ┆ str       ┆ str                  ┆ str     │\n",
       "╞═════════╪═══════════╪══════════════════════╪═════════╡\n",
       "│ Ernest  ┆ Hemingway ┆ ehemingway@email.com ┆ 33      │\n",
       "│ Stephen ┆ King      ┆ sking@email.com      ┆ 55      │\n",
       "│ Harper  ┆ Lee       ┆ hlee@email.com       ┆ 63      │\n",
       "│ J.K.    ┆ Rowling   ┆ null                 ┆ 36      │\n",
       "│ null    ┆ null      ┆ mangelou@email.com   ┆ null    │\n",
       "│ NA      ┆ Missing   ┆ NA                   ┆ Missing │\n",
       "└─────────┴───────────┴──────────────────────┴─────────┘"
      ]
     },
     "execution_count": 63,
     "metadata": {},
     "output_type": "execute_result"
    }
   ],
   "source": [
    "# Drop missing values in both columns (true in both)\n",
    "ff.filter(~((pl.col('last') == None) & (pl.col('email') == None)))"
   ]
  },
  {
   "cell_type": "code",
   "execution_count": 64,
   "id": "bb5fe0ea",
   "metadata": {},
   "outputs": [
    {
     "data": {
      "text/html": [
       "<div><style>\n",
       ".dataframe > thead > tr > th,\n",
       ".dataframe > tbody > tr > td {\n",
       "  text-align: right;\n",
       "  white-space: pre-wrap;\n",
       "}\n",
       "</style>\n",
       "<small>shape: (7, 5)</small><table border=\"1\" class=\"dataframe\"><thead><tr><th>first</th><th>last</th><th>email</th><th>age</th><th>bestseller</th></tr><tr><td>str</td><td>str</td><td>str</td><td>str</td><td>f32</td></tr></thead><tbody><tr><td>&quot;Ernest&quot;</td><td>&quot;Hemingway&quot;</td><td>&quot;ehemingway@email.com&quot;</td><td>&quot;33&quot;</td><td>null</td></tr><tr><td>&quot;Stephen&quot;</td><td>&quot;King&quot;</td><td>&quot;sking@email.com&quot;</td><td>&quot;55&quot;</td><td>null</td></tr><tr><td>&quot;Harper&quot;</td><td>&quot;Lee&quot;</td><td>&quot;hlee@email.com&quot;</td><td>&quot;63&quot;</td><td>null</td></tr><tr><td>&quot;J.K.&quot;</td><td>&quot;Rowling&quot;</td><td>null</td><td>&quot;36&quot;</td><td>null</td></tr><tr><td>null</td><td>null</td><td>null</td><td>null</td><td>null</td></tr><tr><td>null</td><td>null</td><td>&quot;mangelou@email.com&quot;</td><td>null</td><td>null</td></tr><tr><td>&quot;NA&quot;</td><td>&quot;Missing&quot;</td><td>&quot;NA&quot;</td><td>&quot;Missing&quot;</td><td>null</td></tr></tbody></table></div>"
      ],
      "text/plain": [
       "shape: (7, 5)\n",
       "┌─────────┬───────────┬──────────────────────┬─────────┬────────────┐\n",
       "│ first   ┆ last      ┆ email                ┆ age     ┆ bestseller │\n",
       "│ ---     ┆ ---       ┆ ---                  ┆ ---     ┆ ---        │\n",
       "│ str     ┆ str       ┆ str                  ┆ str     ┆ f32        │\n",
       "╞═════════╪═══════════╪══════════════════════╪═════════╪════════════╡\n",
       "│ Ernest  ┆ Hemingway ┆ ehemingway@email.com ┆ 33      ┆ null       │\n",
       "│ Stephen ┆ King      ┆ sking@email.com      ┆ 55      ┆ null       │\n",
       "│ Harper  ┆ Lee       ┆ hlee@email.com       ┆ 63      ┆ null       │\n",
       "│ J.K.    ┆ Rowling   ┆ null                 ┆ 36      ┆ null       │\n",
       "│ null    ┆ null      ┆ null                 ┆ null    ┆ null       │\n",
       "│ null    ┆ null      ┆ mangelou@email.com   ┆ null    ┆ null       │\n",
       "│ NA      ┆ Missing   ┆ NA                   ┆ Missing ┆ null       │\n",
       "└─────────┴───────────┴──────────────────────┴─────────┴────────────┘"
      ]
     },
     "execution_count": 64,
     "metadata": {},
     "output_type": "execute_result"
    }
   ],
   "source": [
    "authors_ = {\n",
    "    'first': ['Ernest', 'Stephen', 'Harper', 'J.K.', np.nan, None, 'NA'],\n",
    "    'last': ['Hemingway', 'King', 'Lee', 'Rowling', np.nan, np.nan, 'Missing'],\n",
    "    'email': ['ehemingway@email.com', 'sking@email.com', 'hlee@email.com', None, np.nan, 'mangelou@email.com', 'NA'],\n",
    "    'age': ['33', '55', '63', '36', None, None, 'Missing'],\n",
    "    'bestseller': [None,None,None,None,None,None,None]\n",
    "}\n",
    "\n",
    "gg = pl.DataFrame(authors_)\n",
    "gg"
   ]
  },
  {
   "cell_type": "code",
   "execution_count": 65,
   "id": "b2df57dd",
   "metadata": {},
   "outputs": [
    {
     "data": {
      "text/html": [
       "<div><style>\n",
       ".dataframe > thead > tr > th,\n",
       ".dataframe > tbody > tr > td {\n",
       "  text-align: right;\n",
       "  white-space: pre-wrap;\n",
       "}\n",
       "</style>\n",
       "<small>shape: (7, 4)</small><table border=\"1\" class=\"dataframe\"><thead><tr><th>first</th><th>last</th><th>email</th><th>age</th></tr><tr><td>str</td><td>str</td><td>str</td><td>str</td></tr></thead><tbody><tr><td>&quot;Ernest&quot;</td><td>&quot;Hemingway&quot;</td><td>&quot;ehemingway@email.com&quot;</td><td>&quot;33&quot;</td></tr><tr><td>&quot;Stephen&quot;</td><td>&quot;King&quot;</td><td>&quot;sking@email.com&quot;</td><td>&quot;55&quot;</td></tr><tr><td>&quot;Harper&quot;</td><td>&quot;Lee&quot;</td><td>&quot;hlee@email.com&quot;</td><td>&quot;63&quot;</td></tr><tr><td>&quot;J.K.&quot;</td><td>&quot;Rowling&quot;</td><td>null</td><td>&quot;36&quot;</td></tr><tr><td>null</td><td>null</td><td>null</td><td>null</td></tr><tr><td>null</td><td>null</td><td>&quot;mangelou@email.com&quot;</td><td>null</td></tr><tr><td>&quot;NA&quot;</td><td>&quot;Missing&quot;</td><td>&quot;NA&quot;</td><td>&quot;Missing&quot;</td></tr></tbody></table></div>"
      ],
      "text/plain": [
       "shape: (7, 4)\n",
       "┌─────────┬───────────┬──────────────────────┬─────────┐\n",
       "│ first   ┆ last      ┆ email                ┆ age     │\n",
       "│ ---     ┆ ---       ┆ ---                  ┆ ---     │\n",
       "│ str     ┆ str       ┆ str                  ┆ str     │\n",
       "╞═════════╪═══════════╪══════════════════════╪═════════╡\n",
       "│ Ernest  ┆ Hemingway ┆ ehemingway@email.com ┆ 33      │\n",
       "│ Stephen ┆ King      ┆ sking@email.com      ┆ 55      │\n",
       "│ Harper  ┆ Lee       ┆ hlee@email.com       ┆ 63      │\n",
       "│ J.K.    ┆ Rowling   ┆ null                 ┆ 36      │\n",
       "│ null    ┆ null      ┆ null                 ┆ null    │\n",
       "│ null    ┆ null      ┆ mangelou@email.com   ┆ null    │\n",
       "│ NA      ┆ Missing   ┆ NA                   ┆ Missing │\n",
       "└─────────┴───────────┴──────────────────────┴─────────┘"
      ]
     },
     "execution_count": 65,
     "metadata": {},
     "output_type": "execute_result"
    }
   ],
   "source": [
    "gg[[s.name for s in gg if not (s.null_count() == gg.height)]]"
   ]
  },
  {
   "cell_type": "code",
   "execution_count": 36,
   "id": "9808fc6e",
   "metadata": {},
   "outputs": [
    {
     "data": {
      "text/html": [
       "<div><style>\n",
       ".dataframe > thead > tr > th,\n",
       ".dataframe > tbody > tr > td {\n",
       "  text-align: right;\n",
       "  white-space: pre-wrap;\n",
       "}\n",
       "</style>\n",
       "<small>shape: (7, 5)</small><table border=\"1\" class=\"dataframe\"><thead><tr><th>first</th><th>last</th><th>email</th><th>age</th><th>bestseller</th></tr><tr><td>str</td><td>str</td><td>str</td><td>str</td><td>f32</td></tr></thead><tbody><tr><td>&quot;Ernest&quot;</td><td>&quot;Hemingway&quot;</td><td>&quot;ehemingway@email.com&quot;</td><td>&quot;33&quot;</td><td>null</td></tr><tr><td>&quot;Stephen&quot;</td><td>&quot;King&quot;</td><td>&quot;sking@email.com&quot;</td><td>&quot;55&quot;</td><td>null</td></tr><tr><td>&quot;Harper&quot;</td><td>&quot;Lee&quot;</td><td>&quot;hlee@email.com&quot;</td><td>&quot;63&quot;</td><td>null</td></tr><tr><td>&quot;J.K.&quot;</td><td>&quot;Rowling&quot;</td><td>null</td><td>&quot;36&quot;</td><td>null</td></tr><tr><td>null</td><td>null</td><td>null</td><td>null</td><td>null</td></tr><tr><td>null</td><td>null</td><td>&quot;mangelou@email.com&quot;</td><td>null</td><td>null</td></tr><tr><td>&quot;NA&quot;</td><td>&quot;Missing&quot;</td><td>&quot;NA&quot;</td><td>&quot;Missing&quot;</td><td>null</td></tr></tbody></table></div>"
      ],
      "text/plain": [
       "shape: (7, 5)\n",
       "┌─────────┬───────────┬──────────────────────┬─────────┬────────────┐\n",
       "│ first   ┆ last      ┆ email                ┆ age     ┆ bestseller │\n",
       "│ ---     ┆ ---       ┆ ---                  ┆ ---     ┆ ---        │\n",
       "│ str     ┆ str       ┆ str                  ┆ str     ┆ f32        │\n",
       "╞═════════╪═══════════╪══════════════════════╪═════════╪════════════╡\n",
       "│ Ernest  ┆ Hemingway ┆ ehemingway@email.com ┆ 33      ┆ null       │\n",
       "│ Stephen ┆ King      ┆ sking@email.com      ┆ 55      ┆ null       │\n",
       "│ Harper  ┆ Lee       ┆ hlee@email.com       ┆ 63      ┆ null       │\n",
       "│ J.K.    ┆ Rowling   ┆ null                 ┆ 36      ┆ null       │\n",
       "│ null    ┆ null      ┆ null                 ┆ null    ┆ null       │\n",
       "│ null    ┆ null      ┆ mangelou@email.com   ┆ null    ┆ null       │\n",
       "│ NA      ┆ Missing   ┆ NA                   ┆ Missing ┆ null       │\n",
       "└─────────┴───────────┴──────────────────────┴─────────┴────────────┘"
      ]
     },
     "execution_count": 36,
     "metadata": {},
     "output_type": "execute_result"
    }
   ],
   "source": [
    "# Show original dataframe\n",
    "gg"
   ]
  },
  {
   "cell_type": "code",
   "execution_count": 37,
   "id": "ab7748b2",
   "metadata": {},
   "outputs": [
    {
     "data": {
      "text/plain": [
       "7"
      ]
     },
     "execution_count": 37,
     "metadata": {},
     "output_type": "execute_result"
    }
   ],
   "source": [
    "# Explanation!\n",
    "gg['bestseller'].null_count()\n",
    "# gg.height"
   ]
  },
  {
   "cell_type": "code",
   "execution_count": 38,
   "id": "50708f44",
   "metadata": {},
   "outputs": [
    {
     "data": {
      "text/html": [
       "<div><style>\n",
       ".dataframe > thead > tr > th,\n",
       ".dataframe > tbody > tr > td {\n",
       "  text-align: right;\n",
       "  white-space: pre-wrap;\n",
       "}\n",
       "</style>\n",
       "<small>shape: (7, 1)</small><table border=\"1\" class=\"dataframe\"><thead><tr><th>first</th></tr><tr><td>str</td></tr></thead><tbody><tr><td>&quot;Ernest&quot;</td></tr><tr><td>&quot;Stephen&quot;</td></tr><tr><td>&quot;Harper&quot;</td></tr><tr><td>&quot;J.K.&quot;</td></tr><tr><td>null</td></tr><tr><td>null</td></tr><tr><td>null</td></tr></tbody></table></div>"
      ],
      "text/plain": [
       "shape: (7, 1)\n",
       "┌─────────┐\n",
       "│ first   │\n",
       "│ ---     │\n",
       "│ str     │\n",
       "╞═════════╡\n",
       "│ Ernest  │\n",
       "│ Stephen │\n",
       "│ Harper  │\n",
       "│ J.K.    │\n",
       "│ null    │\n",
       "│ null    │\n",
       "│ null    │\n",
       "└─────────┘"
      ]
     },
     "execution_count": 38,
     "metadata": {},
     "output_type": "execute_result"
    }
   ],
   "source": [
    "# Replace NA with empty value\n",
    "# ff['first'].str.replace('NA','')#.drop_nulls()\n",
    "\n",
    "# Let's try\n",
    "# ff['first'].str.replace('NA', np.nan)#.drop_nulls()\n",
    "\n",
    "# This works!\n",
    "(ff\n",
    " .select(pl.when(pl.col('first') == 'NA')\n",
    "                .then(None)\n",
    "                .otherwise(pl.col('first'))\n",
    "                .alias('first'))\n",
    "#  .drop_nulls()\n",
    " )\n",
    "\n"
   ]
  },
  {
   "cell_type": "code",
   "execution_count": 66,
   "id": "3f05512f",
   "metadata": {},
   "outputs": [
    {
     "data": {
      "text/html": [
       "<div><style>\n",
       ".dataframe > thead > tr > th,\n",
       ".dataframe > tbody > tr > td {\n",
       "  text-align: right;\n",
       "  white-space: pre-wrap;\n",
       "}\n",
       "</style>\n",
       "<small>shape: (7, 4)</small><table border=\"1\" class=\"dataframe\"><thead><tr><th>first</th><th>last</th><th>email</th><th>age</th></tr><tr><td>str</td><td>str</td><td>str</td><td>str</td></tr></thead><tbody><tr><td>&quot;Ernest&quot;</td><td>&quot;Hemingway&quot;</td><td>&quot;ehemingway@email.com&quot;</td><td>&quot;33&quot;</td></tr><tr><td>&quot;Stephen&quot;</td><td>&quot;King&quot;</td><td>&quot;sking@email.com&quot;</td><td>&quot;55&quot;</td></tr><tr><td>&quot;Harper&quot;</td><td>&quot;Lee&quot;</td><td>&quot;hlee@email.com&quot;</td><td>&quot;63&quot;</td></tr><tr><td>&quot;J.K.&quot;</td><td>&quot;Rowling&quot;</td><td>null</td><td>&quot;36&quot;</td></tr><tr><td>null</td><td>null</td><td>null</td><td>null</td></tr><tr><td>null</td><td>null</td><td>&quot;mangelou@email.com&quot;</td><td>null</td></tr><tr><td>null</td><td>null</td><td>null</td><td>null</td></tr></tbody></table></div>"
      ],
      "text/plain": [
       "shape: (7, 4)\n",
       "┌─────────┬───────────┬──────────────────────┬──────┐\n",
       "│ first   ┆ last      ┆ email                ┆ age  │\n",
       "│ ---     ┆ ---       ┆ ---                  ┆ ---  │\n",
       "│ str     ┆ str       ┆ str                  ┆ str  │\n",
       "╞═════════╪═══════════╪══════════════════════╪══════╡\n",
       "│ Ernest  ┆ Hemingway ┆ ehemingway@email.com ┆ 33   │\n",
       "│ Stephen ┆ King      ┆ sking@email.com      ┆ 55   │\n",
       "│ Harper  ┆ Lee       ┆ hlee@email.com       ┆ 63   │\n",
       "│ J.K.    ┆ Rowling   ┆ null                 ┆ 36   │\n",
       "│ null    ┆ null      ┆ null                 ┆ null │\n",
       "│ null    ┆ null      ┆ mangelou@email.com   ┆ null │\n",
       "│ null    ┆ null      ┆ null                 ┆ null │\n",
       "└─────────┴───────────┴──────────────────────┴──────┘"
      ]
     },
     "execution_count": 66,
     "metadata": {},
     "output_type": "execute_result"
    }
   ],
   "source": [
    "# Make function to change in every single column.\n",
    "def na_to_null(ff):\n",
    "    for column in ff.columns:\n",
    "        ff = ff.with_columns(\n",
    "            pl.when(pl.col(column) == 'NA')\n",
    "            .then(None)\n",
    "            .when(pl.col(column) == 'Missing')\n",
    "            .then(None)\n",
    "            .otherwise(pl.col(column))\n",
    "            .alias(column)\n",
    "        )\n",
    "    \n",
    "    return ff\n",
    "\n",
    "ff = ff.pipe(na_to_null)\n",
    "ff\n"
   ]
  },
  {
   "cell_type": "code",
   "execution_count": 67,
   "id": "12632de0",
   "metadata": {},
   "outputs": [
    {
     "data": {
      "text/plain": [
       "[Utf8, Utf8, Utf8, Utf8]"
      ]
     },
     "execution_count": 67,
     "metadata": {},
     "output_type": "execute_result"
    }
   ],
   "source": [
    "# Chekc data type\n",
    "ff.dtypes"
   ]
  },
  {
   "cell_type": "code",
   "execution_count": 42,
   "id": "bb356e0e",
   "metadata": {},
   "outputs": [
    {
     "data": {
      "text/plain": [
       "46.75"
      ]
     },
     "execution_count": 42,
     "metadata": {},
     "output_type": "execute_result"
    }
   ],
   "source": [
    "# Change datatype for age\n",
    "ff['age'].cast(pl.Int8)#.mean()"
   ]
  },
  {
   "cell_type": "code",
   "execution_count": 43,
   "id": "11527160",
   "metadata": {},
   "outputs": [
    {
     "data": {
      "text/html": [
       "<div><style>\n",
       ".dataframe > thead > tr > th,\n",
       ".dataframe > tbody > tr > td {\n",
       "  text-align: right;\n",
       "  white-space: pre-wrap;\n",
       "}\n",
       "</style>\n",
       "<small>shape: (88_883, 85)</small><table border=\"1\" class=\"dataframe\"><thead><tr><th>Respondent</th><th>MainBranch</th><th>Hobbyist</th><th>OpenSourcer</th><th>OpenSource</th><th>Employment</th><th>Country</th><th>Student</th><th>EdLevel</th><th>UndergradMajor</th><th>EduOther</th><th>OrgSize</th><th>DevType</th><th>YearsCode</th><th>Age1stCode</th><th>YearsCodePro</th><th>CareerSat</th><th>JobSat</th><th>MgrIdiot</th><th>MgrMoney</th><th>MgrWant</th><th>JobSeek</th><th>LastHireDate</th><th>LastInt</th><th>FizzBuzz</th><th>JobFactors</th><th>ResumeUpdate</th><th>CurrencySymbol</th><th>CurrencyDesc</th><th>CompTotal</th><th>CompFreq</th><th>ConvertedComp</th><th>WorkWeekHrs</th><th>WorkPlan</th><th>WorkChallenge</th><th>WorkRemote</th><th>WorkLoc</th><th>&hellip;</th><th>PlatformDesireNextYear</th><th>WebFrameWorkedWith</th><th>WebFrameDesireNextYear</th><th>MiscTechWorkedWith</th><th>MiscTechDesireNextYear</th><th>DevEnviron</th><th>OpSys</th><th>Containers</th><th>BlockchainOrg</th><th>BlockchainIs</th><th>BetterLife</th><th>ITperson</th><th>OffOn</th><th>SocialMedia</th><th>Extraversion</th><th>ScreenName</th><th>SOVisit1st</th><th>SOVisitFreq</th><th>SOVisitTo</th><th>SOFindAnswer</th><th>SOTimeSaved</th><th>SOHowMuchTime</th><th>SOAccount</th><th>SOPartFreq</th><th>SOJobs</th><th>EntTeams</th><th>SOComm</th><th>WelcomeChange</th><th>SONewContent</th><th>Age</th><th>Gender</th><th>Trans</th><th>Sexuality</th><th>Ethnicity</th><th>Dependents</th><th>SurveyLength</th><th>SurveyEase</th></tr><tr><td>i64</td><td>str</td><td>str</td><td>str</td><td>str</td><td>str</td><td>str</td><td>str</td><td>str</td><td>str</td><td>str</td><td>str</td><td>str</td><td>str</td><td>str</td><td>str</td><td>str</td><td>str</td><td>str</td><td>str</td><td>str</td><td>str</td><td>str</td><td>str</td><td>str</td><td>str</td><td>str</td><td>str</td><td>str</td><td>str</td><td>str</td><td>str</td><td>str</td><td>str</td><td>str</td><td>str</td><td>str</td><td>&hellip;</td><td>str</td><td>str</td><td>str</td><td>str</td><td>str</td><td>str</td><td>str</td><td>str</td><td>str</td><td>str</td><td>str</td><td>str</td><td>str</td><td>str</td><td>str</td><td>str</td><td>str</td><td>str</td><td>str</td><td>str</td><td>str</td><td>str</td><td>str</td><td>str</td><td>str</td><td>str</td><td>str</td><td>str</td><td>str</td><td>str</td><td>str</td><td>str</td><td>str</td><td>str</td><td>str</td><td>str</td><td>str</td></tr></thead><tbody><tr><td>1</td><td>&quot;I am a student who is learning to code&quot;</td><td>&quot;Yes&quot;</td><td>&quot;Never&quot;</td><td>&quot;The quality of OSS and closed source software is …</td><td>&quot;Not employed, and not looking for work&quot;</td><td>&quot;United Kingdom&quot;</td><td>&quot;No&quot;</td><td>&quot;Primary/elementary school&quot;</td><td>&quot;NA&quot;</td><td>&quot;Taught yourself a new language, framework, or too…</td><td>&quot;NA&quot;</td><td>&quot;NA&quot;</td><td>&quot;4&quot;</td><td>&quot;10&quot;</td><td>&quot;NA&quot;</td><td>&quot;NA&quot;</td><td>&quot;NA&quot;</td><td>&quot;NA&quot;</td><td>&quot;NA&quot;</td><td>&quot;NA&quot;</td><td>&quot;NA&quot;</td><td>&quot;NA&quot;</td><td>&quot;NA&quot;</td><td>&quot;NA&quot;</td><td>&quot;NA&quot;</td><td>&quot;NA&quot;</td><td>&quot;NA&quot;</td><td>&quot;NA&quot;</td><td>&quot;NA&quot;</td><td>&quot;NA&quot;</td><td>&quot;NA&quot;</td><td>&quot;NA&quot;</td><td>&quot;NA&quot;</td><td>&quot;NA&quot;</td><td>&quot;NA&quot;</td><td>&quot;NA&quot;</td><td>&hellip;</td><td>&quot;Android;Arduino;Windows&quot;</td><td>&quot;Django;Flask&quot;</td><td>&quot;Flask;jQuery&quot;</td><td>&quot;Node.js&quot;</td><td>&quot;Node.js&quot;</td><td>&quot;IntelliJ;Notepad++;PyCharm&quot;</td><td>&quot;Windows&quot;</td><td>&quot;I do not use containers&quot;</td><td>&quot;NA&quot;</td><td>&quot;NA&quot;</td><td>&quot;Yes&quot;</td><td>&quot;Fortunately, someone else has that title&quot;</td><td>&quot;Yes&quot;</td><td>&quot;Twitter&quot;</td><td>&quot;Online&quot;</td><td>&quot;Username&quot;</td><td>&quot;2017&quot;</td><td>&quot;A few times per month or weekly&quot;</td><td>&quot;Find answers to specific questions;Learn how to d…</td><td>&quot;3-5 times per week&quot;</td><td>&quot;Stack Overflow was much faster&quot;</td><td>&quot;31-60 minutes&quot;</td><td>&quot;No&quot;</td><td>&quot;NA&quot;</td><td>&quot;No, I didn&#x27;t know that Stack Overflow had a job b…</td><td>&quot;No, and I don&#x27;t know what those are&quot;</td><td>&quot;Neutral&quot;</td><td>&quot;Just as welcome now as I felt last year&quot;</td><td>&quot;Tech articles written by other developers;Industr…</td><td>&quot;14&quot;</td><td>&quot;Man&quot;</td><td>&quot;No&quot;</td><td>&quot;Straight / Heterosexual&quot;</td><td>&quot;NA&quot;</td><td>&quot;No&quot;</td><td>&quot;Appropriate in length&quot;</td><td>&quot;Neither easy nor difficult&quot;</td></tr><tr><td>2</td><td>&quot;I am a student who is learning to code&quot;</td><td>&quot;No&quot;</td><td>&quot;Less than once per year&quot;</td><td>&quot;The quality of OSS and closed source software is …</td><td>&quot;Not employed, but looking for work&quot;</td><td>&quot;Bosnia and Herzegovina&quot;</td><td>&quot;Yes, full-time&quot;</td><td>&quot;Secondary school (e.g. American high school, Germ…</td><td>&quot;NA&quot;</td><td>&quot;Taken an online course in programming or software…</td><td>&quot;NA&quot;</td><td>&quot;Developer, desktop or enterprise applications;Dev…</td><td>&quot;NA&quot;</td><td>&quot;17&quot;</td><td>&quot;NA&quot;</td><td>&quot;NA&quot;</td><td>&quot;NA&quot;</td><td>&quot;NA&quot;</td><td>&quot;NA&quot;</td><td>&quot;NA&quot;</td><td>&quot;I am actively looking for a job&quot;</td><td>&quot;I&#x27;ve never had a job&quot;</td><td>&quot;NA&quot;</td><td>&quot;NA&quot;</td><td>&quot;Financial performance or funding status of the co…</td><td>&quot;Something else changed (education, award, media, …</td><td>&quot;NA&quot;</td><td>&quot;NA&quot;</td><td>&quot;NA&quot;</td><td>&quot;NA&quot;</td><td>&quot;NA&quot;</td><td>&quot;NA&quot;</td><td>&quot;NA&quot;</td><td>&quot;NA&quot;</td><td>&quot;NA&quot;</td><td>&quot;NA&quot;</td><td>&hellip;</td><td>&quot;Windows&quot;</td><td>&quot;Django&quot;</td><td>&quot;Django&quot;</td><td>&quot;NA&quot;</td><td>&quot;NA&quot;</td><td>&quot;Atom;PyCharm&quot;</td><td>&quot;Windows&quot;</td><td>&quot;I do not use containers&quot;</td><td>&quot;NA&quot;</td><td>&quot;Useful across many domains and could change many …</td><td>&quot;Yes&quot;</td><td>&quot;Yes&quot;</td><td>&quot;Yes&quot;</td><td>&quot;Instagram&quot;</td><td>&quot;Online&quot;</td><td>&quot;Username&quot;</td><td>&quot;2017&quot;</td><td>&quot;Daily or almost daily&quot;</td><td>&quot;Find answers to specific questions;Learn how to d…</td><td>&quot;3-5 times per week&quot;</td><td>&quot;Stack Overflow was much faster&quot;</td><td>&quot;11-30 minutes&quot;</td><td>&quot;Yes&quot;</td><td>&quot;A few times per month or weekly&quot;</td><td>&quot;No, I knew that Stack Overflow had a job board bu…</td><td>&quot;No, and I don&#x27;t know what those are&quot;</td><td>&quot;Yes, somewhat&quot;</td><td>&quot;Just as welcome now as I felt last year&quot;</td><td>&quot;Tech articles written by other developers;Industr…</td><td>&quot;19&quot;</td><td>&quot;Man&quot;</td><td>&quot;No&quot;</td><td>&quot;Straight / Heterosexual&quot;</td><td>&quot;NA&quot;</td><td>&quot;No&quot;</td><td>&quot;Appropriate in length&quot;</td><td>&quot;Neither easy nor difficult&quot;</td></tr><tr><td>3</td><td>&quot;I am not primarily a developer, but I write code …</td><td>&quot;Yes&quot;</td><td>&quot;Never&quot;</td><td>&quot;The quality of OSS and closed source software is …</td><td>&quot;Employed full-time&quot;</td><td>&quot;Thailand&quot;</td><td>&quot;No&quot;</td><td>&quot;Bachelor’s degree (BA, BS, B.Eng., etc.)&quot;</td><td>&quot;Web development or web design&quot;</td><td>&quot;Taught yourself a new language, framework, or too…</td><td>&quot;100 to 499 employees&quot;</td><td>&quot;Designer;Developer, back-end;Developer, front-end…</td><td>&quot;3&quot;</td><td>&quot;22&quot;</td><td>&quot;1&quot;</td><td>&quot;Slightly satisfied&quot;</td><td>&quot;Slightly satisfied&quot;</td><td>&quot;Not at all confident&quot;</td><td>&quot;Not sure&quot;</td><td>&quot;Not sure&quot;</td><td>&quot;I’m not actively looking, but I am open to new op…</td><td>&quot;1-2 years ago&quot;</td><td>&quot;Interview with people in peer roles&quot;</td><td>&quot;No&quot;</td><td>&quot;Languages, frameworks, and other technologies I&#x27;d…</td><td>&quot;I was preparing for a job search&quot;</td><td>&quot;THB&quot;</td><td>&quot;Thai baht&quot;</td><td>&quot;23000&quot;</td><td>&quot;Monthly&quot;</td><td>&quot;8820&quot;</td><td>&quot;40&quot;</td><td>&quot;There&#x27;s no schedule or spec; I work on what seems…</td><td>&quot;Distracting work environment;Inadequate access to…</td><td>&quot;Less than once per month / Never&quot;</td><td>&quot;Home&quot;</td><td>&hellip;</td><td>&quot;NA&quot;</td><td>&quot;NA&quot;</td><td>&quot;Other(s):&quot;</td><td>&quot;NA&quot;</td><td>&quot;NA&quot;</td><td>&quot;Vim;Visual Studio Code&quot;</td><td>&quot;Linux-based&quot;</td><td>&quot;I do not use containers&quot;</td><td>&quot;NA&quot;</td><td>&quot;NA&quot;</td><td>&quot;Yes&quot;</td><td>&quot;Yes&quot;</td><td>&quot;Yes&quot;</td><td>&quot;Reddit&quot;</td><td>&quot;In real life (in person)&quot;</td><td>&quot;Username&quot;</td><td>&quot;2011&quot;</td><td>&quot;A few times per week&quot;</td><td>&quot;Find answers to specific questions;Learn how to d…</td><td>&quot;6-10 times per week&quot;</td><td>&quot;They were about the same&quot;</td><td>&quot;NA&quot;</td><td>&quot;Yes&quot;</td><td>&quot;Less than once per month or monthly&quot;</td><td>&quot;Yes&quot;</td><td>&quot;No, I&#x27;ve heard of them, but I am not part of a pr…</td><td>&quot;Neutral&quot;</td><td>&quot;Just as welcome now as I felt last year&quot;</td><td>&quot;Tech meetups or events in your area;Courses on te…</td><td>&quot;28&quot;</td><td>&quot;Man&quot;</td><td>&quot;No&quot;</td><td>&quot;Straight / Heterosexual&quot;</td><td>&quot;NA&quot;</td><td>&quot;Yes&quot;</td><td>&quot;Appropriate in length&quot;</td><td>&quot;Neither easy nor difficult&quot;</td></tr><tr><td>4</td><td>&quot;I am a developer by profession&quot;</td><td>&quot;No&quot;</td><td>&quot;Never&quot;</td><td>&quot;The quality of OSS and closed source software is …</td><td>&quot;Employed full-time&quot;</td><td>&quot;United States&quot;</td><td>&quot;No&quot;</td><td>&quot;Bachelor’s degree (BA, BS, B.Eng., etc.)&quot;</td><td>&quot;Computer science, computer engineering, or softwa…</td><td>&quot;Taken an online course in programming or software…</td><td>&quot;100 to 499 employees&quot;</td><td>&quot;Developer, full-stack&quot;</td><td>&quot;3&quot;</td><td>&quot;16&quot;</td><td>&quot;Less than 1 year&quot;</td><td>&quot;Very satisfied&quot;</td><td>&quot;Slightly satisfied&quot;</td><td>&quot;Very confident&quot;</td><td>&quot;No&quot;</td><td>&quot;Not sure&quot;</td><td>&quot;I am not interested in new job opportunities&quot;</td><td>&quot;Less than a year ago&quot;</td><td>&quot;Write code by hand (e.g., on a whiteboard);Interv…</td><td>&quot;No&quot;</td><td>&quot;Languages, frameworks, and other technologies I&#x27;d…</td><td>&quot;I was preparing for a job search&quot;</td><td>&quot;USD&quot;</td><td>&quot;United States dollar&quot;</td><td>&quot;61000&quot;</td><td>&quot;Yearly&quot;</td><td>&quot;61000&quot;</td><td>&quot;80&quot;</td><td>&quot;There&#x27;s no schedule or spec; I work on what seems…</td><td>&quot;NA&quot;</td><td>&quot;Less than once per month / Never&quot;</td><td>&quot;Home&quot;</td><td>&hellip;</td><td>&quot;Linux;Windows&quot;</td><td>&quot;NA&quot;</td><td>&quot;NA&quot;</td><td>&quot;.NET&quot;</td><td>&quot;.NET&quot;</td><td>&quot;Eclipse;Vim;Visual Studio;Visual Studio Code&quot;</td><td>&quot;Windows&quot;</td><td>&quot;I do not use containers&quot;</td><td>&quot;Not at all&quot;</td><td>&quot;Useful for decentralized currency (i.e., Bitcoin)…</td><td>&quot;Yes&quot;</td><td>&quot;SIGH&quot;</td><td>&quot;Yes&quot;</td><td>&quot;Reddit&quot;</td><td>&quot;In real life (in person)&quot;</td><td>&quot;Username&quot;</td><td>&quot;2014&quot;</td><td>&quot;Daily or almost daily&quot;</td><td>&quot;Find answers to specific questions;Pass the time …</td><td>&quot;1-2 times per week&quot;</td><td>&quot;Stack Overflow was much faster&quot;</td><td>&quot;31-60 minutes&quot;</td><td>&quot;Yes&quot;</td><td>&quot;Less than once per month or monthly&quot;</td><td>&quot;Yes&quot;</td><td>&quot;No, and I don&#x27;t know what those are&quot;</td><td>&quot;No, not really&quot;</td><td>&quot;Just as welcome now as I felt last year&quot;</td><td>&quot;Tech articles written by other developers;Industr…</td><td>&quot;22&quot;</td><td>&quot;Man&quot;</td><td>&quot;No&quot;</td><td>&quot;Straight / Heterosexual&quot;</td><td>&quot;White or of European descent&quot;</td><td>&quot;No&quot;</td><td>&quot;Appropriate in length&quot;</td><td>&quot;Easy&quot;</td></tr><tr><td>5</td><td>&quot;I am a developer by profession&quot;</td><td>&quot;Yes&quot;</td><td>&quot;Once a month or more often&quot;</td><td>&quot;OSS is, on average, of HIGHER quality than propri…</td><td>&quot;Employed full-time&quot;</td><td>&quot;Ukraine&quot;</td><td>&quot;No&quot;</td><td>&quot;Bachelor’s degree (BA, BS, B.Eng., etc.)&quot;</td><td>&quot;Computer science, computer engineering, or softwa…</td><td>&quot;Taken an online course in programming or software…</td><td>&quot;10,000 or more employees&quot;</td><td>&quot;Academic researcher;Developer, desktop or enterpr…</td><td>&quot;16&quot;</td><td>&quot;14&quot;</td><td>&quot;9&quot;</td><td>&quot;Very dissatisfied&quot;</td><td>&quot;Slightly dissatisfied&quot;</td><td>&quot;Somewhat confident&quot;</td><td>&quot;Yes&quot;</td><td>&quot;No&quot;</td><td>&quot;I am not interested in new job opportunities&quot;</td><td>&quot;Less than a year ago&quot;</td><td>&quot;Write any code;Write code by hand (e.g., on a whi…</td><td>&quot;No&quot;</td><td>&quot;Industry that I&#x27;d be working in;Languages, framew…</td><td>&quot;I was preparing for a job search&quot;</td><td>&quot;UAH&quot;</td><td>&quot;Ukrainian hryvnia&quot;</td><td>&quot;NA&quot;</td><td>&quot;NA&quot;</td><td>&quot;NA&quot;</td><td>&quot;55&quot;</td><td>&quot;There is a schedule and/or spec (made by me or by…</td><td>&quot;Being tasked with non-development work;Inadequate…</td><td>&quot;A few days each month&quot;</td><td>&quot;Office&quot;</td><td>&hellip;</td><td>&quot;Android;Docker;Kubernetes;Linux;Slack&quot;</td><td>&quot;Django;Express;Flask;jQuery;React.js;Spring&quot;</td><td>&quot;Flask;jQuery;React.js;Spring&quot;</td><td>&quot;Cordova;Node.js&quot;</td><td>&quot;Apache Spark;Hadoop;Node.js;React Native&quot;</td><td>&quot;IntelliJ;Notepad++;Vim&quot;</td><td>&quot;Linux-based&quot;</td><td>&quot;Outside of work, for personal projects&quot;</td><td>&quot;Not at all&quot;</td><td>&quot;NA&quot;</td><td>&quot;Yes&quot;</td><td>&quot;Also Yes&quot;</td><td>&quot;Yes&quot;</td><td>&quot;Facebook&quot;</td><td>&quot;In real life (in person)&quot;</td><td>&quot;Username&quot;</td><td>&quot;I don&#x27;t remember&quot;</td><td>&quot;Multiple times per day&quot;</td><td>&quot;Find answers to specific questions&quot;</td><td>&quot;More than 10 times per week&quot;</td><td>&quot;Stack Overflow was much faster&quot;</td><td>&quot;NA&quot;</td><td>&quot;Yes&quot;</td><td>&quot;A few times per month or weekly&quot;</td><td>&quot;No, I knew that Stack Overflow had a job board bu…</td><td>&quot;No, I&#x27;ve heard of them, but I am not part of a pr…</td><td>&quot;Yes, definitely&quot;</td><td>&quot;Just as welcome now as I felt last year&quot;</td><td>&quot;Tech meetups or events in your area;Courses on te…</td><td>&quot;30&quot;</td><td>&quot;Man&quot;</td><td>&quot;No&quot;</td><td>&quot;Straight / Heterosexual&quot;</td><td>&quot;White or of European descent;Multiracial&quot;</td><td>&quot;No&quot;</td><td>&quot;Appropriate in length&quot;</td><td>&quot;Easy&quot;</td></tr><tr><td>&hellip;</td><td>&hellip;</td><td>&hellip;</td><td>&hellip;</td><td>&hellip;</td><td>&hellip;</td><td>&hellip;</td><td>&hellip;</td><td>&hellip;</td><td>&hellip;</td><td>&hellip;</td><td>&hellip;</td><td>&hellip;</td><td>&hellip;</td><td>&hellip;</td><td>&hellip;</td><td>&hellip;</td><td>&hellip;</td><td>&hellip;</td><td>&hellip;</td><td>&hellip;</td><td>&hellip;</td><td>&hellip;</td><td>&hellip;</td><td>&hellip;</td><td>&hellip;</td><td>&hellip;</td><td>&hellip;</td><td>&hellip;</td><td>&hellip;</td><td>&hellip;</td><td>&hellip;</td><td>&hellip;</td><td>&hellip;</td><td>&hellip;</td><td>&hellip;</td><td>&hellip;</td><td>&hellip;</td><td>&hellip;</td><td>&hellip;</td><td>&hellip;</td><td>&hellip;</td><td>&hellip;</td><td>&hellip;</td><td>&hellip;</td><td>&hellip;</td><td>&hellip;</td><td>&hellip;</td><td>&hellip;</td><td>&hellip;</td><td>&hellip;</td><td>&hellip;</td><td>&hellip;</td><td>&hellip;</td><td>&hellip;</td><td>&hellip;</td><td>&hellip;</td><td>&hellip;</td><td>&hellip;</td><td>&hellip;</td><td>&hellip;</td><td>&hellip;</td><td>&hellip;</td><td>&hellip;</td><td>&hellip;</td><td>&hellip;</td><td>&hellip;</td><td>&hellip;</td><td>&hellip;</td><td>&hellip;</td><td>&hellip;</td><td>&hellip;</td><td>&hellip;</td><td>&hellip;</td><td>&hellip;</td></tr><tr><td>88377</td><td>&quot;NA&quot;</td><td>&quot;Yes&quot;</td><td>&quot;Less than once a month but more than once per yea…</td><td>&quot;The quality of OSS and closed source software is …</td><td>&quot;Not employed, and not looking for work&quot;</td><td>&quot;Canada&quot;</td><td>&quot;No&quot;</td><td>&quot;Primary/elementary school&quot;</td><td>&quot;NA&quot;</td><td>&quot;Taught yourself a new language, framework, or too…</td><td>&quot;NA&quot;</td><td>&quot;NA&quot;</td><td>&quot;NA&quot;</td><td>&quot;NA&quot;</td><td>&quot;NA&quot;</td><td>&quot;NA&quot;</td><td>&quot;NA&quot;</td><td>&quot;NA&quot;</td><td>&quot;NA&quot;</td><td>&quot;NA&quot;</td><td>&quot;NA&quot;</td><td>&quot;NA&quot;</td><td>&quot;NA&quot;</td><td>&quot;NA&quot;</td><td>&quot;NA&quot;</td><td>&quot;NA&quot;</td><td>&quot;NA&quot;</td><td>&quot;NA&quot;</td><td>&quot;NA&quot;</td><td>&quot;NA&quot;</td><td>&quot;NA&quot;</td><td>&quot;NA&quot;</td><td>&quot;NA&quot;</td><td>&quot;NA&quot;</td><td>&quot;NA&quot;</td><td>&quot;NA&quot;</td><td>&hellip;</td><td>&quot;Google Cloud Platform;Linux&quot;</td><td>&quot;jQuery&quot;</td><td>&quot;jQuery;Vue.js&quot;</td><td>&quot;Node.js&quot;</td><td>&quot;React Native;Unity 3D;Unreal Engine&quot;</td><td>&quot;Atom;Visual Studio;Visual Studio Code&quot;</td><td>&quot;Windows&quot;</td><td>&quot;I do not use containers&quot;</td><td>&quot;NA&quot;</td><td>&quot;Useful across many domains and could change many …</td><td>&quot;Yes&quot;</td><td>&quot;Yes&quot;</td><td>&quot;What?&quot;</td><td>&quot;YouTube&quot;</td><td>&quot;NA&quot;</td><td>&quot;Username&quot;</td><td>&quot;I don&#x27;t remember&quot;</td><td>&quot;A few times per week&quot;</td><td>&quot;Find answers to specific questions;Learn how to d…</td><td>&quot;3-5 times per week&quot;</td><td>&quot;Stack Overflow was slightly faster&quot;</td><td>&quot;11-30 minutes&quot;</td><td>&quot;Yes&quot;</td><td>&quot;I have never participated in Q&amp;A on Stack Overflo…</td><td>&quot;No, I knew that Stack Overflow had a job board bu…</td><td>&quot;No, I&#x27;ve heard of them, but I am not part of a pr…</td><td>&quot;No, not at all&quot;</td><td>&quot;NA&quot;</td><td>&quot;Tech articles written by other developers;Tech me…</td><td>&quot;NA&quot;</td><td>&quot;Man&quot;</td><td>&quot;No&quot;</td><td>&quot;NA&quot;</td><td>&quot;NA&quot;</td><td>&quot;No&quot;</td><td>&quot;Appropriate in length&quot;</td><td>&quot;Easy&quot;</td></tr><tr><td>88601</td><td>&quot;NA&quot;</td><td>&quot;No&quot;</td><td>&quot;Never&quot;</td><td>&quot;The quality of OSS and closed source software is …</td><td>&quot;NA&quot;</td><td>&quot;NA&quot;</td><td>&quot;NA&quot;</td><td>&quot;NA&quot;</td><td>&quot;NA&quot;</td><td>&quot;NA&quot;</td><td>&quot;NA&quot;</td><td>&quot;NA&quot;</td><td>&quot;NA&quot;</td><td>&quot;NA&quot;</td><td>&quot;NA&quot;</td><td>&quot;NA&quot;</td><td>&quot;NA&quot;</td><td>&quot;NA&quot;</td><td>&quot;NA&quot;</td><td>&quot;NA&quot;</td><td>&quot;NA&quot;</td><td>&quot;NA&quot;</td><td>&quot;NA&quot;</td><td>&quot;NA&quot;</td><td>&quot;NA&quot;</td><td>&quot;NA&quot;</td><td>&quot;NA&quot;</td><td>&quot;NA&quot;</td><td>&quot;NA&quot;</td><td>&quot;NA&quot;</td><td>&quot;NA&quot;</td><td>&quot;NA&quot;</td><td>&quot;NA&quot;</td><td>&quot;NA&quot;</td><td>&quot;NA&quot;</td><td>&quot;NA&quot;</td><td>&hellip;</td><td>&quot;NA&quot;</td><td>&quot;NA&quot;</td><td>&quot;NA&quot;</td><td>&quot;NA&quot;</td><td>&quot;NA&quot;</td><td>&quot;NA&quot;</td><td>&quot;NA&quot;</td><td>&quot;NA&quot;</td><td>&quot;NA&quot;</td><td>&quot;NA&quot;</td><td>&quot;NA&quot;</td><td>&quot;NA&quot;</td><td>&quot;NA&quot;</td><td>&quot;NA&quot;</td><td>&quot;NA&quot;</td><td>&quot;NA&quot;</td><td>&quot;NA&quot;</td><td>&quot;NA&quot;</td><td>&quot;NA&quot;</td><td>&quot;NA&quot;</td><td>&quot;NA&quot;</td><td>&quot;NA&quot;</td><td>&quot;NA&quot;</td><td>&quot;NA&quot;</td><td>&quot;NA&quot;</td><td>&quot;NA&quot;</td><td>&quot;NA&quot;</td><td>&quot;NA&quot;</td><td>&quot;NA&quot;</td><td>&quot;NA&quot;</td><td>&quot;NA&quot;</td><td>&quot;NA&quot;</td><td>&quot;NA&quot;</td><td>&quot;NA&quot;</td><td>&quot;NA&quot;</td><td>&quot;NA&quot;</td><td>&quot;NA&quot;</td></tr><tr><td>88802</td><td>&quot;NA&quot;</td><td>&quot;No&quot;</td><td>&quot;Never&quot;</td><td>&quot;NA&quot;</td><td>&quot;Employed full-time&quot;</td><td>&quot;NA&quot;</td><td>&quot;NA&quot;</td><td>&quot;NA&quot;</td><td>&quot;NA&quot;</td><td>&quot;NA&quot;</td><td>&quot;NA&quot;</td><td>&quot;NA&quot;</td><td>&quot;NA&quot;</td><td>&quot;NA&quot;</td><td>&quot;NA&quot;</td><td>&quot;NA&quot;</td><td>&quot;NA&quot;</td><td>&quot;NA&quot;</td><td>&quot;NA&quot;</td><td>&quot;NA&quot;</td><td>&quot;NA&quot;</td><td>&quot;NA&quot;</td><td>&quot;NA&quot;</td><td>&quot;NA&quot;</td><td>&quot;NA&quot;</td><td>&quot;NA&quot;</td><td>&quot;NA&quot;</td><td>&quot;NA&quot;</td><td>&quot;NA&quot;</td><td>&quot;NA&quot;</td><td>&quot;NA&quot;</td><td>&quot;NA&quot;</td><td>&quot;NA&quot;</td><td>&quot;NA&quot;</td><td>&quot;NA&quot;</td><td>&quot;NA&quot;</td><td>&hellip;</td><td>&quot;NA&quot;</td><td>&quot;NA&quot;</td><td>&quot;NA&quot;</td><td>&quot;NA&quot;</td><td>&quot;NA&quot;</td><td>&quot;NA&quot;</td><td>&quot;NA&quot;</td><td>&quot;NA&quot;</td><td>&quot;NA&quot;</td><td>&quot;NA&quot;</td><td>&quot;NA&quot;</td><td>&quot;NA&quot;</td><td>&quot;NA&quot;</td><td>&quot;NA&quot;</td><td>&quot;NA&quot;</td><td>&quot;NA&quot;</td><td>&quot;NA&quot;</td><td>&quot;NA&quot;</td><td>&quot;NA&quot;</td><td>&quot;NA&quot;</td><td>&quot;NA&quot;</td><td>&quot;NA&quot;</td><td>&quot;NA&quot;</td><td>&quot;NA&quot;</td><td>&quot;NA&quot;</td><td>&quot;NA&quot;</td><td>&quot;NA&quot;</td><td>&quot;NA&quot;</td><td>&quot;NA&quot;</td><td>&quot;NA&quot;</td><td>&quot;NA&quot;</td><td>&quot;NA&quot;</td><td>&quot;NA&quot;</td><td>&quot;NA&quot;</td><td>&quot;NA&quot;</td><td>&quot;NA&quot;</td><td>&quot;NA&quot;</td></tr><tr><td>88816</td><td>&quot;NA&quot;</td><td>&quot;No&quot;</td><td>&quot;Never&quot;</td><td>&quot;OSS is, on average, of HIGHER quality than propri…</td><td>&quot;Independent contractor, freelancer, or self-emplo…</td><td>&quot;NA&quot;</td><td>&quot;NA&quot;</td><td>&quot;NA&quot;</td><td>&quot;NA&quot;</td><td>&quot;NA&quot;</td><td>&quot;NA&quot;</td><td>&quot;NA&quot;</td><td>&quot;NA&quot;</td><td>&quot;NA&quot;</td><td>&quot;NA&quot;</td><td>&quot;NA&quot;</td><td>&quot;NA&quot;</td><td>&quot;NA&quot;</td><td>&quot;NA&quot;</td><td>&quot;NA&quot;</td><td>&quot;NA&quot;</td><td>&quot;NA&quot;</td><td>&quot;NA&quot;</td><td>&quot;NA&quot;</td><td>&quot;NA&quot;</td><td>&quot;NA&quot;</td><td>&quot;NA&quot;</td><td>&quot;NA&quot;</td><td>&quot;NA&quot;</td><td>&quot;NA&quot;</td><td>&quot;NA&quot;</td><td>&quot;NA&quot;</td><td>&quot;NA&quot;</td><td>&quot;NA&quot;</td><td>&quot;NA&quot;</td><td>&quot;NA&quot;</td><td>&hellip;</td><td>&quot;NA&quot;</td><td>&quot;NA&quot;</td><td>&quot;NA&quot;</td><td>&quot;NA&quot;</td><td>&quot;NA&quot;</td><td>&quot;NA&quot;</td><td>&quot;NA&quot;</td><td>&quot;NA&quot;</td><td>&quot;NA&quot;</td><td>&quot;NA&quot;</td><td>&quot;NA&quot;</td><td>&quot;NA&quot;</td><td>&quot;NA&quot;</td><td>&quot;NA&quot;</td><td>&quot;NA&quot;</td><td>&quot;NA&quot;</td><td>&quot;NA&quot;</td><td>&quot;NA&quot;</td><td>&quot;NA&quot;</td><td>&quot;NA&quot;</td><td>&quot;NA&quot;</td><td>&quot;NA&quot;</td><td>&quot;NA&quot;</td><td>&quot;NA&quot;</td><td>&quot;NA&quot;</td><td>&quot;NA&quot;</td><td>&quot;NA&quot;</td><td>&quot;NA&quot;</td><td>&quot;NA&quot;</td><td>&quot;NA&quot;</td><td>&quot;NA&quot;</td><td>&quot;NA&quot;</td><td>&quot;NA&quot;</td><td>&quot;NA&quot;</td><td>&quot;NA&quot;</td><td>&quot;NA&quot;</td><td>&quot;NA&quot;</td></tr><tr><td>88863</td><td>&quot;NA&quot;</td><td>&quot;Yes&quot;</td><td>&quot;Less than once per year&quot;</td><td>&quot;OSS is, on average, of HIGHER quality than propri…</td><td>&quot;Not employed, and not looking for work&quot;</td><td>&quot;Spain&quot;</td><td>&quot;Yes, full-time&quot;</td><td>&quot;Professional degree (JD, MD, etc.)&quot;</td><td>&quot;Computer science, computer engineering, or softwa…</td><td>&quot;Taken an online course in programming or software…</td><td>&quot;NA&quot;</td><td>&quot;NA&quot;</td><td>&quot;8&quot;</td><td>&quot;11&quot;</td><td>&quot;3&quot;</td><td>&quot;NA&quot;</td><td>&quot;NA&quot;</td><td>&quot;NA&quot;</td><td>&quot;NA&quot;</td><td>&quot;NA&quot;</td><td>&quot;NA&quot;</td><td>&quot;NA&quot;</td><td>&quot;NA&quot;</td><td>&quot;NA&quot;</td><td>&quot;NA&quot;</td><td>&quot;NA&quot;</td><td>&quot;NA&quot;</td><td>&quot;NA&quot;</td><td>&quot;NA&quot;</td><td>&quot;NA&quot;</td><td>&quot;NA&quot;</td><td>&quot;NA&quot;</td><td>&quot;NA&quot;</td><td>&quot;NA&quot;</td><td>&quot;NA&quot;</td><td>&quot;NA&quot;</td><td>&hellip;</td><td>&quot;Android;AWS;Google Cloud Platform;IBM Cloud or Wa…</td><td>&quot;Django;jQuery;React.js&quot;</td><td>&quot;Django&quot;</td><td>&quot;Unity 3D;Unreal Engine&quot;</td><td>&quot;NA&quot;</td><td>&quot;Android Studio;Atom;Eclipse;NetBeans;Notepad++;Su…</td><td>&quot;Linux-based&quot;</td><td>&quot;Production&quot;</td><td>&quot;NA&quot;</td><td>&quot;Useful for decentralized currency (i.e., Bitcoin)…</td><td>&quot;Yes&quot;</td><td>&quot;Also Yes&quot;</td><td>&quot;Yes&quot;</td><td>&quot;WhatsApp&quot;</td><td>&quot;In real life (in person)&quot;</td><td>&quot;NA&quot;</td><td>&quot;2012&quot;</td><td>&quot;Daily or almost daily&quot;</td><td>&quot;Find answers to specific questions;Learn how to d…</td><td>&quot;6-10 times per week&quot;</td><td>&quot;Stack Overflow was much faster&quot;</td><td>&quot;11-30 minutes&quot;</td><td>&quot;Yes&quot;</td><td>&quot;A few times per month or weekly&quot;</td><td>&quot;Yes&quot;</td><td>&quot;No, I&#x27;ve heard of them, but I am not part of a pr…</td><td>&quot;Yes, somewhat&quot;</td><td>&quot;Somewhat less welcome now than last year&quot;</td><td>&quot;Tech articles written by other developers;Industr…</td><td>&quot;18&quot;</td><td>&quot;Man&quot;</td><td>&quot;No&quot;</td><td>&quot;Straight / Heterosexual&quot;</td><td>&quot;Hispanic or Latino/Latina;White or of European de…</td><td>&quot;No&quot;</td><td>&quot;Appropriate in length&quot;</td><td>&quot;Easy&quot;</td></tr></tbody></table></div>"
      ],
      "text/plain": [
       "shape: (88_883, 85)\n",
       "┌───────────┬───────────┬──────────┬───────────┬───┬───────────┬───────────┬───────────┬───────────┐\n",
       "│ Responden ┆ MainBranc ┆ Hobbyist ┆ OpenSourc ┆ … ┆ Ethnicity ┆ Dependent ┆ SurveyLen ┆ SurveyEas │\n",
       "│ t         ┆ h         ┆ ---      ┆ er        ┆   ┆ ---       ┆ s         ┆ gth       ┆ e         │\n",
       "│ ---       ┆ ---       ┆ str      ┆ ---       ┆   ┆ str       ┆ ---       ┆ ---       ┆ ---       │\n",
       "│ i64       ┆ str       ┆          ┆ str       ┆   ┆           ┆ str       ┆ str       ┆ str       │\n",
       "╞═══════════╪═══════════╪══════════╪═══════════╪═══╪═══════════╪═══════════╪═══════════╪═══════════╡\n",
       "│ 1         ┆ I am a    ┆ Yes      ┆ Never     ┆ … ┆ NA        ┆ No        ┆ Appropria ┆ Neither   │\n",
       "│           ┆ student   ┆          ┆           ┆   ┆           ┆           ┆ te in     ┆ easy nor  │\n",
       "│           ┆ who is    ┆          ┆           ┆   ┆           ┆           ┆ length    ┆ difficult │\n",
       "│           ┆ learning  ┆          ┆           ┆   ┆           ┆           ┆           ┆           │\n",
       "│           ┆ to code   ┆          ┆           ┆   ┆           ┆           ┆           ┆           │\n",
       "│ 2         ┆ I am a    ┆ No       ┆ Less than ┆ … ┆ NA        ┆ No        ┆ Appropria ┆ Neither   │\n",
       "│           ┆ student   ┆          ┆ once per  ┆   ┆           ┆           ┆ te in     ┆ easy nor  │\n",
       "│           ┆ who is    ┆          ┆ year      ┆   ┆           ┆           ┆ length    ┆ difficult │\n",
       "│           ┆ learning  ┆          ┆           ┆   ┆           ┆           ┆           ┆           │\n",
       "│           ┆ to code   ┆          ┆           ┆   ┆           ┆           ┆           ┆           │\n",
       "│ 3         ┆ I am not  ┆ Yes      ┆ Never     ┆ … ┆ NA        ┆ Yes       ┆ Appropria ┆ Neither   │\n",
       "│           ┆ primarily ┆          ┆           ┆   ┆           ┆           ┆ te in     ┆ easy nor  │\n",
       "│           ┆ a develop ┆          ┆           ┆   ┆           ┆           ┆ length    ┆ difficult │\n",
       "│           ┆ er, but I ┆          ┆           ┆   ┆           ┆           ┆           ┆           │\n",
       "│           ┆ write     ┆          ┆           ┆   ┆           ┆           ┆           ┆           │\n",
       "│           ┆ code s…   ┆          ┆           ┆   ┆           ┆           ┆           ┆           │\n",
       "│ 4         ┆ I am a    ┆ No       ┆ Never     ┆ … ┆ White or  ┆ No        ┆ Appropria ┆ Easy      │\n",
       "│           ┆ developer ┆          ┆           ┆   ┆ of        ┆           ┆ te in     ┆           │\n",
       "│           ┆ by profes ┆          ┆           ┆   ┆ European  ┆           ┆ length    ┆           │\n",
       "│           ┆ sion      ┆          ┆           ┆   ┆ descent   ┆           ┆           ┆           │\n",
       "│ 5         ┆ I am a    ┆ Yes      ┆ Once a    ┆ … ┆ White or  ┆ No        ┆ Appropria ┆ Easy      │\n",
       "│           ┆ developer ┆          ┆ month or  ┆   ┆ of        ┆           ┆ te in     ┆           │\n",
       "│           ┆ by profes ┆          ┆ more      ┆   ┆ European  ┆           ┆ length    ┆           │\n",
       "│           ┆ sion      ┆          ┆ often     ┆   ┆ descent;M ┆           ┆           ┆           │\n",
       "│           ┆           ┆          ┆           ┆   ┆ ultiracia ┆           ┆           ┆           │\n",
       "│           ┆           ┆          ┆           ┆   ┆ l         ┆           ┆           ┆           │\n",
       "│ …         ┆ …         ┆ …        ┆ …         ┆ … ┆ …         ┆ …         ┆ …         ┆ …         │\n",
       "│ 88377     ┆ NA        ┆ Yes      ┆ Less than ┆ … ┆ NA        ┆ No        ┆ Appropria ┆ Easy      │\n",
       "│           ┆           ┆          ┆ once a    ┆   ┆           ┆           ┆ te in     ┆           │\n",
       "│           ┆           ┆          ┆ month but ┆   ┆           ┆           ┆ length    ┆           │\n",
       "│           ┆           ┆          ┆ more than ┆   ┆           ┆           ┆           ┆           │\n",
       "│           ┆           ┆          ┆ once per  ┆   ┆           ┆           ┆           ┆           │\n",
       "│           ┆           ┆          ┆ year      ┆   ┆           ┆           ┆           ┆           │\n",
       "│ 88601     ┆ NA        ┆ No       ┆ Never     ┆ … ┆ NA        ┆ NA        ┆ NA        ┆ NA        │\n",
       "│ 88802     ┆ NA        ┆ No       ┆ Never     ┆ … ┆ NA        ┆ NA        ┆ NA        ┆ NA        │\n",
       "│ 88816     ┆ NA        ┆ No       ┆ Never     ┆ … ┆ NA        ┆ NA        ┆ NA        ┆ NA        │\n",
       "│ 88863     ┆ NA        ┆ Yes      ┆ Less than ┆ … ┆ Hispanic  ┆ No        ┆ Appropria ┆ Easy      │\n",
       "│           ┆           ┆          ┆ once per  ┆   ┆ or Latino ┆           ┆ te in     ┆           │\n",
       "│           ┆           ┆          ┆ year      ┆   ┆ /Latina;W ┆           ┆ length    ┆           │\n",
       "│           ┆           ┆          ┆           ┆   ┆ hite or   ┆           ┆           ┆           │\n",
       "│           ┆           ┆          ┆           ┆   ┆ of        ┆           ┆           ┆           │\n",
       "│           ┆           ┆          ┆           ┆   ┆ European  ┆           ┆           ┆           │\n",
       "│           ┆           ┆          ┆           ┆   ┆ des…      ┆           ┆           ┆           │\n",
       "└───────────┴───────────┴──────────┴───────────┴───┴───────────┴───────────┴───────────┴───────────┘"
      ]
     },
     "execution_count": 43,
     "metadata": {},
     "output_type": "execute_result"
    }
   ],
   "source": [
    "df"
   ]
  },
  {
   "cell_type": "code",
   "execution_count": 49,
   "id": "9ffc064b",
   "metadata": {},
   "outputs": [],
   "source": [
    "# Calculation doesn't work.\n",
    "df['YearsCode'].mean()"
   ]
  },
  {
   "cell_type": "code",
   "execution_count": 56,
   "id": "47b2c645",
   "metadata": {},
   "outputs": [
    {
     "data": {
      "text/html": [
       "<div><style>\n",
       ".dataframe > thead > tr > th,\n",
       ".dataframe > tbody > tr > td {\n",
       "  text-align: right;\n",
       "  white-space: pre-wrap;\n",
       "}\n",
       "</style>\n",
       "<small>shape: (1, 1)</small><table border=\"1\" class=\"dataframe\"><thead><tr><th>YearsCode</th></tr><tr><td>f64</td></tr></thead><tbody><tr><td>9.0</td></tr></tbody></table></div>"
      ],
      "text/plain": [
       "shape: (1, 1)\n",
       "┌───────────┐\n",
       "│ YearsCode │\n",
       "│ ---       │\n",
       "│ f64       │\n",
       "╞═══════════╡\n",
       "│ 9.0       │\n",
       "└───────────┘"
      ]
     },
     "execution_count": 56,
     "metadata": {},
     "output_type": "execute_result"
    }
   ],
   "source": [
    "(df\n",
    " .with_columns(pl.when(pl.col('YearsCode') == 'NA')\n",
    "               .then(None)\n",
    "               .when(pl.col('YearsCode') == 'Less than 1 year')\n",
    "               .then(0)\n",
    "               .when(pl.col('YearsCode') == 'More than 50 years')\n",
    "               .then(51)\n",
    "               .otherwise(pl.col('YearsCode'))\n",
    "               .alias('YearsCode')\n",
    "               .cast(pl.Int8))\n",
    " .select('YearsCode')\n",
    " .median()\n",
    " )"
   ]
  }
 ],
 "metadata": {
  "kernelspec": {
   "display_name": "Python 3 (ipykernel)",
   "language": "python",
   "name": "python3"
  },
  "language_info": {
   "codemirror_mode": {
    "name": "ipython",
    "version": 3
   },
   "file_extension": ".py",
   "mimetype": "text/x-python",
   "name": "python",
   "nbconvert_exporter": "python",
   "pygments_lexer": "ipython3",
   "version": "3.11.5"
  }
 },
 "nbformat": 4,
 "nbformat_minor": 5
}
