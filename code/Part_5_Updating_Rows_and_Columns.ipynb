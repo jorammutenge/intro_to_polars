{
 "cells": [
  {
   "cell_type": "markdown",
   "id": "9e581b50-1d42-4236-8833-42bec0635d61",
   "metadata": {},
   "source": [
    "# Part 5: Updating Rows and Columns"
   ]
  },
  {
   "cell_type": "code",
   "execution_count": 24,
   "id": "9493a465-9d37-48ee-91ed-e2aacd62f42a",
   "metadata": {},
   "outputs": [
    {
     "data": {
      "text/html": [
       "<div><style>\n",
       ".dataframe > thead > tr > th,\n",
       ".dataframe > tbody > tr > td {\n",
       "  text-align: right;\n",
       "  white-space: pre-wrap;\n",
       "}\n",
       "</style>\n",
       "<small>shape: (3, 3)</small><table border=\"1\" class=\"dataframe\"><thead><tr><th>first</th><th>last</th><th>email</th></tr><tr><td>str</td><td>str</td><td>str</td></tr></thead><tbody><tr><td>&quot;Ernest&quot;</td><td>&quot;Hemingway&quot;</td><td>&quot;ehemingway@email.com&quot;</td></tr><tr><td>&quot;Stephen&quot;</td><td>&quot;King&quot;</td><td>&quot;sking@email.com&quot;</td></tr><tr><td>&quot;Harper&quot;</td><td>&quot;Lee&quot;</td><td>&quot;hlee@email.com&quot;</td></tr></tbody></table></div>"
      ],
      "text/plain": [
       "shape: (3, 3)\n",
       "┌─────────┬───────────┬──────────────────────┐\n",
       "│ first   ┆ last      ┆ email                │\n",
       "│ ---     ┆ ---       ┆ ---                  │\n",
       "│ str     ┆ str       ┆ str                  │\n",
       "╞═════════╪═══════════╪══════════════════════╡\n",
       "│ Ernest  ┆ Hemingway ┆ ehemingway@email.com │\n",
       "│ Stephen ┆ King      ┆ sking@email.com      │\n",
       "│ Harper  ┆ Lee       ┆ hlee@email.com       │\n",
       "└─────────┴───────────┴──────────────────────┘"
      ]
     },
     "execution_count": 24,
     "metadata": {},
     "output_type": "execute_result"
    }
   ],
   "source": [
    "# Our authors\n",
    "authors = {\n",
    "    'first':['Ernest','Stephen','Harper'],\n",
    "    'last':['Hemingway','King','Lee'],\n",
    "    'email':['ehemingway@email.com','sking@email.com','hlee@email.com']\n",
    "}\n",
    "\n",
    "ff = pl.DataFrame(authors)\n",
    "ff"
   ]
  },
  {
   "cell_type": "code",
   "execution_count": 25,
   "id": "80e5d40e-0111-48bc-930e-366f1291189e",
   "metadata": {},
   "outputs": [
    {
     "data": {
      "text/plain": [
       "['first', 'last', 'email']"
      ]
     },
     "execution_count": 25,
     "metadata": {},
     "output_type": "execute_result"
    }
   ],
   "source": [
    "ff.columns"
   ]
  },
  {
   "cell_type": "code",
   "execution_count": 26,
   "id": "589790f0-3e89-4a53-830f-0456fbbe7e0b",
   "metadata": {},
   "outputs": [
    {
     "data": {
      "text/html": [
       "<div><style>\n",
       ".dataframe > thead > tr > th,\n",
       ".dataframe > tbody > tr > td {\n",
       "  text-align: right;\n",
       "  white-space: pre-wrap;\n",
       "}\n",
       "</style>\n",
       "<small>shape: (3, 3)</small><table border=\"1\" class=\"dataframe\"><thead><tr><th>FIRST</th><th>LAST</th><th>EMAIL</th></tr><tr><td>str</td><td>str</td><td>str</td></tr></thead><tbody><tr><td>&quot;Ernest&quot;</td><td>&quot;Hemingway&quot;</td><td>&quot;ehemingway@email.com&quot;</td></tr><tr><td>&quot;Stephen&quot;</td><td>&quot;King&quot;</td><td>&quot;sking@email.com&quot;</td></tr><tr><td>&quot;Harper&quot;</td><td>&quot;Lee&quot;</td><td>&quot;hlee@email.com&quot;</td></tr></tbody></table></div>"
      ],
      "text/plain": [
       "shape: (3, 3)\n",
       "┌─────────┬───────────┬──────────────────────┐\n",
       "│ FIRST   ┆ LAST      ┆ EMAIL                │\n",
       "│ ---     ┆ ---       ┆ ---                  │\n",
       "│ str     ┆ str       ┆ str                  │\n",
       "╞═════════╪═══════════╪══════════════════════╡\n",
       "│ Ernest  ┆ Hemingway ┆ ehemingway@email.com │\n",
       "│ Stephen ┆ King      ┆ sking@email.com      │\n",
       "│ Harper  ┆ Lee       ┆ hlee@email.com       │\n",
       "└─────────┴───────────┴──────────────────────┘"
      ]
     },
     "execution_count": 26,
     "metadata": {},
     "output_type": "execute_result"
    }
   ],
   "source": [
    "ff.columns = [x.upper() for x in ff.columns]\n",
    "ff"
   ]
  },
  {
   "cell_type": "code",
   "execution_count": 27,
   "id": "ab8a4ad3-2f09-4793-a73b-3befcc1e763f",
   "metadata": {},
   "outputs": [
    {
     "data": {
      "text/html": [
       "<div><style>\n",
       ".dataframe > thead > tr > th,\n",
       ".dataframe > tbody > tr > td {\n",
       "  text-align: right;\n",
       "  white-space: pre-wrap;\n",
       "}\n",
       "</style>\n",
       "<small>shape: (3, 3)</small><table border=\"1\" class=\"dataframe\"><thead><tr><th>first</th><th>last</th><th>email</th></tr><tr><td>str</td><td>str</td><td>str</td></tr></thead><tbody><tr><td>&quot;Ernest&quot;</td><td>&quot;Hemingway&quot;</td><td>&quot;ehemingway@email.com&quot;</td></tr><tr><td>&quot;Stephen&quot;</td><td>&quot;King&quot;</td><td>&quot;sking@email.com&quot;</td></tr><tr><td>&quot;Harper&quot;</td><td>&quot;Lee&quot;</td><td>&quot;hlee@email.com&quot;</td></tr></tbody></table></div>"
      ],
      "text/plain": [
       "shape: (3, 3)\n",
       "┌─────────┬───────────┬──────────────────────┐\n",
       "│ first   ┆ last      ┆ email                │\n",
       "│ ---     ┆ ---       ┆ ---                  │\n",
       "│ str     ┆ str       ┆ str                  │\n",
       "╞═════════╪═══════════╪══════════════════════╡\n",
       "│ Ernest  ┆ Hemingway ┆ ehemingway@email.com │\n",
       "│ Stephen ┆ King      ┆ sking@email.com      │\n",
       "│ Harper  ┆ Lee       ┆ hlee@email.com       │\n",
       "└─────────┴───────────┴──────────────────────┘"
      ]
     },
     "execution_count": 27,
     "metadata": {},
     "output_type": "execute_result"
    }
   ],
   "source": [
    "ff.columns = [x.lower() for x in ff.columns]\n",
    "ff"
   ]
  },
  {
   "cell_type": "code",
   "execution_count": 28,
   "id": "1d5f2e41-826b-4438-89f4-13b475e9d41e",
   "metadata": {},
   "outputs": [
    {
     "data": {
      "text/html": [
       "<div><style>\n",
       ".dataframe > thead > tr > th,\n",
       ".dataframe > tbody > tr > td {\n",
       "  text-align: right;\n",
       "  white-space: pre-wrap;\n",
       "}\n",
       "</style>\n",
       "<small>shape: (3, 3)</small><table border=\"1\" class=\"dataframe\"><thead><tr><th>first_name</th><th>last_name</th><th>email_address</th></tr><tr><td>str</td><td>str</td><td>str</td></tr></thead><tbody><tr><td>&quot;Ernest&quot;</td><td>&quot;Hemingway&quot;</td><td>&quot;ehemingway@email.com&quot;</td></tr><tr><td>&quot;Stephen&quot;</td><td>&quot;King&quot;</td><td>&quot;sking@email.com&quot;</td></tr><tr><td>&quot;Harper&quot;</td><td>&quot;Lee&quot;</td><td>&quot;hlee@email.com&quot;</td></tr></tbody></table></div>"
      ],
      "text/plain": [
       "shape: (3, 3)\n",
       "┌────────────┬───────────┬──────────────────────┐\n",
       "│ first_name ┆ last_name ┆ email_address        │\n",
       "│ ---        ┆ ---       ┆ ---                  │\n",
       "│ str        ┆ str       ┆ str                  │\n",
       "╞════════════╪═══════════╪══════════════════════╡\n",
       "│ Ernest     ┆ Hemingway ┆ ehemingway@email.com │\n",
       "│ Stephen    ┆ King      ┆ sking@email.com      │\n",
       "│ Harper     ┆ Lee       ┆ hlee@email.com       │\n",
       "└────────────┴───────────┴──────────────────────┘"
      ]
     },
     "execution_count": 28,
     "metadata": {},
     "output_type": "execute_result"
    }
   ],
   "source": [
    "ff.columns = ['first_name','last_name','email_address']\n",
    "ff"
   ]
  },
  {
   "cell_type": "code",
   "execution_count": 31,
   "id": "b749d7bd-3c86-4837-87e5-7f0b115fc5d5",
   "metadata": {},
   "outputs": [],
   "source": [
    "ff =(ff\n",
    " .rename({'first_name':'first','last_name':'last','email_address':'email'})\n",
    ")"
   ]
  },
  {
   "cell_type": "code",
   "execution_count": 32,
   "id": "93c8b20d-7751-4e88-8478-482a60625968",
   "metadata": {},
   "outputs": [
    {
     "data": {
      "text/html": [
       "<div><style>\n",
       ".dataframe > thead > tr > th,\n",
       ".dataframe > tbody > tr > td {\n",
       "  text-align: right;\n",
       "  white-space: pre-wrap;\n",
       "}\n",
       "</style>\n",
       "<small>shape: (3, 3)</small><table border=\"1\" class=\"dataframe\"><thead><tr><th>first</th><th>last</th><th>email</th></tr><tr><td>str</td><td>str</td><td>str</td></tr></thead><tbody><tr><td>&quot;Ernest&quot;</td><td>&quot;Hemingway&quot;</td><td>&quot;ehemingway@email.com&quot;</td></tr><tr><td>&quot;Stephen&quot;</td><td>&quot;King&quot;</td><td>&quot;sking@email.com&quot;</td></tr><tr><td>&quot;Harper&quot;</td><td>&quot;Lee&quot;</td><td>&quot;hlee@email.com&quot;</td></tr></tbody></table></div>"
      ],
      "text/plain": [
       "shape: (3, 3)\n",
       "┌─────────┬───────────┬──────────────────────┐\n",
       "│ first   ┆ last      ┆ email                │\n",
       "│ ---     ┆ ---       ┆ ---                  │\n",
       "│ str     ┆ str       ┆ str                  │\n",
       "╞═════════╪═══════════╪══════════════════════╡\n",
       "│ Ernest  ┆ Hemingway ┆ ehemingway@email.com │\n",
       "│ Stephen ┆ King      ┆ sking@email.com      │\n",
       "│ Harper  ┆ Lee       ┆ hlee@email.com       │\n",
       "└─────────┴───────────┴──────────────────────┘"
      ]
     },
     "execution_count": 32,
     "metadata": {},
     "output_type": "execute_result"
    }
   ],
   "source": [
    "ff"
   ]
  },
  {
   "cell_type": "code",
   "execution_count": 33,
   "id": "38ea057d-aacd-4053-9794-f48248bdd6ec",
   "metadata": {},
   "outputs": [
    {
     "data": {
      "text/html": [
       "<div><style>\n",
       ".dataframe > thead > tr > th,\n",
       ".dataframe > tbody > tr > td {\n",
       "  text-align: right;\n",
       "  white-space: pre-wrap;\n",
       "}\n",
       "</style>\n",
       "<small>shape: (3, 4)</small><table border=\"1\" class=\"dataframe\"><thead><tr><th>row_nr</th><th>first</th><th>last</th><th>email</th></tr><tr><td>u32</td><td>str</td><td>str</td><td>str</td></tr></thead><tbody><tr><td>0</td><td>&quot;Ernest&quot;</td><td>&quot;Hemingway&quot;</td><td>&quot;ehemingway@email.com&quot;</td></tr><tr><td>1</td><td>&quot;Stephen&quot;</td><td>&quot;King&quot;</td><td>&quot;sking@email.com&quot;</td></tr><tr><td>2</td><td>&quot;Harper&quot;</td><td>&quot;Lee&quot;</td><td>&quot;hlee@email.com&quot;</td></tr></tbody></table></div>"
      ],
      "text/plain": [
       "shape: (3, 4)\n",
       "┌────────┬─────────┬───────────┬──────────────────────┐\n",
       "│ row_nr ┆ first   ┆ last      ┆ email                │\n",
       "│ ---    ┆ ---     ┆ ---       ┆ ---                  │\n",
       "│ u32    ┆ str     ┆ str       ┆ str                  │\n",
       "╞════════╪═════════╪═══════════╪══════════════════════╡\n",
       "│ 0      ┆ Ernest  ┆ Hemingway ┆ ehemingway@email.com │\n",
       "│ 1      ┆ Stephen ┆ King      ┆ sking@email.com      │\n",
       "│ 2      ┆ Harper  ┆ Lee       ┆ hlee@email.com       │\n",
       "└────────┴─────────┴───────────┴──────────────────────┘"
      ]
     },
     "execution_count": 33,
     "metadata": {},
     "output_type": "execute_result"
    }
   ],
   "source": [
    "ff.with_row_count()"
   ]
  },
  {
   "cell_type": "code",
   "execution_count": 34,
   "id": "4e7a4de0-c19b-436a-b001-3e74478462ef",
   "metadata": {},
   "outputs": [
    {
     "data": {
      "text/plain": [
       "{'row_nr': 2, 'last': 'Smith', 'email': 'hsmith@email.com'}"
      ]
     },
     "execution_count": 34,
     "metadata": {},
     "output_type": "execute_result"
    }
   ],
   "source": [
    "dict(row_nr=2, last='Smith', email='hsmith@email.com')"
   ]
  },
  {
   "cell_type": "code",
   "execution_count": 35,
   "id": "6b230e23-b8c7-4fa6-a472-d02603aa0539",
   "metadata": {},
   "outputs": [
    {
     "data": {
      "text/html": [
       "<div><style>\n",
       ".dataframe > thead > tr > th,\n",
       ".dataframe > tbody > tr > td {\n",
       "  text-align: right;\n",
       "  white-space: pre-wrap;\n",
       "}\n",
       "</style>\n",
       "<small>shape: (1, 3)</small><table border=\"1\" class=\"dataframe\"><thead><tr><th>row_nr</th><th>last</th><th>email</th></tr><tr><td>i64</td><td>str</td><td>str</td></tr></thead><tbody><tr><td>2</td><td>&quot;Smith&quot;</td><td>&quot;hsmith@email.com&quot;</td></tr></tbody></table></div>"
      ],
      "text/plain": [
       "shape: (1, 3)\n",
       "┌────────┬───────┬──────────────────┐\n",
       "│ row_nr ┆ last  ┆ email            │\n",
       "│ ---    ┆ ---   ┆ ---              │\n",
       "│ i64    ┆ str   ┆ str              │\n",
       "╞════════╪═══════╪══════════════════╡\n",
       "│ 2      ┆ Smith ┆ hsmith@email.com │\n",
       "└────────┴───────┴──────────────────┘"
      ]
     },
     "execution_count": 35,
     "metadata": {},
     "output_type": "execute_result"
    }
   ],
   "source": [
    "pl.DataFrame(dict(row_nr=2, last='Smith', email='hsmith@email.com'))"
   ]
  },
  {
   "cell_type": "code",
   "execution_count": 37,
   "id": "20a57a6b-9e0c-4053-81e5-5e6302cb6d4b",
   "metadata": {},
   "outputs": [
    {
     "data": {
      "text/html": [
       "<div><style>\n",
       ".dataframe > thead > tr > th,\n",
       ".dataframe > tbody > tr > td {\n",
       "  text-align: right;\n",
       "  white-space: pre-wrap;\n",
       "}\n",
       "</style>\n",
       "<small>shape: (3, 3)</small><table border=\"1\" class=\"dataframe\"><thead><tr><th>first</th><th>last</th><th>email</th></tr><tr><td>str</td><td>str</td><td>str</td></tr></thead><tbody><tr><td>&quot;Ernest&quot;</td><td>&quot;Hemingway&quot;</td><td>&quot;ehemingway@email.com&quot;</td></tr><tr><td>&quot;Stephen&quot;</td><td>&quot;King&quot;</td><td>&quot;sking@email.com&quot;</td></tr><tr><td>&quot;Harper&quot;</td><td>&quot;Smith&quot;</td><td>&quot;hsmith@email.com&quot;</td></tr></tbody></table></div>"
      ],
      "text/plain": [
       "shape: (3, 3)\n",
       "┌─────────┬───────────┬──────────────────────┐\n",
       "│ first   ┆ last      ┆ email                │\n",
       "│ ---     ┆ ---       ┆ ---                  │\n",
       "│ str     ┆ str       ┆ str                  │\n",
       "╞═════════╪═══════════╪══════════════════════╡\n",
       "│ Ernest  ┆ Hemingway ┆ ehemingway@email.com │\n",
       "│ Stephen ┆ King      ┆ sking@email.com      │\n",
       "│ Harper  ┆ Smith     ┆ hsmith@email.com     │\n",
       "└─────────┴───────────┴──────────────────────┘"
      ]
     },
     "execution_count": 37,
     "metadata": {},
     "output_type": "execute_result"
    }
   ],
   "source": [
    "# method 1\n",
    "(ff\n",
    " .with_row_count()\n",
    " .with_columns(pl.col('row_nr').cast(pl.Int64))\n",
    " .update(pl.DataFrame(dict(row_nr=2, last='Smith', email='hsmith@email.com')), on='row_nr')\n",
    " .drop('row_nr')\n",
    ")"
   ]
  },
  {
   "cell_type": "code",
   "execution_count": 42,
   "id": "df9d931b-ce28-4fc9-8142-9deb42019670",
   "metadata": {},
   "outputs": [
    {
     "data": {
      "text/html": [
       "<div><style>\n",
       ".dataframe > thead > tr > th,\n",
       ".dataframe > tbody > tr > td {\n",
       "  text-align: right;\n",
       "  white-space: pre-wrap;\n",
       "}\n",
       "</style>\n",
       "<small>shape: (3, 3)</small><table border=\"1\" class=\"dataframe\"><thead><tr><th>first</th><th>last</th><th>email</th></tr><tr><td>str</td><td>str</td><td>str</td></tr></thead><tbody><tr><td>&quot;Ernest&quot;</td><td>&quot;Hemingway&quot;</td><td>&quot;ehemingway@email.com&quot;</td></tr><tr><td>&quot;Stephen&quot;</td><td>&quot;King&quot;</td><td>&quot;sking@email.com&quot;</td></tr><tr><td>&quot;Harper&quot;</td><td>&quot;Smith&quot;</td><td>&quot;hsmith@email.com&quot;</td></tr></tbody></table></div>"
      ],
      "text/plain": [
       "shape: (3, 3)\n",
       "┌─────────┬───────────┬──────────────────────┐\n",
       "│ first   ┆ last      ┆ email                │\n",
       "│ ---     ┆ ---       ┆ ---                  │\n",
       "│ str     ┆ str       ┆ str                  │\n",
       "╞═════════╪═══════════╪══════════════════════╡\n",
       "│ Ernest  ┆ Hemingway ┆ ehemingway@email.com │\n",
       "│ Stephen ┆ King      ┆ sking@email.com      │\n",
       "│ Harper  ┆ Smith     ┆ hsmith@email.com     │\n",
       "└─────────┴───────────┴──────────────────────┘"
      ]
     },
     "execution_count": 42,
     "metadata": {},
     "output_type": "execute_result"
    }
   ],
   "source": [
    "# method 2\n",
    "(ff\n",
    " .update(ff.with_row_count()\n",
    "        .select(pl.col('row_nr').map_dict({2: dict(last='Smith',email='hsmith@email.com')}))\n",
    "        .unnest('row_nr'))\n",
    ")"
   ]
  },
  {
   "cell_type": "code",
   "execution_count": 43,
   "id": "7dea4139-4f24-4231-87f5-4e52e57de7d4",
   "metadata": {},
   "outputs": [
    {
     "data": {
      "text/html": [
       "<div><style>\n",
       ".dataframe > thead > tr > th,\n",
       ".dataframe > tbody > tr > td {\n",
       "  text-align: right;\n",
       "  white-space: pre-wrap;\n",
       "}\n",
       "</style>\n",
       "<small>shape: (3, 3)</small><table border=\"1\" class=\"dataframe\"><thead><tr><th>first</th><th>last</th><th>email</th></tr><tr><td>str</td><td>str</td><td>str</td></tr></thead><tbody><tr><td>&quot;Ernest&quot;</td><td>&quot;Hemingway&quot;</td><td>&quot;ehemingway@email.com&quot;</td></tr><tr><td>&quot;Stephen&quot;</td><td>&quot;King&quot;</td><td>&quot;sking@email.com&quot;</td></tr><tr><td>&quot;Harper&quot;</td><td>&quot;Lee&quot;</td><td>&quot;hlee@email.com&quot;</td></tr></tbody></table></div>"
      ],
      "text/plain": [
       "shape: (3, 3)\n",
       "┌─────────┬───────────┬──────────────────────┐\n",
       "│ first   ┆ last      ┆ email                │\n",
       "│ ---     ┆ ---       ┆ ---                  │\n",
       "│ str     ┆ str       ┆ str                  │\n",
       "╞═════════╪═══════════╪══════════════════════╡\n",
       "│ Ernest  ┆ Hemingway ┆ ehemingway@email.com │\n",
       "│ Stephen ┆ King      ┆ sking@email.com      │\n",
       "│ Harper  ┆ Lee       ┆ hlee@email.com       │\n",
       "└─────────┴───────────┴──────────────────────┘"
      ]
     },
     "execution_count": 43,
     "metadata": {},
     "output_type": "execute_result"
    }
   ],
   "source": [
    "ff"
   ]
  },
  {
   "cell_type": "code",
   "execution_count": 50,
   "id": "a907c1f9-429b-49d0-a326-9d82fc7dd9fc",
   "metadata": {},
   "outputs": [
    {
     "data": {
      "text/html": [
       "<div><style>\n",
       ".dataframe > thead > tr > th,\n",
       ".dataframe > tbody > tr > td {\n",
       "  text-align: right;\n",
       "  white-space: pre-wrap;\n",
       "}\n",
       "</style>\n",
       "<small>shape: (3,)</small><table border=\"1\" class=\"dataframe\"><thead><tr><th>last</th></tr><tr><td>str</td></tr></thead><tbody><tr><td>&quot;hemingway&quot;</td></tr><tr><td>&quot;king&quot;</td></tr><tr><td>&quot;lee&quot;</td></tr></tbody></table></div>"
      ],
      "text/plain": [
       "shape: (3,)\n",
       "Series: 'last' [str]\n",
       "[\n",
       "\t\"hemingway\"\n",
       "\t\"king\"\n",
       "\t\"lee\"\n",
       "]"
      ]
     },
     "execution_count": 50,
     "metadata": {},
     "output_type": "execute_result"
    }
   ],
   "source": [
    "ff['last'].str.to_lowercase()"
   ]
  },
  {
   "cell_type": "code",
   "execution_count": 51,
   "id": "f09bb579-485a-4fc6-a7ce-38972a89f751",
   "metadata": {},
   "outputs": [
    {
     "data": {
      "text/html": [
       "<div><style>\n",
       ".dataframe > thead > tr > th,\n",
       ".dataframe > tbody > tr > td {\n",
       "  text-align: right;\n",
       "  white-space: pre-wrap;\n",
       "}\n",
       "</style>\n",
       "<small>shape: (3,)</small><table border=\"1\" class=\"dataframe\"><thead><tr><th>email</th></tr><tr><td>i64</td></tr></thead><tbody><tr><td>20</td></tr><tr><td>15</td></tr><tr><td>14</td></tr></tbody></table></div>"
      ],
      "text/plain": [
       "shape: (3,)\n",
       "Series: 'email' [i64]\n",
       "[\n",
       "\t20\n",
       "\t15\n",
       "\t14\n",
       "]"
      ]
     },
     "execution_count": 51,
     "metadata": {},
     "output_type": "execute_result"
    }
   ],
   "source": [
    "ff['email'].map_elements(len)"
   ]
  },
  {
   "cell_type": "code",
   "execution_count": 52,
   "id": "59659541-ca47-462f-86d9-213bef91b784",
   "metadata": {},
   "outputs": [
    {
     "name": "stderr",
     "output_type": "stream",
     "text": [
      "C:\\Users\\Jmutenge\\AppData\\Local\\Temp\\ipykernel_18660\\2356523403.py:4: PolarsInefficientMapWarning: \n",
      "Series.map_elements is significantly slower than the native series API.\n",
      "Only use if you absolutely CANNOT implement your logic otherwise.\n",
      "In this case, you can replace your `map_elements` with the following:\n",
      "  - s.map_elements(update_emails)\n",
      "  + s.str.to_uppercase()\n",
      "\n",
      "  ff['email'].map_elements(update_emails)\n"
     ]
    },
    {
     "data": {
      "text/html": [
       "<div><style>\n",
       ".dataframe > thead > tr > th,\n",
       ".dataframe > tbody > tr > td {\n",
       "  text-align: right;\n",
       "  white-space: pre-wrap;\n",
       "}\n",
       "</style>\n",
       "<small>shape: (3,)</small><table border=\"1\" class=\"dataframe\"><thead><tr><th>email</th></tr><tr><td>str</td></tr></thead><tbody><tr><td>&quot;EHEMINGWAY@EMAIL.COM&quot;</td></tr><tr><td>&quot;SKING@EMAIL.COM&quot;</td></tr><tr><td>&quot;HLEE@EMAIL.COM&quot;</td></tr></tbody></table></div>"
      ],
      "text/plain": [
       "shape: (3,)\n",
       "Series: 'email' [str]\n",
       "[\n",
       "\t\"EHEMINGWAY@EMAIL.COM\"\n",
       "\t\"SKING@EMAIL.COM\"\n",
       "\t\"HLEE@EMAIL.COM\"\n",
       "]"
      ]
     },
     "execution_count": 52,
     "metadata": {},
     "output_type": "execute_result"
    }
   ],
   "source": [
    "def update_emails(email):\n",
    "    return email.upper()\n",
    "\n",
    "ff['email'].map_elements(update_emails)"
   ]
  },
  {
   "cell_type": "code",
   "execution_count": 53,
   "id": "48a5f461-a9ec-4173-969f-aed7aa24248b",
   "metadata": {},
   "outputs": [
    {
     "data": {
      "text/html": [
       "<div><style>\n",
       ".dataframe > thead > tr > th,\n",
       ".dataframe > tbody > tr > td {\n",
       "  text-align: right;\n",
       "  white-space: pre-wrap;\n",
       "}\n",
       "</style>\n",
       "<small>shape: (3,)</small><table border=\"1\" class=\"dataframe\"><thead><tr><th>email</th></tr><tr><td>str</td></tr></thead><tbody><tr><td>&quot;EHEMINGWAY@EMAIL.COM&quot;</td></tr><tr><td>&quot;SKING@EMAIL.COM&quot;</td></tr><tr><td>&quot;HLEE@EMAIL.COM&quot;</td></tr></tbody></table></div>"
      ],
      "text/plain": [
       "shape: (3,)\n",
       "Series: 'email' [str]\n",
       "[\n",
       "\t\"EHEMINGWAY@EMAIL.COM\"\n",
       "\t\"SKING@EMAIL.COM\"\n",
       "\t\"HLEE@EMAIL.COM\"\n",
       "]"
      ]
     },
     "execution_count": 53,
     "metadata": {},
     "output_type": "execute_result"
    }
   ],
   "source": [
    "ff['email'].str.to_uppercase()"
   ]
  },
  {
   "cell_type": "code",
   "execution_count": 56,
   "id": "ee1d81a0-415e-4982-940b-8dcf43cff368",
   "metadata": {},
   "outputs": [
    {
     "data": {
      "text/html": [
       "<div><style>\n",
       ".dataframe > thead > tr > th,\n",
       ".dataframe > tbody > tr > td {\n",
       "  text-align: right;\n",
       "  white-space: pre-wrap;\n",
       "}\n",
       "</style>\n",
       "<small>shape: (88_883, 85)</small><table border=\"1\" class=\"dataframe\"><thead><tr><th>Respondent</th><th>MainBranch</th><th>Hobbyist</th><th>OpenSourcer</th><th>OpenSource</th><th>Employment</th><th>Country</th><th>Student</th><th>EdLevel</th><th>UndergradMajor</th><th>EduOther</th><th>OrgSize</th><th>DevType</th><th>YearsCode</th><th>Age1stCode</th><th>YearsCodePro</th><th>CareerSat</th><th>JobSat</th><th>MgrIdiot</th><th>MgrMoney</th><th>MgrWant</th><th>JobSeek</th><th>LastHireDate</th><th>LastInt</th><th>FizzBuzz</th><th>JobFactors</th><th>ResumeUpdate</th><th>CurrencySymbol</th><th>CurrencyDesc</th><th>CompTotal</th><th>CompFreq</th><th>ConvertedComp</th><th>WorkWeekHrs</th><th>WorkPlan</th><th>WorkChallenge</th><th>WorkRemote</th><th>WorkLoc</th><th>&hellip;</th><th>PlatformDesireNextYear</th><th>WebFrameWorkedWith</th><th>WebFrameDesireNextYear</th><th>MiscTechWorkedWith</th><th>MiscTechDesireNextYear</th><th>DevEnviron</th><th>OpSys</th><th>Containers</th><th>BlockchainOrg</th><th>BlockchainIs</th><th>BetterLife</th><th>ITperson</th><th>OffOn</th><th>SocialMedia</th><th>Extraversion</th><th>ScreenName</th><th>SOVisit1st</th><th>SOVisitFreq</th><th>SOVisitTo</th><th>SOFindAnswer</th><th>SOTimeSaved</th><th>SOHowMuchTime</th><th>SOAccount</th><th>SOPartFreq</th><th>SOJobs</th><th>EntTeams</th><th>SOComm</th><th>WelcomeChange</th><th>SONewContent</th><th>Age</th><th>Gender</th><th>Trans</th><th>Sexuality</th><th>Ethnicity</th><th>Dependents</th><th>SurveyLength</th><th>SurveyEase</th></tr><tr><td>i64</td><td>str</td><td>str</td><td>str</td><td>str</td><td>str</td><td>str</td><td>str</td><td>str</td><td>str</td><td>str</td><td>str</td><td>str</td><td>str</td><td>str</td><td>str</td><td>str</td><td>str</td><td>str</td><td>str</td><td>str</td><td>str</td><td>str</td><td>str</td><td>str</td><td>str</td><td>str</td><td>str</td><td>str</td><td>str</td><td>str</td><td>str</td><td>str</td><td>str</td><td>str</td><td>str</td><td>str</td><td>&hellip;</td><td>str</td><td>str</td><td>str</td><td>str</td><td>str</td><td>str</td><td>str</td><td>str</td><td>str</td><td>str</td><td>str</td><td>str</td><td>str</td><td>str</td><td>str</td><td>str</td><td>str</td><td>str</td><td>str</td><td>str</td><td>str</td><td>str</td><td>str</td><td>str</td><td>str</td><td>str</td><td>str</td><td>str</td><td>str</td><td>str</td><td>str</td><td>str</td><td>str</td><td>str</td><td>str</td><td>str</td><td>str</td></tr></thead><tbody><tr><td>1</td><td>&quot;I am a student who is learning to code&quot;</td><td>&quot;Yes&quot;</td><td>&quot;Never&quot;</td><td>&quot;The quality of OSS and closed source software is …</td><td>&quot;Not employed, and not looking for work&quot;</td><td>&quot;United Kingdom&quot;</td><td>&quot;No&quot;</td><td>&quot;Primary/elementary school&quot;</td><td>&quot;NA&quot;</td><td>&quot;Taught yourself a new language, framework, or too…</td><td>&quot;NA&quot;</td><td>&quot;NA&quot;</td><td>&quot;4&quot;</td><td>&quot;10&quot;</td><td>&quot;NA&quot;</td><td>&quot;NA&quot;</td><td>&quot;NA&quot;</td><td>&quot;NA&quot;</td><td>&quot;NA&quot;</td><td>&quot;NA&quot;</td><td>&quot;NA&quot;</td><td>&quot;NA&quot;</td><td>&quot;NA&quot;</td><td>&quot;NA&quot;</td><td>&quot;NA&quot;</td><td>&quot;NA&quot;</td><td>&quot;NA&quot;</td><td>&quot;NA&quot;</td><td>&quot;NA&quot;</td><td>&quot;NA&quot;</td><td>&quot;NA&quot;</td><td>&quot;NA&quot;</td><td>&quot;NA&quot;</td><td>&quot;NA&quot;</td><td>&quot;NA&quot;</td><td>&quot;NA&quot;</td><td>&hellip;</td><td>&quot;Android;Arduino;Windows&quot;</td><td>&quot;Django;Flask&quot;</td><td>&quot;Flask;jQuery&quot;</td><td>&quot;Node.js&quot;</td><td>&quot;Node.js&quot;</td><td>&quot;IntelliJ;Notepad++;PyCharm&quot;</td><td>&quot;Windows&quot;</td><td>&quot;I do not use containers&quot;</td><td>&quot;NA&quot;</td><td>&quot;NA&quot;</td><td>&quot;Yes&quot;</td><td>&quot;Fortunately, someone else has that title&quot;</td><td>&quot;Yes&quot;</td><td>&quot;Twitter&quot;</td><td>&quot;Online&quot;</td><td>&quot;Username&quot;</td><td>&quot;2017&quot;</td><td>&quot;A few times per month or weekly&quot;</td><td>&quot;Find answers to specific questions;Learn how to d…</td><td>&quot;3-5 times per week&quot;</td><td>&quot;Stack Overflow was much faster&quot;</td><td>&quot;31-60 minutes&quot;</td><td>&quot;No&quot;</td><td>&quot;NA&quot;</td><td>&quot;No, I didn&#x27;t know that Stack Overflow had a job b…</td><td>&quot;No, and I don&#x27;t know what those are&quot;</td><td>&quot;Neutral&quot;</td><td>&quot;Just as welcome now as I felt last year&quot;</td><td>&quot;Tech articles written by other developers;Industr…</td><td>&quot;14&quot;</td><td>&quot;Man&quot;</td><td>&quot;No&quot;</td><td>&quot;Straight / Heterosexual&quot;</td><td>&quot;NA&quot;</td><td>&quot;No&quot;</td><td>&quot;Appropriate in length&quot;</td><td>&quot;Neither easy nor difficult&quot;</td></tr><tr><td>2</td><td>&quot;I am a student who is learning to code&quot;</td><td>&quot;No&quot;</td><td>&quot;Less than once per year&quot;</td><td>&quot;The quality of OSS and closed source software is …</td><td>&quot;Not employed, but looking for work&quot;</td><td>&quot;Bosnia and Herzegovina&quot;</td><td>&quot;Yes, full-time&quot;</td><td>&quot;Secondary school (e.g. American high school, Germ…</td><td>&quot;NA&quot;</td><td>&quot;Taken an online course in programming or software…</td><td>&quot;NA&quot;</td><td>&quot;Developer, desktop or enterprise applications;Dev…</td><td>&quot;NA&quot;</td><td>&quot;17&quot;</td><td>&quot;NA&quot;</td><td>&quot;NA&quot;</td><td>&quot;NA&quot;</td><td>&quot;NA&quot;</td><td>&quot;NA&quot;</td><td>&quot;NA&quot;</td><td>&quot;I am actively looking for a job&quot;</td><td>&quot;I&#x27;ve never had a job&quot;</td><td>&quot;NA&quot;</td><td>&quot;NA&quot;</td><td>&quot;Financial performance or funding status of the co…</td><td>&quot;Something else changed (education, award, media, …</td><td>&quot;NA&quot;</td><td>&quot;NA&quot;</td><td>&quot;NA&quot;</td><td>&quot;NA&quot;</td><td>&quot;NA&quot;</td><td>&quot;NA&quot;</td><td>&quot;NA&quot;</td><td>&quot;NA&quot;</td><td>&quot;NA&quot;</td><td>&quot;NA&quot;</td><td>&hellip;</td><td>&quot;Windows&quot;</td><td>&quot;Django&quot;</td><td>&quot;Django&quot;</td><td>&quot;NA&quot;</td><td>&quot;NA&quot;</td><td>&quot;Atom;PyCharm&quot;</td><td>&quot;Windows&quot;</td><td>&quot;I do not use containers&quot;</td><td>&quot;NA&quot;</td><td>&quot;Useful across many domains and could change many …</td><td>&quot;Yes&quot;</td><td>&quot;Yes&quot;</td><td>&quot;Yes&quot;</td><td>&quot;Instagram&quot;</td><td>&quot;Online&quot;</td><td>&quot;Username&quot;</td><td>&quot;2017&quot;</td><td>&quot;Daily or almost daily&quot;</td><td>&quot;Find answers to specific questions;Learn how to d…</td><td>&quot;3-5 times per week&quot;</td><td>&quot;Stack Overflow was much faster&quot;</td><td>&quot;11-30 minutes&quot;</td><td>&quot;Yes&quot;</td><td>&quot;A few times per month or weekly&quot;</td><td>&quot;No, I knew that Stack Overflow had a job board bu…</td><td>&quot;No, and I don&#x27;t know what those are&quot;</td><td>&quot;Yes, somewhat&quot;</td><td>&quot;Just as welcome now as I felt last year&quot;</td><td>&quot;Tech articles written by other developers;Industr…</td><td>&quot;19&quot;</td><td>&quot;Man&quot;</td><td>&quot;No&quot;</td><td>&quot;Straight / Heterosexual&quot;</td><td>&quot;NA&quot;</td><td>&quot;No&quot;</td><td>&quot;Appropriate in length&quot;</td><td>&quot;Neither easy nor difficult&quot;</td></tr><tr><td>3</td><td>&quot;I am not primarily a developer, but I write code …</td><td>&quot;Yes&quot;</td><td>&quot;Never&quot;</td><td>&quot;The quality of OSS and closed source software is …</td><td>&quot;Employed full-time&quot;</td><td>&quot;Thailand&quot;</td><td>&quot;No&quot;</td><td>&quot;Bachelor’s degree (BA, BS, B.Eng., etc.)&quot;</td><td>&quot;Web development or web design&quot;</td><td>&quot;Taught yourself a new language, framework, or too…</td><td>&quot;100 to 499 employees&quot;</td><td>&quot;Designer;Developer, back-end;Developer, front-end…</td><td>&quot;3&quot;</td><td>&quot;22&quot;</td><td>&quot;1&quot;</td><td>&quot;Slightly satisfied&quot;</td><td>&quot;Slightly satisfied&quot;</td><td>&quot;Not at all confident&quot;</td><td>&quot;Not sure&quot;</td><td>&quot;Not sure&quot;</td><td>&quot;I’m not actively looking, but I am open to new op…</td><td>&quot;1-2 years ago&quot;</td><td>&quot;Interview with people in peer roles&quot;</td><td>&quot;No&quot;</td><td>&quot;Languages, frameworks, and other technologies I&#x27;d…</td><td>&quot;I was preparing for a job search&quot;</td><td>&quot;THB&quot;</td><td>&quot;Thai baht&quot;</td><td>&quot;23000&quot;</td><td>&quot;Monthly&quot;</td><td>&quot;8820&quot;</td><td>&quot;40&quot;</td><td>&quot;There&#x27;s no schedule or spec; I work on what seems…</td><td>&quot;Distracting work environment;Inadequate access to…</td><td>&quot;Less than once per month / Never&quot;</td><td>&quot;Home&quot;</td><td>&hellip;</td><td>&quot;NA&quot;</td><td>&quot;NA&quot;</td><td>&quot;Other(s):&quot;</td><td>&quot;NA&quot;</td><td>&quot;NA&quot;</td><td>&quot;Vim;Visual Studio Code&quot;</td><td>&quot;Linux-based&quot;</td><td>&quot;I do not use containers&quot;</td><td>&quot;NA&quot;</td><td>&quot;NA&quot;</td><td>&quot;Yes&quot;</td><td>&quot;Yes&quot;</td><td>&quot;Yes&quot;</td><td>&quot;Reddit&quot;</td><td>&quot;In real life (in person)&quot;</td><td>&quot;Username&quot;</td><td>&quot;2011&quot;</td><td>&quot;A few times per week&quot;</td><td>&quot;Find answers to specific questions;Learn how to d…</td><td>&quot;6-10 times per week&quot;</td><td>&quot;They were about the same&quot;</td><td>&quot;NA&quot;</td><td>&quot;Yes&quot;</td><td>&quot;Less than once per month or monthly&quot;</td><td>&quot;Yes&quot;</td><td>&quot;No, I&#x27;ve heard of them, but I am not part of a pr…</td><td>&quot;Neutral&quot;</td><td>&quot;Just as welcome now as I felt last year&quot;</td><td>&quot;Tech meetups or events in your area;Courses on te…</td><td>&quot;28&quot;</td><td>&quot;Man&quot;</td><td>&quot;No&quot;</td><td>&quot;Straight / Heterosexual&quot;</td><td>&quot;NA&quot;</td><td>&quot;Yes&quot;</td><td>&quot;Appropriate in length&quot;</td><td>&quot;Neither easy nor difficult&quot;</td></tr><tr><td>4</td><td>&quot;I am a developer by profession&quot;</td><td>&quot;No&quot;</td><td>&quot;Never&quot;</td><td>&quot;The quality of OSS and closed source software is …</td><td>&quot;Employed full-time&quot;</td><td>&quot;United States&quot;</td><td>&quot;No&quot;</td><td>&quot;Bachelor’s degree (BA, BS, B.Eng., etc.)&quot;</td><td>&quot;Computer science, computer engineering, or softwa…</td><td>&quot;Taken an online course in programming or software…</td><td>&quot;100 to 499 employees&quot;</td><td>&quot;Developer, full-stack&quot;</td><td>&quot;3&quot;</td><td>&quot;16&quot;</td><td>&quot;Less than 1 year&quot;</td><td>&quot;Very satisfied&quot;</td><td>&quot;Slightly satisfied&quot;</td><td>&quot;Very confident&quot;</td><td>&quot;No&quot;</td><td>&quot;Not sure&quot;</td><td>&quot;I am not interested in new job opportunities&quot;</td><td>&quot;Less than a year ago&quot;</td><td>&quot;Write code by hand (e.g., on a whiteboard);Interv…</td><td>&quot;No&quot;</td><td>&quot;Languages, frameworks, and other technologies I&#x27;d…</td><td>&quot;I was preparing for a job search&quot;</td><td>&quot;USD&quot;</td><td>&quot;United States dollar&quot;</td><td>&quot;61000&quot;</td><td>&quot;Yearly&quot;</td><td>&quot;61000&quot;</td><td>&quot;80&quot;</td><td>&quot;There&#x27;s no schedule or spec; I work on what seems…</td><td>&quot;NA&quot;</td><td>&quot;Less than once per month / Never&quot;</td><td>&quot;Home&quot;</td><td>&hellip;</td><td>&quot;Linux;Windows&quot;</td><td>&quot;NA&quot;</td><td>&quot;NA&quot;</td><td>&quot;.NET&quot;</td><td>&quot;.NET&quot;</td><td>&quot;Eclipse;Vim;Visual Studio;Visual Studio Code&quot;</td><td>&quot;Windows&quot;</td><td>&quot;I do not use containers&quot;</td><td>&quot;Not at all&quot;</td><td>&quot;Useful for decentralized currency (i.e., Bitcoin)…</td><td>&quot;Yes&quot;</td><td>&quot;SIGH&quot;</td><td>&quot;Yes&quot;</td><td>&quot;Reddit&quot;</td><td>&quot;In real life (in person)&quot;</td><td>&quot;Username&quot;</td><td>&quot;2014&quot;</td><td>&quot;Daily or almost daily&quot;</td><td>&quot;Find answers to specific questions;Pass the time …</td><td>&quot;1-2 times per week&quot;</td><td>&quot;Stack Overflow was much faster&quot;</td><td>&quot;31-60 minutes&quot;</td><td>&quot;Yes&quot;</td><td>&quot;Less than once per month or monthly&quot;</td><td>&quot;Yes&quot;</td><td>&quot;No, and I don&#x27;t know what those are&quot;</td><td>&quot;No, not really&quot;</td><td>&quot;Just as welcome now as I felt last year&quot;</td><td>&quot;Tech articles written by other developers;Industr…</td><td>&quot;22&quot;</td><td>&quot;Man&quot;</td><td>&quot;No&quot;</td><td>&quot;Straight / Heterosexual&quot;</td><td>&quot;White or of European descent&quot;</td><td>&quot;No&quot;</td><td>&quot;Appropriate in length&quot;</td><td>&quot;Easy&quot;</td></tr><tr><td>5</td><td>&quot;I am a developer by profession&quot;</td><td>&quot;Yes&quot;</td><td>&quot;Once a month or more often&quot;</td><td>&quot;OSS is, on average, of HIGHER quality than propri…</td><td>&quot;Employed full-time&quot;</td><td>&quot;Ukraine&quot;</td><td>&quot;No&quot;</td><td>&quot;Bachelor’s degree (BA, BS, B.Eng., etc.)&quot;</td><td>&quot;Computer science, computer engineering, or softwa…</td><td>&quot;Taken an online course in programming or software…</td><td>&quot;10,000 or more employees&quot;</td><td>&quot;Academic researcher;Developer, desktop or enterpr…</td><td>&quot;16&quot;</td><td>&quot;14&quot;</td><td>&quot;9&quot;</td><td>&quot;Very dissatisfied&quot;</td><td>&quot;Slightly dissatisfied&quot;</td><td>&quot;Somewhat confident&quot;</td><td>&quot;Yes&quot;</td><td>&quot;No&quot;</td><td>&quot;I am not interested in new job opportunities&quot;</td><td>&quot;Less than a year ago&quot;</td><td>&quot;Write any code;Write code by hand (e.g., on a whi…</td><td>&quot;No&quot;</td><td>&quot;Industry that I&#x27;d be working in;Languages, framew…</td><td>&quot;I was preparing for a job search&quot;</td><td>&quot;UAH&quot;</td><td>&quot;Ukrainian hryvnia&quot;</td><td>&quot;NA&quot;</td><td>&quot;NA&quot;</td><td>&quot;NA&quot;</td><td>&quot;55&quot;</td><td>&quot;There is a schedule and/or spec (made by me or by…</td><td>&quot;Being tasked with non-development work;Inadequate…</td><td>&quot;A few days each month&quot;</td><td>&quot;Office&quot;</td><td>&hellip;</td><td>&quot;Android;Docker;Kubernetes;Linux;Slack&quot;</td><td>&quot;Django;Express;Flask;jQuery;React.js;Spring&quot;</td><td>&quot;Flask;jQuery;React.js;Spring&quot;</td><td>&quot;Cordova;Node.js&quot;</td><td>&quot;Apache Spark;Hadoop;Node.js;React Native&quot;</td><td>&quot;IntelliJ;Notepad++;Vim&quot;</td><td>&quot;Linux-based&quot;</td><td>&quot;Outside of work, for personal projects&quot;</td><td>&quot;Not at all&quot;</td><td>&quot;NA&quot;</td><td>&quot;Yes&quot;</td><td>&quot;Also Yes&quot;</td><td>&quot;Yes&quot;</td><td>&quot;Facebook&quot;</td><td>&quot;In real life (in person)&quot;</td><td>&quot;Username&quot;</td><td>&quot;I don&#x27;t remember&quot;</td><td>&quot;Multiple times per day&quot;</td><td>&quot;Find answers to specific questions&quot;</td><td>&quot;More than 10 times per week&quot;</td><td>&quot;Stack Overflow was much faster&quot;</td><td>&quot;NA&quot;</td><td>&quot;Yes&quot;</td><td>&quot;A few times per month or weekly&quot;</td><td>&quot;No, I knew that Stack Overflow had a job board bu…</td><td>&quot;No, I&#x27;ve heard of them, but I am not part of a pr…</td><td>&quot;Yes, definitely&quot;</td><td>&quot;Just as welcome now as I felt last year&quot;</td><td>&quot;Tech meetups or events in your area;Courses on te…</td><td>&quot;30&quot;</td><td>&quot;Man&quot;</td><td>&quot;No&quot;</td><td>&quot;Straight / Heterosexual&quot;</td><td>&quot;White or of European descent;Multiracial&quot;</td><td>&quot;No&quot;</td><td>&quot;Appropriate in length&quot;</td><td>&quot;Easy&quot;</td></tr><tr><td>&hellip;</td><td>&hellip;</td><td>&hellip;</td><td>&hellip;</td><td>&hellip;</td><td>&hellip;</td><td>&hellip;</td><td>&hellip;</td><td>&hellip;</td><td>&hellip;</td><td>&hellip;</td><td>&hellip;</td><td>&hellip;</td><td>&hellip;</td><td>&hellip;</td><td>&hellip;</td><td>&hellip;</td><td>&hellip;</td><td>&hellip;</td><td>&hellip;</td><td>&hellip;</td><td>&hellip;</td><td>&hellip;</td><td>&hellip;</td><td>&hellip;</td><td>&hellip;</td><td>&hellip;</td><td>&hellip;</td><td>&hellip;</td><td>&hellip;</td><td>&hellip;</td><td>&hellip;</td><td>&hellip;</td><td>&hellip;</td><td>&hellip;</td><td>&hellip;</td><td>&hellip;</td><td>&hellip;</td><td>&hellip;</td><td>&hellip;</td><td>&hellip;</td><td>&hellip;</td><td>&hellip;</td><td>&hellip;</td><td>&hellip;</td><td>&hellip;</td><td>&hellip;</td><td>&hellip;</td><td>&hellip;</td><td>&hellip;</td><td>&hellip;</td><td>&hellip;</td><td>&hellip;</td><td>&hellip;</td><td>&hellip;</td><td>&hellip;</td><td>&hellip;</td><td>&hellip;</td><td>&hellip;</td><td>&hellip;</td><td>&hellip;</td><td>&hellip;</td><td>&hellip;</td><td>&hellip;</td><td>&hellip;</td><td>&hellip;</td><td>&hellip;</td><td>&hellip;</td><td>&hellip;</td><td>&hellip;</td><td>&hellip;</td><td>&hellip;</td><td>&hellip;</td><td>&hellip;</td><td>&hellip;</td></tr><tr><td>88377</td><td>&quot;NA&quot;</td><td>&quot;Yes&quot;</td><td>&quot;Less than once a month but more than once per yea…</td><td>&quot;The quality of OSS and closed source software is …</td><td>&quot;Not employed, and not looking for work&quot;</td><td>&quot;Canada&quot;</td><td>&quot;No&quot;</td><td>&quot;Primary/elementary school&quot;</td><td>&quot;NA&quot;</td><td>&quot;Taught yourself a new language, framework, or too…</td><td>&quot;NA&quot;</td><td>&quot;NA&quot;</td><td>&quot;NA&quot;</td><td>&quot;NA&quot;</td><td>&quot;NA&quot;</td><td>&quot;NA&quot;</td><td>&quot;NA&quot;</td><td>&quot;NA&quot;</td><td>&quot;NA&quot;</td><td>&quot;NA&quot;</td><td>&quot;NA&quot;</td><td>&quot;NA&quot;</td><td>&quot;NA&quot;</td><td>&quot;NA&quot;</td><td>&quot;NA&quot;</td><td>&quot;NA&quot;</td><td>&quot;NA&quot;</td><td>&quot;NA&quot;</td><td>&quot;NA&quot;</td><td>&quot;NA&quot;</td><td>&quot;NA&quot;</td><td>&quot;NA&quot;</td><td>&quot;NA&quot;</td><td>&quot;NA&quot;</td><td>&quot;NA&quot;</td><td>&quot;NA&quot;</td><td>&hellip;</td><td>&quot;Google Cloud Platform;Linux&quot;</td><td>&quot;jQuery&quot;</td><td>&quot;jQuery;Vue.js&quot;</td><td>&quot;Node.js&quot;</td><td>&quot;React Native;Unity 3D;Unreal Engine&quot;</td><td>&quot;Atom;Visual Studio;Visual Studio Code&quot;</td><td>&quot;Windows&quot;</td><td>&quot;I do not use containers&quot;</td><td>&quot;NA&quot;</td><td>&quot;Useful across many domains and could change many …</td><td>&quot;Yes&quot;</td><td>&quot;Yes&quot;</td><td>&quot;What?&quot;</td><td>&quot;YouTube&quot;</td><td>&quot;NA&quot;</td><td>&quot;Username&quot;</td><td>&quot;I don&#x27;t remember&quot;</td><td>&quot;A few times per week&quot;</td><td>&quot;Find answers to specific questions;Learn how to d…</td><td>&quot;3-5 times per week&quot;</td><td>&quot;Stack Overflow was slightly faster&quot;</td><td>&quot;11-30 minutes&quot;</td><td>&quot;Yes&quot;</td><td>&quot;I have never participated in Q&amp;A on Stack Overflo…</td><td>&quot;No, I knew that Stack Overflow had a job board bu…</td><td>&quot;No, I&#x27;ve heard of them, but I am not part of a pr…</td><td>&quot;No, not at all&quot;</td><td>&quot;NA&quot;</td><td>&quot;Tech articles written by other developers;Tech me…</td><td>&quot;NA&quot;</td><td>&quot;Man&quot;</td><td>&quot;No&quot;</td><td>&quot;NA&quot;</td><td>&quot;NA&quot;</td><td>&quot;No&quot;</td><td>&quot;Appropriate in length&quot;</td><td>&quot;Easy&quot;</td></tr><tr><td>88601</td><td>&quot;NA&quot;</td><td>&quot;No&quot;</td><td>&quot;Never&quot;</td><td>&quot;The quality of OSS and closed source software is …</td><td>&quot;NA&quot;</td><td>&quot;NA&quot;</td><td>&quot;NA&quot;</td><td>&quot;NA&quot;</td><td>&quot;NA&quot;</td><td>&quot;NA&quot;</td><td>&quot;NA&quot;</td><td>&quot;NA&quot;</td><td>&quot;NA&quot;</td><td>&quot;NA&quot;</td><td>&quot;NA&quot;</td><td>&quot;NA&quot;</td><td>&quot;NA&quot;</td><td>&quot;NA&quot;</td><td>&quot;NA&quot;</td><td>&quot;NA&quot;</td><td>&quot;NA&quot;</td><td>&quot;NA&quot;</td><td>&quot;NA&quot;</td><td>&quot;NA&quot;</td><td>&quot;NA&quot;</td><td>&quot;NA&quot;</td><td>&quot;NA&quot;</td><td>&quot;NA&quot;</td><td>&quot;NA&quot;</td><td>&quot;NA&quot;</td><td>&quot;NA&quot;</td><td>&quot;NA&quot;</td><td>&quot;NA&quot;</td><td>&quot;NA&quot;</td><td>&quot;NA&quot;</td><td>&quot;NA&quot;</td><td>&hellip;</td><td>&quot;NA&quot;</td><td>&quot;NA&quot;</td><td>&quot;NA&quot;</td><td>&quot;NA&quot;</td><td>&quot;NA&quot;</td><td>&quot;NA&quot;</td><td>&quot;NA&quot;</td><td>&quot;NA&quot;</td><td>&quot;NA&quot;</td><td>&quot;NA&quot;</td><td>&quot;NA&quot;</td><td>&quot;NA&quot;</td><td>&quot;NA&quot;</td><td>&quot;NA&quot;</td><td>&quot;NA&quot;</td><td>&quot;NA&quot;</td><td>&quot;NA&quot;</td><td>&quot;NA&quot;</td><td>&quot;NA&quot;</td><td>&quot;NA&quot;</td><td>&quot;NA&quot;</td><td>&quot;NA&quot;</td><td>&quot;NA&quot;</td><td>&quot;NA&quot;</td><td>&quot;NA&quot;</td><td>&quot;NA&quot;</td><td>&quot;NA&quot;</td><td>&quot;NA&quot;</td><td>&quot;NA&quot;</td><td>&quot;NA&quot;</td><td>&quot;NA&quot;</td><td>&quot;NA&quot;</td><td>&quot;NA&quot;</td><td>&quot;NA&quot;</td><td>&quot;NA&quot;</td><td>&quot;NA&quot;</td><td>&quot;NA&quot;</td></tr><tr><td>88802</td><td>&quot;NA&quot;</td><td>&quot;No&quot;</td><td>&quot;Never&quot;</td><td>&quot;NA&quot;</td><td>&quot;Employed full-time&quot;</td><td>&quot;NA&quot;</td><td>&quot;NA&quot;</td><td>&quot;NA&quot;</td><td>&quot;NA&quot;</td><td>&quot;NA&quot;</td><td>&quot;NA&quot;</td><td>&quot;NA&quot;</td><td>&quot;NA&quot;</td><td>&quot;NA&quot;</td><td>&quot;NA&quot;</td><td>&quot;NA&quot;</td><td>&quot;NA&quot;</td><td>&quot;NA&quot;</td><td>&quot;NA&quot;</td><td>&quot;NA&quot;</td><td>&quot;NA&quot;</td><td>&quot;NA&quot;</td><td>&quot;NA&quot;</td><td>&quot;NA&quot;</td><td>&quot;NA&quot;</td><td>&quot;NA&quot;</td><td>&quot;NA&quot;</td><td>&quot;NA&quot;</td><td>&quot;NA&quot;</td><td>&quot;NA&quot;</td><td>&quot;NA&quot;</td><td>&quot;NA&quot;</td><td>&quot;NA&quot;</td><td>&quot;NA&quot;</td><td>&quot;NA&quot;</td><td>&quot;NA&quot;</td><td>&hellip;</td><td>&quot;NA&quot;</td><td>&quot;NA&quot;</td><td>&quot;NA&quot;</td><td>&quot;NA&quot;</td><td>&quot;NA&quot;</td><td>&quot;NA&quot;</td><td>&quot;NA&quot;</td><td>&quot;NA&quot;</td><td>&quot;NA&quot;</td><td>&quot;NA&quot;</td><td>&quot;NA&quot;</td><td>&quot;NA&quot;</td><td>&quot;NA&quot;</td><td>&quot;NA&quot;</td><td>&quot;NA&quot;</td><td>&quot;NA&quot;</td><td>&quot;NA&quot;</td><td>&quot;NA&quot;</td><td>&quot;NA&quot;</td><td>&quot;NA&quot;</td><td>&quot;NA&quot;</td><td>&quot;NA&quot;</td><td>&quot;NA&quot;</td><td>&quot;NA&quot;</td><td>&quot;NA&quot;</td><td>&quot;NA&quot;</td><td>&quot;NA&quot;</td><td>&quot;NA&quot;</td><td>&quot;NA&quot;</td><td>&quot;NA&quot;</td><td>&quot;NA&quot;</td><td>&quot;NA&quot;</td><td>&quot;NA&quot;</td><td>&quot;NA&quot;</td><td>&quot;NA&quot;</td><td>&quot;NA&quot;</td><td>&quot;NA&quot;</td></tr><tr><td>88816</td><td>&quot;NA&quot;</td><td>&quot;No&quot;</td><td>&quot;Never&quot;</td><td>&quot;OSS is, on average, of HIGHER quality than propri…</td><td>&quot;Independent contractor, freelancer, or self-emplo…</td><td>&quot;NA&quot;</td><td>&quot;NA&quot;</td><td>&quot;NA&quot;</td><td>&quot;NA&quot;</td><td>&quot;NA&quot;</td><td>&quot;NA&quot;</td><td>&quot;NA&quot;</td><td>&quot;NA&quot;</td><td>&quot;NA&quot;</td><td>&quot;NA&quot;</td><td>&quot;NA&quot;</td><td>&quot;NA&quot;</td><td>&quot;NA&quot;</td><td>&quot;NA&quot;</td><td>&quot;NA&quot;</td><td>&quot;NA&quot;</td><td>&quot;NA&quot;</td><td>&quot;NA&quot;</td><td>&quot;NA&quot;</td><td>&quot;NA&quot;</td><td>&quot;NA&quot;</td><td>&quot;NA&quot;</td><td>&quot;NA&quot;</td><td>&quot;NA&quot;</td><td>&quot;NA&quot;</td><td>&quot;NA&quot;</td><td>&quot;NA&quot;</td><td>&quot;NA&quot;</td><td>&quot;NA&quot;</td><td>&quot;NA&quot;</td><td>&quot;NA&quot;</td><td>&hellip;</td><td>&quot;NA&quot;</td><td>&quot;NA&quot;</td><td>&quot;NA&quot;</td><td>&quot;NA&quot;</td><td>&quot;NA&quot;</td><td>&quot;NA&quot;</td><td>&quot;NA&quot;</td><td>&quot;NA&quot;</td><td>&quot;NA&quot;</td><td>&quot;NA&quot;</td><td>&quot;NA&quot;</td><td>&quot;NA&quot;</td><td>&quot;NA&quot;</td><td>&quot;NA&quot;</td><td>&quot;NA&quot;</td><td>&quot;NA&quot;</td><td>&quot;NA&quot;</td><td>&quot;NA&quot;</td><td>&quot;NA&quot;</td><td>&quot;NA&quot;</td><td>&quot;NA&quot;</td><td>&quot;NA&quot;</td><td>&quot;NA&quot;</td><td>&quot;NA&quot;</td><td>&quot;NA&quot;</td><td>&quot;NA&quot;</td><td>&quot;NA&quot;</td><td>&quot;NA&quot;</td><td>&quot;NA&quot;</td><td>&quot;NA&quot;</td><td>&quot;NA&quot;</td><td>&quot;NA&quot;</td><td>&quot;NA&quot;</td><td>&quot;NA&quot;</td><td>&quot;NA&quot;</td><td>&quot;NA&quot;</td><td>&quot;NA&quot;</td></tr><tr><td>88863</td><td>&quot;NA&quot;</td><td>&quot;Yes&quot;</td><td>&quot;Less than once per year&quot;</td><td>&quot;OSS is, on average, of HIGHER quality than propri…</td><td>&quot;Not employed, and not looking for work&quot;</td><td>&quot;Spain&quot;</td><td>&quot;Yes, full-time&quot;</td><td>&quot;Professional degree (JD, MD, etc.)&quot;</td><td>&quot;Computer science, computer engineering, or softwa…</td><td>&quot;Taken an online course in programming or software…</td><td>&quot;NA&quot;</td><td>&quot;NA&quot;</td><td>&quot;8&quot;</td><td>&quot;11&quot;</td><td>&quot;3&quot;</td><td>&quot;NA&quot;</td><td>&quot;NA&quot;</td><td>&quot;NA&quot;</td><td>&quot;NA&quot;</td><td>&quot;NA&quot;</td><td>&quot;NA&quot;</td><td>&quot;NA&quot;</td><td>&quot;NA&quot;</td><td>&quot;NA&quot;</td><td>&quot;NA&quot;</td><td>&quot;NA&quot;</td><td>&quot;NA&quot;</td><td>&quot;NA&quot;</td><td>&quot;NA&quot;</td><td>&quot;NA&quot;</td><td>&quot;NA&quot;</td><td>&quot;NA&quot;</td><td>&quot;NA&quot;</td><td>&quot;NA&quot;</td><td>&quot;NA&quot;</td><td>&quot;NA&quot;</td><td>&hellip;</td><td>&quot;Android;AWS;Google Cloud Platform;IBM Cloud or Wa…</td><td>&quot;Django;jQuery;React.js&quot;</td><td>&quot;Django&quot;</td><td>&quot;Unity 3D;Unreal Engine&quot;</td><td>&quot;NA&quot;</td><td>&quot;Android Studio;Atom;Eclipse;NetBeans;Notepad++;Su…</td><td>&quot;Linux-based&quot;</td><td>&quot;Production&quot;</td><td>&quot;NA&quot;</td><td>&quot;Useful for decentralized currency (i.e., Bitcoin)…</td><td>&quot;Yes&quot;</td><td>&quot;Also Yes&quot;</td><td>&quot;Yes&quot;</td><td>&quot;WhatsApp&quot;</td><td>&quot;In real life (in person)&quot;</td><td>&quot;NA&quot;</td><td>&quot;2012&quot;</td><td>&quot;Daily or almost daily&quot;</td><td>&quot;Find answers to specific questions;Learn how to d…</td><td>&quot;6-10 times per week&quot;</td><td>&quot;Stack Overflow was much faster&quot;</td><td>&quot;11-30 minutes&quot;</td><td>&quot;Yes&quot;</td><td>&quot;A few times per month or weekly&quot;</td><td>&quot;Yes&quot;</td><td>&quot;No, I&#x27;ve heard of them, but I am not part of a pr…</td><td>&quot;Yes, somewhat&quot;</td><td>&quot;Somewhat less welcome now than last year&quot;</td><td>&quot;Tech articles written by other developers;Industr…</td><td>&quot;18&quot;</td><td>&quot;Man&quot;</td><td>&quot;No&quot;</td><td>&quot;Straight / Heterosexual&quot;</td><td>&quot;Hispanic or Latino/Latina;White or of European de…</td><td>&quot;No&quot;</td><td>&quot;Appropriate in length&quot;</td><td>&quot;Easy&quot;</td></tr></tbody></table></div>"
      ],
      "text/plain": [
       "shape: (88_883, 85)\n",
       "┌────────────┬────────────────────┬──────────┬────────────────────┬───┬────────────────────┬────────────┬────────────────┬───────────────────┐\n",
       "│ Respondent ┆ MainBranch         ┆ Hobbyist ┆ OpenSourcer        ┆ … ┆ Ethnicity          ┆ Dependents ┆ SurveyLength   ┆ SurveyEase        │\n",
       "│ ---        ┆ ---                ┆ ---      ┆ ---                ┆   ┆ ---                ┆ ---        ┆ ---            ┆ ---               │\n",
       "│ i64        ┆ str                ┆ str      ┆ str                ┆   ┆ str                ┆ str        ┆ str            ┆ str               │\n",
       "╞════════════╪════════════════════╪══════════╪════════════════════╪═══╪════════════════════╪════════════╪════════════════╪═══════════════════╡\n",
       "│ 1          ┆ I am a student who ┆ Yes      ┆ Never              ┆ … ┆ NA                 ┆ No         ┆ Appropriate in ┆ Neither easy nor  │\n",
       "│            ┆ is learning to     ┆          ┆                    ┆   ┆                    ┆            ┆ length         ┆ difficult         │\n",
       "│            ┆ code               ┆          ┆                    ┆   ┆                    ┆            ┆                ┆                   │\n",
       "│ 2          ┆ I am a student who ┆ No       ┆ Less than once per ┆ … ┆ NA                 ┆ No         ┆ Appropriate in ┆ Neither easy nor  │\n",
       "│            ┆ is learning to     ┆          ┆ year               ┆   ┆                    ┆            ┆ length         ┆ difficult         │\n",
       "│            ┆ code               ┆          ┆                    ┆   ┆                    ┆            ┆                ┆                   │\n",
       "│ 3          ┆ I am not primarily ┆ Yes      ┆ Never              ┆ … ┆ NA                 ┆ Yes        ┆ Appropriate in ┆ Neither easy nor  │\n",
       "│            ┆ a developer, but I ┆          ┆                    ┆   ┆                    ┆            ┆ length         ┆ difficult         │\n",
       "│            ┆ write code s…      ┆          ┆                    ┆   ┆                    ┆            ┆                ┆                   │\n",
       "│ 4          ┆ I am a developer   ┆ No       ┆ Never              ┆ … ┆ White or of        ┆ No         ┆ Appropriate in ┆ Easy              │\n",
       "│            ┆ by profession      ┆          ┆                    ┆   ┆ European descent   ┆            ┆ length         ┆                   │\n",
       "│ 5          ┆ I am a developer   ┆ Yes      ┆ Once a month or    ┆ … ┆ White or of        ┆ No         ┆ Appropriate in ┆ Easy              │\n",
       "│            ┆ by profession      ┆          ┆ more often         ┆   ┆ European descent;M ┆            ┆ length         ┆                   │\n",
       "│            ┆                    ┆          ┆                    ┆   ┆ ultiracial         ┆            ┆                ┆                   │\n",
       "│ …          ┆ …                  ┆ …        ┆ …                  ┆ … ┆ …                  ┆ …          ┆ …              ┆ …                 │\n",
       "│ 88377      ┆ NA                 ┆ Yes      ┆ Less than once a   ┆ … ┆ NA                 ┆ No         ┆ Appropriate in ┆ Easy              │\n",
       "│            ┆                    ┆          ┆ month but more     ┆   ┆                    ┆            ┆ length         ┆                   │\n",
       "│            ┆                    ┆          ┆ than once per year ┆   ┆                    ┆            ┆                ┆                   │\n",
       "│ 88601      ┆ NA                 ┆ No       ┆ Never              ┆ … ┆ NA                 ┆ NA         ┆ NA             ┆ NA                │\n",
       "│ 88802      ┆ NA                 ┆ No       ┆ Never              ┆ … ┆ NA                 ┆ NA         ┆ NA             ┆ NA                │\n",
       "│ 88816      ┆ NA                 ┆ No       ┆ Never              ┆ … ┆ NA                 ┆ NA         ┆ NA             ┆ NA                │\n",
       "│ 88863      ┆ NA                 ┆ Yes      ┆ Less than once per ┆ … ┆ Hispanic or Latino ┆ No         ┆ Appropriate in ┆ Easy              │\n",
       "│            ┆                    ┆          ┆ year               ┆   ┆ /Latina;White or   ┆            ┆ length         ┆                   │\n",
       "│            ┆                    ┆          ┆                    ┆   ┆ of European des…   ┆            ┆                ┆                   │\n",
       "└────────────┴────────────────────┴──────────┴────────────────────┴───┴────────────────────┴────────────┴────────────────┴───────────────────┘"
      ]
     },
     "execution_count": 56,
     "metadata": {},
     "output_type": "execute_result"
    }
   ],
   "source": [
    "df"
   ]
  },
  {
   "cell_type": "code",
   "execution_count": 57,
   "id": "bfbef6a6-744d-46ee-ba70-ece511cdd930",
   "metadata": {},
   "outputs": [
    {
     "data": {
      "text/html": [
       "<div><style>\n",
       ".dataframe > thead > tr > th,\n",
       ".dataframe > tbody > tr > td {\n",
       "  text-align: right;\n",
       "  white-space: pre-wrap;\n",
       "}\n",
       "</style>\n",
       "<small>shape: (88_883, 85)</small><table border=\"1\" class=\"dataframe\"><thead><tr><th>Respondent</th><th>MainBranch</th><th>Hobbyist</th><th>OpenSourcer</th><th>OpenSource</th><th>Employment</th><th>Country</th><th>Student</th><th>EdLevel</th><th>UndergradMajor</th><th>EduOther</th><th>OrgSize</th><th>DevType</th><th>YearsCode</th><th>Age1stCode</th><th>YearsCodePro</th><th>CareerSat</th><th>JobSat</th><th>MgrIdiot</th><th>MgrMoney</th><th>MgrWant</th><th>JobSeek</th><th>LastHireDate</th><th>LastInt</th><th>FizzBuzz</th><th>JobFactors</th><th>ResumeUpdate</th><th>CurrencySymbol</th><th>CurrencyDesc</th><th>CompTotal</th><th>CompFreq</th><th>ConvertedComp</th><th>WorkWeekHrs</th><th>WorkPlan</th><th>WorkChallenge</th><th>WorkRemote</th><th>WorkLoc</th><th>&hellip;</th><th>PlatformDesireNextYear</th><th>WebFrameWorkedWith</th><th>WebFrameDesireNextYear</th><th>MiscTechWorkedWith</th><th>MiscTechDesireNextYear</th><th>DevEnviron</th><th>OpSys</th><th>Containers</th><th>BlockchainOrg</th><th>BlockchainIs</th><th>BetterLife</th><th>ITperson</th><th>OffOn</th><th>SocialMedia</th><th>Extraversion</th><th>ScreenName</th><th>SOVisit1st</th><th>SOVisitFreq</th><th>SOVisitTo</th><th>SOFindAnswer</th><th>SOTimeSaved</th><th>SOHowMuchTime</th><th>SOAccount</th><th>SOPartFreq</th><th>SOJobs</th><th>EntTeams</th><th>SOComm</th><th>WelcomeChange</th><th>SONewContent</th><th>Age</th><th>Gender</th><th>Trans</th><th>Sexuality</th><th>Ethnicity</th><th>Dependents</th><th>SurveyLength</th><th>SurveyEase</th></tr><tr><td>i64</td><td>str</td><td>bool</td><td>str</td><td>str</td><td>str</td><td>str</td><td>str</td><td>str</td><td>str</td><td>str</td><td>str</td><td>str</td><td>str</td><td>str</td><td>str</td><td>str</td><td>str</td><td>str</td><td>str</td><td>str</td><td>str</td><td>str</td><td>str</td><td>str</td><td>str</td><td>str</td><td>str</td><td>str</td><td>str</td><td>str</td><td>str</td><td>str</td><td>str</td><td>str</td><td>str</td><td>str</td><td>&hellip;</td><td>str</td><td>str</td><td>str</td><td>str</td><td>str</td><td>str</td><td>str</td><td>str</td><td>str</td><td>str</td><td>str</td><td>str</td><td>str</td><td>str</td><td>str</td><td>str</td><td>str</td><td>str</td><td>str</td><td>str</td><td>str</td><td>str</td><td>str</td><td>str</td><td>str</td><td>str</td><td>str</td><td>str</td><td>str</td><td>str</td><td>str</td><td>str</td><td>str</td><td>str</td><td>str</td><td>str</td><td>str</td></tr></thead><tbody><tr><td>1</td><td>&quot;I am a student who is learning to code&quot;</td><td>true</td><td>&quot;Never&quot;</td><td>&quot;The quality of OSS and closed source software is …</td><td>&quot;Not employed, and not looking for work&quot;</td><td>&quot;United Kingdom&quot;</td><td>&quot;No&quot;</td><td>&quot;Primary/elementary school&quot;</td><td>&quot;NA&quot;</td><td>&quot;Taught yourself a new language, framework, or too…</td><td>&quot;NA&quot;</td><td>&quot;NA&quot;</td><td>&quot;4&quot;</td><td>&quot;10&quot;</td><td>&quot;NA&quot;</td><td>&quot;NA&quot;</td><td>&quot;NA&quot;</td><td>&quot;NA&quot;</td><td>&quot;NA&quot;</td><td>&quot;NA&quot;</td><td>&quot;NA&quot;</td><td>&quot;NA&quot;</td><td>&quot;NA&quot;</td><td>&quot;NA&quot;</td><td>&quot;NA&quot;</td><td>&quot;NA&quot;</td><td>&quot;NA&quot;</td><td>&quot;NA&quot;</td><td>&quot;NA&quot;</td><td>&quot;NA&quot;</td><td>&quot;NA&quot;</td><td>&quot;NA&quot;</td><td>&quot;NA&quot;</td><td>&quot;NA&quot;</td><td>&quot;NA&quot;</td><td>&quot;NA&quot;</td><td>&hellip;</td><td>&quot;Android;Arduino;Windows&quot;</td><td>&quot;Django;Flask&quot;</td><td>&quot;Flask;jQuery&quot;</td><td>&quot;Node.js&quot;</td><td>&quot;Node.js&quot;</td><td>&quot;IntelliJ;Notepad++;PyCharm&quot;</td><td>&quot;Windows&quot;</td><td>&quot;I do not use containers&quot;</td><td>&quot;NA&quot;</td><td>&quot;NA&quot;</td><td>&quot;Yes&quot;</td><td>&quot;Fortunately, someone else has that title&quot;</td><td>&quot;Yes&quot;</td><td>&quot;Twitter&quot;</td><td>&quot;Online&quot;</td><td>&quot;Username&quot;</td><td>&quot;2017&quot;</td><td>&quot;A few times per month or weekly&quot;</td><td>&quot;Find answers to specific questions;Learn how to d…</td><td>&quot;3-5 times per week&quot;</td><td>&quot;Stack Overflow was much faster&quot;</td><td>&quot;31-60 minutes&quot;</td><td>&quot;No&quot;</td><td>&quot;NA&quot;</td><td>&quot;No, I didn&#x27;t know that Stack Overflow had a job b…</td><td>&quot;No, and I don&#x27;t know what those are&quot;</td><td>&quot;Neutral&quot;</td><td>&quot;Just as welcome now as I felt last year&quot;</td><td>&quot;Tech articles written by other developers;Industr…</td><td>&quot;14&quot;</td><td>&quot;Man&quot;</td><td>&quot;No&quot;</td><td>&quot;Straight / Heterosexual&quot;</td><td>&quot;NA&quot;</td><td>&quot;No&quot;</td><td>&quot;Appropriate in length&quot;</td><td>&quot;Neither easy nor difficult&quot;</td></tr><tr><td>2</td><td>&quot;I am a student who is learning to code&quot;</td><td>false</td><td>&quot;Less than once per year&quot;</td><td>&quot;The quality of OSS and closed source software is …</td><td>&quot;Not employed, but looking for work&quot;</td><td>&quot;Bosnia and Herzegovina&quot;</td><td>&quot;Yes, full-time&quot;</td><td>&quot;Secondary school (e.g. American high school, Germ…</td><td>&quot;NA&quot;</td><td>&quot;Taken an online course in programming or software…</td><td>&quot;NA&quot;</td><td>&quot;Developer, desktop or enterprise applications;Dev…</td><td>&quot;NA&quot;</td><td>&quot;17&quot;</td><td>&quot;NA&quot;</td><td>&quot;NA&quot;</td><td>&quot;NA&quot;</td><td>&quot;NA&quot;</td><td>&quot;NA&quot;</td><td>&quot;NA&quot;</td><td>&quot;I am actively looking for a job&quot;</td><td>&quot;I&#x27;ve never had a job&quot;</td><td>&quot;NA&quot;</td><td>&quot;NA&quot;</td><td>&quot;Financial performance or funding status of the co…</td><td>&quot;Something else changed (education, award, media, …</td><td>&quot;NA&quot;</td><td>&quot;NA&quot;</td><td>&quot;NA&quot;</td><td>&quot;NA&quot;</td><td>&quot;NA&quot;</td><td>&quot;NA&quot;</td><td>&quot;NA&quot;</td><td>&quot;NA&quot;</td><td>&quot;NA&quot;</td><td>&quot;NA&quot;</td><td>&hellip;</td><td>&quot;Windows&quot;</td><td>&quot;Django&quot;</td><td>&quot;Django&quot;</td><td>&quot;NA&quot;</td><td>&quot;NA&quot;</td><td>&quot;Atom;PyCharm&quot;</td><td>&quot;Windows&quot;</td><td>&quot;I do not use containers&quot;</td><td>&quot;NA&quot;</td><td>&quot;Useful across many domains and could change many …</td><td>&quot;Yes&quot;</td><td>&quot;Yes&quot;</td><td>&quot;Yes&quot;</td><td>&quot;Instagram&quot;</td><td>&quot;Online&quot;</td><td>&quot;Username&quot;</td><td>&quot;2017&quot;</td><td>&quot;Daily or almost daily&quot;</td><td>&quot;Find answers to specific questions;Learn how to d…</td><td>&quot;3-5 times per week&quot;</td><td>&quot;Stack Overflow was much faster&quot;</td><td>&quot;11-30 minutes&quot;</td><td>&quot;Yes&quot;</td><td>&quot;A few times per month or weekly&quot;</td><td>&quot;No, I knew that Stack Overflow had a job board bu…</td><td>&quot;No, and I don&#x27;t know what those are&quot;</td><td>&quot;Yes, somewhat&quot;</td><td>&quot;Just as welcome now as I felt last year&quot;</td><td>&quot;Tech articles written by other developers;Industr…</td><td>&quot;19&quot;</td><td>&quot;Man&quot;</td><td>&quot;No&quot;</td><td>&quot;Straight / Heterosexual&quot;</td><td>&quot;NA&quot;</td><td>&quot;No&quot;</td><td>&quot;Appropriate in length&quot;</td><td>&quot;Neither easy nor difficult&quot;</td></tr><tr><td>3</td><td>&quot;I am not primarily a developer, but I write code …</td><td>true</td><td>&quot;Never&quot;</td><td>&quot;The quality of OSS and closed source software is …</td><td>&quot;Employed full-time&quot;</td><td>&quot;Thailand&quot;</td><td>&quot;No&quot;</td><td>&quot;Bachelor’s degree (BA, BS, B.Eng., etc.)&quot;</td><td>&quot;Web development or web design&quot;</td><td>&quot;Taught yourself a new language, framework, or too…</td><td>&quot;100 to 499 employees&quot;</td><td>&quot;Designer;Developer, back-end;Developer, front-end…</td><td>&quot;3&quot;</td><td>&quot;22&quot;</td><td>&quot;1&quot;</td><td>&quot;Slightly satisfied&quot;</td><td>&quot;Slightly satisfied&quot;</td><td>&quot;Not at all confident&quot;</td><td>&quot;Not sure&quot;</td><td>&quot;Not sure&quot;</td><td>&quot;I’m not actively looking, but I am open to new op…</td><td>&quot;1-2 years ago&quot;</td><td>&quot;Interview with people in peer roles&quot;</td><td>&quot;No&quot;</td><td>&quot;Languages, frameworks, and other technologies I&#x27;d…</td><td>&quot;I was preparing for a job search&quot;</td><td>&quot;THB&quot;</td><td>&quot;Thai baht&quot;</td><td>&quot;23000&quot;</td><td>&quot;Monthly&quot;</td><td>&quot;8820&quot;</td><td>&quot;40&quot;</td><td>&quot;There&#x27;s no schedule or spec; I work on what seems…</td><td>&quot;Distracting work environment;Inadequate access to…</td><td>&quot;Less than once per month / Never&quot;</td><td>&quot;Home&quot;</td><td>&hellip;</td><td>&quot;NA&quot;</td><td>&quot;NA&quot;</td><td>&quot;Other(s):&quot;</td><td>&quot;NA&quot;</td><td>&quot;NA&quot;</td><td>&quot;Vim;Visual Studio Code&quot;</td><td>&quot;Linux-based&quot;</td><td>&quot;I do not use containers&quot;</td><td>&quot;NA&quot;</td><td>&quot;NA&quot;</td><td>&quot;Yes&quot;</td><td>&quot;Yes&quot;</td><td>&quot;Yes&quot;</td><td>&quot;Reddit&quot;</td><td>&quot;In real life (in person)&quot;</td><td>&quot;Username&quot;</td><td>&quot;2011&quot;</td><td>&quot;A few times per week&quot;</td><td>&quot;Find answers to specific questions;Learn how to d…</td><td>&quot;6-10 times per week&quot;</td><td>&quot;They were about the same&quot;</td><td>&quot;NA&quot;</td><td>&quot;Yes&quot;</td><td>&quot;Less than once per month or monthly&quot;</td><td>&quot;Yes&quot;</td><td>&quot;No, I&#x27;ve heard of them, but I am not part of a pr…</td><td>&quot;Neutral&quot;</td><td>&quot;Just as welcome now as I felt last year&quot;</td><td>&quot;Tech meetups or events in your area;Courses on te…</td><td>&quot;28&quot;</td><td>&quot;Man&quot;</td><td>&quot;No&quot;</td><td>&quot;Straight / Heterosexual&quot;</td><td>&quot;NA&quot;</td><td>&quot;Yes&quot;</td><td>&quot;Appropriate in length&quot;</td><td>&quot;Neither easy nor difficult&quot;</td></tr><tr><td>4</td><td>&quot;I am a developer by profession&quot;</td><td>false</td><td>&quot;Never&quot;</td><td>&quot;The quality of OSS and closed source software is …</td><td>&quot;Employed full-time&quot;</td><td>&quot;United States&quot;</td><td>&quot;No&quot;</td><td>&quot;Bachelor’s degree (BA, BS, B.Eng., etc.)&quot;</td><td>&quot;Computer science, computer engineering, or softwa…</td><td>&quot;Taken an online course in programming or software…</td><td>&quot;100 to 499 employees&quot;</td><td>&quot;Developer, full-stack&quot;</td><td>&quot;3&quot;</td><td>&quot;16&quot;</td><td>&quot;Less than 1 year&quot;</td><td>&quot;Very satisfied&quot;</td><td>&quot;Slightly satisfied&quot;</td><td>&quot;Very confident&quot;</td><td>&quot;No&quot;</td><td>&quot;Not sure&quot;</td><td>&quot;I am not interested in new job opportunities&quot;</td><td>&quot;Less than a year ago&quot;</td><td>&quot;Write code by hand (e.g., on a whiteboard);Interv…</td><td>&quot;No&quot;</td><td>&quot;Languages, frameworks, and other technologies I&#x27;d…</td><td>&quot;I was preparing for a job search&quot;</td><td>&quot;USD&quot;</td><td>&quot;United States dollar&quot;</td><td>&quot;61000&quot;</td><td>&quot;Yearly&quot;</td><td>&quot;61000&quot;</td><td>&quot;80&quot;</td><td>&quot;There&#x27;s no schedule or spec; I work on what seems…</td><td>&quot;NA&quot;</td><td>&quot;Less than once per month / Never&quot;</td><td>&quot;Home&quot;</td><td>&hellip;</td><td>&quot;Linux;Windows&quot;</td><td>&quot;NA&quot;</td><td>&quot;NA&quot;</td><td>&quot;.NET&quot;</td><td>&quot;.NET&quot;</td><td>&quot;Eclipse;Vim;Visual Studio;Visual Studio Code&quot;</td><td>&quot;Windows&quot;</td><td>&quot;I do not use containers&quot;</td><td>&quot;Not at all&quot;</td><td>&quot;Useful for decentralized currency (i.e., Bitcoin)…</td><td>&quot;Yes&quot;</td><td>&quot;SIGH&quot;</td><td>&quot;Yes&quot;</td><td>&quot;Reddit&quot;</td><td>&quot;In real life (in person)&quot;</td><td>&quot;Username&quot;</td><td>&quot;2014&quot;</td><td>&quot;Daily or almost daily&quot;</td><td>&quot;Find answers to specific questions;Pass the time …</td><td>&quot;1-2 times per week&quot;</td><td>&quot;Stack Overflow was much faster&quot;</td><td>&quot;31-60 minutes&quot;</td><td>&quot;Yes&quot;</td><td>&quot;Less than once per month or monthly&quot;</td><td>&quot;Yes&quot;</td><td>&quot;No, and I don&#x27;t know what those are&quot;</td><td>&quot;No, not really&quot;</td><td>&quot;Just as welcome now as I felt last year&quot;</td><td>&quot;Tech articles written by other developers;Industr…</td><td>&quot;22&quot;</td><td>&quot;Man&quot;</td><td>&quot;No&quot;</td><td>&quot;Straight / Heterosexual&quot;</td><td>&quot;White or of European descent&quot;</td><td>&quot;No&quot;</td><td>&quot;Appropriate in length&quot;</td><td>&quot;Easy&quot;</td></tr><tr><td>5</td><td>&quot;I am a developer by profession&quot;</td><td>true</td><td>&quot;Once a month or more often&quot;</td><td>&quot;OSS is, on average, of HIGHER quality than propri…</td><td>&quot;Employed full-time&quot;</td><td>&quot;Ukraine&quot;</td><td>&quot;No&quot;</td><td>&quot;Bachelor’s degree (BA, BS, B.Eng., etc.)&quot;</td><td>&quot;Computer science, computer engineering, or softwa…</td><td>&quot;Taken an online course in programming or software…</td><td>&quot;10,000 or more employees&quot;</td><td>&quot;Academic researcher;Developer, desktop or enterpr…</td><td>&quot;16&quot;</td><td>&quot;14&quot;</td><td>&quot;9&quot;</td><td>&quot;Very dissatisfied&quot;</td><td>&quot;Slightly dissatisfied&quot;</td><td>&quot;Somewhat confident&quot;</td><td>&quot;Yes&quot;</td><td>&quot;No&quot;</td><td>&quot;I am not interested in new job opportunities&quot;</td><td>&quot;Less than a year ago&quot;</td><td>&quot;Write any code;Write code by hand (e.g., on a whi…</td><td>&quot;No&quot;</td><td>&quot;Industry that I&#x27;d be working in;Languages, framew…</td><td>&quot;I was preparing for a job search&quot;</td><td>&quot;UAH&quot;</td><td>&quot;Ukrainian hryvnia&quot;</td><td>&quot;NA&quot;</td><td>&quot;NA&quot;</td><td>&quot;NA&quot;</td><td>&quot;55&quot;</td><td>&quot;There is a schedule and/or spec (made by me or by…</td><td>&quot;Being tasked with non-development work;Inadequate…</td><td>&quot;A few days each month&quot;</td><td>&quot;Office&quot;</td><td>&hellip;</td><td>&quot;Android;Docker;Kubernetes;Linux;Slack&quot;</td><td>&quot;Django;Express;Flask;jQuery;React.js;Spring&quot;</td><td>&quot;Flask;jQuery;React.js;Spring&quot;</td><td>&quot;Cordova;Node.js&quot;</td><td>&quot;Apache Spark;Hadoop;Node.js;React Native&quot;</td><td>&quot;IntelliJ;Notepad++;Vim&quot;</td><td>&quot;Linux-based&quot;</td><td>&quot;Outside of work, for personal projects&quot;</td><td>&quot;Not at all&quot;</td><td>&quot;NA&quot;</td><td>&quot;Yes&quot;</td><td>&quot;Also Yes&quot;</td><td>&quot;Yes&quot;</td><td>&quot;Facebook&quot;</td><td>&quot;In real life (in person)&quot;</td><td>&quot;Username&quot;</td><td>&quot;I don&#x27;t remember&quot;</td><td>&quot;Multiple times per day&quot;</td><td>&quot;Find answers to specific questions&quot;</td><td>&quot;More than 10 times per week&quot;</td><td>&quot;Stack Overflow was much faster&quot;</td><td>&quot;NA&quot;</td><td>&quot;Yes&quot;</td><td>&quot;A few times per month or weekly&quot;</td><td>&quot;No, I knew that Stack Overflow had a job board bu…</td><td>&quot;No, I&#x27;ve heard of them, but I am not part of a pr…</td><td>&quot;Yes, definitely&quot;</td><td>&quot;Just as welcome now as I felt last year&quot;</td><td>&quot;Tech meetups or events in your area;Courses on te…</td><td>&quot;30&quot;</td><td>&quot;Man&quot;</td><td>&quot;No&quot;</td><td>&quot;Straight / Heterosexual&quot;</td><td>&quot;White or of European descent;Multiracial&quot;</td><td>&quot;No&quot;</td><td>&quot;Appropriate in length&quot;</td><td>&quot;Easy&quot;</td></tr><tr><td>&hellip;</td><td>&hellip;</td><td>&hellip;</td><td>&hellip;</td><td>&hellip;</td><td>&hellip;</td><td>&hellip;</td><td>&hellip;</td><td>&hellip;</td><td>&hellip;</td><td>&hellip;</td><td>&hellip;</td><td>&hellip;</td><td>&hellip;</td><td>&hellip;</td><td>&hellip;</td><td>&hellip;</td><td>&hellip;</td><td>&hellip;</td><td>&hellip;</td><td>&hellip;</td><td>&hellip;</td><td>&hellip;</td><td>&hellip;</td><td>&hellip;</td><td>&hellip;</td><td>&hellip;</td><td>&hellip;</td><td>&hellip;</td><td>&hellip;</td><td>&hellip;</td><td>&hellip;</td><td>&hellip;</td><td>&hellip;</td><td>&hellip;</td><td>&hellip;</td><td>&hellip;</td><td>&hellip;</td><td>&hellip;</td><td>&hellip;</td><td>&hellip;</td><td>&hellip;</td><td>&hellip;</td><td>&hellip;</td><td>&hellip;</td><td>&hellip;</td><td>&hellip;</td><td>&hellip;</td><td>&hellip;</td><td>&hellip;</td><td>&hellip;</td><td>&hellip;</td><td>&hellip;</td><td>&hellip;</td><td>&hellip;</td><td>&hellip;</td><td>&hellip;</td><td>&hellip;</td><td>&hellip;</td><td>&hellip;</td><td>&hellip;</td><td>&hellip;</td><td>&hellip;</td><td>&hellip;</td><td>&hellip;</td><td>&hellip;</td><td>&hellip;</td><td>&hellip;</td><td>&hellip;</td><td>&hellip;</td><td>&hellip;</td><td>&hellip;</td><td>&hellip;</td><td>&hellip;</td><td>&hellip;</td></tr><tr><td>88377</td><td>&quot;NA&quot;</td><td>true</td><td>&quot;Less than once a month but more than once per yea…</td><td>&quot;The quality of OSS and closed source software is …</td><td>&quot;Not employed, and not looking for work&quot;</td><td>&quot;Canada&quot;</td><td>&quot;No&quot;</td><td>&quot;Primary/elementary school&quot;</td><td>&quot;NA&quot;</td><td>&quot;Taught yourself a new language, framework, or too…</td><td>&quot;NA&quot;</td><td>&quot;NA&quot;</td><td>&quot;NA&quot;</td><td>&quot;NA&quot;</td><td>&quot;NA&quot;</td><td>&quot;NA&quot;</td><td>&quot;NA&quot;</td><td>&quot;NA&quot;</td><td>&quot;NA&quot;</td><td>&quot;NA&quot;</td><td>&quot;NA&quot;</td><td>&quot;NA&quot;</td><td>&quot;NA&quot;</td><td>&quot;NA&quot;</td><td>&quot;NA&quot;</td><td>&quot;NA&quot;</td><td>&quot;NA&quot;</td><td>&quot;NA&quot;</td><td>&quot;NA&quot;</td><td>&quot;NA&quot;</td><td>&quot;NA&quot;</td><td>&quot;NA&quot;</td><td>&quot;NA&quot;</td><td>&quot;NA&quot;</td><td>&quot;NA&quot;</td><td>&quot;NA&quot;</td><td>&hellip;</td><td>&quot;Google Cloud Platform;Linux&quot;</td><td>&quot;jQuery&quot;</td><td>&quot;jQuery;Vue.js&quot;</td><td>&quot;Node.js&quot;</td><td>&quot;React Native;Unity 3D;Unreal Engine&quot;</td><td>&quot;Atom;Visual Studio;Visual Studio Code&quot;</td><td>&quot;Windows&quot;</td><td>&quot;I do not use containers&quot;</td><td>&quot;NA&quot;</td><td>&quot;Useful across many domains and could change many …</td><td>&quot;Yes&quot;</td><td>&quot;Yes&quot;</td><td>&quot;What?&quot;</td><td>&quot;YouTube&quot;</td><td>&quot;NA&quot;</td><td>&quot;Username&quot;</td><td>&quot;I don&#x27;t remember&quot;</td><td>&quot;A few times per week&quot;</td><td>&quot;Find answers to specific questions;Learn how to d…</td><td>&quot;3-5 times per week&quot;</td><td>&quot;Stack Overflow was slightly faster&quot;</td><td>&quot;11-30 minutes&quot;</td><td>&quot;Yes&quot;</td><td>&quot;I have never participated in Q&amp;A on Stack Overflo…</td><td>&quot;No, I knew that Stack Overflow had a job board bu…</td><td>&quot;No, I&#x27;ve heard of them, but I am not part of a pr…</td><td>&quot;No, not at all&quot;</td><td>&quot;NA&quot;</td><td>&quot;Tech articles written by other developers;Tech me…</td><td>&quot;NA&quot;</td><td>&quot;Man&quot;</td><td>&quot;No&quot;</td><td>&quot;NA&quot;</td><td>&quot;NA&quot;</td><td>&quot;No&quot;</td><td>&quot;Appropriate in length&quot;</td><td>&quot;Easy&quot;</td></tr><tr><td>88601</td><td>&quot;NA&quot;</td><td>false</td><td>&quot;Never&quot;</td><td>&quot;The quality of OSS and closed source software is …</td><td>&quot;NA&quot;</td><td>&quot;NA&quot;</td><td>&quot;NA&quot;</td><td>&quot;NA&quot;</td><td>&quot;NA&quot;</td><td>&quot;NA&quot;</td><td>&quot;NA&quot;</td><td>&quot;NA&quot;</td><td>&quot;NA&quot;</td><td>&quot;NA&quot;</td><td>&quot;NA&quot;</td><td>&quot;NA&quot;</td><td>&quot;NA&quot;</td><td>&quot;NA&quot;</td><td>&quot;NA&quot;</td><td>&quot;NA&quot;</td><td>&quot;NA&quot;</td><td>&quot;NA&quot;</td><td>&quot;NA&quot;</td><td>&quot;NA&quot;</td><td>&quot;NA&quot;</td><td>&quot;NA&quot;</td><td>&quot;NA&quot;</td><td>&quot;NA&quot;</td><td>&quot;NA&quot;</td><td>&quot;NA&quot;</td><td>&quot;NA&quot;</td><td>&quot;NA&quot;</td><td>&quot;NA&quot;</td><td>&quot;NA&quot;</td><td>&quot;NA&quot;</td><td>&quot;NA&quot;</td><td>&hellip;</td><td>&quot;NA&quot;</td><td>&quot;NA&quot;</td><td>&quot;NA&quot;</td><td>&quot;NA&quot;</td><td>&quot;NA&quot;</td><td>&quot;NA&quot;</td><td>&quot;NA&quot;</td><td>&quot;NA&quot;</td><td>&quot;NA&quot;</td><td>&quot;NA&quot;</td><td>&quot;NA&quot;</td><td>&quot;NA&quot;</td><td>&quot;NA&quot;</td><td>&quot;NA&quot;</td><td>&quot;NA&quot;</td><td>&quot;NA&quot;</td><td>&quot;NA&quot;</td><td>&quot;NA&quot;</td><td>&quot;NA&quot;</td><td>&quot;NA&quot;</td><td>&quot;NA&quot;</td><td>&quot;NA&quot;</td><td>&quot;NA&quot;</td><td>&quot;NA&quot;</td><td>&quot;NA&quot;</td><td>&quot;NA&quot;</td><td>&quot;NA&quot;</td><td>&quot;NA&quot;</td><td>&quot;NA&quot;</td><td>&quot;NA&quot;</td><td>&quot;NA&quot;</td><td>&quot;NA&quot;</td><td>&quot;NA&quot;</td><td>&quot;NA&quot;</td><td>&quot;NA&quot;</td><td>&quot;NA&quot;</td><td>&quot;NA&quot;</td></tr><tr><td>88802</td><td>&quot;NA&quot;</td><td>false</td><td>&quot;Never&quot;</td><td>&quot;NA&quot;</td><td>&quot;Employed full-time&quot;</td><td>&quot;NA&quot;</td><td>&quot;NA&quot;</td><td>&quot;NA&quot;</td><td>&quot;NA&quot;</td><td>&quot;NA&quot;</td><td>&quot;NA&quot;</td><td>&quot;NA&quot;</td><td>&quot;NA&quot;</td><td>&quot;NA&quot;</td><td>&quot;NA&quot;</td><td>&quot;NA&quot;</td><td>&quot;NA&quot;</td><td>&quot;NA&quot;</td><td>&quot;NA&quot;</td><td>&quot;NA&quot;</td><td>&quot;NA&quot;</td><td>&quot;NA&quot;</td><td>&quot;NA&quot;</td><td>&quot;NA&quot;</td><td>&quot;NA&quot;</td><td>&quot;NA&quot;</td><td>&quot;NA&quot;</td><td>&quot;NA&quot;</td><td>&quot;NA&quot;</td><td>&quot;NA&quot;</td><td>&quot;NA&quot;</td><td>&quot;NA&quot;</td><td>&quot;NA&quot;</td><td>&quot;NA&quot;</td><td>&quot;NA&quot;</td><td>&quot;NA&quot;</td><td>&hellip;</td><td>&quot;NA&quot;</td><td>&quot;NA&quot;</td><td>&quot;NA&quot;</td><td>&quot;NA&quot;</td><td>&quot;NA&quot;</td><td>&quot;NA&quot;</td><td>&quot;NA&quot;</td><td>&quot;NA&quot;</td><td>&quot;NA&quot;</td><td>&quot;NA&quot;</td><td>&quot;NA&quot;</td><td>&quot;NA&quot;</td><td>&quot;NA&quot;</td><td>&quot;NA&quot;</td><td>&quot;NA&quot;</td><td>&quot;NA&quot;</td><td>&quot;NA&quot;</td><td>&quot;NA&quot;</td><td>&quot;NA&quot;</td><td>&quot;NA&quot;</td><td>&quot;NA&quot;</td><td>&quot;NA&quot;</td><td>&quot;NA&quot;</td><td>&quot;NA&quot;</td><td>&quot;NA&quot;</td><td>&quot;NA&quot;</td><td>&quot;NA&quot;</td><td>&quot;NA&quot;</td><td>&quot;NA&quot;</td><td>&quot;NA&quot;</td><td>&quot;NA&quot;</td><td>&quot;NA&quot;</td><td>&quot;NA&quot;</td><td>&quot;NA&quot;</td><td>&quot;NA&quot;</td><td>&quot;NA&quot;</td><td>&quot;NA&quot;</td></tr><tr><td>88816</td><td>&quot;NA&quot;</td><td>false</td><td>&quot;Never&quot;</td><td>&quot;OSS is, on average, of HIGHER quality than propri…</td><td>&quot;Independent contractor, freelancer, or self-emplo…</td><td>&quot;NA&quot;</td><td>&quot;NA&quot;</td><td>&quot;NA&quot;</td><td>&quot;NA&quot;</td><td>&quot;NA&quot;</td><td>&quot;NA&quot;</td><td>&quot;NA&quot;</td><td>&quot;NA&quot;</td><td>&quot;NA&quot;</td><td>&quot;NA&quot;</td><td>&quot;NA&quot;</td><td>&quot;NA&quot;</td><td>&quot;NA&quot;</td><td>&quot;NA&quot;</td><td>&quot;NA&quot;</td><td>&quot;NA&quot;</td><td>&quot;NA&quot;</td><td>&quot;NA&quot;</td><td>&quot;NA&quot;</td><td>&quot;NA&quot;</td><td>&quot;NA&quot;</td><td>&quot;NA&quot;</td><td>&quot;NA&quot;</td><td>&quot;NA&quot;</td><td>&quot;NA&quot;</td><td>&quot;NA&quot;</td><td>&quot;NA&quot;</td><td>&quot;NA&quot;</td><td>&quot;NA&quot;</td><td>&quot;NA&quot;</td><td>&quot;NA&quot;</td><td>&hellip;</td><td>&quot;NA&quot;</td><td>&quot;NA&quot;</td><td>&quot;NA&quot;</td><td>&quot;NA&quot;</td><td>&quot;NA&quot;</td><td>&quot;NA&quot;</td><td>&quot;NA&quot;</td><td>&quot;NA&quot;</td><td>&quot;NA&quot;</td><td>&quot;NA&quot;</td><td>&quot;NA&quot;</td><td>&quot;NA&quot;</td><td>&quot;NA&quot;</td><td>&quot;NA&quot;</td><td>&quot;NA&quot;</td><td>&quot;NA&quot;</td><td>&quot;NA&quot;</td><td>&quot;NA&quot;</td><td>&quot;NA&quot;</td><td>&quot;NA&quot;</td><td>&quot;NA&quot;</td><td>&quot;NA&quot;</td><td>&quot;NA&quot;</td><td>&quot;NA&quot;</td><td>&quot;NA&quot;</td><td>&quot;NA&quot;</td><td>&quot;NA&quot;</td><td>&quot;NA&quot;</td><td>&quot;NA&quot;</td><td>&quot;NA&quot;</td><td>&quot;NA&quot;</td><td>&quot;NA&quot;</td><td>&quot;NA&quot;</td><td>&quot;NA&quot;</td><td>&quot;NA&quot;</td><td>&quot;NA&quot;</td><td>&quot;NA&quot;</td></tr><tr><td>88863</td><td>&quot;NA&quot;</td><td>true</td><td>&quot;Less than once per year&quot;</td><td>&quot;OSS is, on average, of HIGHER quality than propri…</td><td>&quot;Not employed, and not looking for work&quot;</td><td>&quot;Spain&quot;</td><td>&quot;Yes, full-time&quot;</td><td>&quot;Professional degree (JD, MD, etc.)&quot;</td><td>&quot;Computer science, computer engineering, or softwa…</td><td>&quot;Taken an online course in programming or software…</td><td>&quot;NA&quot;</td><td>&quot;NA&quot;</td><td>&quot;8&quot;</td><td>&quot;11&quot;</td><td>&quot;3&quot;</td><td>&quot;NA&quot;</td><td>&quot;NA&quot;</td><td>&quot;NA&quot;</td><td>&quot;NA&quot;</td><td>&quot;NA&quot;</td><td>&quot;NA&quot;</td><td>&quot;NA&quot;</td><td>&quot;NA&quot;</td><td>&quot;NA&quot;</td><td>&quot;NA&quot;</td><td>&quot;NA&quot;</td><td>&quot;NA&quot;</td><td>&quot;NA&quot;</td><td>&quot;NA&quot;</td><td>&quot;NA&quot;</td><td>&quot;NA&quot;</td><td>&quot;NA&quot;</td><td>&quot;NA&quot;</td><td>&quot;NA&quot;</td><td>&quot;NA&quot;</td><td>&quot;NA&quot;</td><td>&hellip;</td><td>&quot;Android;AWS;Google Cloud Platform;IBM Cloud or Wa…</td><td>&quot;Django;jQuery;React.js&quot;</td><td>&quot;Django&quot;</td><td>&quot;Unity 3D;Unreal Engine&quot;</td><td>&quot;NA&quot;</td><td>&quot;Android Studio;Atom;Eclipse;NetBeans;Notepad++;Su…</td><td>&quot;Linux-based&quot;</td><td>&quot;Production&quot;</td><td>&quot;NA&quot;</td><td>&quot;Useful for decentralized currency (i.e., Bitcoin)…</td><td>&quot;Yes&quot;</td><td>&quot;Also Yes&quot;</td><td>&quot;Yes&quot;</td><td>&quot;WhatsApp&quot;</td><td>&quot;In real life (in person)&quot;</td><td>&quot;NA&quot;</td><td>&quot;2012&quot;</td><td>&quot;Daily or almost daily&quot;</td><td>&quot;Find answers to specific questions;Learn how to d…</td><td>&quot;6-10 times per week&quot;</td><td>&quot;Stack Overflow was much faster&quot;</td><td>&quot;11-30 minutes&quot;</td><td>&quot;Yes&quot;</td><td>&quot;A few times per month or weekly&quot;</td><td>&quot;Yes&quot;</td><td>&quot;No, I&#x27;ve heard of them, but I am not part of a pr…</td><td>&quot;Yes, somewhat&quot;</td><td>&quot;Somewhat less welcome now than last year&quot;</td><td>&quot;Tech articles written by other developers;Industr…</td><td>&quot;18&quot;</td><td>&quot;Man&quot;</td><td>&quot;No&quot;</td><td>&quot;Straight / Heterosexual&quot;</td><td>&quot;Hispanic or Latino/Latina;White or of European de…</td><td>&quot;No&quot;</td><td>&quot;Appropriate in length&quot;</td><td>&quot;Easy&quot;</td></tr></tbody></table></div>"
      ],
      "text/plain": [
       "shape: (88_883, 85)\n",
       "┌────────────┬────────────────────┬──────────┬────────────────────┬───┬────────────────────┬────────────┬────────────────┬───────────────────┐\n",
       "│ Respondent ┆ MainBranch         ┆ Hobbyist ┆ OpenSourcer        ┆ … ┆ Ethnicity          ┆ Dependents ┆ SurveyLength   ┆ SurveyEase        │\n",
       "│ ---        ┆ ---                ┆ ---      ┆ ---                ┆   ┆ ---                ┆ ---        ┆ ---            ┆ ---               │\n",
       "│ i64        ┆ str                ┆ bool     ┆ str                ┆   ┆ str                ┆ str        ┆ str            ┆ str               │\n",
       "╞════════════╪════════════════════╪══════════╪════════════════════╪═══╪════════════════════╪════════════╪════════════════╪═══════════════════╡\n",
       "│ 1          ┆ I am a student who ┆ true     ┆ Never              ┆ … ┆ NA                 ┆ No         ┆ Appropriate in ┆ Neither easy nor  │\n",
       "│            ┆ is learning to     ┆          ┆                    ┆   ┆                    ┆            ┆ length         ┆ difficult         │\n",
       "│            ┆ code               ┆          ┆                    ┆   ┆                    ┆            ┆                ┆                   │\n",
       "│ 2          ┆ I am a student who ┆ false    ┆ Less than once per ┆ … ┆ NA                 ┆ No         ┆ Appropriate in ┆ Neither easy nor  │\n",
       "│            ┆ is learning to     ┆          ┆ year               ┆   ┆                    ┆            ┆ length         ┆ difficult         │\n",
       "│            ┆ code               ┆          ┆                    ┆   ┆                    ┆            ┆                ┆                   │\n",
       "│ 3          ┆ I am not primarily ┆ true     ┆ Never              ┆ … ┆ NA                 ┆ Yes        ┆ Appropriate in ┆ Neither easy nor  │\n",
       "│            ┆ a developer, but I ┆          ┆                    ┆   ┆                    ┆            ┆ length         ┆ difficult         │\n",
       "│            ┆ write code s…      ┆          ┆                    ┆   ┆                    ┆            ┆                ┆                   │\n",
       "│ 4          ┆ I am a developer   ┆ false    ┆ Never              ┆ … ┆ White or of        ┆ No         ┆ Appropriate in ┆ Easy              │\n",
       "│            ┆ by profession      ┆          ┆                    ┆   ┆ European descent   ┆            ┆ length         ┆                   │\n",
       "│ 5          ┆ I am a developer   ┆ true     ┆ Once a month or    ┆ … ┆ White or of        ┆ No         ┆ Appropriate in ┆ Easy              │\n",
       "│            ┆ by profession      ┆          ┆ more often         ┆   ┆ European descent;M ┆            ┆ length         ┆                   │\n",
       "│            ┆                    ┆          ┆                    ┆   ┆ ultiracial         ┆            ┆                ┆                   │\n",
       "│ …          ┆ …                  ┆ …        ┆ …                  ┆ … ┆ …                  ┆ …          ┆ …              ┆ …                 │\n",
       "│ 88377      ┆ NA                 ┆ true     ┆ Less than once a   ┆ … ┆ NA                 ┆ No         ┆ Appropriate in ┆ Easy              │\n",
       "│            ┆                    ┆          ┆ month but more     ┆   ┆                    ┆            ┆ length         ┆                   │\n",
       "│            ┆                    ┆          ┆ than once per year ┆   ┆                    ┆            ┆                ┆                   │\n",
       "│ 88601      ┆ NA                 ┆ false    ┆ Never              ┆ … ┆ NA                 ┆ NA         ┆ NA             ┆ NA                │\n",
       "│ 88802      ┆ NA                 ┆ false    ┆ Never              ┆ … ┆ NA                 ┆ NA         ┆ NA             ┆ NA                │\n",
       "│ 88816      ┆ NA                 ┆ false    ┆ Never              ┆ … ┆ NA                 ┆ NA         ┆ NA             ┆ NA                │\n",
       "│ 88863      ┆ NA                 ┆ true     ┆ Less than once per ┆ … ┆ Hispanic or Latino ┆ No         ┆ Appropriate in ┆ Easy              │\n",
       "│            ┆                    ┆          ┆ year               ┆   ┆ /Latina;White or   ┆            ┆ length         ┆                   │\n",
       "│            ┆                    ┆          ┆                    ┆   ┆ of European des…   ┆            ┆                ┆                   │\n",
       "└────────────┴────────────────────┴──────────┴────────────────────┴───┴────────────────────┴────────────┴────────────────┴───────────────────┘"
      ]
     },
     "execution_count": 57,
     "metadata": {},
     "output_type": "execute_result"
    }
   ],
   "source": [
    "df.with_columns(pl.col('Hobbyist').map_dict({'Yes':True, 'No':False}))"
   ]
  }
 ],
 "metadata": {
  "kernelspec": {
   "display_name": "Python 3 (ipykernel)",
   "language": "python",
   "name": "python3"
  },
  "language_info": {
   "codemirror_mode": {
    "name": "ipython",
    "version": 3
   },
   "file_extension": ".py",
   "mimetype": "text/x-python",
   "name": "python",
   "nbconvert_exporter": "python",
   "pygments_lexer": "ipython3",
   "version": "3.11.5"
  }
 },
 "nbformat": 4,
 "nbformat_minor": 5
}
