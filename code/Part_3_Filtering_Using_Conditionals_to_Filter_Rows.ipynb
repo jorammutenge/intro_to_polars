{
 "cells": [
  {
   "cell_type": "markdown",
   "id": "45b211ec",
   "metadata": {},
   "source": [
    "# Part 3: Using Conditionals to Filter Rows and Columns"
   ]
  },
  {
   "cell_type": "code",
   "execution_count": 4,
   "id": "488029c9",
   "metadata": {},
   "outputs": [],
   "source": [
    "authors = {\n",
    "    'first':['Ernest','Stephen','Harper','Rachael'],\n",
    "    'last':['Hemingway','King','Lee','King'],\n",
    "    'email':['ehemingway@email.com','sking@email.com','hlee@email.com','rking@email.com']\n",
    "}"
   ]
  },
  {
   "cell_type": "code",
   "execution_count": 6,
   "id": "da705af5",
   "metadata": {},
   "outputs": [
    {
     "data": {
      "text/html": [
       "<div><style>\n",
       ".dataframe > thead > tr > th,\n",
       ".dataframe > tbody > tr > td {\n",
       "  text-align: right;\n",
       "  white-space: pre-wrap;\n",
       "}\n",
       "</style>\n",
       "<small>shape: (4, 3)</small><table border=\"1\" class=\"dataframe\"><thead><tr><th>first</th><th>last</th><th>email</th></tr><tr><td>str</td><td>str</td><td>str</td></tr></thead><tbody><tr><td>&quot;Ernest&quot;</td><td>&quot;Hemingway&quot;</td><td>&quot;ehemingway@ema…</td></tr><tr><td>&quot;Stephen&quot;</td><td>&quot;King&quot;</td><td>&quot;sking@email.co…</td></tr><tr><td>&quot;Harper&quot;</td><td>&quot;Lee&quot;</td><td>&quot;hlee@email.com…</td></tr><tr><td>&quot;Rachael&quot;</td><td>&quot;King&quot;</td><td>&quot;rking@email.co…</td></tr></tbody></table></div>"
      ],
      "text/plain": [
       "shape: (4, 3)\n",
       "┌─────────┬───────────┬──────────────────────┐\n",
       "│ first   ┆ last      ┆ email                │\n",
       "│ ---     ┆ ---       ┆ ---                  │\n",
       "│ str     ┆ str       ┆ str                  │\n",
       "╞═════════╪═══════════╪══════════════════════╡\n",
       "│ Ernest  ┆ Hemingway ┆ ehemingway@email.com │\n",
       "│ Stephen ┆ King      ┆ sking@email.com      │\n",
       "│ Harper  ┆ Lee       ┆ hlee@email.com       │\n",
       "│ Rachael ┆ King      ┆ rking@email.com      │\n",
       "└─────────┴───────────┴──────────────────────┘"
      ]
     },
     "execution_count": 6,
     "metadata": {},
     "output_type": "execute_result"
    }
   ],
   "source": [
    "# Convert dictionary to dataframe\n",
    "ff = pl.DataFrame(authors)\n",
    "ff"
   ]
  },
  {
   "cell_type": "code",
   "execution_count": 7,
   "id": "07c3dce2",
   "metadata": {},
   "outputs": [
    {
     "data": {
      "text/html": [
       "<div><style>\n",
       ".dataframe > thead > tr > th,\n",
       ".dataframe > tbody > tr > td {\n",
       "  text-align: right;\n",
       "  white-space: pre-wrap;\n",
       "}\n",
       "</style>\n",
       "<small>shape: (2, 3)</small><table border=\"1\" class=\"dataframe\"><thead><tr><th>first</th><th>last</th><th>email</th></tr><tr><td>str</td><td>str</td><td>str</td></tr></thead><tbody><tr><td>&quot;Stephen&quot;</td><td>&quot;King&quot;</td><td>&quot;sking@email.co…</td></tr><tr><td>&quot;Rachael&quot;</td><td>&quot;King&quot;</td><td>&quot;rking@email.co…</td></tr></tbody></table></div>"
      ],
      "text/plain": [
       "shape: (2, 3)\n",
       "┌─────────┬──────┬─────────────────┐\n",
       "│ first   ┆ last ┆ email           │\n",
       "│ ---     ┆ ---  ┆ ---             │\n",
       "│ str     ┆ str  ┆ str             │\n",
       "╞═════════╪══════╪═════════════════╡\n",
       "│ Stephen ┆ King ┆ sking@email.com │\n",
       "│ Rachael ┆ King ┆ rking@email.com │\n",
       "└─────────┴──────┴─────────────────┘"
      ]
     },
     "execution_count": 7,
     "metadata": {},
     "output_type": "execute_result"
    }
   ],
   "source": [
    "# See row where last name is King\n",
    "ff.filter(ff['last'] == 'King')"
   ]
  },
  {
   "cell_type": "code",
   "execution_count": 8,
   "id": "a5f1e2e0",
   "metadata": {},
   "outputs": [
    {
     "data": {
      "text/html": [
       "<div><style>\n",
       ".dataframe > thead > tr > th,\n",
       ".dataframe > tbody > tr > td {\n",
       "  text-align: right;\n",
       "  white-space: pre-wrap;\n",
       "}\n",
       "</style>\n",
       "<small>shape: (2, 3)</small><table border=\"1\" class=\"dataframe\"><thead><tr><th>first</th><th>last</th><th>email</th></tr><tr><td>str</td><td>str</td><td>str</td></tr></thead><tbody><tr><td>&quot;Stephen&quot;</td><td>&quot;King&quot;</td><td>&quot;sking@email.co…</td></tr><tr><td>&quot;Rachael&quot;</td><td>&quot;King&quot;</td><td>&quot;rking@email.co…</td></tr></tbody></table></div>"
      ],
      "text/plain": [
       "shape: (2, 3)\n",
       "┌─────────┬──────┬─────────────────┐\n",
       "│ first   ┆ last ┆ email           │\n",
       "│ ---     ┆ ---  ┆ ---             │\n",
       "│ str     ┆ str  ┆ str             │\n",
       "╞═════════╪══════╪═════════════════╡\n",
       "│ Stephen ┆ King ┆ sking@email.com │\n",
       "│ Rachael ┆ King ┆ rking@email.com │\n",
       "└─────────┴──────┴─────────────────┘"
      ]
     },
     "execution_count": 8,
     "metadata": {},
     "output_type": "execute_result"
    }
   ],
   "source": [
    "# The canonical way to do this\n",
    "ff.filter(pl.col('last') == 'King')"
   ]
  },
  {
   "cell_type": "code",
   "execution_count": 9,
   "id": "b0b5f47b",
   "metadata": {},
   "outputs": [
    {
     "data": {
      "text/html": [
       "<div><style>\n",
       ".dataframe > thead > tr > th,\n",
       ".dataframe > tbody > tr > td {\n",
       "  text-align: right;\n",
       "  white-space: pre-wrap;\n",
       "}\n",
       "</style>\n",
       "<small>shape: (1, 3)</small><table border=\"1\" class=\"dataframe\"><thead><tr><th>first</th><th>last</th><th>email</th></tr><tr><td>str</td><td>str</td><td>str</td></tr></thead><tbody><tr><td>&quot;Stephen&quot;</td><td>&quot;King&quot;</td><td>&quot;sking@email.co…</td></tr></tbody></table></div>"
      ],
      "text/plain": [
       "shape: (1, 3)\n",
       "┌─────────┬──────┬─────────────────┐\n",
       "│ first   ┆ last ┆ email           │\n",
       "│ ---     ┆ ---  ┆ ---             │\n",
       "│ str     ┆ str  ┆ str             │\n",
       "╞═════════╪══════╪═════════════════╡\n",
       "│ Stephen ┆ King ┆ sking@email.com │\n",
       "└─────────┴──────┴─────────────────┘"
      ]
     },
     "execution_count": 9,
     "metadata": {},
     "output_type": "execute_result"
    }
   ],
   "source": [
    "# Multiple conditions with and (&)\n",
    "(ff\n",
    " .filter((pl.col('last') == 'King') & (pl.col('first') == 'Stephen'))\n",
    " )"
   ]
  },
  {
   "cell_type": "code",
   "execution_count": 10,
   "id": "905bc432",
   "metadata": {},
   "outputs": [
    {
     "data": {
      "text/html": [
       "<div><style>\n",
       ".dataframe > thead > tr > th,\n",
       ".dataframe > tbody > tr > td {\n",
       "  text-align: right;\n",
       "  white-space: pre-wrap;\n",
       "}\n",
       "</style>\n",
       "<small>shape: (2, 3)</small><table border=\"1\" class=\"dataframe\"><thead><tr><th>first</th><th>last</th><th>email</th></tr><tr><td>str</td><td>str</td><td>str</td></tr></thead><tbody><tr><td>&quot;Stephen&quot;</td><td>&quot;King&quot;</td><td>&quot;sking@email.co…</td></tr><tr><td>&quot;Rachael&quot;</td><td>&quot;King&quot;</td><td>&quot;rking@email.co…</td></tr></tbody></table></div>"
      ],
      "text/plain": [
       "shape: (2, 3)\n",
       "┌─────────┬──────┬─────────────────┐\n",
       "│ first   ┆ last ┆ email           │\n",
       "│ ---     ┆ ---  ┆ ---             │\n",
       "│ str     ┆ str  ┆ str             │\n",
       "╞═════════╪══════╪═════════════════╡\n",
       "│ Stephen ┆ King ┆ sking@email.com │\n",
       "│ Rachael ┆ King ┆ rking@email.com │\n",
       "└─────────┴──────┴─────────────────┘"
      ]
     },
     "execution_count": 10,
     "metadata": {},
     "output_type": "execute_result"
    }
   ],
   "source": [
    "# Condition with or (|)\n",
    "(ff\n",
    " .filter((pl.col('last') == 'King') | (pl.col('first') == 'Stephen'))\n",
    " )"
   ]
  },
  {
   "cell_type": "code",
   "execution_count": 11,
   "id": "d7bfcaf0",
   "metadata": {},
   "outputs": [
    {
     "data": {
      "text/html": [
       "<div><style>\n",
       ".dataframe > thead > tr > th,\n",
       ".dataframe > tbody > tr > td {\n",
       "  text-align: right;\n",
       "  white-space: pre-wrap;\n",
       "}\n",
       "</style>\n",
       "<small>shape: (2, 1)</small><table border=\"1\" class=\"dataframe\"><thead><tr><th>email</th></tr><tr><td>str</td></tr></thead><tbody><tr><td>&quot;sking@email.co…</td></tr><tr><td>&quot;rking@email.co…</td></tr></tbody></table></div>"
      ],
      "text/plain": [
       "shape: (2, 1)\n",
       "┌─────────────────┐\n",
       "│ email           │\n",
       "│ ---             │\n",
       "│ str             │\n",
       "╞═════════════════╡\n",
       "│ sking@email.com │\n",
       "│ rking@email.com │\n",
       "└─────────────────┘"
      ]
     },
     "execution_count": 11,
     "metadata": {},
     "output_type": "execute_result"
    }
   ],
   "source": [
    "# See the emails after filtering\n",
    "(ff\n",
    " .filter((pl.col('last') == 'King') | (pl.col('first') == 'Stephen'))\n",
    " .select('email')\n",
    " )"
   ]
  },
  {
   "cell_type": "code",
   "execution_count": 12,
   "id": "cebb934b",
   "metadata": {},
   "outputs": [
    {
     "data": {
      "text/html": [
       "<div><style>\n",
       ".dataframe > thead > tr > th,\n",
       ".dataframe > tbody > tr > td {\n",
       "  text-align: right;\n",
       "  white-space: pre-wrap;\n",
       "}\n",
       "</style>\n",
       "<small>shape: (2, 3)</small><table border=\"1\" class=\"dataframe\"><thead><tr><th>first</th><th>last</th><th>email</th></tr><tr><td>str</td><td>str</td><td>str</td></tr></thead><tbody><tr><td>&quot;Ernest&quot;</td><td>&quot;Hemingway&quot;</td><td>&quot;ehemingway@ema…</td></tr><tr><td>&quot;Harper&quot;</td><td>&quot;Lee&quot;</td><td>&quot;hlee@email.com…</td></tr></tbody></table></div>"
      ],
      "text/plain": [
       "shape: (2, 3)\n",
       "┌────────┬───────────┬──────────────────────┐\n",
       "│ first  ┆ last      ┆ email                │\n",
       "│ ---    ┆ ---       ┆ ---                  │\n",
       "│ str    ┆ str       ┆ str                  │\n",
       "╞════════╪═══════════╪══════════════════════╡\n",
       "│ Ernest ┆ Hemingway ┆ ehemingway@email.com │\n",
       "│ Harper ┆ Lee       ┆ hlee@email.com       │\n",
       "└────────┴───────────┴──────────────────────┘"
      ]
     },
     "execution_count": 12,
     "metadata": {},
     "output_type": "execute_result"
    }
   ],
   "source": [
    "# Negation with filtering\n",
    "# Filter for something you don't want to see.\n",
    "(ff\n",
    " .filter(~(pl.col('last') == 'King'))\n",
    " )"
   ]
  },
  {
   "cell_type": "code",
   "execution_count": 16,
   "id": "4dd29d2e",
   "metadata": {},
   "outputs": [
    {
     "data": {
      "text/html": [
       "<div><style>\n",
       ".dataframe > thead > tr > th,\n",
       ".dataframe > tbody > tr > td {\n",
       "  text-align: right;\n",
       "  white-space: pre-wrap;\n",
       "}\n",
       "</style>\n",
       "<small>shape: (88_883, 85)</small><table border=\"1\" class=\"dataframe\"><thead><tr><th>Respondent</th><th>MainBranch</th><th>Hobbyist</th><th>OpenSourcer</th><th>OpenSource</th><th>Employment</th><th>Country</th><th>Student</th><th>EdLevel</th><th>UndergradMajor</th><th>EduOther</th><th>OrgSize</th><th>DevType</th><th>YearsCode</th><th>Age1stCode</th><th>YearsCodePro</th><th>CareerSat</th><th>JobSat</th><th>MgrIdiot</th><th>MgrMoney</th><th>MgrWant</th><th>JobSeek</th><th>LastHireDate</th><th>LastInt</th><th>FizzBuzz</th><th>JobFactors</th><th>ResumeUpdate</th><th>CurrencySymbol</th><th>CurrencyDesc</th><th>CompTotal</th><th>CompFreq</th><th>ConvertedComp</th><th>WorkWeekHrs</th><th>WorkPlan</th><th>WorkChallenge</th><th>WorkRemote</th><th>WorkLoc</th><th>ImpSyn</th><th>CodeRev</th><th>CodeRevHrs</th><th>UnitTests</th><th>PurchaseHow</th><th>PurchaseWhat</th><th>LanguageWorkedWith</th><th>LanguageDesireNextYear</th><th>DatabaseWorkedWith</th><th>DatabaseDesireNextYear</th><th>PlatformWorkedWith</th><th>PlatformDesireNextYear</th><th>WebFrameWorkedWith</th><th>WebFrameDesireNextYear</th><th>MiscTechWorkedWith</th><th>MiscTechDesireNextYear</th><th>DevEnviron</th><th>OpSys</th><th>Containers</th><th>BlockchainOrg</th><th>BlockchainIs</th><th>BetterLife</th><th>ITperson</th><th>OffOn</th><th>SocialMedia</th><th>Extraversion</th><th>ScreenName</th><th>SOVisit1st</th><th>SOVisitFreq</th><th>SOVisitTo</th><th>SOFindAnswer</th><th>SOTimeSaved</th><th>SOHowMuchTime</th><th>SOAccount</th><th>SOPartFreq</th><th>SOJobs</th><th>EntTeams</th><th>SOComm</th><th>WelcomeChange</th><th>SONewContent</th><th>Age</th><th>Gender</th><th>Trans</th><th>Sexuality</th><th>Ethnicity</th><th>Dependents</th><th>SurveyLength</th><th>SurveyEase</th></tr><tr><td>i64</td><td>str</td><td>str</td><td>str</td><td>str</td><td>str</td><td>str</td><td>str</td><td>str</td><td>str</td><td>str</td><td>str</td><td>str</td><td>str</td><td>str</td><td>str</td><td>str</td><td>str</td><td>str</td><td>str</td><td>str</td><td>str</td><td>str</td><td>str</td><td>str</td><td>str</td><td>str</td><td>str</td><td>str</td><td>str</td><td>str</td><td>str</td><td>str</td><td>str</td><td>str</td><td>str</td><td>str</td><td>str</td><td>str</td><td>str</td><td>str</td><td>str</td><td>str</td><td>str</td><td>str</td><td>str</td><td>str</td><td>str</td><td>str</td><td>str</td><td>str</td><td>str</td><td>str</td><td>str</td><td>str</td><td>str</td><td>str</td><td>str</td><td>str</td><td>str</td><td>str</td><td>str</td><td>str</td><td>str</td><td>str</td><td>str</td><td>str</td><td>str</td><td>str</td><td>str</td><td>str</td><td>str</td><td>str</td><td>str</td><td>str</td><td>str</td><td>str</td><td>str</td><td>str</td><td>str</td><td>str</td><td>str</td><td>str</td><td>str</td><td>str</td></tr></thead><tbody><tr><td>1</td><td>&quot;I am a student who is learning to code&quot;</td><td>&quot;Yes&quot;</td><td>&quot;Never&quot;</td><td>&quot;The quality of OSS and closed source software is …</td><td>&quot;Not employed, and not looking for work&quot;</td><td>&quot;United Kingdom&quot;</td><td>&quot;No&quot;</td><td>&quot;Primary/elementary school&quot;</td><td>&quot;NA&quot;</td><td>&quot;Taught yourself a new language, framework, or too…</td><td>&quot;NA&quot;</td><td>&quot;NA&quot;</td><td>&quot;4&quot;</td><td>&quot;10&quot;</td><td>&quot;NA&quot;</td><td>&quot;NA&quot;</td><td>&quot;NA&quot;</td><td>&quot;NA&quot;</td><td>&quot;NA&quot;</td><td>&quot;NA&quot;</td><td>&quot;NA&quot;</td><td>&quot;NA&quot;</td><td>&quot;NA&quot;</td><td>&quot;NA&quot;</td><td>&quot;NA&quot;</td><td>&quot;NA&quot;</td><td>&quot;NA&quot;</td><td>&quot;NA&quot;</td><td>&quot;NA&quot;</td><td>&quot;NA&quot;</td><td>&quot;NA&quot;</td><td>&quot;NA&quot;</td><td>&quot;NA&quot;</td><td>&quot;NA&quot;</td><td>&quot;NA&quot;</td><td>&quot;NA&quot;</td><td>&quot;NA&quot;</td><td>&quot;NA&quot;</td><td>&quot;NA&quot;</td><td>&quot;NA&quot;</td><td>&quot;NA&quot;</td><td>&quot;NA&quot;</td><td>&quot;HTML/CSS;Java;JavaScript;Python&quot;</td><td>&quot;C;C++;C#;Go;HTML/CSS;Java;JavaScript;Python;SQL&quot;</td><td>&quot;SQLite&quot;</td><td>&quot;MySQL&quot;</td><td>&quot;MacOS;Windows&quot;</td><td>&quot;Android;Arduino;Windows&quot;</td><td>&quot;Django;Flask&quot;</td><td>&quot;Flask;jQuery&quot;</td><td>&quot;Node.js&quot;</td><td>&quot;Node.js&quot;</td><td>&quot;IntelliJ;Notepad++;PyCharm&quot;</td><td>&quot;Windows&quot;</td><td>&quot;I do not use containers&quot;</td><td>&quot;NA&quot;</td><td>&quot;NA&quot;</td><td>&quot;Yes&quot;</td><td>&quot;Fortunately, someone else has that title&quot;</td><td>&quot;Yes&quot;</td><td>&quot;Twitter&quot;</td><td>&quot;Online&quot;</td><td>&quot;Username&quot;</td><td>&quot;2017&quot;</td><td>&quot;A few times per month or weekly&quot;</td><td>&quot;Find answers to specific questions;Learn how to d…</td><td>&quot;3-5 times per week&quot;</td><td>&quot;Stack Overflow was much faster&quot;</td><td>&quot;31-60 minutes&quot;</td><td>&quot;No&quot;</td><td>&quot;NA&quot;</td><td>&quot;No, I didn&#x27;t know that Stack Overflow had a job b…</td><td>&quot;No, and I don&#x27;t know what those are&quot;</td><td>&quot;Neutral&quot;</td><td>&quot;Just as welcome now as I felt last year&quot;</td><td>&quot;Tech articles written by other developers;Industr…</td><td>&quot;14&quot;</td><td>&quot;Man&quot;</td><td>&quot;No&quot;</td><td>&quot;Straight / Heterosexual&quot;</td><td>&quot;NA&quot;</td><td>&quot;No&quot;</td><td>&quot;Appropriate in length&quot;</td><td>&quot;Neither easy nor difficult&quot;</td></tr><tr><td>2</td><td>&quot;I am a student who is learning to code&quot;</td><td>&quot;No&quot;</td><td>&quot;Less than once per year&quot;</td><td>&quot;The quality of OSS and closed source software is …</td><td>&quot;Not employed, but looking for work&quot;</td><td>&quot;Bosnia and Herzegovina&quot;</td><td>&quot;Yes, full-time&quot;</td><td>&quot;Secondary school (e.g. American high school, Germ…</td><td>&quot;NA&quot;</td><td>&quot;Taken an online course in programming or software…</td><td>&quot;NA&quot;</td><td>&quot;Developer, desktop or enterprise applications;Dev…</td><td>&quot;NA&quot;</td><td>&quot;17&quot;</td><td>&quot;NA&quot;</td><td>&quot;NA&quot;</td><td>&quot;NA&quot;</td><td>&quot;NA&quot;</td><td>&quot;NA&quot;</td><td>&quot;NA&quot;</td><td>&quot;I am actively looking for a job&quot;</td><td>&quot;I&#x27;ve never had a job&quot;</td><td>&quot;NA&quot;</td><td>&quot;NA&quot;</td><td>&quot;Financial performance or funding status of the co…</td><td>&quot;Something else changed (education, award, media, …</td><td>&quot;NA&quot;</td><td>&quot;NA&quot;</td><td>&quot;NA&quot;</td><td>&quot;NA&quot;</td><td>&quot;NA&quot;</td><td>&quot;NA&quot;</td><td>&quot;NA&quot;</td><td>&quot;NA&quot;</td><td>&quot;NA&quot;</td><td>&quot;NA&quot;</td><td>&quot;NA&quot;</td><td>&quot;NA&quot;</td><td>&quot;NA&quot;</td><td>&quot;NA&quot;</td><td>&quot;NA&quot;</td><td>&quot;NA&quot;</td><td>&quot;C++;HTML/CSS;Python&quot;</td><td>&quot;C++;HTML/CSS;JavaScript;SQL&quot;</td><td>&quot;NA&quot;</td><td>&quot;MySQL&quot;</td><td>&quot;Windows&quot;</td><td>&quot;Windows&quot;</td><td>&quot;Django&quot;</td><td>&quot;Django&quot;</td><td>&quot;NA&quot;</td><td>&quot;NA&quot;</td><td>&quot;Atom;PyCharm&quot;</td><td>&quot;Windows&quot;</td><td>&quot;I do not use containers&quot;</td><td>&quot;NA&quot;</td><td>&quot;Useful across many domains and could change many …</td><td>&quot;Yes&quot;</td><td>&quot;Yes&quot;</td><td>&quot;Yes&quot;</td><td>&quot;Instagram&quot;</td><td>&quot;Online&quot;</td><td>&quot;Username&quot;</td><td>&quot;2017&quot;</td><td>&quot;Daily or almost daily&quot;</td><td>&quot;Find answers to specific questions;Learn how to d…</td><td>&quot;3-5 times per week&quot;</td><td>&quot;Stack Overflow was much faster&quot;</td><td>&quot;11-30 minutes&quot;</td><td>&quot;Yes&quot;</td><td>&quot;A few times per month or weekly&quot;</td><td>&quot;No, I knew that Stack Overflow had a job board bu…</td><td>&quot;No, and I don&#x27;t know what those are&quot;</td><td>&quot;Yes, somewhat&quot;</td><td>&quot;Just as welcome now as I felt last year&quot;</td><td>&quot;Tech articles written by other developers;Industr…</td><td>&quot;19&quot;</td><td>&quot;Man&quot;</td><td>&quot;No&quot;</td><td>&quot;Straight / Heterosexual&quot;</td><td>&quot;NA&quot;</td><td>&quot;No&quot;</td><td>&quot;Appropriate in length&quot;</td><td>&quot;Neither easy nor difficult&quot;</td></tr><tr><td>3</td><td>&quot;I am not primarily a developer, but I write code …</td><td>&quot;Yes&quot;</td><td>&quot;Never&quot;</td><td>&quot;The quality of OSS and closed source software is …</td><td>&quot;Employed full-time&quot;</td><td>&quot;Thailand&quot;</td><td>&quot;No&quot;</td><td>&quot;Bachelor’s degree (BA, BS, B.Eng., etc.)&quot;</td><td>&quot;Web development or web design&quot;</td><td>&quot;Taught yourself a new language, framework, or too…</td><td>&quot;100 to 499 employees&quot;</td><td>&quot;Designer;Developer, back-end;Developer, front-end…</td><td>&quot;3&quot;</td><td>&quot;22&quot;</td><td>&quot;1&quot;</td><td>&quot;Slightly satisfied&quot;</td><td>&quot;Slightly satisfied&quot;</td><td>&quot;Not at all confident&quot;</td><td>&quot;Not sure&quot;</td><td>&quot;Not sure&quot;</td><td>&quot;I’m not actively looking, but I am open to new op…</td><td>&quot;1-2 years ago&quot;</td><td>&quot;Interview with people in peer roles&quot;</td><td>&quot;No&quot;</td><td>&quot;Languages, frameworks, and other technologies I&#x27;d…</td><td>&quot;I was preparing for a job search&quot;</td><td>&quot;THB&quot;</td><td>&quot;Thai baht&quot;</td><td>&quot;23000&quot;</td><td>&quot;Monthly&quot;</td><td>&quot;8820&quot;</td><td>&quot;40&quot;</td><td>&quot;There&#x27;s no schedule or spec; I work on what seems…</td><td>&quot;Distracting work environment;Inadequate access to…</td><td>&quot;Less than once per month / Never&quot;</td><td>&quot;Home&quot;</td><td>&quot;Average&quot;</td><td>&quot;No&quot;</td><td>&quot;NA&quot;</td><td>&quot;No, but I think we should&quot;</td><td>&quot;Not sure&quot;</td><td>&quot;I have little or no influence&quot;</td><td>&quot;HTML/CSS&quot;</td><td>&quot;Elixir;HTML/CSS&quot;</td><td>&quot;PostgreSQL&quot;</td><td>&quot;PostgreSQL&quot;</td><td>&quot;NA&quot;</td><td>&quot;NA&quot;</td><td>&quot;NA&quot;</td><td>&quot;Other(s):&quot;</td><td>&quot;NA&quot;</td><td>&quot;NA&quot;</td><td>&quot;Vim;Visual Studio Code&quot;</td><td>&quot;Linux-based&quot;</td><td>&quot;I do not use containers&quot;</td><td>&quot;NA&quot;</td><td>&quot;NA&quot;</td><td>&quot;Yes&quot;</td><td>&quot;Yes&quot;</td><td>&quot;Yes&quot;</td><td>&quot;Reddit&quot;</td><td>&quot;In real life (in person)&quot;</td><td>&quot;Username&quot;</td><td>&quot;2011&quot;</td><td>&quot;A few times per week&quot;</td><td>&quot;Find answers to specific questions;Learn how to d…</td><td>&quot;6-10 times per week&quot;</td><td>&quot;They were about the same&quot;</td><td>&quot;NA&quot;</td><td>&quot;Yes&quot;</td><td>&quot;Less than once per month or monthly&quot;</td><td>&quot;Yes&quot;</td><td>&quot;No, I&#x27;ve heard of them, but I am not part of a pr…</td><td>&quot;Neutral&quot;</td><td>&quot;Just as welcome now as I felt last year&quot;</td><td>&quot;Tech meetups or events in your area;Courses on te…</td><td>&quot;28&quot;</td><td>&quot;Man&quot;</td><td>&quot;No&quot;</td><td>&quot;Straight / Heterosexual&quot;</td><td>&quot;NA&quot;</td><td>&quot;Yes&quot;</td><td>&quot;Appropriate in length&quot;</td><td>&quot;Neither easy nor difficult&quot;</td></tr><tr><td>4</td><td>&quot;I am a developer by profession&quot;</td><td>&quot;No&quot;</td><td>&quot;Never&quot;</td><td>&quot;The quality of OSS and closed source software is …</td><td>&quot;Employed full-time&quot;</td><td>&quot;United States&quot;</td><td>&quot;No&quot;</td><td>&quot;Bachelor’s degree (BA, BS, B.Eng., etc.)&quot;</td><td>&quot;Computer science, computer engineering, or softwa…</td><td>&quot;Taken an online course in programming or software…</td><td>&quot;100 to 499 employees&quot;</td><td>&quot;Developer, full-stack&quot;</td><td>&quot;3&quot;</td><td>&quot;16&quot;</td><td>&quot;Less than 1 year&quot;</td><td>&quot;Very satisfied&quot;</td><td>&quot;Slightly satisfied&quot;</td><td>&quot;Very confident&quot;</td><td>&quot;No&quot;</td><td>&quot;Not sure&quot;</td><td>&quot;I am not interested in new job opportunities&quot;</td><td>&quot;Less than a year ago&quot;</td><td>&quot;Write code by hand (e.g., on a whiteboard);Interv…</td><td>&quot;No&quot;</td><td>&quot;Languages, frameworks, and other technologies I&#x27;d…</td><td>&quot;I was preparing for a job search&quot;</td><td>&quot;USD&quot;</td><td>&quot;United States dollar&quot;</td><td>&quot;61000&quot;</td><td>&quot;Yearly&quot;</td><td>&quot;61000&quot;</td><td>&quot;80&quot;</td><td>&quot;There&#x27;s no schedule or spec; I work on what seems…</td><td>&quot;NA&quot;</td><td>&quot;Less than once per month / Never&quot;</td><td>&quot;Home&quot;</td><td>&quot;A little below average&quot;</td><td>&quot;No&quot;</td><td>&quot;NA&quot;</td><td>&quot;No, but I think we should&quot;</td><td>&quot;Developers typically have the most influence on p…</td><td>&quot;I have little or no influence&quot;</td><td>&quot;C;C++;C#;Python;SQL&quot;</td><td>&quot;C;C#;JavaScript;SQL&quot;</td><td>&quot;MySQL;SQLite&quot;</td><td>&quot;MySQL;SQLite&quot;</td><td>&quot;Linux;Windows&quot;</td><td>&quot;Linux;Windows&quot;</td><td>&quot;NA&quot;</td><td>&quot;NA&quot;</td><td>&quot;.NET&quot;</td><td>&quot;.NET&quot;</td><td>&quot;Eclipse;Vim;Visual Studio;Visual Studio Code&quot;</td><td>&quot;Windows&quot;</td><td>&quot;I do not use containers&quot;</td><td>&quot;Not at all&quot;</td><td>&quot;Useful for decentralized currency (i.e., Bitcoin)…</td><td>&quot;Yes&quot;</td><td>&quot;SIGH&quot;</td><td>&quot;Yes&quot;</td><td>&quot;Reddit&quot;</td><td>&quot;In real life (in person)&quot;</td><td>&quot;Username&quot;</td><td>&quot;2014&quot;</td><td>&quot;Daily or almost daily&quot;</td><td>&quot;Find answers to specific questions;Pass the time …</td><td>&quot;1-2 times per week&quot;</td><td>&quot;Stack Overflow was much faster&quot;</td><td>&quot;31-60 minutes&quot;</td><td>&quot;Yes&quot;</td><td>&quot;Less than once per month or monthly&quot;</td><td>&quot;Yes&quot;</td><td>&quot;No, and I don&#x27;t know what those are&quot;</td><td>&quot;No, not really&quot;</td><td>&quot;Just as welcome now as I felt last year&quot;</td><td>&quot;Tech articles written by other developers;Industr…</td><td>&quot;22&quot;</td><td>&quot;Man&quot;</td><td>&quot;No&quot;</td><td>&quot;Straight / Heterosexual&quot;</td><td>&quot;White or of European descent&quot;</td><td>&quot;No&quot;</td><td>&quot;Appropriate in length&quot;</td><td>&quot;Easy&quot;</td></tr><tr><td>5</td><td>&quot;I am a developer by profession&quot;</td><td>&quot;Yes&quot;</td><td>&quot;Once a month or more often&quot;</td><td>&quot;OSS is, on average, of HIGHER quality than propri…</td><td>&quot;Employed full-time&quot;</td><td>&quot;Ukraine&quot;</td><td>&quot;No&quot;</td><td>&quot;Bachelor’s degree (BA, BS, B.Eng., etc.)&quot;</td><td>&quot;Computer science, computer engineering, or softwa…</td><td>&quot;Taken an online course in programming or software…</td><td>&quot;10,000 or more employees&quot;</td><td>&quot;Academic researcher;Developer, desktop or enterpr…</td><td>&quot;16&quot;</td><td>&quot;14&quot;</td><td>&quot;9&quot;</td><td>&quot;Very dissatisfied&quot;</td><td>&quot;Slightly dissatisfied&quot;</td><td>&quot;Somewhat confident&quot;</td><td>&quot;Yes&quot;</td><td>&quot;No&quot;</td><td>&quot;I am not interested in new job opportunities&quot;</td><td>&quot;Less than a year ago&quot;</td><td>&quot;Write any code;Write code by hand (e.g., on a whi…</td><td>&quot;No&quot;</td><td>&quot;Industry that I&#x27;d be working in;Languages, framew…</td><td>&quot;I was preparing for a job search&quot;</td><td>&quot;UAH&quot;</td><td>&quot;Ukrainian hryvnia&quot;</td><td>&quot;NA&quot;</td><td>&quot;NA&quot;</td><td>&quot;NA&quot;</td><td>&quot;55&quot;</td><td>&quot;There is a schedule and/or spec (made by me or by…</td><td>&quot;Being tasked with non-development work;Inadequate…</td><td>&quot;A few days each month&quot;</td><td>&quot;Office&quot;</td><td>&quot;A little above average&quot;</td><td>&quot;Yes, because I see value in code review&quot;</td><td>&quot;NA&quot;</td><td>&quot;Yes, it&#x27;s part of our process&quot;</td><td>&quot;Not sure&quot;</td><td>&quot;I have little or no influence&quot;</td><td>&quot;C++;HTML/CSS;Java;JavaScript;Python;SQL;VBA&quot;</td><td>&quot;HTML/CSS;Java;JavaScript;SQL;WebAssembly&quot;</td><td>&quot;Couchbase;MongoDB;MySQL;Oracle;PostgreSQL;SQLite&quot;</td><td>&quot;Couchbase;Firebase;MongoDB;MySQL;Oracle;PostgreSQ…</td><td>&quot;Android;Linux;MacOS;Slack;Windows&quot;</td><td>&quot;Android;Docker;Kubernetes;Linux;Slack&quot;</td><td>&quot;Django;Express;Flask;jQuery;React.js;Spring&quot;</td><td>&quot;Flask;jQuery;React.js;Spring&quot;</td><td>&quot;Cordova;Node.js&quot;</td><td>&quot;Apache Spark;Hadoop;Node.js;React Native&quot;</td><td>&quot;IntelliJ;Notepad++;Vim&quot;</td><td>&quot;Linux-based&quot;</td><td>&quot;Outside of work, for personal projects&quot;</td><td>&quot;Not at all&quot;</td><td>&quot;NA&quot;</td><td>&quot;Yes&quot;</td><td>&quot;Also Yes&quot;</td><td>&quot;Yes&quot;</td><td>&quot;Facebook&quot;</td><td>&quot;In real life (in person)&quot;</td><td>&quot;Username&quot;</td><td>&quot;I don&#x27;t remember&quot;</td><td>&quot;Multiple times per day&quot;</td><td>&quot;Find answers to specific questions&quot;</td><td>&quot;More than 10 times per week&quot;</td><td>&quot;Stack Overflow was much faster&quot;</td><td>&quot;NA&quot;</td><td>&quot;Yes&quot;</td><td>&quot;A few times per month or weekly&quot;</td><td>&quot;No, I knew that Stack Overflow had a job board bu…</td><td>&quot;No, I&#x27;ve heard of them, but I am not part of a pr…</td><td>&quot;Yes, definitely&quot;</td><td>&quot;Just as welcome now as I felt last year&quot;</td><td>&quot;Tech meetups or events in your area;Courses on te…</td><td>&quot;30&quot;</td><td>&quot;Man&quot;</td><td>&quot;No&quot;</td><td>&quot;Straight / Heterosexual&quot;</td><td>&quot;White or of European descent;Multiracial&quot;</td><td>&quot;No&quot;</td><td>&quot;Appropriate in length&quot;</td><td>&quot;Easy&quot;</td></tr><tr><td>&hellip;</td><td>&hellip;</td><td>&hellip;</td><td>&hellip;</td><td>&hellip;</td><td>&hellip;</td><td>&hellip;</td><td>&hellip;</td><td>&hellip;</td><td>&hellip;</td><td>&hellip;</td><td>&hellip;</td><td>&hellip;</td><td>&hellip;</td><td>&hellip;</td><td>&hellip;</td><td>&hellip;</td><td>&hellip;</td><td>&hellip;</td><td>&hellip;</td><td>&hellip;</td><td>&hellip;</td><td>&hellip;</td><td>&hellip;</td><td>&hellip;</td><td>&hellip;</td><td>&hellip;</td><td>&hellip;</td><td>&hellip;</td><td>&hellip;</td><td>&hellip;</td><td>&hellip;</td><td>&hellip;</td><td>&hellip;</td><td>&hellip;</td><td>&hellip;</td><td>&hellip;</td><td>&hellip;</td><td>&hellip;</td><td>&hellip;</td><td>&hellip;</td><td>&hellip;</td><td>&hellip;</td><td>&hellip;</td><td>&hellip;</td><td>&hellip;</td><td>&hellip;</td><td>&hellip;</td><td>&hellip;</td><td>&hellip;</td><td>&hellip;</td><td>&hellip;</td><td>&hellip;</td><td>&hellip;</td><td>&hellip;</td><td>&hellip;</td><td>&hellip;</td><td>&hellip;</td><td>&hellip;</td><td>&hellip;</td><td>&hellip;</td><td>&hellip;</td><td>&hellip;</td><td>&hellip;</td><td>&hellip;</td><td>&hellip;</td><td>&hellip;</td><td>&hellip;</td><td>&hellip;</td><td>&hellip;</td><td>&hellip;</td><td>&hellip;</td><td>&hellip;</td><td>&hellip;</td><td>&hellip;</td><td>&hellip;</td><td>&hellip;</td><td>&hellip;</td><td>&hellip;</td><td>&hellip;</td><td>&hellip;</td><td>&hellip;</td><td>&hellip;</td><td>&hellip;</td><td>&hellip;</td></tr><tr><td>88377</td><td>&quot;NA&quot;</td><td>&quot;Yes&quot;</td><td>&quot;Less than once a month but more than once per yea…</td><td>&quot;The quality of OSS and closed source software is …</td><td>&quot;Not employed, and not looking for work&quot;</td><td>&quot;Canada&quot;</td><td>&quot;No&quot;</td><td>&quot;Primary/elementary school&quot;</td><td>&quot;NA&quot;</td><td>&quot;Taught yourself a new language, framework, or too…</td><td>&quot;NA&quot;</td><td>&quot;NA&quot;</td><td>&quot;NA&quot;</td><td>&quot;NA&quot;</td><td>&quot;NA&quot;</td><td>&quot;NA&quot;</td><td>&quot;NA&quot;</td><td>&quot;NA&quot;</td><td>&quot;NA&quot;</td><td>&quot;NA&quot;</td><td>&quot;NA&quot;</td><td>&quot;NA&quot;</td><td>&quot;NA&quot;</td><td>&quot;NA&quot;</td><td>&quot;NA&quot;</td><td>&quot;NA&quot;</td><td>&quot;NA&quot;</td><td>&quot;NA&quot;</td><td>&quot;NA&quot;</td><td>&quot;NA&quot;</td><td>&quot;NA&quot;</td><td>&quot;NA&quot;</td><td>&quot;NA&quot;</td><td>&quot;NA&quot;</td><td>&quot;NA&quot;</td><td>&quot;NA&quot;</td><td>&quot;NA&quot;</td><td>&quot;NA&quot;</td><td>&quot;NA&quot;</td><td>&quot;NA&quot;</td><td>&quot;NA&quot;</td><td>&quot;NA&quot;</td><td>&quot;HTML/CSS;JavaScript;Other(s):&quot;</td><td>&quot;C++;HTML/CSS;JavaScript;SQL;WebAssembly;Other(s):…</td><td>&quot;Firebase;SQLite&quot;</td><td>&quot;Firebase;MySQL;SQLite&quot;</td><td>&quot;Linux&quot;</td><td>&quot;Google Cloud Platform;Linux&quot;</td><td>&quot;jQuery&quot;</td><td>&quot;jQuery;Vue.js&quot;</td><td>&quot;Node.js&quot;</td><td>&quot;React Native;Unity 3D;Unreal Engine&quot;</td><td>&quot;Atom;Visual Studio;Visual Studio Code&quot;</td><td>&quot;Windows&quot;</td><td>&quot;I do not use containers&quot;</td><td>&quot;NA&quot;</td><td>&quot;Useful across many domains and could change many …</td><td>&quot;Yes&quot;</td><td>&quot;Yes&quot;</td><td>&quot;What?&quot;</td><td>&quot;YouTube&quot;</td><td>&quot;NA&quot;</td><td>&quot;Username&quot;</td><td>&quot;I don&#x27;t remember&quot;</td><td>&quot;A few times per week&quot;</td><td>&quot;Find answers to specific questions;Learn how to d…</td><td>&quot;3-5 times per week&quot;</td><td>&quot;Stack Overflow was slightly faster&quot;</td><td>&quot;11-30 minutes&quot;</td><td>&quot;Yes&quot;</td><td>&quot;I have never participated in Q&amp;A on Stack Overflo…</td><td>&quot;No, I knew that Stack Overflow had a job board bu…</td><td>&quot;No, I&#x27;ve heard of them, but I am not part of a pr…</td><td>&quot;No, not at all&quot;</td><td>&quot;NA&quot;</td><td>&quot;Tech articles written by other developers;Tech me…</td><td>&quot;NA&quot;</td><td>&quot;Man&quot;</td><td>&quot;No&quot;</td><td>&quot;NA&quot;</td><td>&quot;NA&quot;</td><td>&quot;No&quot;</td><td>&quot;Appropriate in length&quot;</td><td>&quot;Easy&quot;</td></tr><tr><td>88601</td><td>&quot;NA&quot;</td><td>&quot;No&quot;</td><td>&quot;Never&quot;</td><td>&quot;The quality of OSS and closed source software is …</td><td>&quot;NA&quot;</td><td>&quot;NA&quot;</td><td>&quot;NA&quot;</td><td>&quot;NA&quot;</td><td>&quot;NA&quot;</td><td>&quot;NA&quot;</td><td>&quot;NA&quot;</td><td>&quot;NA&quot;</td><td>&quot;NA&quot;</td><td>&quot;NA&quot;</td><td>&quot;NA&quot;</td><td>&quot;NA&quot;</td><td>&quot;NA&quot;</td><td>&quot;NA&quot;</td><td>&quot;NA&quot;</td><td>&quot;NA&quot;</td><td>&quot;NA&quot;</td><td>&quot;NA&quot;</td><td>&quot;NA&quot;</td><td>&quot;NA&quot;</td><td>&quot;NA&quot;</td><td>&quot;NA&quot;</td><td>&quot;NA&quot;</td><td>&quot;NA&quot;</td><td>&quot;NA&quot;</td><td>&quot;NA&quot;</td><td>&quot;NA&quot;</td><td>&quot;NA&quot;</td><td>&quot;NA&quot;</td><td>&quot;NA&quot;</td><td>&quot;NA&quot;</td><td>&quot;NA&quot;</td><td>&quot;NA&quot;</td><td>&quot;NA&quot;</td><td>&quot;NA&quot;</td><td>&quot;NA&quot;</td><td>&quot;NA&quot;</td><td>&quot;NA&quot;</td><td>&quot;NA&quot;</td><td>&quot;NA&quot;</td><td>&quot;NA&quot;</td><td>&quot;NA&quot;</td><td>&quot;NA&quot;</td><td>&quot;NA&quot;</td><td>&quot;NA&quot;</td><td>&quot;NA&quot;</td><td>&quot;NA&quot;</td><td>&quot;NA&quot;</td><td>&quot;NA&quot;</td><td>&quot;NA&quot;</td><td>&quot;NA&quot;</td><td>&quot;NA&quot;</td><td>&quot;NA&quot;</td><td>&quot;NA&quot;</td><td>&quot;NA&quot;</td><td>&quot;NA&quot;</td><td>&quot;NA&quot;</td><td>&quot;NA&quot;</td><td>&quot;NA&quot;</td><td>&quot;NA&quot;</td><td>&quot;NA&quot;</td><td>&quot;NA&quot;</td><td>&quot;NA&quot;</td><td>&quot;NA&quot;</td><td>&quot;NA&quot;</td><td>&quot;NA&quot;</td><td>&quot;NA&quot;</td><td>&quot;NA&quot;</td><td>&quot;NA&quot;</td><td>&quot;NA&quot;</td><td>&quot;NA&quot;</td><td>&quot;NA&quot;</td><td>&quot;NA&quot;</td><td>&quot;NA&quot;</td><td>&quot;NA&quot;</td><td>&quot;NA&quot;</td><td>&quot;NA&quot;</td><td>&quot;NA&quot;</td><td>&quot;NA&quot;</td><td>&quot;NA&quot;</td></tr><tr><td>88802</td><td>&quot;NA&quot;</td><td>&quot;No&quot;</td><td>&quot;Never&quot;</td><td>&quot;NA&quot;</td><td>&quot;Employed full-time&quot;</td><td>&quot;NA&quot;</td><td>&quot;NA&quot;</td><td>&quot;NA&quot;</td><td>&quot;NA&quot;</td><td>&quot;NA&quot;</td><td>&quot;NA&quot;</td><td>&quot;NA&quot;</td><td>&quot;NA&quot;</td><td>&quot;NA&quot;</td><td>&quot;NA&quot;</td><td>&quot;NA&quot;</td><td>&quot;NA&quot;</td><td>&quot;NA&quot;</td><td>&quot;NA&quot;</td><td>&quot;NA&quot;</td><td>&quot;NA&quot;</td><td>&quot;NA&quot;</td><td>&quot;NA&quot;</td><td>&quot;NA&quot;</td><td>&quot;NA&quot;</td><td>&quot;NA&quot;</td><td>&quot;NA&quot;</td><td>&quot;NA&quot;</td><td>&quot;NA&quot;</td><td>&quot;NA&quot;</td><td>&quot;NA&quot;</td><td>&quot;NA&quot;</td><td>&quot;NA&quot;</td><td>&quot;NA&quot;</td><td>&quot;NA&quot;</td><td>&quot;NA&quot;</td><td>&quot;NA&quot;</td><td>&quot;NA&quot;</td><td>&quot;NA&quot;</td><td>&quot;NA&quot;</td><td>&quot;NA&quot;</td><td>&quot;NA&quot;</td><td>&quot;NA&quot;</td><td>&quot;NA&quot;</td><td>&quot;NA&quot;</td><td>&quot;NA&quot;</td><td>&quot;NA&quot;</td><td>&quot;NA&quot;</td><td>&quot;NA&quot;</td><td>&quot;NA&quot;</td><td>&quot;NA&quot;</td><td>&quot;NA&quot;</td><td>&quot;NA&quot;</td><td>&quot;NA&quot;</td><td>&quot;NA&quot;</td><td>&quot;NA&quot;</td><td>&quot;NA&quot;</td><td>&quot;NA&quot;</td><td>&quot;NA&quot;</td><td>&quot;NA&quot;</td><td>&quot;NA&quot;</td><td>&quot;NA&quot;</td><td>&quot;NA&quot;</td><td>&quot;NA&quot;</td><td>&quot;NA&quot;</td><td>&quot;NA&quot;</td><td>&quot;NA&quot;</td><td>&quot;NA&quot;</td><td>&quot;NA&quot;</td><td>&quot;NA&quot;</td><td>&quot;NA&quot;</td><td>&quot;NA&quot;</td><td>&quot;NA&quot;</td><td>&quot;NA&quot;</td><td>&quot;NA&quot;</td><td>&quot;NA&quot;</td><td>&quot;NA&quot;</td><td>&quot;NA&quot;</td><td>&quot;NA&quot;</td><td>&quot;NA&quot;</td><td>&quot;NA&quot;</td><td>&quot;NA&quot;</td><td>&quot;NA&quot;</td><td>&quot;NA&quot;</td></tr><tr><td>88816</td><td>&quot;NA&quot;</td><td>&quot;No&quot;</td><td>&quot;Never&quot;</td><td>&quot;OSS is, on average, of HIGHER quality than propri…</td><td>&quot;Independent contractor, freelancer, or self-emplo…</td><td>&quot;NA&quot;</td><td>&quot;NA&quot;</td><td>&quot;NA&quot;</td><td>&quot;NA&quot;</td><td>&quot;NA&quot;</td><td>&quot;NA&quot;</td><td>&quot;NA&quot;</td><td>&quot;NA&quot;</td><td>&quot;NA&quot;</td><td>&quot;NA&quot;</td><td>&quot;NA&quot;</td><td>&quot;NA&quot;</td><td>&quot;NA&quot;</td><td>&quot;NA&quot;</td><td>&quot;NA&quot;</td><td>&quot;NA&quot;</td><td>&quot;NA&quot;</td><td>&quot;NA&quot;</td><td>&quot;NA&quot;</td><td>&quot;NA&quot;</td><td>&quot;NA&quot;</td><td>&quot;NA&quot;</td><td>&quot;NA&quot;</td><td>&quot;NA&quot;</td><td>&quot;NA&quot;</td><td>&quot;NA&quot;</td><td>&quot;NA&quot;</td><td>&quot;NA&quot;</td><td>&quot;NA&quot;</td><td>&quot;NA&quot;</td><td>&quot;NA&quot;</td><td>&quot;NA&quot;</td><td>&quot;NA&quot;</td><td>&quot;NA&quot;</td><td>&quot;NA&quot;</td><td>&quot;NA&quot;</td><td>&quot;NA&quot;</td><td>&quot;NA&quot;</td><td>&quot;NA&quot;</td><td>&quot;NA&quot;</td><td>&quot;NA&quot;</td><td>&quot;NA&quot;</td><td>&quot;NA&quot;</td><td>&quot;NA&quot;</td><td>&quot;NA&quot;</td><td>&quot;NA&quot;</td><td>&quot;NA&quot;</td><td>&quot;NA&quot;</td><td>&quot;NA&quot;</td><td>&quot;NA&quot;</td><td>&quot;NA&quot;</td><td>&quot;NA&quot;</td><td>&quot;NA&quot;</td><td>&quot;NA&quot;</td><td>&quot;NA&quot;</td><td>&quot;NA&quot;</td><td>&quot;NA&quot;</td><td>&quot;NA&quot;</td><td>&quot;NA&quot;</td><td>&quot;NA&quot;</td><td>&quot;NA&quot;</td><td>&quot;NA&quot;</td><td>&quot;NA&quot;</td><td>&quot;NA&quot;</td><td>&quot;NA&quot;</td><td>&quot;NA&quot;</td><td>&quot;NA&quot;</td><td>&quot;NA&quot;</td><td>&quot;NA&quot;</td><td>&quot;NA&quot;</td><td>&quot;NA&quot;</td><td>&quot;NA&quot;</td><td>&quot;NA&quot;</td><td>&quot;NA&quot;</td><td>&quot;NA&quot;</td><td>&quot;NA&quot;</td><td>&quot;NA&quot;</td><td>&quot;NA&quot;</td><td>&quot;NA&quot;</td></tr><tr><td>88863</td><td>&quot;NA&quot;</td><td>&quot;Yes&quot;</td><td>&quot;Less than once per year&quot;</td><td>&quot;OSS is, on average, of HIGHER quality than propri…</td><td>&quot;Not employed, and not looking for work&quot;</td><td>&quot;Spain&quot;</td><td>&quot;Yes, full-time&quot;</td><td>&quot;Professional degree (JD, MD, etc.)&quot;</td><td>&quot;Computer science, computer engineering, or softwa…</td><td>&quot;Taken an online course in programming or software…</td><td>&quot;NA&quot;</td><td>&quot;NA&quot;</td><td>&quot;8&quot;</td><td>&quot;11&quot;</td><td>&quot;3&quot;</td><td>&quot;NA&quot;</td><td>&quot;NA&quot;</td><td>&quot;NA&quot;</td><td>&quot;NA&quot;</td><td>&quot;NA&quot;</td><td>&quot;NA&quot;</td><td>&quot;NA&quot;</td><td>&quot;NA&quot;</td><td>&quot;NA&quot;</td><td>&quot;NA&quot;</td><td>&quot;NA&quot;</td><td>&quot;NA&quot;</td><td>&quot;NA&quot;</td><td>&quot;NA&quot;</td><td>&quot;NA&quot;</td><td>&quot;NA&quot;</td><td>&quot;NA&quot;</td><td>&quot;NA&quot;</td><td>&quot;NA&quot;</td><td>&quot;NA&quot;</td><td>&quot;NA&quot;</td><td>&quot;NA&quot;</td><td>&quot;NA&quot;</td><td>&quot;NA&quot;</td><td>&quot;NA&quot;</td><td>&quot;NA&quot;</td><td>&quot;NA&quot;</td><td>&quot;Bash/Shell/PowerShell;HTML/CSS;Java;JavaScript;PH…</td><td>&quot;C;C++;C#;HTML/CSS;Java;Objective-C;SQL;Swift&quot;</td><td>&quot;DynamoDB;MariaDB;Microsoft SQL Server;MySQL&quot;</td><td>&quot;MariaDB;MySQL;Oracle;SQLite&quot;</td><td>&quot;iOS;Linux;MacOS;WordPress&quot;</td><td>&quot;Android;AWS;Google Cloud Platform;IBM Cloud or Wa…</td><td>&quot;Django;jQuery;React.js&quot;</td><td>&quot;Django&quot;</td><td>&quot;Unity 3D;Unreal Engine&quot;</td><td>&quot;NA&quot;</td><td>&quot;Android Studio;Atom;Eclipse;NetBeans;Notepad++;Su…</td><td>&quot;Linux-based&quot;</td><td>&quot;Production&quot;</td><td>&quot;NA&quot;</td><td>&quot;Useful for decentralized currency (i.e., Bitcoin)…</td><td>&quot;Yes&quot;</td><td>&quot;Also Yes&quot;</td><td>&quot;Yes&quot;</td><td>&quot;WhatsApp&quot;</td><td>&quot;In real life (in person)&quot;</td><td>&quot;NA&quot;</td><td>&quot;2012&quot;</td><td>&quot;Daily or almost daily&quot;</td><td>&quot;Find answers to specific questions;Learn how to d…</td><td>&quot;6-10 times per week&quot;</td><td>&quot;Stack Overflow was much faster&quot;</td><td>&quot;11-30 minutes&quot;</td><td>&quot;Yes&quot;</td><td>&quot;A few times per month or weekly&quot;</td><td>&quot;Yes&quot;</td><td>&quot;No, I&#x27;ve heard of them, but I am not part of a pr…</td><td>&quot;Yes, somewhat&quot;</td><td>&quot;Somewhat less welcome now than last year&quot;</td><td>&quot;Tech articles written by other developers;Industr…</td><td>&quot;18&quot;</td><td>&quot;Man&quot;</td><td>&quot;No&quot;</td><td>&quot;Straight / Heterosexual&quot;</td><td>&quot;Hispanic or Latino/Latina;White or of European de…</td><td>&quot;No&quot;</td><td>&quot;Appropriate in length&quot;</td><td>&quot;Easy&quot;</td></tr></tbody></table></div>"
      ],
      "text/plain": [
       "shape: (88_883, 85)\n",
       "┌─────┬─────┬─────┬─────┬─────┬─────┬─────┬─────┬─────┬─────┬─────┬─────┬─────┬─────┬─────┬─────┬─────┬─────┬─────┬─────┬─────┬─────┬─────┬─────┬─────┬─────┬─────┬─────┬─────┬─────┬─────┬─────┬─────┬─────┬─────┬─────┬─────┬─────┬─────┬─────┬─────┬─────┬─────┬─────┬─────┬─────┬─────┬─────┬─────┬─────┬─────┬─────┬─────┬─────┬─────┬─────┬─────┬─────┬─────┬─────┬─────┬─────┬─────┬─────┬─────┬─────┬─────┬─────┬─────┬─────┬─────┬─────┬─────┬─────┬─────┬─────┬─────┬─────┬─────┬─────┬─────┬─────┬─────┬─────┬─────┐\n",
       "│ Res ┆ Mai ┆ Hob ┆ Ope ┆ Ope ┆ Emp ┆ Cou ┆ Stu ┆ EdL ┆ Und ┆ Edu ┆ Org ┆ Dev ┆ Yea ┆ Age ┆ Yea ┆ Car ┆ Job ┆ Mgr ┆ Mgr ┆ Mgr ┆ Job ┆ Las ┆ Las ┆ Fiz ┆ Job ┆ Res ┆ Cur ┆ Cur ┆ Com ┆ Com ┆ Con ┆ Wor ┆ Wor ┆ Wor ┆ Wor ┆ Wor ┆ Imp ┆ Cod ┆ Cod ┆ Uni ┆ Pur ┆ Pur ┆ Lan ┆ Lan ┆ Dat ┆ Dat ┆ Pla ┆ Pla ┆ Web ┆ Web ┆ Mis ┆ Mis ┆ Dev ┆ OpS ┆ Con ┆ Blo ┆ Blo ┆ Bet ┆ ITp ┆ Off ┆ Soc ┆ Ext ┆ Scr ┆ SOV ┆ SOV ┆ SOV ┆ SOF ┆ SOT ┆ SOH ┆ SOA ┆ SOP ┆ SOJ ┆ Ent ┆ SOC ┆ Wel ┆ SON ┆ Age ┆ Gen ┆ Tra ┆ Sex ┆ Eth ┆ Dep ┆ Sur ┆ Sur │\n",
       "│ pon ┆ nBr ┆ byi ┆ nSo ┆ nSo ┆ loy ┆ ntr ┆ den ┆ eve ┆ erg ┆ Oth ┆ Siz ┆ Typ ┆ rsC ┆ 1st ┆ rsC ┆ eer ┆ Sat ┆ Idi ┆ Mon ┆ Wan ┆ See ┆ tHi ┆ tIn ┆ zBu ┆ Fac ┆ ume ┆ ren ┆ ren ┆ pTo ┆ pFr ┆ ver ┆ kWe ┆ kPl ┆ kCh ┆ kRe ┆ kLo ┆ Syn ┆ eRe ┆ eRe ┆ tTe ┆ cha ┆ cha ┆ gua ┆ gua ┆ aba ┆ aba ┆ tfo ┆ tfo ┆ Fra ┆ Fra ┆ cTe ┆ cTe ┆ Env ┆ ys  ┆ tai ┆ ckc ┆ ckc ┆ ter ┆ ers ┆ On  ┆ ial ┆ rav ┆ een ┆ isi ┆ isi ┆ isi ┆ ind ┆ ime ┆ owM ┆ cco ┆ art ┆ obs ┆ Tea ┆ omm ┆ com ┆ ewC ┆ --- ┆ der ┆ ns  ┆ ual ┆ nic ┆ end ┆ vey ┆ vey │\n",
       "│ den ┆ anc ┆ st  ┆ urc ┆ urc ┆ men ┆ y   ┆ t   ┆ l   ┆ rad ┆ er  ┆ e   ┆ e   ┆ ode ┆ Cod ┆ ode ┆ Sat ┆ --- ┆ ot  ┆ ey  ┆ t   ┆ k   ┆ reD ┆ t   ┆ zz  ┆ tor ┆ Upd ┆ cyS ┆ cyD ┆ tal ┆ eq  ┆ ted ┆ ekH ┆ an  ┆ all ┆ mot ┆ c   ┆ --- ┆ v   ┆ vHr ┆ sts ┆ seH ┆ seW ┆ geW ┆ geD ┆ seW ┆ seD ┆ rmW ┆ rmD ┆ meW ┆ meD ┆ chW ┆ chD ┆ iro ┆ --- ┆ ner ┆ hai ┆ hai ┆ Lif ┆ on  ┆ --- ┆ Med ┆ ers ┆ Nam ┆ t1s ┆ tFr ┆ tTo ┆ Ans ┆ Sav ┆ uch ┆ unt ┆ Fre ┆ --- ┆ ms  ┆ --- ┆ eCh ┆ ont ┆ str ┆ --- ┆ --- ┆ ity ┆ ity ┆ ent ┆ Len ┆ Eas │\n",
       "│ t   ┆ h   ┆ --- ┆ er  ┆ e   ┆ t   ┆ --- ┆ --- ┆ --- ┆ Maj ┆ --- ┆ --- ┆ --- ┆ --- ┆ e   ┆ Pro ┆ --- ┆ str ┆ --- ┆ --- ┆ --- ┆ --- ┆ ate ┆ --- ┆ --- ┆ s   ┆ ate ┆ ymb ┆ esc ┆ --- ┆ --- ┆ Com ┆ rs  ┆ --- ┆ eng ┆ e   ┆ --- ┆ str ┆ --- ┆ s   ┆ --- ┆ ow  ┆ hat ┆ ork ┆ esi ┆ ork ┆ esi ┆ ork ┆ esi ┆ ork ┆ esi ┆ ork ┆ esi ┆ n   ┆ str ┆ s   ┆ nOr ┆ nIs ┆ e   ┆ --- ┆ str ┆ ia  ┆ ion ┆ e   ┆ t   ┆ eq  ┆ --- ┆ wer ┆ ed  ┆ Tim ┆ --- ┆ q   ┆ str ┆ --- ┆ str ┆ ang ┆ ent ┆     ┆ str ┆ str ┆ --- ┆ --- ┆ s   ┆ gth ┆ e   │\n",
       "│ --- ┆ --- ┆ str ┆ --- ┆ --- ┆ --- ┆ str ┆ str ┆ str ┆ or  ┆ str ┆ str ┆ str ┆ str ┆ --- ┆ --- ┆ str ┆     ┆ str ┆ str ┆ str ┆ str ┆ --- ┆ str ┆ str ┆ --- ┆ --- ┆ ol  ┆ --- ┆ str ┆ str ┆ p   ┆ --- ┆ str ┆ e   ┆ --- ┆ str ┆     ┆ str ┆ --- ┆ str ┆ --- ┆ --- ┆ edW ┆ reN ┆ edW ┆ reN ┆ edW ┆ reN ┆ edW ┆ reN ┆ edW ┆ reN ┆ --- ┆     ┆ --- ┆ g   ┆ --- ┆ --- ┆ str ┆     ┆ --- ┆ --- ┆ --- ┆ --- ┆ --- ┆ str ┆ --- ┆ --- ┆ e   ┆ str ┆ --- ┆     ┆ str ┆     ┆ e   ┆ --- ┆     ┆     ┆     ┆ str ┆ str ┆ --- ┆ --- ┆ --- │\n",
       "│ i64 ┆ str ┆     ┆ str ┆ str ┆ str ┆     ┆     ┆     ┆ --- ┆     ┆     ┆     ┆     ┆ str ┆ str ┆     ┆     ┆     ┆     ┆     ┆     ┆ str ┆     ┆     ┆ str ┆ str ┆ --- ┆ str ┆     ┆     ┆ --- ┆ str ┆     ┆ --- ┆ str ┆     ┆     ┆     ┆ str ┆     ┆ str ┆ str ┆ ith ┆ ext ┆ ith ┆ ext ┆ ith ┆ ext ┆ ith ┆ ext ┆ ith ┆ ext ┆ str ┆     ┆ str ┆ --- ┆ str ┆ str ┆     ┆     ┆ str ┆ str ┆ str ┆ str ┆ str ┆     ┆ str ┆ str ┆ --- ┆     ┆ str ┆     ┆     ┆     ┆ --- ┆ str ┆     ┆     ┆     ┆     ┆     ┆ str ┆ str ┆ str │\n",
       "│     ┆     ┆     ┆     ┆     ┆     ┆     ┆     ┆     ┆ str ┆     ┆     ┆     ┆     ┆     ┆     ┆     ┆     ┆     ┆     ┆     ┆     ┆     ┆     ┆     ┆     ┆     ┆ str ┆     ┆     ┆     ┆ str ┆     ┆     ┆ str ┆     ┆     ┆     ┆     ┆     ┆     ┆     ┆     ┆ --- ┆ Yea ┆ --- ┆ Yea ┆ --- ┆ Yea ┆ --- ┆ Yea ┆ --- ┆ Yea ┆     ┆     ┆     ┆ str ┆     ┆     ┆     ┆     ┆     ┆     ┆     ┆     ┆     ┆     ┆     ┆     ┆ str ┆     ┆     ┆     ┆     ┆     ┆ str ┆     ┆     ┆     ┆     ┆     ┆     ┆     ┆     ┆     │\n",
       "│     ┆     ┆     ┆     ┆     ┆     ┆     ┆     ┆     ┆     ┆     ┆     ┆     ┆     ┆     ┆     ┆     ┆     ┆     ┆     ┆     ┆     ┆     ┆     ┆     ┆     ┆     ┆     ┆     ┆     ┆     ┆     ┆     ┆     ┆     ┆     ┆     ┆     ┆     ┆     ┆     ┆     ┆     ┆ str ┆ r   ┆ str ┆ r   ┆ str ┆ r   ┆ str ┆ r   ┆ str ┆ r   ┆     ┆     ┆     ┆     ┆     ┆     ┆     ┆     ┆     ┆     ┆     ┆     ┆     ┆     ┆     ┆     ┆     ┆     ┆     ┆     ┆     ┆     ┆     ┆     ┆     ┆     ┆     ┆     ┆     ┆     ┆     ┆     │\n",
       "│     ┆     ┆     ┆     ┆     ┆     ┆     ┆     ┆     ┆     ┆     ┆     ┆     ┆     ┆     ┆     ┆     ┆     ┆     ┆     ┆     ┆     ┆     ┆     ┆     ┆     ┆     ┆     ┆     ┆     ┆     ┆     ┆     ┆     ┆     ┆     ┆     ┆     ┆     ┆     ┆     ┆     ┆     ┆     ┆ --- ┆     ┆ --- ┆     ┆ --- ┆     ┆ --- ┆     ┆ --- ┆     ┆     ┆     ┆     ┆     ┆     ┆     ┆     ┆     ┆     ┆     ┆     ┆     ┆     ┆     ┆     ┆     ┆     ┆     ┆     ┆     ┆     ┆     ┆     ┆     ┆     ┆     ┆     ┆     ┆     ┆     ┆     │\n",
       "│     ┆     ┆     ┆     ┆     ┆     ┆     ┆     ┆     ┆     ┆     ┆     ┆     ┆     ┆     ┆     ┆     ┆     ┆     ┆     ┆     ┆     ┆     ┆     ┆     ┆     ┆     ┆     ┆     ┆     ┆     ┆     ┆     ┆     ┆     ┆     ┆     ┆     ┆     ┆     ┆     ┆     ┆     ┆     ┆ str ┆     ┆ str ┆     ┆ str ┆     ┆ str ┆     ┆ str ┆     ┆     ┆     ┆     ┆     ┆     ┆     ┆     ┆     ┆     ┆     ┆     ┆     ┆     ┆     ┆     ┆     ┆     ┆     ┆     ┆     ┆     ┆     ┆     ┆     ┆     ┆     ┆     ┆     ┆     ┆     ┆     │\n",
       "╞═════╪═════╪═════╪═════╪═════╪═════╪═════╪═════╪═════╪═════╪═════╪═════╪═════╪═════╪═════╪═════╪═════╪═════╪═════╪═════╪═════╪═════╪═════╪═════╪═════╪═════╪═════╪═════╪═════╪═════╪═════╪═════╪═════╪═════╪═════╪═════╪═════╪═════╪═════╪═════╪═════╪═════╪═════╪═════╪═════╪═════╪═════╪═════╪═════╪═════╪═════╪═════╪═════╪═════╪═════╪═════╪═════╪═════╪═════╪═════╪═════╪═════╪═════╪═════╪═════╪═════╪═════╪═════╪═════╪═════╪═════╪═════╪═════╪═════╪═════╪═════╪═════╪═════╪═════╪═════╪═════╪═════╪═════╪═════╪═════╡\n",
       "│ 1   ┆ I   ┆ Yes ┆ Nev ┆ The ┆ Not ┆ Uni ┆ No  ┆ Pri ┆ NA  ┆ Tau ┆ NA  ┆ NA  ┆ 4   ┆ 10  ┆ NA  ┆ NA  ┆ NA  ┆ NA  ┆ NA  ┆ NA  ┆ NA  ┆ NA  ┆ NA  ┆ NA  ┆ NA  ┆ NA  ┆ NA  ┆ NA  ┆ NA  ┆ NA  ┆ NA  ┆ NA  ┆ NA  ┆ NA  ┆ NA  ┆ NA  ┆ NA  ┆ NA  ┆ NA  ┆ NA  ┆ NA  ┆ NA  ┆ HTM ┆ C;C ┆ SQL ┆ MyS ┆ Mac ┆ And ┆ Dja ┆ Fla ┆ Nod ┆ Nod ┆ Int ┆ Win ┆ I   ┆ NA  ┆ NA  ┆ Yes ┆ For ┆ Yes ┆ Twi ┆ Onl ┆ Use ┆ 201 ┆ A   ┆ Fin ┆ 3-5 ┆ Sta ┆ 31- ┆ No  ┆ NA  ┆ No, ┆ No, ┆ Neu ┆ Jus ┆ Tec ┆ 14  ┆ Man ┆ No  ┆ Str ┆ NA  ┆ No  ┆ App ┆ Nei │\n",
       "│     ┆ am  ┆     ┆ er  ┆ qua ┆ emp ┆ ted ┆     ┆ mar ┆     ┆ ght ┆     ┆     ┆     ┆     ┆     ┆     ┆     ┆     ┆     ┆     ┆     ┆     ┆     ┆     ┆     ┆     ┆     ┆     ┆     ┆     ┆     ┆     ┆     ┆     ┆     ┆     ┆     ┆     ┆     ┆     ┆     ┆     ┆ L/C ┆ ++; ┆ ite ┆ QL  ┆ OS; ┆ roi ┆ ngo ┆ sk; ┆ e.j ┆ e.j ┆ ell ┆ dow ┆ do  ┆     ┆     ┆     ┆ tun ┆     ┆ tte ┆ ine ┆ rna ┆ 7   ┆ few ┆ d   ┆ tim ┆ ck  ┆ 60  ┆     ┆     ┆ I   ┆ and ┆ tra ┆ t   ┆ h   ┆     ┆     ┆     ┆ aig ┆     ┆     ┆ rop ┆ the │\n",
       "│     ┆ a   ┆     ┆     ┆ lit ┆ loy ┆ Kin ┆     ┆ y/e ┆     ┆ you ┆     ┆     ┆     ┆     ┆     ┆     ┆     ┆     ┆     ┆     ┆     ┆     ┆     ┆     ┆     ┆     ┆     ┆     ┆     ┆     ┆     ┆     ┆     ┆     ┆     ┆     ┆     ┆     ┆     ┆     ┆     ┆     ┆ SS; ┆ C#; ┆     ┆     ┆ Win ┆ d;A ┆ ;Fl ┆ jQu ┆ s   ┆ s   ┆ iJ; ┆ s   ┆ not ┆     ┆     ┆     ┆ ate ┆     ┆ r   ┆     ┆ me  ┆     ┆ tim ┆ ans ┆ es  ┆ Ove ┆ min ┆     ┆     ┆ did ┆ I   ┆ l   ┆ as  ┆ art ┆     ┆     ┆     ┆ ht  ┆     ┆     ┆ ria ┆ r   │\n",
       "│     ┆ stu ┆     ┆     ┆ y   ┆ ed, ┆ gdo ┆     ┆ lem ┆     ┆ rse ┆     ┆     ┆     ┆     ┆     ┆     ┆     ┆     ┆     ┆     ┆     ┆     ┆     ┆     ┆     ┆     ┆     ┆     ┆     ┆     ┆     ┆     ┆     ┆     ┆     ┆     ┆     ┆     ┆     ┆     ┆     ┆     ┆ Jav ┆ Go; ┆     ┆     ┆ dow ┆ rdu ┆ ask ┆ ery ┆     ┆     ┆ Not ┆     ┆ use ┆     ┆     ┆     ┆ ly, ┆     ┆     ┆     ┆     ┆     ┆ es  ┆ wer ┆ per ┆ rfl ┆ ute ┆     ┆     ┆ n't ┆ don ┆     ┆ wel ┆ icl ┆     ┆     ┆     ┆ /   ┆     ┆     ┆ te  ┆ eas │\n",
       "│     ┆ den ┆     ┆     ┆ of  ┆ and ┆ m   ┆     ┆ ent ┆     ┆ lf  ┆     ┆     ┆     ┆     ┆     ┆     ┆     ┆     ┆     ┆     ┆     ┆     ┆     ┆     ┆     ┆     ┆     ┆     ┆     ┆     ┆     ┆     ┆     ┆     ┆     ┆     ┆     ┆     ┆     ┆     ┆     ┆     ┆ a;J ┆ HTM ┆     ┆     ┆ s   ┆ ino ┆     ┆     ┆     ┆     ┆ epa ┆     ┆ con ┆     ┆     ┆     ┆ som ┆     ┆     ┆     ┆     ┆     ┆ per ┆ s   ┆ wee ┆ ow  ┆ s   ┆     ┆     ┆ kno ┆ 't  ┆     ┆ com ┆ es  ┆     ┆     ┆     ┆ Het ┆     ┆     ┆ in  ┆ y   │\n",
       "│     ┆ t   ┆     ┆     ┆ OSS ┆ not ┆     ┆     ┆ ary ┆     ┆ a   ┆     ┆     ┆     ┆     ┆     ┆     ┆     ┆     ┆     ┆     ┆     ┆     ┆     ┆     ┆     ┆     ┆     ┆     ┆     ┆     ┆     ┆     ┆     ┆     ┆     ┆     ┆     ┆     ┆     ┆     ┆     ┆     ┆ ava ┆ L/C ┆     ┆     ┆     ┆ ;Wi ┆     ┆     ┆     ┆     ┆ d++ ┆     ┆ tai ┆     ┆     ┆     ┆ eon ┆     ┆     ┆     ┆     ┆     ┆ mon ┆ to  ┆ k   ┆ was ┆     ┆     ┆     ┆ w   ┆ kno ┆     ┆ e   ┆ wri ┆     ┆     ┆     ┆ ero ┆     ┆     ┆ len ┆ nor │\n",
       "│     ┆ who ┆     ┆     ┆ and ┆ loo ┆     ┆     ┆ sch ┆     ┆ new ┆     ┆     ┆     ┆     ┆     ┆     ┆     ┆     ┆     ┆     ┆     ┆     ┆     ┆     ┆     ┆     ┆     ┆     ┆     ┆     ┆     ┆     ┆     ┆     ┆     ┆     ┆     ┆     ┆     ┆     ┆     ┆     ┆ Scr ┆ SS; ┆     ┆     ┆     ┆ ndo ┆     ┆     ┆     ┆     ┆ ;Py ┆     ┆ ner ┆     ┆     ┆     ┆ e   ┆     ┆     ┆     ┆     ┆     ┆ th  ┆ spe ┆     ┆ muc ┆     ┆     ┆     ┆ tha ┆ w   ┆     ┆ now ┆ tte ┆     ┆     ┆     ┆ sex ┆     ┆     ┆ gth ┆ dif │\n",
       "│     ┆ is  ┆     ┆     ┆ clo ┆ kin ┆     ┆     ┆ ool ┆     ┆ lan ┆     ┆     ┆     ┆     ┆     ┆     ┆     ┆     ┆     ┆     ┆     ┆     ┆     ┆     ┆     ┆     ┆     ┆     ┆     ┆     ┆     ┆     ┆     ┆     ┆     ┆     ┆     ┆     ┆     ┆     ┆     ┆     ┆ ipt ┆ Jav ┆     ┆     ┆     ┆ ws  ┆     ┆     ┆     ┆     ┆ Cha ┆     ┆ s   ┆     ┆     ┆     ┆ els ┆     ┆     ┆     ┆     ┆     ┆ or  ┆ cif ┆     ┆ h   ┆     ┆     ┆     ┆ t   ┆ wha ┆     ┆ as  ┆ n   ┆     ┆     ┆     ┆ ual ┆     ┆     ┆     ┆ fic │\n",
       "│     ┆ lea ┆     ┆     ┆ sed ┆ g   ┆     ┆     ┆     ┆     ┆ gua ┆     ┆     ┆     ┆     ┆     ┆     ┆     ┆     ┆     ┆     ┆     ┆     ┆     ┆     ┆     ┆     ┆     ┆     ┆     ┆     ┆     ┆     ┆     ┆     ┆     ┆     ┆     ┆     ┆     ┆     ┆     ┆     ┆ ;Py ┆ a;J ┆     ┆     ┆     ┆     ┆     ┆     ┆     ┆     ┆ rm  ┆     ┆     ┆     ┆     ┆     ┆ e   ┆     ┆     ┆     ┆     ┆     ┆ wee ┆ ic  ┆     ┆ fas ┆     ┆     ┆     ┆ Sta ┆ t   ┆     ┆ I   ┆ by  ┆     ┆     ┆     ┆     ┆     ┆     ┆     ┆ ult │\n",
       "│     ┆ rni ┆     ┆     ┆ sou ┆ for ┆     ┆     ┆     ┆     ┆ ge, ┆     ┆     ┆     ┆     ┆     ┆     ┆     ┆     ┆     ┆     ┆     ┆     ┆     ┆     ┆     ┆     ┆     ┆     ┆     ┆     ┆     ┆     ┆     ┆     ┆     ┆     ┆     ┆     ┆     ┆     ┆     ┆     ┆ tho ┆ ava ┆     ┆     ┆     ┆     ┆     ┆     ┆     ┆     ┆     ┆     ┆     ┆     ┆     ┆     ┆ has ┆     ┆     ┆     ┆     ┆     ┆ kly ┆ que ┆     ┆ ter ┆     ┆     ┆     ┆ ck  ┆ tho ┆     ┆ fel ┆ oth ┆     ┆     ┆     ┆     ┆     ┆     ┆     ┆     │\n",
       "│     ┆ ng  ┆     ┆     ┆ rce ┆ wor ┆     ┆     ┆     ┆     ┆ fra ┆     ┆     ┆     ┆     ┆     ┆     ┆     ┆     ┆     ┆     ┆     ┆     ┆     ┆     ┆     ┆     ┆     ┆     ┆     ┆     ┆     ┆     ┆     ┆     ┆     ┆     ┆     ┆     ┆     ┆     ┆     ┆     ┆ n   ┆ Scr ┆     ┆     ┆     ┆     ┆     ┆     ┆     ┆     ┆     ┆     ┆     ┆     ┆     ┆     ┆ tha ┆     ┆     ┆     ┆     ┆     ┆     ┆ sti ┆     ┆     ┆     ┆     ┆     ┆ Ove ┆ se  ┆     ┆ t   ┆ er  ┆     ┆     ┆     ┆     ┆     ┆     ┆     ┆     │\n",
       "│     ┆ to  ┆     ┆     ┆ sof ┆ k   ┆     ┆     ┆     ┆     ┆ mew ┆     ┆     ┆     ┆     ┆     ┆     ┆     ┆     ┆     ┆     ┆     ┆     ┆     ┆     ┆     ┆     ┆     ┆     ┆     ┆     ┆     ┆     ┆     ┆     ┆     ┆     ┆     ┆     ┆     ┆     ┆     ┆     ┆     ┆ ipt ┆     ┆     ┆     ┆     ┆     ┆     ┆     ┆     ┆     ┆     ┆     ┆     ┆     ┆     ┆ t   ┆     ┆     ┆     ┆     ┆     ┆     ┆ ons ┆     ┆     ┆     ┆     ┆     ┆ rfl ┆ are ┆     ┆ las ┆ dev ┆     ┆     ┆     ┆     ┆     ┆     ┆     ┆     │\n",
       "│     ┆ cod ┆     ┆     ┆ twa ┆     ┆     ┆     ┆     ┆     ┆ ork ┆     ┆     ┆     ┆     ┆     ┆     ┆     ┆     ┆     ┆     ┆     ┆     ┆     ┆     ┆     ┆     ┆     ┆     ┆     ┆     ┆     ┆     ┆     ┆     ┆     ┆     ┆     ┆     ┆     ┆     ┆     ┆     ┆     ┆ ;Py ┆     ┆     ┆     ┆     ┆     ┆     ┆     ┆     ┆     ┆     ┆     ┆     ┆     ┆     ┆ tit ┆     ┆     ┆     ┆     ┆     ┆     ┆ ;Le ┆     ┆     ┆     ┆     ┆     ┆ ow  ┆     ┆     ┆ t   ┆ elo ┆     ┆     ┆     ┆     ┆     ┆     ┆     ┆     │\n",
       "│     ┆ e   ┆     ┆     ┆ re  ┆     ┆     ┆     ┆     ┆     ┆ ,   ┆     ┆     ┆     ┆     ┆     ┆     ┆     ┆     ┆     ┆     ┆     ┆     ┆     ┆     ┆     ┆     ┆     ┆     ┆     ┆     ┆     ┆     ┆     ┆     ┆     ┆     ┆     ┆     ┆     ┆     ┆     ┆     ┆     ┆ tho ┆     ┆     ┆     ┆     ┆     ┆     ┆     ┆     ┆     ┆     ┆     ┆     ┆     ┆     ┆ le  ┆     ┆     ┆     ┆     ┆     ┆     ┆ arn ┆     ┆     ┆     ┆     ┆     ┆ had ┆     ┆     ┆ yea ┆ per ┆     ┆     ┆     ┆     ┆     ┆     ┆     ┆     │\n",
       "│     ┆     ┆     ┆     ┆ is  ┆     ┆     ┆     ┆     ┆     ┆ or  ┆     ┆     ┆     ┆     ┆     ┆     ┆     ┆     ┆     ┆     ┆     ┆     ┆     ┆     ┆     ┆     ┆     ┆     ┆     ┆     ┆     ┆     ┆     ┆     ┆     ┆     ┆     ┆     ┆     ┆     ┆     ┆     ┆     ┆ n;S ┆     ┆     ┆     ┆     ┆     ┆     ┆     ┆     ┆     ┆     ┆     ┆     ┆     ┆     ┆     ┆     ┆     ┆     ┆     ┆     ┆     ┆ how ┆     ┆     ┆     ┆     ┆     ┆ a   ┆     ┆     ┆ r   ┆ s;I ┆     ┆     ┆     ┆     ┆     ┆     ┆     ┆     │\n",
       "│     ┆     ┆     ┆     ┆ a…  ┆     ┆     ┆     ┆     ┆     ┆ too ┆     ┆     ┆     ┆     ┆     ┆     ┆     ┆     ┆     ┆     ┆     ┆     ┆     ┆     ┆     ┆     ┆     ┆     ┆     ┆     ┆     ┆     ┆     ┆     ┆     ┆     ┆     ┆     ┆     ┆     ┆     ┆     ┆     ┆ QL  ┆     ┆     ┆     ┆     ┆     ┆     ┆     ┆     ┆     ┆     ┆     ┆     ┆     ┆     ┆     ┆     ┆     ┆     ┆     ┆     ┆     ┆ to  ┆     ┆     ┆     ┆     ┆     ┆ job ┆     ┆     ┆     ┆ ndu ┆     ┆     ┆     ┆     ┆     ┆     ┆     ┆     │\n",
       "│     ┆     ┆     ┆     ┆     ┆     ┆     ┆     ┆     ┆     ┆ l…  ┆     ┆     ┆     ┆     ┆     ┆     ┆     ┆     ┆     ┆     ┆     ┆     ┆     ┆     ┆     ┆     ┆     ┆     ┆     ┆     ┆     ┆     ┆     ┆     ┆     ┆     ┆     ┆     ┆     ┆     ┆     ┆     ┆     ┆     ┆     ┆     ┆     ┆     ┆     ┆     ┆     ┆     ┆     ┆     ┆     ┆     ┆     ┆     ┆     ┆     ┆     ┆     ┆     ┆     ┆     ┆ do… ┆     ┆     ┆     ┆     ┆     ┆ bo… ┆     ┆     ┆     ┆ str ┆     ┆     ┆     ┆     ┆     ┆     ┆     ┆     │\n",
       "│     ┆     ┆     ┆     ┆     ┆     ┆     ┆     ┆     ┆     ┆     ┆     ┆     ┆     ┆     ┆     ┆     ┆     ┆     ┆     ┆     ┆     ┆     ┆     ┆     ┆     ┆     ┆     ┆     ┆     ┆     ┆     ┆     ┆     ┆     ┆     ┆     ┆     ┆     ┆     ┆     ┆     ┆     ┆     ┆     ┆     ┆     ┆     ┆     ┆     ┆     ┆     ┆     ┆     ┆     ┆     ┆     ┆     ┆     ┆     ┆     ┆     ┆     ┆     ┆     ┆     ┆     ┆     ┆     ┆     ┆     ┆     ┆     ┆     ┆     ┆     ┆ y…  ┆     ┆     ┆     ┆     ┆     ┆     ┆     ┆     │\n",
       "│ 2   ┆ I   ┆ No  ┆ Les ┆ The ┆ Not ┆ Bos ┆ Yes ┆ Sec ┆ NA  ┆ Tak ┆ NA  ┆ Dev ┆ NA  ┆ 17  ┆ NA  ┆ NA  ┆ NA  ┆ NA  ┆ NA  ┆ NA  ┆ I   ┆ I'v ┆ NA  ┆ NA  ┆ Fin ┆ Som ┆ NA  ┆ NA  ┆ NA  ┆ NA  ┆ NA  ┆ NA  ┆ NA  ┆ NA  ┆ NA  ┆ NA  ┆ NA  ┆ NA  ┆ NA  ┆ NA  ┆ NA  ┆ NA  ┆ C++ ┆ C++ ┆ NA  ┆ MyS ┆ Win ┆ Win ┆ Dja ┆ Dja ┆ NA  ┆ NA  ┆ Ato ┆ Win ┆ I   ┆ NA  ┆ Use ┆ Yes ┆ Yes ┆ Yes ┆ Ins ┆ Onl ┆ Use ┆ 201 ┆ Dai ┆ Fin ┆ 3-5 ┆ Sta ┆ 11- ┆ Yes ┆ A   ┆ No, ┆ No, ┆ Yes ┆ Jus ┆ Tec ┆ 19  ┆ Man ┆ No  ┆ Str ┆ NA  ┆ No  ┆ App ┆ Nei │\n",
       "│     ┆ am  ┆     ┆ s   ┆ qua ┆ emp ┆ nia ┆ ,   ┆ ond ┆     ┆ en  ┆     ┆ elo ┆     ┆     ┆     ┆     ┆     ┆     ┆     ┆     ┆ am  ┆ e   ┆     ┆     ┆ anc ┆ eth ┆     ┆     ┆     ┆     ┆     ┆     ┆     ┆     ┆     ┆     ┆     ┆     ┆     ┆     ┆     ┆     ┆ ;HT ┆ ;HT ┆     ┆ QL  ┆ dow ┆ dow ┆ ngo ┆ ngo ┆     ┆     ┆ m;P ┆ dow ┆ do  ┆     ┆ ful ┆     ┆     ┆     ┆ tag ┆ ine ┆ rna ┆ 7   ┆ ly  ┆ d   ┆ tim ┆ ck  ┆ 30  ┆     ┆ few ┆ I   ┆ and ┆ ,   ┆ t   ┆ h   ┆     ┆     ┆     ┆ aig ┆     ┆     ┆ rop ┆ the │\n",
       "│     ┆ a   ┆     ┆ tha ┆ lit ┆ loy ┆ and ┆ ful ┆ ary ┆     ┆ an  ┆     ┆ per ┆     ┆     ┆     ┆     ┆     ┆     ┆     ┆     ┆ act ┆ nev ┆     ┆     ┆ ial ┆ ing ┆     ┆     ┆     ┆     ┆     ┆     ┆     ┆     ┆     ┆     ┆     ┆     ┆     ┆     ┆     ┆     ┆ ML/ ┆ ML/ ┆     ┆     ┆ s   ┆ s   ┆     ┆     ┆     ┆     ┆ yCh ┆ s   ┆ not ┆     ┆ acr ┆     ┆     ┆     ┆ ram ┆     ┆ me  ┆     ┆ or  ┆ ans ┆ es  ┆ Ove ┆ min ┆     ┆ tim ┆ kne ┆ I   ┆ som ┆ as  ┆ art ┆     ┆     ┆     ┆ ht  ┆     ┆     ┆ ria ┆ r   │\n",
       "│     ┆ stu ┆     ┆ n   ┆ y   ┆ ed, ┆ Her ┆ l-t ┆ sch ┆     ┆ onl ┆     ┆ ,   ┆     ┆     ┆     ┆     ┆     ┆     ┆     ┆     ┆ ive ┆ er  ┆     ┆     ┆ per ┆ els ┆     ┆     ┆     ┆     ┆     ┆     ┆     ┆     ┆     ┆     ┆     ┆     ┆     ┆     ┆     ┆     ┆ CSS ┆ CSS ┆     ┆     ┆     ┆     ┆     ┆     ┆     ┆     ┆ arm ┆     ┆ use ┆     ┆ oss ┆     ┆     ┆     ┆     ┆     ┆     ┆     ┆ alm ┆ wer ┆ per ┆ rfl ┆ ute ┆     ┆ es  ┆ w   ┆ don ┆ ewh ┆ wel ┆ icl ┆     ┆     ┆     ┆ /   ┆     ┆     ┆ te  ┆ eas │\n",
       "│     ┆ den ┆     ┆ onc ┆ of  ┆ but ┆ zeg ┆ ime ┆ ool ┆     ┆ ine ┆     ┆ des ┆     ┆     ┆     ┆     ┆     ┆     ┆     ┆     ┆ ly  ┆ had ┆     ┆     ┆ for ┆ e   ┆     ┆     ┆     ┆     ┆     ┆     ┆     ┆     ┆     ┆     ┆     ┆     ┆     ┆     ┆     ┆     ┆ ;Py ┆ ;Ja ┆     ┆     ┆     ┆     ┆     ┆     ┆     ┆     ┆     ┆     ┆ con ┆     ┆ man ┆     ┆     ┆     ┆     ┆     ┆     ┆     ┆ ost ┆ s   ┆ wee ┆ ow  ┆ s   ┆     ┆ per ┆ tha ┆ 't  ┆ at  ┆ com ┆ es  ┆     ┆     ┆     ┆ Het ┆     ┆     ┆ in  ┆ y   │\n",
       "│     ┆ t   ┆     ┆ e   ┆ OSS ┆ loo ┆ ovi ┆     ┆ (e. ┆     ┆ cou ┆     ┆ kto ┆     ┆     ┆     ┆     ┆     ┆     ┆     ┆     ┆ loo ┆ a   ┆     ┆     ┆ man ┆ cha ┆     ┆     ┆     ┆     ┆     ┆     ┆     ┆     ┆     ┆     ┆     ┆     ┆     ┆     ┆     ┆     ┆ tho ┆ vaS ┆     ┆     ┆     ┆     ┆     ┆     ┆     ┆     ┆     ┆     ┆ tai ┆     ┆ y   ┆     ┆     ┆     ┆     ┆     ┆     ┆     ┆ dai ┆ to  ┆ k   ┆ was ┆     ┆     ┆ mon ┆ t   ┆ kno ┆     ┆ e   ┆ wri ┆     ┆     ┆     ┆ ero ┆     ┆     ┆ len ┆ nor │\n",
       "│     ┆ who ┆     ┆ per ┆ and ┆ kin ┆ na  ┆     ┆ g.  ┆     ┆ rse ┆     ┆ p   ┆     ┆     ┆     ┆     ┆     ┆     ┆     ┆     ┆ kin ┆ job ┆     ┆     ┆ ce  ┆ nge ┆     ┆     ┆     ┆     ┆     ┆     ┆     ┆     ┆     ┆     ┆     ┆     ┆     ┆     ┆     ┆     ┆ n   ┆ cri ┆     ┆     ┆     ┆     ┆     ┆     ┆     ┆     ┆     ┆     ┆ ner ┆     ┆ dom ┆     ┆     ┆     ┆     ┆     ┆     ┆     ┆ ly  ┆ spe ┆     ┆ muc ┆     ┆     ┆ th  ┆ Sta ┆ w   ┆     ┆ now ┆ tte ┆     ┆     ┆     ┆ sex ┆     ┆     ┆ gth ┆ dif │\n",
       "│     ┆ is  ┆     ┆ yea ┆ clo ┆ g   ┆     ┆     ┆ Ame ┆     ┆ in  ┆     ┆ or  ┆     ┆     ┆     ┆     ┆     ┆     ┆     ┆     ┆ g   ┆     ┆     ┆     ┆ or  ┆ d   ┆     ┆     ┆     ┆     ┆     ┆     ┆     ┆     ┆     ┆     ┆     ┆     ┆     ┆     ┆     ┆     ┆     ┆ pt; ┆     ┆     ┆     ┆     ┆     ┆     ┆     ┆     ┆     ┆     ┆ s   ┆     ┆ ain ┆     ┆     ┆     ┆     ┆     ┆     ┆     ┆     ┆ cif ┆     ┆ h   ┆     ┆     ┆ or  ┆ ck  ┆ wha ┆     ┆ as  ┆ n   ┆     ┆     ┆     ┆ ual ┆     ┆     ┆     ┆ fic │\n",
       "│     ┆ lea ┆     ┆ r   ┆ sed ┆ for ┆     ┆     ┆ ric ┆     ┆ pro ┆     ┆ ent ┆     ┆     ┆     ┆     ┆     ┆     ┆     ┆     ┆ for ┆     ┆     ┆     ┆ fun ┆ (ed ┆     ┆     ┆     ┆     ┆     ┆     ┆     ┆     ┆     ┆     ┆     ┆     ┆     ┆     ┆     ┆     ┆     ┆ SQL ┆     ┆     ┆     ┆     ┆     ┆     ┆     ┆     ┆     ┆     ┆     ┆     ┆ s   ┆     ┆     ┆     ┆     ┆     ┆     ┆     ┆     ┆ ic  ┆     ┆ fas ┆     ┆     ┆ wee ┆ Ove ┆ t   ┆     ┆ I   ┆ by  ┆     ┆     ┆     ┆     ┆     ┆     ┆     ┆ ult │\n",
       "│     ┆ rni ┆     ┆     ┆ sou ┆ wor ┆     ┆     ┆ an  ┆     ┆ gra ┆     ┆ erp ┆     ┆     ┆     ┆     ┆     ┆     ┆     ┆     ┆ a   ┆     ┆     ┆     ┆ din ┆ uca ┆     ┆     ┆     ┆     ┆     ┆     ┆     ┆     ┆     ┆     ┆     ┆     ┆     ┆     ┆     ┆     ┆     ┆     ┆     ┆     ┆     ┆     ┆     ┆     ┆     ┆     ┆     ┆     ┆     ┆     ┆ and ┆     ┆     ┆     ┆     ┆     ┆     ┆     ┆     ┆ que ┆     ┆ ter ┆     ┆     ┆ kly ┆ rfl ┆ tho ┆     ┆ fel ┆ oth ┆     ┆     ┆     ┆     ┆     ┆     ┆     ┆     │\n",
       "│     ┆ ng  ┆     ┆     ┆ rce ┆ k   ┆     ┆     ┆ hig ┆     ┆ mmi ┆     ┆ ris ┆     ┆     ┆     ┆     ┆     ┆     ┆     ┆     ┆ job ┆     ┆     ┆     ┆ g   ┆ tio ┆     ┆     ┆     ┆     ┆     ┆     ┆     ┆     ┆     ┆     ┆     ┆     ┆     ┆     ┆     ┆     ┆     ┆     ┆     ┆     ┆     ┆     ┆     ┆     ┆     ┆     ┆     ┆     ┆     ┆     ┆ cou ┆     ┆     ┆     ┆     ┆     ┆     ┆     ┆     ┆ sti ┆     ┆     ┆     ┆     ┆     ┆ ow  ┆ se  ┆     ┆ t   ┆ er  ┆     ┆     ┆     ┆     ┆     ┆     ┆     ┆     │\n",
       "│     ┆ to  ┆     ┆     ┆ sof ┆     ┆     ┆     ┆ h   ┆     ┆ ng  ┆     ┆ e   ┆     ┆     ┆     ┆     ┆     ┆     ┆     ┆     ┆     ┆     ┆     ┆     ┆ sta ┆ n,  ┆     ┆     ┆     ┆     ┆     ┆     ┆     ┆     ┆     ┆     ┆     ┆     ┆     ┆     ┆     ┆     ┆     ┆     ┆     ┆     ┆     ┆     ┆     ┆     ┆     ┆     ┆     ┆     ┆     ┆     ┆ ld  ┆     ┆     ┆     ┆     ┆     ┆     ┆     ┆     ┆ ons ┆     ┆     ┆     ┆     ┆     ┆ had ┆ are ┆     ┆ las ┆ dev ┆     ┆     ┆     ┆     ┆     ┆     ┆     ┆     │\n",
       "│     ┆ cod ┆     ┆     ┆ twa ┆     ┆     ┆     ┆ sch ┆     ┆ or  ┆     ┆ app ┆     ┆     ┆     ┆     ┆     ┆     ┆     ┆     ┆     ┆     ┆     ┆     ┆ tus ┆ awa ┆     ┆     ┆     ┆     ┆     ┆     ┆     ┆     ┆     ┆     ┆     ┆     ┆     ┆     ┆     ┆     ┆     ┆     ┆     ┆     ┆     ┆     ┆     ┆     ┆     ┆     ┆     ┆     ┆     ┆     ┆ cha ┆     ┆     ┆     ┆     ┆     ┆     ┆     ┆     ┆ ;Le ┆     ┆     ┆     ┆     ┆     ┆ a   ┆     ┆     ┆ t   ┆ elo ┆     ┆     ┆     ┆     ┆     ┆     ┆     ┆     │\n",
       "│     ┆ e   ┆     ┆     ┆ re  ┆     ┆     ┆     ┆ ool ┆     ┆ sof ┆     ┆ lic ┆     ┆     ┆     ┆     ┆     ┆     ┆     ┆     ┆     ┆     ┆     ┆     ┆ of  ┆ rd, ┆     ┆     ┆     ┆     ┆     ┆     ┆     ┆     ┆     ┆     ┆     ┆     ┆     ┆     ┆     ┆     ┆     ┆     ┆     ┆     ┆     ┆     ┆     ┆     ┆     ┆     ┆     ┆     ┆     ┆     ┆ nge ┆     ┆     ┆     ┆     ┆     ┆     ┆     ┆     ┆ arn ┆     ┆     ┆     ┆     ┆     ┆ job ┆     ┆     ┆ yea ┆ per ┆     ┆     ┆     ┆     ┆     ┆     ┆     ┆     │\n",
       "│     ┆     ┆     ┆     ┆ is  ┆     ┆     ┆     ┆ ,   ┆     ┆ twa ┆     ┆ ati ┆     ┆     ┆     ┆     ┆     ┆     ┆     ┆     ┆     ┆     ┆     ┆     ┆ the ┆ med ┆     ┆     ┆     ┆     ┆     ┆     ┆     ┆     ┆     ┆     ┆     ┆     ┆     ┆     ┆     ┆     ┆     ┆     ┆     ┆     ┆     ┆     ┆     ┆     ┆     ┆     ┆     ┆     ┆     ┆     ┆ man ┆     ┆     ┆     ┆     ┆     ┆     ┆     ┆     ┆ how ┆     ┆     ┆     ┆     ┆     ┆ boa ┆     ┆     ┆ r   ┆ s;I ┆     ┆     ┆     ┆     ┆     ┆     ┆     ┆     │\n",
       "│     ┆     ┆     ┆     ┆ a…  ┆     ┆     ┆     ┆ Ger ┆     ┆ re  ┆     ┆ ons ┆     ┆     ┆     ┆     ┆     ┆     ┆     ┆     ┆     ┆     ┆     ┆     ┆ com ┆ ia, ┆     ┆     ┆     ┆     ┆     ┆     ┆     ┆     ┆     ┆     ┆     ┆     ┆     ┆     ┆     ┆     ┆     ┆     ┆     ┆     ┆     ┆     ┆     ┆     ┆     ┆     ┆     ┆     ┆     ┆     ┆ y   ┆     ┆     ┆     ┆     ┆     ┆     ┆     ┆     ┆ to  ┆     ┆     ┆     ┆     ┆     ┆ rd  ┆     ┆     ┆     ┆ ndu ┆     ┆     ┆     ┆     ┆     ┆     ┆     ┆     │\n",
       "│     ┆     ┆     ┆     ┆     ┆     ┆     ┆     ┆ ma… ┆     ┆ …   ┆     ┆ ;De ┆     ┆     ┆     ┆     ┆     ┆     ┆     ┆     ┆     ┆     ┆     ┆     ┆ …   ┆ e…  ┆     ┆     ┆     ┆     ┆     ┆     ┆     ┆     ┆     ┆     ┆     ┆     ┆     ┆     ┆     ┆     ┆     ┆     ┆     ┆     ┆     ┆     ┆     ┆     ┆     ┆     ┆     ┆     ┆     ┆     ┆ a…  ┆     ┆     ┆     ┆     ┆     ┆     ┆     ┆     ┆ do… ┆     ┆     ┆     ┆     ┆     ┆ but ┆     ┆     ┆     ┆ str ┆     ┆     ┆     ┆     ┆     ┆     ┆     ┆     │\n",
       "│     ┆     ┆     ┆     ┆     ┆     ┆     ┆     ┆     ┆     ┆     ┆     ┆ ve… ┆     ┆     ┆     ┆     ┆     ┆     ┆     ┆     ┆     ┆     ┆     ┆     ┆     ┆     ┆     ┆     ┆     ┆     ┆     ┆     ┆     ┆     ┆     ┆     ┆     ┆     ┆     ┆     ┆     ┆     ┆     ┆     ┆     ┆     ┆     ┆     ┆     ┆     ┆     ┆     ┆     ┆     ┆     ┆     ┆     ┆     ┆     ┆     ┆     ┆     ┆     ┆     ┆     ┆     ┆     ┆     ┆     ┆     ┆     ┆ …   ┆     ┆     ┆     ┆ y…  ┆     ┆     ┆     ┆     ┆     ┆     ┆     ┆     │\n",
       "│ 3   ┆ I   ┆ Yes ┆ Nev ┆ The ┆ Emp ┆ Tha ┆ No  ┆ Bac ┆ Web ┆ Tau ┆ 100 ┆ Des ┆ 3   ┆ 22  ┆ 1   ┆ Sli ┆ Sli ┆ Not ┆ Not ┆ Not ┆ I’m ┆ 1-2 ┆ Int ┆ No  ┆ Lan ┆ I   ┆ THB ┆ Tha ┆ 230 ┆ Mon ┆ 882 ┆ 40  ┆ The ┆ Dis ┆ Les ┆ Hom ┆ Ave ┆ No  ┆ NA  ┆ No, ┆ Not ┆ I   ┆ HTM ┆ Eli ┆ Pos ┆ Pos ┆ NA  ┆ NA  ┆ NA  ┆ Oth ┆ NA  ┆ NA  ┆ Vim ┆ Lin ┆ I   ┆ NA  ┆ NA  ┆ Yes ┆ Yes ┆ Yes ┆ Red ┆ In  ┆ Use ┆ 201 ┆ A   ┆ Fin ┆ 6-1 ┆ The ┆ NA  ┆ Yes ┆ Les ┆ Yes ┆ No, ┆ Neu ┆ Jus ┆ Tec ┆ 28  ┆ Man ┆ No  ┆ Str ┆ NA  ┆ Yes ┆ App ┆ Nei │\n",
       "│     ┆ am  ┆     ┆ er  ┆ qua ┆ loy ┆ ila ┆     ┆ hel ┆ dev ┆ ght ┆ to  ┆ ign ┆     ┆     ┆     ┆ ght ┆ ght ┆ at  ┆ sur ┆ sur ┆ not ┆ yea ┆ erv ┆     ┆ gua ┆ was ┆     ┆ i   ┆ 00  ┆ thl ┆ 0   ┆     ┆ re' ┆ tra ┆ s   ┆ e   ┆ rag ┆     ┆     ┆ but ┆ sur ┆ hav ┆ L/C ┆ xir ┆ tgr ┆ tgr ┆     ┆     ┆     ┆ er( ┆     ┆     ┆ ;Vi ┆ ux- ┆ do  ┆     ┆     ┆     ┆     ┆     ┆ dit ┆ rea ┆ rna ┆ 1   ┆ few ┆ d   ┆ 0   ┆ y   ┆     ┆     ┆ s   ┆     ┆ I'v ┆ tra ┆ t   ┆ h   ┆     ┆     ┆     ┆ aig ┆     ┆     ┆ rop ┆ the │\n",
       "│     ┆ not ┆     ┆     ┆ lit ┆ ed  ┆ nd  ┆     ┆ or’ ┆ elo ┆ you ┆ 499 ┆ er; ┆     ┆     ┆     ┆ ly  ┆ ly  ┆ all ┆ e   ┆ e   ┆ act ┆ rs  ┆ iew ┆     ┆ ges ┆ pre ┆     ┆ bah ┆     ┆ y   ┆     ┆     ┆ s   ┆ cti ┆ tha ┆     ┆ e   ┆     ┆     ┆ I   ┆ e   ┆ e   ┆ SS  ┆ ;HT ┆ eSQ ┆ eSQ ┆     ┆     ┆     ┆ s): ┆     ┆     ┆ sua ┆ bas ┆ not ┆     ┆     ┆     ┆     ┆     ┆     ┆ l   ┆ me  ┆     ┆ tim ┆ ans ┆ tim ┆ wer ┆     ┆     ┆ tha ┆     ┆ e   ┆ l   ┆ as  ┆ mee ┆     ┆     ┆     ┆ ht  ┆     ┆     ┆ ria ┆ r   │\n",
       "│     ┆ pri ┆     ┆     ┆ y   ┆ ful ┆     ┆     ┆ s   ┆ pme ┆ rse ┆ emp ┆ Dev ┆     ┆     ┆     ┆ sat ┆ sat ┆ con ┆     ┆     ┆ ive ┆ ago ┆ wit ┆     ┆ ,   ┆ par ┆     ┆ t   ┆     ┆     ┆     ┆     ┆ no  ┆ ng  ┆ n   ┆     ┆     ┆     ┆     ┆ thi ┆     ┆ lit ┆     ┆ ML/ ┆ L   ┆ L   ┆     ┆     ┆     ┆     ┆     ┆     ┆ l   ┆ ed  ┆ use ┆     ┆     ┆     ┆     ┆     ┆     ┆ lif ┆     ┆     ┆ es  ┆ wer ┆ es  ┆ e   ┆     ┆     ┆ n   ┆     ┆ hea ┆     ┆ wel ┆ tup ┆     ┆     ┆     ┆ /   ┆     ┆     ┆ te  ┆ eas │\n",
       "│     ┆ mar ┆     ┆     ┆ of  ┆ l-t ┆     ┆     ┆ deg ┆ nt  ┆ lf  ┆ loy ┆ elo ┆     ┆     ┆     ┆ isf ┆ isf ┆ fid ┆     ┆     ┆ ly  ┆     ┆ h   ┆     ┆ fra ┆ ing ┆     ┆     ┆     ┆     ┆     ┆     ┆ sch ┆ wor ┆ onc ┆     ┆     ┆     ┆     ┆ nk  ┆     ┆ tle ┆     ┆ CSS ┆     ┆     ┆     ┆     ┆     ┆     ┆     ┆     ┆ Stu ┆     ┆ con ┆     ┆     ┆     ┆     ┆     ┆     ┆ e   ┆     ┆     ┆ per ┆ s   ┆ per ┆ abo ┆     ┆     ┆ onc ┆     ┆ rd  ┆     ┆ com ┆ s   ┆     ┆     ┆     ┆ Het ┆     ┆     ┆ in  ┆ y   │\n",
       "│     ┆ ily ┆     ┆     ┆ OSS ┆ ime ┆     ┆     ┆ ree ┆ or  ┆ a   ┆ ees ┆ per ┆     ┆     ┆     ┆ ied ┆ ied ┆ ent ┆     ┆     ┆ loo ┆     ┆ peo ┆     ┆ mew ┆ for ┆     ┆     ┆     ┆     ┆     ┆     ┆ edu ┆ k   ┆ e   ┆     ┆     ┆     ┆     ┆ we  ┆     ┆ or  ┆     ┆     ┆     ┆     ┆     ┆     ┆     ┆     ┆     ┆     ┆ dio ┆     ┆ tai ┆     ┆     ┆     ┆     ┆     ┆     ┆ (in ┆     ┆     ┆ wee ┆ to  ┆ wee ┆ ut  ┆     ┆     ┆ e   ┆     ┆ of  ┆     ┆ e   ┆ or  ┆     ┆     ┆     ┆ ero ┆     ┆     ┆ len ┆ nor │\n",
       "│     ┆ a   ┆     ┆     ┆ and ┆     ┆     ┆     ┆ (BA ┆ web ┆ new ┆     ┆ ,   ┆     ┆     ┆     ┆     ┆     ┆     ┆     ┆     ┆ kin ┆     ┆ ple ┆     ┆ ork ┆ a   ┆     ┆     ┆     ┆     ┆     ┆     ┆ le  ┆ env ┆ per ┆     ┆     ┆     ┆     ┆ sho ┆     ┆ no  ┆     ┆     ┆     ┆     ┆     ┆     ┆     ┆     ┆     ┆     ┆ Cod ┆     ┆ ner ┆     ┆     ┆     ┆     ┆     ┆     ┆ per ┆     ┆     ┆ k   ┆ spe ┆ k   ┆ the ┆     ┆     ┆ per ┆     ┆ the ┆     ┆ now ┆ eve ┆     ┆     ┆     ┆ sex ┆     ┆     ┆ gth ┆ dif │\n",
       "│     ┆ dev ┆     ┆     ┆ clo ┆     ┆     ┆     ┆ ,   ┆ des ┆ lan ┆     ┆ bac ┆     ┆     ┆     ┆     ┆     ┆     ┆     ┆     ┆ g,  ┆     ┆ in  ┆     ┆ s,  ┆ job ┆     ┆     ┆     ┆     ┆     ┆     ┆ or  ┆ iro ┆ mon ┆     ┆     ┆     ┆     ┆ uld ┆     ┆ inf ┆     ┆     ┆     ┆     ┆     ┆     ┆     ┆     ┆     ┆     ┆ e   ┆     ┆ s   ┆     ┆     ┆     ┆     ┆     ┆     ┆ son ┆     ┆     ┆     ┆ cif ┆     ┆ sam ┆     ┆     ┆ mon ┆     ┆ m,  ┆     ┆ as  ┆ nts ┆     ┆     ┆     ┆ ual ┆     ┆     ┆     ┆ fic │\n",
       "│     ┆ elo ┆     ┆     ┆ sed ┆     ┆     ┆     ┆ BS, ┆ ign ┆ gua ┆     ┆ k-e ┆     ┆     ┆     ┆     ┆     ┆     ┆     ┆     ┆ but ┆     ┆ pee ┆     ┆ and ┆ sea ┆     ┆     ┆     ┆     ┆     ┆     ┆ spe ┆ nme ┆ th  ┆     ┆     ┆     ┆     ┆     ┆     ┆ lue ┆     ┆     ┆     ┆     ┆     ┆     ┆     ┆     ┆     ┆     ┆     ┆     ┆     ┆     ┆     ┆     ┆     ┆     ┆     ┆ )   ┆     ┆     ┆     ┆ ic  ┆     ┆ e   ┆     ┆     ┆ th  ┆     ┆ but ┆     ┆ I   ┆ in  ┆     ┆     ┆     ┆     ┆     ┆     ┆     ┆ ult │\n",
       "│     ┆ per ┆     ┆     ┆ sou ┆     ┆     ┆     ┆ B.E ┆     ┆ ge, ┆     ┆ nd; ┆     ┆     ┆     ┆     ┆     ┆     ┆     ┆     ┆ I   ┆     ┆ r   ┆     ┆ oth ┆ rch ┆     ┆     ┆     ┆     ┆     ┆     ┆ c;  ┆ nt; ┆ /   ┆     ┆     ┆     ┆     ┆     ┆     ┆ nce ┆     ┆     ┆     ┆     ┆     ┆     ┆     ┆     ┆     ┆     ┆     ┆     ┆     ┆     ┆     ┆     ┆     ┆     ┆     ┆     ┆     ┆     ┆     ┆ que ┆     ┆     ┆     ┆     ┆ or  ┆     ┆ I   ┆     ┆ fel ┆ you ┆     ┆     ┆     ┆     ┆     ┆     ┆     ┆     │\n",
       "│     ┆ ,   ┆     ┆     ┆ rce ┆     ┆     ┆     ┆ ng. ┆     ┆ fra ┆     ┆ Dev ┆     ┆     ┆     ┆     ┆     ┆     ┆     ┆     ┆ am  ┆     ┆ rol ┆     ┆ er  ┆     ┆     ┆     ┆     ┆     ┆     ┆     ┆ I   ┆ Ina ┆ Nev ┆     ┆     ┆     ┆     ┆     ┆     ┆     ┆     ┆     ┆     ┆     ┆     ┆     ┆     ┆     ┆     ┆     ┆     ┆     ┆     ┆     ┆     ┆     ┆     ┆     ┆     ┆     ┆     ┆     ┆     ┆ sti ┆     ┆     ┆     ┆     ┆ mon ┆     ┆ am  ┆     ┆ t   ┆ r   ┆     ┆     ┆     ┆     ┆     ┆     ┆     ┆     │\n",
       "│     ┆ but ┆     ┆     ┆ sof ┆     ┆     ┆     ┆ ,   ┆     ┆ mew ┆     ┆ elo ┆     ┆     ┆     ┆     ┆     ┆     ┆     ┆     ┆ ope ┆     ┆ es  ┆     ┆ tec ┆     ┆     ┆     ┆     ┆     ┆     ┆     ┆ wor ┆ deq ┆ er  ┆     ┆     ┆     ┆     ┆     ┆     ┆     ┆     ┆     ┆     ┆     ┆     ┆     ┆     ┆     ┆     ┆     ┆     ┆     ┆     ┆     ┆     ┆     ┆     ┆     ┆     ┆     ┆     ┆     ┆     ┆ ons ┆     ┆     ┆     ┆     ┆ thl ┆     ┆ not ┆     ┆ las ┆ are ┆     ┆     ┆     ┆     ┆     ┆     ┆     ┆     │\n",
       "│     ┆ I   ┆     ┆     ┆ twa ┆     ┆     ┆     ┆ etc ┆     ┆ ork ┆     ┆ per ┆     ┆     ┆     ┆     ┆     ┆     ┆     ┆     ┆ n   ┆     ┆     ┆     ┆ hno ┆     ┆     ┆     ┆     ┆     ┆     ┆     ┆ k   ┆ uat ┆     ┆     ┆     ┆     ┆     ┆     ┆     ┆     ┆     ┆     ┆     ┆     ┆     ┆     ┆     ┆     ┆     ┆     ┆     ┆     ┆     ┆     ┆     ┆     ┆     ┆     ┆     ┆     ┆     ┆     ┆     ┆ ;Le ┆     ┆     ┆     ┆     ┆ y   ┆     ┆ par ┆     ┆ t   ┆ a;C ┆     ┆     ┆     ┆     ┆     ┆     ┆     ┆     │\n",
       "│     ┆ wri ┆     ┆     ┆ re  ┆     ┆     ┆     ┆ .)  ┆     ┆ ,   ┆     ┆ ,   ┆     ┆     ┆     ┆     ┆     ┆     ┆     ┆     ┆ to  ┆     ┆     ┆     ┆ log ┆     ┆     ┆     ┆     ┆     ┆     ┆     ┆ on  ┆ e   ┆     ┆     ┆     ┆     ┆     ┆     ┆     ┆     ┆     ┆     ┆     ┆     ┆     ┆     ┆     ┆     ┆     ┆     ┆     ┆     ┆     ┆     ┆     ┆     ┆     ┆     ┆     ┆     ┆     ┆     ┆     ┆ arn ┆     ┆     ┆     ┆     ┆     ┆     ┆ t   ┆     ┆ yea ┆ our ┆     ┆     ┆     ┆     ┆     ┆     ┆     ┆     │\n",
       "│     ┆ te  ┆     ┆     ┆ is  ┆     ┆     ┆     ┆     ┆     ┆ or  ┆     ┆ fro ┆     ┆     ┆     ┆     ┆     ┆     ┆     ┆     ┆ new ┆     ┆     ┆     ┆ ies ┆     ┆     ┆     ┆     ┆     ┆     ┆     ┆ wha ┆ acc ┆     ┆     ┆     ┆     ┆     ┆     ┆     ┆     ┆     ┆     ┆     ┆     ┆     ┆     ┆     ┆     ┆     ┆     ┆     ┆     ┆     ┆     ┆     ┆     ┆     ┆     ┆     ┆     ┆     ┆     ┆     ┆ how ┆     ┆     ┆     ┆     ┆     ┆     ┆ of  ┆     ┆ r   ┆ ses ┆     ┆     ┆     ┆     ┆     ┆     ┆     ┆     │\n",
       "│     ┆ cod ┆     ┆     ┆ a…  ┆     ┆     ┆     ┆     ┆     ┆ too ┆     ┆ nt- ┆     ┆     ┆     ┆     ┆     ┆     ┆     ┆     ┆ opp ┆     ┆     ┆     ┆ I'd ┆     ┆     ┆     ┆     ┆     ┆     ┆     ┆ t   ┆ ess ┆     ┆     ┆     ┆     ┆     ┆     ┆     ┆     ┆     ┆     ┆     ┆     ┆     ┆     ┆     ┆     ┆     ┆     ┆     ┆     ┆     ┆     ┆     ┆     ┆     ┆     ┆     ┆     ┆     ┆     ┆     ┆ to  ┆     ┆     ┆     ┆     ┆     ┆     ┆ a   ┆     ┆     ┆ on  ┆     ┆     ┆     ┆     ┆     ┆     ┆     ┆     │\n",
       "│     ┆ e   ┆     ┆     ┆     ┆     ┆     ┆     ┆     ┆     ┆ l…  ┆     ┆ end ┆     ┆     ┆     ┆     ┆     ┆     ┆     ┆     ┆ …   ┆     ┆     ┆     ┆ …   ┆     ┆     ┆     ┆     ┆     ┆     ┆     ┆ see ┆ to  ┆     ┆     ┆     ┆     ┆     ┆     ┆     ┆     ┆     ┆     ┆     ┆     ┆     ┆     ┆     ┆     ┆     ┆     ┆     ┆     ┆     ┆     ┆     ┆     ┆     ┆     ┆     ┆     ┆     ┆     ┆     ┆ do… ┆     ┆     ┆     ┆     ┆     ┆     ┆ pri ┆     ┆     ┆ tec ┆     ┆     ┆     ┆     ┆     ┆     ┆     ┆     │\n",
       "│     ┆ s…  ┆     ┆     ┆     ┆     ┆     ┆     ┆     ┆     ┆     ┆     ┆ ;…  ┆     ┆     ┆     ┆     ┆     ┆     ┆     ┆     ┆     ┆     ┆     ┆     ┆     ┆     ┆     ┆     ┆     ┆     ┆     ┆     ┆ ms  ┆ …   ┆     ┆     ┆     ┆     ┆     ┆     ┆     ┆     ┆     ┆     ┆     ┆     ┆     ┆     ┆     ┆     ┆     ┆     ┆     ┆     ┆     ┆     ┆     ┆     ┆     ┆     ┆     ┆     ┆     ┆     ┆     ┆     ┆     ┆     ┆     ┆     ┆     ┆     ┆ …   ┆     ┆     ┆ …   ┆     ┆     ┆     ┆     ┆     ┆     ┆     ┆     │\n",
       "│     ┆     ┆     ┆     ┆     ┆     ┆     ┆     ┆     ┆     ┆     ┆     ┆     ┆     ┆     ┆     ┆     ┆     ┆     ┆     ┆     ┆     ┆     ┆     ┆     ┆     ┆     ┆     ┆     ┆     ┆     ┆     ┆     ┆ …   ┆     ┆     ┆     ┆     ┆     ┆     ┆     ┆     ┆     ┆     ┆     ┆     ┆     ┆     ┆     ┆     ┆     ┆     ┆     ┆     ┆     ┆     ┆     ┆     ┆     ┆     ┆     ┆     ┆     ┆     ┆     ┆     ┆     ┆     ┆     ┆     ┆     ┆     ┆     ┆     ┆     ┆     ┆     ┆     ┆     ┆     ┆     ┆     ┆     ┆     ┆     │\n",
       "│ 4   ┆ I   ┆ No  ┆ Nev ┆ The ┆ Emp ┆ Uni ┆ No  ┆ Bac ┆ Com ┆ Tak ┆ 100 ┆ Dev ┆ 3   ┆ 16  ┆ Les ┆ Ver ┆ Sli ┆ Ver ┆ No  ┆ Not ┆ I   ┆ Les ┆ Wri ┆ No  ┆ Lan ┆ I   ┆ USD ┆ Uni ┆ 610 ┆ Yea ┆ 610 ┆ 80  ┆ The ┆ NA  ┆ Les ┆ Hom ┆ A   ┆ No  ┆ NA  ┆ No, ┆ Dev ┆ I   ┆ C;C ┆ C;C ┆ MyS ┆ MyS ┆ Lin ┆ Lin ┆ NA  ┆ NA  ┆ .NE ┆ .NE ┆ Ecl ┆ Win ┆ I   ┆ Not ┆ Use ┆ Yes ┆ SIG ┆ Yes ┆ Red ┆ In  ┆ Use ┆ 201 ┆ Dai ┆ Fin ┆ 1-2 ┆ Sta ┆ 31- ┆ Yes ┆ Les ┆ Yes ┆ No, ┆ No, ┆ Jus ┆ Tec ┆ 22  ┆ Man ┆ No  ┆ Str ┆ Whi ┆ No  ┆ App ┆ Eas │\n",
       "│     ┆ am  ┆     ┆ er  ┆ qua ┆ loy ┆ ted ┆     ┆ hel ┆ put ┆ en  ┆ to  ┆ elo ┆     ┆     ┆ s   ┆ y   ┆ ght ┆ y   ┆     ┆ sur ┆ am  ┆ s   ┆ te  ┆     ┆ gua ┆ was ┆     ┆ ted ┆ 00  ┆ rly ┆ 00  ┆     ┆ re' ┆     ┆ s   ┆ e   ┆ lit ┆     ┆     ┆ but ┆ elo ┆ hav ┆ ++; ┆ #;J ┆ QL; ┆ QL; ┆ ux; ┆ ux; ┆     ┆     ┆ T   ┆ T   ┆ ips ┆ dow ┆ do  ┆ at  ┆ ful ┆     ┆ H   ┆     ┆ dit ┆ rea ┆ rna ┆ 4   ┆ ly  ┆ d   ┆ tim ┆ ck  ┆ 60  ┆     ┆ s   ┆     ┆ and ┆ not ┆ t   ┆ h   ┆     ┆     ┆     ┆ aig ┆ te  ┆     ┆ rop ┆ y   │\n",
       "│     ┆ a   ┆     ┆     ┆ lit ┆ ed  ┆ Sta ┆     ┆ or’ ┆ er  ┆ an  ┆ 499 ┆ per ┆     ┆     ┆ tha ┆ sat ┆ ly  ┆ con ┆     ┆ e   ┆ not ┆ tha ┆ cod ┆     ┆ ges ┆ pre ┆     ┆ Sta ┆     ┆     ┆     ┆     ┆ s   ┆     ┆ tha ┆     ┆ tle ┆     ┆     ┆ I   ┆ per ┆ e   ┆ C#; ┆ ava ┆ SQL ┆ SQL ┆ Win ┆ Win ┆     ┆     ┆     ┆     ┆ e;V ┆ s   ┆ not ┆ all ┆ for ┆     ┆     ┆     ┆     ┆ l   ┆ me  ┆     ┆ or  ┆ ans ┆ es  ┆ Ove ┆ min ┆     ┆ tha ┆     ┆ I   ┆ rea ┆ as  ┆ art ┆     ┆     ┆     ┆ ht  ┆ or  ┆     ┆ ria ┆     │\n",
       "│     ┆ dev ┆     ┆     ┆ y   ┆ ful ┆ tes ┆     ┆ s   ┆ sci ┆ onl ┆ emp ┆ ,   ┆     ┆     ┆ n 1 ┆ isf ┆ sat ┆ fid ┆     ┆     ┆ int ┆ n a ┆ e   ┆     ┆ ,   ┆ par ┆     ┆ tes ┆     ┆     ┆     ┆     ┆ no  ┆     ┆ n   ┆     ┆ bel ┆     ┆     ┆ thi ┆ s   ┆ lit ┆ Pyt ┆ Scr ┆ ite ┆ ite ┆ dow ┆ dow ┆     ┆     ┆     ┆     ┆ im; ┆     ┆ use ┆     ┆ dec ┆     ┆     ┆     ┆     ┆ lif ┆     ┆     ┆ alm ┆ wer ┆ per ┆ rfl ┆ ute ┆     ┆ n   ┆     ┆ don ┆ lly ┆ wel ┆ icl ┆     ┆     ┆     ┆ /   ┆ of  ┆     ┆ te  ┆     │\n",
       "│     ┆ elo ┆     ┆     ┆ of  ┆ l-t ┆     ┆     ┆ deg ┆ enc ┆ ine ┆ loy ┆ ful ┆     ┆     ┆ yea ┆ ied ┆ isf ┆ ent ┆     ┆     ┆ ere ┆ yea ┆ by  ┆     ┆ fra ┆ ing ┆     ┆ dol ┆     ┆     ┆     ┆     ┆ sch ┆     ┆ onc ┆     ┆ ow  ┆     ┆     ┆ nk  ┆ typ ┆ tle ┆ hon ┆ ipt ┆     ┆     ┆ s   ┆ s   ┆     ┆     ┆     ┆     ┆ Vis ┆     ┆ con ┆     ┆ ent ┆     ┆     ┆     ┆     ┆ e   ┆     ┆     ┆ ost ┆ s   ┆ wee ┆ ow  ┆ s   ┆     ┆ onc ┆     ┆ 't  ┆     ┆ com ┆ es  ┆     ┆     ┆     ┆ Het ┆ Eur ┆     ┆ in  ┆     │\n",
       "│     ┆ per ┆     ┆     ┆ OSS ┆ ime ┆     ┆     ┆ ree ┆ e,  ┆ cou ┆ ees ┆ l-s ┆     ┆     ┆ r   ┆     ┆ ied ┆     ┆     ┆     ┆ ste ┆ r   ┆ han ┆     ┆ mew ┆ for ┆     ┆ lar ┆     ┆     ┆     ┆     ┆ edu ┆     ┆ e   ┆     ┆ ave ┆     ┆     ┆ we  ┆ ica ┆ or  ┆ ;SQ ┆ ;SQ ┆     ┆     ┆     ┆     ┆     ┆     ┆     ┆     ┆ ual ┆     ┆ tai ┆     ┆ ral ┆     ┆     ┆     ┆     ┆ (in ┆     ┆     ┆ dai ┆ to  ┆ k   ┆ was ┆     ┆     ┆ e   ┆     ┆ kno ┆     ┆ e   ┆ wri ┆     ┆     ┆     ┆ ero ┆ ope ┆     ┆ len ┆     │\n",
       "│     ┆ by  ┆     ┆     ┆ and ┆     ┆     ┆     ┆ (BA ┆ com ┆ rse ┆     ┆ tac ┆     ┆     ┆     ┆     ┆     ┆     ┆     ┆     ┆ d   ┆ ago ┆ d   ┆     ┆ ork ┆ a   ┆     ┆     ┆     ┆     ┆     ┆     ┆ le  ┆     ┆ per ┆     ┆ rag ┆     ┆     ┆ sho ┆ lly ┆ no  ┆ L   ┆ L   ┆     ┆     ┆     ┆     ┆     ┆     ┆     ┆     ┆ Stu ┆     ┆ ner ┆     ┆ ize ┆     ┆     ┆     ┆     ┆ per ┆     ┆     ┆ ly  ┆ spe ┆     ┆ muc ┆     ┆     ┆ per ┆     ┆ w   ┆     ┆ now ┆ tte ┆     ┆     ┆     ┆ sex ┆ an  ┆     ┆ gth ┆     │\n",
       "│     ┆ pro ┆     ┆     ┆ clo ┆     ┆     ┆     ┆ ,   ┆ put ┆ in  ┆     ┆ k   ┆     ┆     ┆     ┆     ┆     ┆     ┆     ┆     ┆ in  ┆     ┆ (e. ┆     ┆ s,  ┆ job ┆     ┆     ┆     ┆     ┆     ┆     ┆ or  ┆     ┆ mon ┆     ┆ e   ┆     ┆     ┆ uld ┆ hav ┆ inf ┆     ┆     ┆     ┆     ┆     ┆     ┆     ┆     ┆     ┆     ┆ dio ┆     ┆ s   ┆     ┆ d   ┆     ┆     ┆     ┆     ┆ son ┆     ┆     ┆     ┆ cif ┆     ┆ h   ┆     ┆     ┆ mon ┆     ┆ wha ┆     ┆ as  ┆ n   ┆     ┆     ┆     ┆ ual ┆ des ┆     ┆     ┆     │\n",
       "│     ┆ fes ┆     ┆     ┆ sed ┆     ┆     ┆     ┆ BS, ┆ er  ┆ pro ┆     ┆     ┆     ┆     ┆     ┆     ┆     ┆     ┆     ┆     ┆ new ┆     ┆ g., ┆     ┆ and ┆ sea ┆     ┆     ┆     ┆     ┆     ┆     ┆ spe ┆     ┆ th  ┆     ┆     ┆     ┆     ┆     ┆ e   ┆ lue ┆     ┆     ┆     ┆     ┆     ┆     ┆     ┆     ┆     ┆     ┆ ;Vi ┆     ┆     ┆     ┆ cur ┆     ┆     ┆     ┆     ┆ )   ┆     ┆     ┆     ┆ ic  ┆     ┆ fas ┆     ┆     ┆ th  ┆     ┆ t   ┆     ┆ I   ┆ by  ┆     ┆     ┆     ┆     ┆ cen ┆     ┆     ┆     │\n",
       "│     ┆ sio ┆     ┆     ┆ sou ┆     ┆     ┆     ┆ B.E ┆ eng ┆ gra ┆     ┆     ┆     ┆     ┆     ┆     ┆     ┆     ┆     ┆     ┆ job ┆     ┆ on  ┆     ┆ oth ┆ rch ┆     ┆     ┆     ┆     ┆     ┆     ┆ c;  ┆     ┆ /   ┆     ┆     ┆     ┆     ┆     ┆ the ┆ nce ┆     ┆     ┆     ┆     ┆     ┆     ┆     ┆     ┆     ┆     ┆ sua ┆     ┆     ┆     ┆ ren ┆     ┆     ┆     ┆     ┆     ┆     ┆     ┆     ┆ que ┆     ┆ ter ┆     ┆     ┆ or  ┆     ┆ tho ┆     ┆ fel ┆ oth ┆     ┆     ┆     ┆     ┆ t   ┆     ┆     ┆     │\n",
       "│     ┆ n   ┆     ┆     ┆ rce ┆     ┆     ┆     ┆ ng. ┆ ine ┆ mmi ┆     ┆     ┆     ┆     ┆     ┆     ┆     ┆     ┆     ┆     ┆ opp ┆     ┆ a   ┆     ┆ er  ┆     ┆     ┆     ┆     ┆     ┆     ┆     ┆ I   ┆     ┆ Nev ┆     ┆     ┆     ┆     ┆     ┆ mos ┆     ┆     ┆     ┆     ┆     ┆     ┆     ┆     ┆     ┆     ┆     ┆ l   ┆     ┆     ┆     ┆ cy  ┆     ┆     ┆     ┆     ┆     ┆     ┆     ┆     ┆ sti ┆     ┆     ┆     ┆     ┆ mon ┆     ┆ se  ┆     ┆ t   ┆ er  ┆     ┆     ┆     ┆     ┆     ┆     ┆     ┆     │\n",
       "│     ┆     ┆     ┆     ┆ sof ┆     ┆     ┆     ┆ ,   ┆ eri ┆ ng  ┆     ┆     ┆     ┆     ┆     ┆     ┆     ┆     ┆     ┆     ┆ ort ┆     ┆ whi ┆     ┆ tec ┆     ┆     ┆     ┆     ┆     ┆     ┆     ┆ wor ┆     ┆ er  ┆     ┆     ┆     ┆     ┆     ┆ t   ┆     ┆     ┆     ┆     ┆     ┆     ┆     ┆     ┆     ┆     ┆     ┆ Stu ┆     ┆     ┆     ┆ (i. ┆     ┆     ┆     ┆     ┆     ┆     ┆     ┆     ┆ ons ┆     ┆     ┆     ┆     ┆ thl ┆     ┆ are ┆     ┆ las ┆ dev ┆     ┆     ┆     ┆     ┆     ┆     ┆     ┆     │\n",
       "│     ┆     ┆     ┆     ┆ twa ┆     ┆     ┆     ┆ etc ┆ ng, ┆ or  ┆     ┆     ┆     ┆     ┆     ┆     ┆     ┆     ┆     ┆     ┆ uni ┆     ┆ teb ┆     ┆ hno ┆     ┆     ┆     ┆     ┆     ┆     ┆     ┆ k   ┆     ┆     ┆     ┆     ┆     ┆     ┆     ┆ inf ┆     ┆     ┆     ┆     ┆     ┆     ┆     ┆     ┆     ┆     ┆     ┆ dio ┆     ┆     ┆     ┆ e., ┆     ┆     ┆     ┆     ┆     ┆     ┆     ┆     ┆ ;Pa ┆     ┆     ┆     ┆     ┆ y   ┆     ┆     ┆     ┆ t   ┆ elo ┆     ┆     ┆     ┆     ┆     ┆     ┆     ┆     │\n",
       "│     ┆     ┆     ┆     ┆ re  ┆     ┆     ┆     ┆ .)  ┆ or  ┆ sof ┆     ┆     ┆     ┆     ┆     ┆     ┆     ┆     ┆     ┆     ┆ tie ┆     ┆ oar ┆     ┆ log ┆     ┆     ┆     ┆     ┆     ┆     ┆     ┆ on  ┆     ┆     ┆     ┆     ┆     ┆     ┆     ┆ lue ┆     ┆     ┆     ┆     ┆     ┆     ┆     ┆     ┆     ┆     ┆     ┆ Cod ┆     ┆     ┆     ┆ Bit ┆     ┆     ┆     ┆     ┆     ┆     ┆     ┆     ┆ ss  ┆     ┆     ┆     ┆     ┆     ┆     ┆     ┆     ┆ yea ┆ per ┆     ┆     ┆     ┆     ┆     ┆     ┆     ┆     │\n",
       "│     ┆     ┆     ┆     ┆ is  ┆     ┆     ┆     ┆     ┆ sof ┆ twa ┆     ┆     ┆     ┆     ┆     ┆     ┆     ┆     ┆     ┆     ┆ s   ┆     ┆ d); ┆     ┆ ies ┆     ┆     ┆     ┆     ┆     ┆     ┆     ┆ wha ┆     ┆     ┆     ┆     ┆     ┆     ┆     ┆ nce ┆     ┆     ┆     ┆     ┆     ┆     ┆     ┆     ┆     ┆     ┆     ┆ e   ┆     ┆     ┆     ┆ coi ┆     ┆     ┆     ┆     ┆     ┆     ┆     ┆     ┆ the ┆     ┆     ┆     ┆     ┆     ┆     ┆     ┆     ┆ r   ┆ s;I ┆     ┆     ┆     ┆     ┆     ┆     ┆     ┆     │\n",
       "│     ┆     ┆     ┆     ┆ a…  ┆     ┆     ┆     ┆     ┆ twa ┆ re  ┆     ┆     ┆     ┆     ┆     ┆     ┆     ┆     ┆     ┆     ┆     ┆     ┆ Int ┆     ┆ I'd ┆     ┆     ┆     ┆     ┆     ┆     ┆     ┆ t   ┆     ┆     ┆     ┆     ┆     ┆     ┆     ┆ on  ┆     ┆     ┆     ┆     ┆     ┆     ┆     ┆     ┆     ┆     ┆     ┆     ┆     ┆     ┆     ┆ n)  ┆     ┆     ┆     ┆     ┆     ┆     ┆     ┆     ┆ tim ┆     ┆     ┆     ┆     ┆     ┆     ┆     ┆     ┆     ┆ ndu ┆     ┆     ┆     ┆     ┆     ┆     ┆     ┆     │\n",
       "│     ┆     ┆     ┆     ┆     ┆     ┆     ┆     ┆     ┆ r…  ┆ …   ┆     ┆     ┆     ┆     ┆     ┆     ┆     ┆     ┆     ┆     ┆     ┆     ┆ erv ┆     ┆ …   ┆     ┆     ┆     ┆     ┆     ┆     ┆     ┆ see ┆     ┆     ┆     ┆     ┆     ┆     ┆     ┆ pu… ┆     ┆     ┆     ┆     ┆     ┆     ┆     ┆     ┆     ┆     ┆     ┆     ┆     ┆     ┆     ┆     ┆     ┆     ┆     ┆     ┆     ┆     ┆     ┆     ┆ e   ┆     ┆     ┆     ┆     ┆     ┆     ┆     ┆     ┆     ┆ str ┆     ┆     ┆     ┆     ┆     ┆     ┆     ┆     │\n",
       "│     ┆     ┆     ┆     ┆     ┆     ┆     ┆     ┆     ┆     ┆     ┆     ┆     ┆     ┆     ┆     ┆     ┆     ┆     ┆     ┆     ┆     ┆     ┆ i…  ┆     ┆     ┆     ┆     ┆     ┆     ┆     ┆     ┆     ┆ ms  ┆     ┆     ┆     ┆     ┆     ┆     ┆     ┆     ┆     ┆     ┆     ┆     ┆     ┆     ┆     ┆     ┆     ┆     ┆     ┆     ┆     ┆     ┆     ┆     ┆     ┆     ┆     ┆     ┆     ┆     ┆     ┆     ┆ /…  ┆     ┆     ┆     ┆     ┆     ┆     ┆     ┆     ┆     ┆ y…  ┆     ┆     ┆     ┆     ┆     ┆     ┆     ┆     │\n",
       "│     ┆     ┆     ┆     ┆     ┆     ┆     ┆     ┆     ┆     ┆     ┆     ┆     ┆     ┆     ┆     ┆     ┆     ┆     ┆     ┆     ┆     ┆     ┆     ┆     ┆     ┆     ┆     ┆     ┆     ┆     ┆     ┆     ┆ …   ┆     ┆     ┆     ┆     ┆     ┆     ┆     ┆     ┆     ┆     ┆     ┆     ┆     ┆     ┆     ┆     ┆     ┆     ┆     ┆     ┆     ┆     ┆     ┆     ┆     ┆     ┆     ┆     ┆     ┆     ┆     ┆     ┆     ┆     ┆     ┆     ┆     ┆     ┆     ┆     ┆     ┆     ┆     ┆     ┆     ┆     ┆     ┆     ┆     ┆     ┆     │\n",
       "│ 5   ┆ I   ┆ Yes ┆ Onc ┆ OSS ┆ Emp ┆ Ukr ┆ No  ┆ Bac ┆ Com ┆ Tak ┆ 10, ┆ Aca ┆ 16  ┆ 14  ┆ 9   ┆ Ver ┆ Sli ┆ Som ┆ Yes ┆ No  ┆ I   ┆ Les ┆ Wri ┆ No  ┆ Ind ┆ I   ┆ UAH ┆ Ukr ┆ NA  ┆ NA  ┆ NA  ┆ 55  ┆ The ┆ Bei ┆ A   ┆ Off ┆ A   ┆ Yes ┆ NA  ┆ Yes ┆ Not ┆ I   ┆ C++ ┆ HTM ┆ Cou ┆ Cou ┆ And ┆ And ┆ Dja ┆ Fla ┆ Cor ┆ Apa ┆ Int ┆ Lin ┆ Out ┆ Not ┆ NA  ┆ Yes ┆ Als ┆ Yes ┆ Fac ┆ In  ┆ Use ┆ I   ┆ Mul ┆ Fin ┆ Mor ┆ Sta ┆ NA  ┆ Yes ┆ A   ┆ No, ┆ No, ┆ Yes ┆ Jus ┆ Tec ┆ 30  ┆ Man ┆ No  ┆ Str ┆ Whi ┆ No  ┆ App ┆ Eas │\n",
       "│     ┆ am  ┆     ┆ e a ┆ is, ┆ loy ┆ ain ┆     ┆ hel ┆ put ┆ en  ┆ 000 ┆ dem ┆     ┆     ┆     ┆ y   ┆ ght ┆ ewh ┆     ┆     ┆ am  ┆ s   ┆ te  ┆     ┆ ust ┆ was ┆     ┆ ain ┆     ┆     ┆     ┆     ┆ re  ┆ ng  ┆ few ┆ ice ┆ lit ┆ ,   ┆     ┆ ,   ┆ sur ┆ hav ┆ ;HT ┆ L/C ┆ chb ┆ chb ┆ roi ┆ roi ┆ ngo ┆ sk; ┆ dov ┆ che ┆ ell ┆ ux- ┆ sid ┆ at  ┆     ┆     ┆ o   ┆     ┆ ebo ┆ rea ┆ rna ┆ don ┆ tip ┆ d   ┆ e   ┆ ck  ┆     ┆     ┆ few ┆ I   ┆ I'v ┆ ,   ┆ t   ┆ h   ┆     ┆     ┆     ┆ aig ┆ te  ┆     ┆ rop ┆ y   │\n",
       "│     ┆ a   ┆     ┆ mon ┆ on  ┆ ed  ┆ e   ┆     ┆ or’ ┆ er  ┆ an  ┆ or  ┆ ic  ┆     ┆     ┆     ┆ dis ┆ ly  ┆ at  ┆     ┆     ┆ not ┆ tha ┆ any ┆     ┆ ry  ┆ pre ┆     ┆ ian ┆     ┆     ┆     ┆     ┆ is  ┆ tas ┆ day ┆     ┆ tle ┆ bec ┆     ┆ it' ┆ e   ┆ e   ┆ ML/ ┆ SS; ┆ ase ┆ ase ┆ d;L ┆ d;D ┆ ;Ex ┆ jQu ┆ a;N ┆ Spa ┆ iJ; ┆ bas ┆ e   ┆ all ┆     ┆     ┆ Yes ┆     ┆ ok  ┆ l   ┆ me  ┆ 't  ┆ le  ┆ ans ┆ tha ┆ Ove ┆     ┆     ┆ tim ┆ kne ┆ e   ┆ def ┆ as  ┆ mee ┆     ┆     ┆     ┆ ht  ┆ or  ┆     ┆ ria ┆     │\n",
       "│     ┆ dev ┆     ┆ th  ┆ ave ┆ ful ┆     ┆     ┆ s   ┆ sci ┆ onl ┆ mor ┆ res ┆     ┆     ┆     ┆ sat ┆ dis ┆ con ┆     ┆     ┆ int ┆ n a ┆ cod ┆     ┆ tha ┆ par ┆     ┆ hry ┆     ┆     ┆     ┆     ┆ a   ┆ ked ┆ s   ┆     ┆ abo ┆ aus ┆     ┆ s   ┆     ┆ lit ┆ CSS ┆ Jav ┆ ;Mo ┆ ;Fi ┆ inu ┆ ock ┆ pre ┆ ery ┆ ode ┆ rk; ┆ Not ┆ ed  ┆ of  ┆     ┆     ┆     ┆     ┆     ┆     ┆ lif ┆     ┆ rem ┆ tim ┆ wer ┆ n   ┆ rfl ┆     ┆     ┆ es  ┆ w   ┆ hea ┆ ini ┆ wel ┆ tup ┆     ┆     ┆     ┆ /   ┆ of  ┆     ┆ te  ┆     │\n",
       "│     ┆ elo ┆     ┆ or  ┆ rag ┆ l-t ┆     ┆     ┆ deg ┆ enc ┆ ine ┆ e   ┆ ear ┆     ┆     ┆     ┆ isf ┆ sat ┆ fid ┆     ┆     ┆ ere ┆ yea ┆ e;W ┆     ┆ t   ┆ ing ┆     ┆ vni ┆     ┆     ┆     ┆     ┆ sch ┆ wit ┆ eac ┆     ┆ ve  ┆ e I ┆     ┆ par ┆     ┆ tle ┆ ;Ja ┆ a;J ┆ ngo ┆ reb ┆ x;M ┆ er; ┆ ss; ┆ ;Re ┆ .js ┆ Had ┆ epa ┆     ┆ wor ┆     ┆     ┆     ┆     ┆     ┆     ┆ e   ┆     ┆ emb ┆ es  ┆ s   ┆ 10  ┆ ow  ┆     ┆     ┆ per ┆ tha ┆ rd  ┆ tel ┆ com ┆ s   ┆     ┆     ┆     ┆ Het ┆ Eur ┆     ┆ in  ┆     │\n",
       "│     ┆ per ┆     ┆ mor ┆ e,  ┆ ime ┆     ┆     ┆ ree ┆ e,  ┆ cou ┆ emp ┆ che ┆     ┆     ┆     ┆ ied ┆ isf ┆ ent ┆     ┆     ┆ ste ┆ r   ┆ rit ┆     ┆ I'd ┆ for ┆     ┆ a   ┆     ┆     ┆     ┆     ┆ edu ┆ h   ┆ h   ┆     ┆ ave ┆ see ┆     ┆ t   ┆     ┆ or  ┆ va; ┆ ava ┆ DB; ┆ ase ┆ acO ┆ Kub ┆ Fla ┆ act ┆     ┆ oop ┆ d++ ┆     ┆ k,  ┆     ┆     ┆     ┆     ┆     ┆     ┆ (in ┆     ┆ er  ┆ per ┆ to  ┆ tim ┆ was ┆     ┆     ┆ mon ┆ t   ┆ of  ┆ y   ┆ e   ┆ or  ┆     ┆     ┆     ┆ ero ┆ ope ┆     ┆ len ┆     │\n",
       "│     ┆ by  ┆     ┆ e   ┆ of  ┆     ┆     ┆     ┆ (BA ┆ com ┆ rse ┆ loy ┆ r;D ┆     ┆     ┆     ┆     ┆ ied ┆     ┆     ┆     ┆ d   ┆ ago ┆ e   ┆     ┆ be  ┆ a   ┆     ┆     ┆     ┆     ┆     ┆     ┆ le  ┆ non ┆ mon ┆     ┆ rag ┆ val ┆     ┆ of  ┆     ┆ no  ┆ Jav ┆ Scr ┆ MyS ┆ ;Mo ┆ S;S ┆ ern ┆ sk; ┆ .js ┆     ┆ ;No ┆ ;Vi ┆     ┆ for ┆     ┆     ┆     ┆     ┆     ┆     ┆ per ┆     ┆     ┆ day ┆ spe ┆ es  ┆ muc ┆     ┆     ┆ th  ┆ Sta ┆ the ┆     ┆ now ┆ eve ┆     ┆     ┆     ┆ sex ┆ an  ┆     ┆ gth ┆     │\n",
       "│     ┆ pro ┆     ┆ oft ┆ HIG ┆     ┆     ┆     ┆ ,   ┆ put ┆ in  ┆ ees ┆ eve ┆     ┆     ┆     ┆     ┆     ┆     ┆     ┆     ┆ in  ┆     ┆ cod ┆     ┆ wor ┆ job ┆     ┆     ┆     ┆     ┆     ┆     ┆ and ┆ -de ┆ th  ┆     ┆ e   ┆ ue  ┆     ┆ our ┆     ┆ inf ┆ aSc ┆ ipt ┆ QL; ┆ ngo ┆ lac ┆ ete ┆ jQu ┆ ;Sp ┆     ┆ de. ┆ m   ┆     ┆ per ┆     ┆     ┆     ┆     ┆     ┆     ┆ son ┆     ┆     ┆     ┆ cif ┆ per ┆ h   ┆     ┆     ┆ or  ┆ ck  ┆ m,  ┆     ┆ as  ┆ nts ┆     ┆     ┆     ┆ ual ┆ des ┆     ┆     ┆     │\n",
       "│     ┆ fes ┆     ┆ en  ┆ HER ┆     ┆     ┆     ┆ BS, ┆ er  ┆ pro ┆     ┆ lop ┆     ┆     ┆     ┆     ┆     ┆     ┆     ┆     ┆ new ┆     ┆ e   ┆     ┆ kin ┆ sea ┆     ┆     ┆     ┆     ┆     ┆     ┆ /or ┆ vel ┆     ┆     ┆     ┆ in  ┆     ┆ pro ┆     ┆ lue ┆ rip ┆ ;SQ ┆ Ora ┆ DB; ┆ k;W ┆ s;L ┆ ery ┆ rin ┆     ┆ js; ┆     ┆     ┆ son ┆     ┆     ┆     ┆     ┆     ┆     ┆ )   ┆     ┆     ┆     ┆ ic  ┆ wee ┆ fas ┆     ┆     ┆ wee ┆ Ove ┆ but ┆     ┆ I   ┆ in  ┆     ┆     ┆     ┆     ┆ cen ┆     ┆     ┆     │\n",
       "│     ┆ sio ┆     ┆     ┆ qua ┆     ┆     ┆     ┆ B.E ┆ eng ┆ gra ┆     ┆ er, ┆     ┆     ┆     ┆     ┆     ┆     ┆     ┆     ┆ job ┆     ┆ by  ┆     ┆ g   ┆ rch ┆     ┆     ┆     ┆     ┆     ┆     ┆ spe ┆ opm ┆     ┆     ┆     ┆ cod ┆     ┆ ces ┆     ┆ nce ┆ t;P ┆ L;W ┆ cle ┆ MyS ┆ ind ┆ inu ┆ ;Re ┆ g   ┆     ┆ Rea ┆     ┆     ┆ al  ┆     ┆     ┆     ┆     ┆     ┆     ┆     ┆     ┆     ┆     ┆ que ┆ k   ┆ ter ┆     ┆     ┆ kly ┆ rfl ┆ I   ┆     ┆ fel ┆ you ┆     ┆     ┆     ┆     ┆ t;M ┆     ┆     ┆     │\n",
       "│     ┆ n   ┆     ┆     ┆ lit ┆     ┆     ┆     ┆ ng. ┆ ine ┆ mmi ┆     ┆ des ┆     ┆     ┆     ┆     ┆     ┆     ┆     ┆     ┆ opp ┆     ┆ han ┆     ┆ in; ┆     ┆     ┆     ┆     ┆     ┆     ┆     ┆ c   ┆ ent ┆     ┆     ┆     ┆ e   ┆     ┆ s   ┆     ┆     ┆ yth ┆ ebA ┆ ;Po ┆ QL; ┆ ows ┆ x;S ┆ act ┆     ┆     ┆ ct  ┆     ┆     ┆ pro ┆     ┆     ┆     ┆     ┆     ┆     ┆     ┆     ┆     ┆     ┆ sti ┆     ┆     ┆     ┆     ┆     ┆ ow  ┆ am  ┆     ┆ t   ┆ r   ┆     ┆     ┆     ┆     ┆ ult ┆     ┆     ┆     │\n",
       "│     ┆     ┆     ┆     ┆ y   ┆     ┆     ┆     ┆ ,   ┆ eri ┆ ng  ┆     ┆ kto ┆     ┆     ┆     ┆     ┆     ┆     ┆     ┆     ┆ ort ┆     ┆ d   ┆     ┆ Lan ┆     ┆     ┆     ┆     ┆     ┆     ┆     ┆ (ma ┆ wor ┆     ┆     ┆     ┆ rev ┆     ┆     ┆     ┆     ┆ on; ┆ sse ┆ stg ┆ Ora ┆     ┆ lac ┆ .js ┆     ┆     ┆ Nat ┆     ┆     ┆ jec ┆     ┆     ┆     ┆     ┆     ┆     ┆     ┆     ┆     ┆     ┆ ons ┆     ┆     ┆     ┆     ┆     ┆ had ┆ not ┆     ┆ las ┆ are ┆     ┆     ┆     ┆     ┆ ira ┆     ┆     ┆     │\n",
       "│     ┆     ┆     ┆     ┆ tha ┆     ┆     ┆     ┆ etc ┆ ng, ┆ or  ┆     ┆ p   ┆     ┆     ┆     ┆     ┆     ┆     ┆     ┆     ┆ uni ┆     ┆ (e. ┆     ┆ gua ┆     ┆     ┆     ┆     ┆     ┆     ┆     ┆ de  ┆ k;I ┆     ┆     ┆     ┆ iew ┆     ┆     ┆     ┆     ┆ SQL ┆ mbl ┆ reS ┆ cle ┆     ┆ k   ┆ ;Sp ┆     ┆     ┆ ive ┆     ┆     ┆ ts  ┆     ┆     ┆     ┆     ┆     ┆     ┆     ┆     ┆     ┆     ┆     ┆     ┆     ┆     ┆     ┆     ┆ a   ┆ par ┆     ┆ t   ┆ a;C ┆     ┆     ┆     ┆     ┆ cia ┆     ┆     ┆     │\n",
       "│     ┆     ┆     ┆     ┆ n   ┆     ┆     ┆     ┆ .)  ┆ or  ┆ sof ┆     ┆ or  ┆     ┆     ┆     ┆     ┆     ┆     ┆     ┆     ┆ tie ┆     ┆ g., ┆     ┆ ges ┆     ┆     ┆     ┆     ┆     ┆     ┆     ┆ by  ┆ nad ┆     ┆     ┆     ┆     ┆     ┆     ┆     ┆     ┆ ;VB ┆ y   ┆ QL; ┆ ;Po ┆     ┆     ┆ rin ┆     ┆     ┆     ┆     ┆     ┆     ┆     ┆     ┆     ┆     ┆     ┆     ┆     ┆     ┆     ┆     ┆     ┆     ┆     ┆     ┆     ┆     ┆ job ┆ t   ┆     ┆ yea ┆ our ┆     ┆     ┆     ┆     ┆ l   ┆     ┆     ┆     │\n",
       "│     ┆     ┆     ┆     ┆ pro ┆     ┆     ┆     ┆     ┆ sof ┆ twa ┆     ┆ ent ┆     ┆     ┆     ┆     ┆     ┆     ┆     ┆     ┆ s   ┆     ┆ on  ┆     ┆ ,   ┆     ┆     ┆     ┆     ┆     ┆     ┆     ┆ me  ┆ equ ┆     ┆     ┆     ┆     ┆     ┆     ┆     ┆     ┆ A   ┆     ┆ SQL ┆ stg ┆     ┆     ┆ g   ┆     ┆     ┆     ┆     ┆     ┆     ┆     ┆     ┆     ┆     ┆     ┆     ┆     ┆     ┆     ┆     ┆     ┆     ┆     ┆     ┆     ┆     ┆ boa ┆ of  ┆     ┆ r   ┆ ses ┆     ┆     ┆     ┆     ┆     ┆     ┆     ┆     │\n",
       "│     ┆     ┆     ┆     ┆ pri ┆     ┆     ┆     ┆     ┆ twa ┆ re  ┆     ┆ erp ┆     ┆     ┆     ┆     ┆     ┆     ┆     ┆     ┆     ┆     ┆ a   ┆     ┆ fra ┆     ┆     ┆     ┆     ┆     ┆     ┆     ┆ or  ┆ ate ┆     ┆     ┆     ┆     ┆     ┆     ┆     ┆     ┆     ┆     ┆ ite ┆ reS ┆     ┆     ┆     ┆     ┆     ┆     ┆     ┆     ┆     ┆     ┆     ┆     ┆     ┆     ┆     ┆     ┆     ┆     ┆     ┆     ┆     ┆     ┆     ┆     ┆     ┆ rd  ┆ a   ┆     ┆     ┆ on  ┆     ┆     ┆     ┆     ┆     ┆     ┆     ┆     │\n",
       "│     ┆     ┆     ┆     ┆ e…  ┆     ┆     ┆     ┆     ┆ r…  ┆ …   ┆     ┆ ri… ┆     ┆     ┆     ┆     ┆     ┆     ┆     ┆     ┆     ┆     ┆ whi ┆     ┆ mew ┆     ┆     ┆     ┆     ┆     ┆     ┆     ┆ by  ┆ …   ┆     ┆     ┆     ┆     ┆     ┆     ┆     ┆     ┆     ┆     ┆     ┆ QL… ┆     ┆     ┆     ┆     ┆     ┆     ┆     ┆     ┆     ┆     ┆     ┆     ┆     ┆     ┆     ┆     ┆     ┆     ┆     ┆     ┆     ┆     ┆     ┆     ┆     ┆ but ┆ pri ┆     ┆     ┆ tec ┆     ┆     ┆     ┆     ┆     ┆     ┆     ┆     │\n",
       "│     ┆     ┆     ┆     ┆     ┆     ┆     ┆     ┆     ┆     ┆     ┆     ┆     ┆     ┆     ┆     ┆     ┆     ┆     ┆     ┆     ┆     ┆     ┆ t…  ┆     ┆ o…  ┆     ┆     ┆     ┆     ┆     ┆     ┆     ┆ …   ┆     ┆     ┆     ┆     ┆     ┆     ┆     ┆     ┆     ┆     ┆     ┆     ┆     ┆     ┆     ┆     ┆     ┆     ┆     ┆     ┆     ┆     ┆     ┆     ┆     ┆     ┆     ┆     ┆     ┆     ┆     ┆     ┆     ┆     ┆     ┆     ┆     ┆     ┆ …   ┆ …   ┆     ┆     ┆ …   ┆     ┆     ┆     ┆     ┆     ┆     ┆     ┆     │\n",
       "│ …   ┆ …   ┆ …   ┆ …   ┆ …   ┆ …   ┆ …   ┆ …   ┆ …   ┆ …   ┆ …   ┆ …   ┆ …   ┆ …   ┆ …   ┆ …   ┆ …   ┆ …   ┆ …   ┆ …   ┆ …   ┆ …   ┆ …   ┆ …   ┆ …   ┆ …   ┆ …   ┆ …   ┆ …   ┆ …   ┆ …   ┆ …   ┆ …   ┆ …   ┆ …   ┆ …   ┆ …   ┆ …   ┆ …   ┆ …   ┆ …   ┆ …   ┆ …   ┆ …   ┆ …   ┆ …   ┆ …   ┆ …   ┆ …   ┆ …   ┆ …   ┆ …   ┆ …   ┆ …   ┆ …   ┆ …   ┆ …   ┆ …   ┆ …   ┆ …   ┆ …   ┆ …   ┆ …   ┆ …   ┆ …   ┆ …   ┆ …   ┆ …   ┆ …   ┆ …   ┆ …   ┆ …   ┆ …   ┆ …   ┆ …   ┆ …   ┆ …   ┆ …   ┆ …   ┆ …   ┆ …   ┆ …   ┆ …   ┆ …   ┆ …   │\n",
       "│ 883 ┆ NA  ┆ Yes ┆ Les ┆ The ┆ Not ┆ Can ┆ No  ┆ Pri ┆ NA  ┆ Tau ┆ NA  ┆ NA  ┆ NA  ┆ NA  ┆ NA  ┆ NA  ┆ NA  ┆ NA  ┆ NA  ┆ NA  ┆ NA  ┆ NA  ┆ NA  ┆ NA  ┆ NA  ┆ NA  ┆ NA  ┆ NA  ┆ NA  ┆ NA  ┆ NA  ┆ NA  ┆ NA  ┆ NA  ┆ NA  ┆ NA  ┆ NA  ┆ NA  ┆ NA  ┆ NA  ┆ NA  ┆ NA  ┆ HTM ┆ C++ ┆ Fir ┆ Fir ┆ Lin ┆ Goo ┆ jQu ┆ jQu ┆ Nod ┆ Rea ┆ Ato ┆ Win ┆ I   ┆ NA  ┆ Use ┆ Yes ┆ Yes ┆ Wha ┆ You ┆ NA  ┆ Use ┆ I   ┆ A   ┆ Fin ┆ 3-5 ┆ Sta ┆ 11- ┆ Yes ┆ I   ┆ No, ┆ No, ┆ No, ┆ NA  ┆ Tec ┆ NA  ┆ Man ┆ No  ┆ NA  ┆ NA  ┆ No  ┆ App ┆ Eas │\n",
       "│ 77  ┆     ┆     ┆ s   ┆ qua ┆ emp ┆ ada ┆     ┆ mar ┆     ┆ ght ┆     ┆     ┆     ┆     ┆     ┆     ┆     ┆     ┆     ┆     ┆     ┆     ┆     ┆     ┆     ┆     ┆     ┆     ┆     ┆     ┆     ┆     ┆     ┆     ┆     ┆     ┆     ┆     ┆     ┆     ┆     ┆     ┆ L/C ┆ ;HT ┆ eba ┆ eba ┆ ux  ┆ gle ┆ ery ┆ ery ┆ e.j ┆ ct  ┆ m;V ┆ dow ┆ do  ┆     ┆ ful ┆     ┆     ┆ t?  ┆ Tub ┆     ┆ rna ┆ don ┆ few ┆ d   ┆ tim ┆ ck  ┆ 30  ┆     ┆ hav ┆ I   ┆ I'v ┆ not ┆     ┆ h   ┆     ┆     ┆     ┆     ┆     ┆     ┆ rop ┆ y   │\n",
       "│     ┆     ┆     ┆ tha ┆ lit ┆ loy ┆     ┆     ┆ y/e ┆     ┆ you ┆     ┆     ┆     ┆     ┆     ┆     ┆     ┆     ┆     ┆     ┆     ┆     ┆     ┆     ┆     ┆     ┆     ┆     ┆     ┆     ┆     ┆     ┆     ┆     ┆     ┆     ┆     ┆     ┆     ┆     ┆     ┆     ┆ SS; ┆ ML/ ┆ se; ┆ se; ┆     ┆ Clo ┆     ┆ ;Vu ┆ s   ┆ Nat ┆ isu ┆ s   ┆ not ┆     ┆ acr ┆     ┆     ┆     ┆ e   ┆     ┆ me  ┆ 't  ┆ tim ┆ ans ┆ es  ┆ Ove ┆ min ┆     ┆ e   ┆ kne ┆ e   ┆ at  ┆     ┆ art ┆     ┆     ┆     ┆     ┆     ┆     ┆ ria ┆     │\n",
       "│     ┆     ┆     ┆ n   ┆ y   ┆ ed, ┆     ┆     ┆ lem ┆     ┆ rse ┆     ┆     ┆     ┆     ┆     ┆     ┆     ┆     ┆     ┆     ┆     ┆     ┆     ┆     ┆     ┆     ┆     ┆     ┆     ┆     ┆     ┆     ┆     ┆     ┆     ┆     ┆     ┆     ┆     ┆     ┆     ┆     ┆ Jav ┆ CSS ┆ SQL ┆ MyS ┆     ┆ ud  ┆     ┆ e.j ┆     ┆ ive ┆ al  ┆     ┆ use ┆     ┆ oss ┆     ┆     ┆     ┆     ┆     ┆     ┆ rem ┆ es  ┆ wer ┆ per ┆ rfl ┆ ute ┆     ┆ nev ┆ w   ┆ hea ┆ all ┆     ┆ icl ┆     ┆     ┆     ┆     ┆     ┆     ┆ te  ┆     │\n",
       "│     ┆     ┆     ┆ onc ┆ of  ┆ and ┆     ┆     ┆ ent ┆     ┆ lf  ┆     ┆     ┆     ┆     ┆     ┆     ┆     ┆     ┆     ┆     ┆     ┆     ┆     ┆     ┆     ┆     ┆     ┆     ┆     ┆     ┆     ┆     ┆     ┆     ┆     ┆     ┆     ┆     ┆     ┆     ┆     ┆     ┆ aSc ┆ ;Ja ┆ ite ┆ QL; ┆     ┆ Pla ┆     ┆ s   ┆     ┆ ;Un ┆ Stu ┆     ┆ con ┆     ┆ man ┆     ┆     ┆     ┆     ┆     ┆     ┆ emb ┆ per ┆ s   ┆ wee ┆ ow  ┆ s   ┆     ┆ er  ┆ tha ┆ rd  ┆     ┆     ┆ es  ┆     ┆     ┆     ┆     ┆     ┆     ┆ in  ┆     │\n",
       "│     ┆     ┆     ┆ e a ┆ OSS ┆ not ┆     ┆     ┆ ary ┆     ┆ a   ┆     ┆     ┆     ┆     ┆     ┆     ┆     ┆     ┆     ┆     ┆     ┆     ┆     ┆     ┆     ┆     ┆     ┆     ┆     ┆     ┆     ┆     ┆     ┆     ┆     ┆     ┆     ┆     ┆     ┆     ┆     ┆     ┆ rip ┆ vaS ┆     ┆ SQL ┆     ┆ tfo ┆     ┆     ┆     ┆ ity ┆ dio ┆     ┆ tai ┆     ┆ y   ┆     ┆     ┆     ┆     ┆     ┆     ┆ er  ┆ wee ┆ to  ┆ k   ┆ was ┆     ┆     ┆ par ┆ t   ┆ of  ┆     ┆     ┆ wri ┆     ┆     ┆     ┆     ┆     ┆     ┆ len ┆     │\n",
       "│     ┆     ┆     ┆ mon ┆ and ┆ loo ┆     ┆     ┆ sch ┆     ┆ new ┆     ┆     ┆     ┆     ┆     ┆     ┆     ┆     ┆     ┆     ┆     ┆     ┆     ┆     ┆     ┆     ┆     ┆     ┆     ┆     ┆     ┆     ┆     ┆     ┆     ┆     ┆     ┆     ┆     ┆     ┆     ┆     ┆ t;O ┆ cri ┆     ┆ ite ┆     ┆ rm; ┆     ┆     ┆     ┆ 3D; ┆ ;Vi ┆     ┆ ner ┆     ┆ dom ┆     ┆     ┆     ┆     ┆     ┆     ┆     ┆ k   ┆ spe ┆     ┆ sli ┆     ┆     ┆ tic ┆ Sta ┆ the ┆     ┆     ┆ tte ┆     ┆     ┆     ┆     ┆     ┆     ┆ gth ┆     │\n",
       "│     ┆     ┆     ┆ th  ┆ clo ┆ kin ┆     ┆     ┆ ool ┆     ┆ lan ┆     ┆     ┆     ┆     ┆     ┆     ┆     ┆     ┆     ┆     ┆     ┆     ┆     ┆     ┆     ┆     ┆     ┆     ┆     ┆     ┆     ┆     ┆     ┆     ┆     ┆     ┆     ┆     ┆     ┆     ┆     ┆     ┆ the ┆ pt; ┆     ┆     ┆     ┆ Lin ┆     ┆     ┆     ┆ Unr ┆ sua ┆     ┆ s   ┆     ┆ ain ┆     ┆     ┆     ┆     ┆     ┆     ┆     ┆     ┆ cif ┆     ┆ ght ┆     ┆     ┆ ipa ┆ ck  ┆ m,  ┆     ┆     ┆ n   ┆     ┆     ┆     ┆     ┆     ┆     ┆     ┆     │\n",
       "│     ┆     ┆     ┆ but ┆ sed ┆ g   ┆     ┆     ┆     ┆     ┆ gua ┆     ┆     ┆     ┆     ┆     ┆     ┆     ┆     ┆     ┆     ┆     ┆     ┆     ┆     ┆     ┆     ┆     ┆     ┆     ┆     ┆     ┆     ┆     ┆     ┆     ┆     ┆     ┆     ┆     ┆     ┆     ┆     ┆ r(s ┆ SQL ┆     ┆     ┆     ┆ ux  ┆     ┆     ┆     ┆ eal ┆ l   ┆     ┆     ┆     ┆ s   ┆     ┆     ┆     ┆     ┆     ┆     ┆     ┆     ┆ ic  ┆     ┆ ly  ┆     ┆     ┆ ted ┆ Ove ┆ but ┆     ┆     ┆ by  ┆     ┆     ┆     ┆     ┆     ┆     ┆     ┆     │\n",
       "│     ┆     ┆     ┆ mor ┆ sou ┆ for ┆     ┆     ┆     ┆     ┆ ge, ┆     ┆     ┆     ┆     ┆     ┆     ┆     ┆     ┆     ┆     ┆     ┆     ┆     ┆     ┆     ┆     ┆     ┆     ┆     ┆     ┆     ┆     ┆     ┆     ┆     ┆     ┆     ┆     ┆     ┆     ┆     ┆     ┆ ):  ┆ ;We ┆     ┆     ┆     ┆     ┆     ┆     ┆     ┆ Eng ┆ Stu ┆     ┆     ┆     ┆ and ┆     ┆     ┆     ┆     ┆     ┆     ┆     ┆     ┆ que ┆     ┆ fas ┆     ┆     ┆ in  ┆ rfl ┆ I   ┆     ┆     ┆ oth ┆     ┆     ┆     ┆     ┆     ┆     ┆     ┆     │\n",
       "│     ┆     ┆     ┆ e   ┆ rce ┆ wor ┆     ┆     ┆     ┆     ┆ fra ┆     ┆     ┆     ┆     ┆     ┆     ┆     ┆     ┆     ┆     ┆     ┆     ┆     ┆     ┆     ┆     ┆     ┆     ┆     ┆     ┆     ┆     ┆     ┆     ┆     ┆     ┆     ┆     ┆     ┆     ┆     ┆     ┆     ┆ bAs ┆     ┆     ┆     ┆     ┆     ┆     ┆     ┆ ine ┆ dio ┆     ┆     ┆     ┆ cou ┆     ┆     ┆     ┆     ┆     ┆     ┆     ┆     ┆ sti ┆     ┆ ter ┆     ┆     ┆ Q&A ┆ ow  ┆ am  ┆     ┆     ┆ er  ┆     ┆     ┆     ┆     ┆     ┆     ┆     ┆     │\n",
       "│     ┆     ┆     ┆ tha ┆ sof ┆ k   ┆     ┆     ┆     ┆     ┆ mew ┆     ┆     ┆     ┆     ┆     ┆     ┆     ┆     ┆     ┆     ┆     ┆     ┆     ┆     ┆     ┆     ┆     ┆     ┆     ┆     ┆     ┆     ┆     ┆     ┆     ┆     ┆     ┆     ┆     ┆     ┆     ┆     ┆     ┆ sem ┆     ┆     ┆     ┆     ┆     ┆     ┆     ┆     ┆ Cod ┆     ┆     ┆     ┆ ld  ┆     ┆     ┆     ┆     ┆     ┆     ┆     ┆     ┆ ons ┆     ┆     ┆     ┆     ┆ on  ┆ had ┆ not ┆     ┆     ┆ dev ┆     ┆     ┆     ┆     ┆     ┆     ┆     ┆     │\n",
       "│     ┆     ┆     ┆ n   ┆ twa ┆     ┆     ┆     ┆     ┆     ┆ ork ┆     ┆     ┆     ┆     ┆     ┆     ┆     ┆     ┆     ┆     ┆     ┆     ┆     ┆     ┆     ┆     ┆     ┆     ┆     ┆     ┆     ┆     ┆     ┆     ┆     ┆     ┆     ┆     ┆     ┆     ┆     ┆     ┆     ┆ bly ┆     ┆     ┆     ┆     ┆     ┆     ┆     ┆     ┆ e   ┆     ┆     ┆     ┆ cha ┆     ┆     ┆     ┆     ┆     ┆     ┆     ┆     ┆ ;Le ┆     ┆     ┆     ┆     ┆ Sta ┆ a   ┆ par ┆     ┆     ┆ elo ┆     ┆     ┆     ┆     ┆     ┆     ┆     ┆     │\n",
       "│     ┆     ┆     ┆ onc ┆ re  ┆     ┆     ┆     ┆     ┆     ┆ ,   ┆     ┆     ┆     ┆     ┆     ┆     ┆     ┆     ┆     ┆     ┆     ┆     ┆     ┆     ┆     ┆     ┆     ┆     ┆     ┆     ┆     ┆     ┆     ┆     ┆     ┆     ┆     ┆     ┆     ┆     ┆     ┆     ┆     ┆ ;Ot ┆     ┆     ┆     ┆     ┆     ┆     ┆     ┆     ┆     ┆     ┆     ┆     ┆ nge ┆     ┆     ┆     ┆     ┆     ┆     ┆     ┆     ┆ arn ┆     ┆     ┆     ┆     ┆ ck  ┆ job ┆ t   ┆     ┆     ┆ per ┆     ┆     ┆     ┆     ┆     ┆     ┆     ┆     │\n",
       "│     ┆     ┆     ┆ e   ┆ is  ┆     ┆     ┆     ┆     ┆     ┆ or  ┆     ┆     ┆     ┆     ┆     ┆     ┆     ┆     ┆     ┆     ┆     ┆     ┆     ┆     ┆     ┆     ┆     ┆     ┆     ┆     ┆     ┆     ┆     ┆     ┆     ┆     ┆     ┆     ┆     ┆     ┆     ┆     ┆     ┆ her ┆     ┆     ┆     ┆     ┆     ┆     ┆     ┆     ┆     ┆     ┆     ┆     ┆ man ┆     ┆     ┆     ┆     ┆     ┆     ┆     ┆     ┆ how ┆     ┆     ┆     ┆     ┆ Ove ┆ boa ┆ of  ┆     ┆     ┆ s;T ┆     ┆     ┆     ┆     ┆     ┆     ┆     ┆     │\n",
       "│     ┆     ┆     ┆ per ┆ a…  ┆     ┆     ┆     ┆     ┆     ┆ too ┆     ┆     ┆     ┆     ┆     ┆     ┆     ┆     ┆     ┆     ┆     ┆     ┆     ┆     ┆     ┆     ┆     ┆     ┆     ┆     ┆     ┆     ┆     ┆     ┆     ┆     ┆     ┆     ┆     ┆     ┆     ┆     ┆     ┆ (s) ┆     ┆     ┆     ┆     ┆     ┆     ┆     ┆     ┆     ┆     ┆     ┆     ┆ y   ┆     ┆     ┆     ┆     ┆     ┆     ┆     ┆     ┆ to  ┆     ┆     ┆     ┆     ┆ rfl ┆ rd  ┆ a   ┆     ┆     ┆ ech ┆     ┆     ┆     ┆     ┆     ┆     ┆     ┆     │\n",
       "│     ┆     ┆     ┆ yea ┆     ┆     ┆     ┆     ┆     ┆     ┆ l…  ┆     ┆     ┆     ┆     ┆     ┆     ┆     ┆     ┆     ┆     ┆     ┆     ┆     ┆     ┆     ┆     ┆     ┆     ┆     ┆     ┆     ┆     ┆     ┆     ┆     ┆     ┆     ┆     ┆     ┆     ┆     ┆     ┆     ┆ :   ┆     ┆     ┆     ┆     ┆     ┆     ┆     ┆     ┆     ┆     ┆     ┆     ┆ a…  ┆     ┆     ┆     ┆     ┆     ┆     ┆     ┆     ┆ do… ┆     ┆     ┆     ┆     ┆ ow  ┆ but ┆ pri ┆     ┆     ┆ mee ┆     ┆     ┆     ┆     ┆     ┆     ┆     ┆     │\n",
       "│     ┆     ┆     ┆ r   ┆     ┆     ┆     ┆     ┆     ┆     ┆     ┆     ┆     ┆     ┆     ┆     ┆     ┆     ┆     ┆     ┆     ┆     ┆     ┆     ┆     ┆     ┆     ┆     ┆     ┆     ┆     ┆     ┆     ┆     ┆     ┆     ┆     ┆     ┆     ┆     ┆     ┆     ┆     ┆     ┆     ┆     ┆     ┆     ┆     ┆     ┆     ┆     ┆     ┆     ┆     ┆     ┆     ┆     ┆     ┆     ┆     ┆     ┆     ┆     ┆     ┆     ┆     ┆     ┆     ┆     ┆     ┆     ┆ …   ┆ …   ┆     ┆     ┆ …   ┆     ┆     ┆     ┆     ┆     ┆     ┆     ┆     │\n",
       "│ 886 ┆ NA  ┆ No  ┆ Nev ┆ The ┆ NA  ┆ NA  ┆ NA  ┆ NA  ┆ NA  ┆ NA  ┆ NA  ┆ NA  ┆ NA  ┆ NA  ┆ NA  ┆ NA  ┆ NA  ┆ NA  ┆ NA  ┆ NA  ┆ NA  ┆ NA  ┆ NA  ┆ NA  ┆ NA  ┆ NA  ┆ NA  ┆ NA  ┆ NA  ┆ NA  ┆ NA  ┆ NA  ┆ NA  ┆ NA  ┆ NA  ┆ NA  ┆ NA  ┆ NA  ┆ NA  ┆ NA  ┆ NA  ┆ NA  ┆ NA  ┆ NA  ┆ NA  ┆ NA  ┆ NA  ┆ NA  ┆ NA  ┆ NA  ┆ NA  ┆ NA  ┆ NA  ┆ NA  ┆ NA  ┆ NA  ┆ NA  ┆ NA  ┆ NA  ┆ NA  ┆ NA  ┆ NA  ┆ NA  ┆ NA  ┆ NA  ┆ NA  ┆ NA  ┆ NA  ┆ NA  ┆ NA  ┆ NA  ┆ NA  ┆ NA  ┆ NA  ┆ NA  ┆ NA  ┆ NA  ┆ NA  ┆ NA  ┆ NA  ┆ NA  ┆ NA  ┆ NA  ┆ NA  │\n",
       "│ 01  ┆     ┆     ┆ er  ┆ qua ┆     ┆     ┆     ┆     ┆     ┆     ┆     ┆     ┆     ┆     ┆     ┆     ┆     ┆     ┆     ┆     ┆     ┆     ┆     ┆     ┆     ┆     ┆     ┆     ┆     ┆     ┆     ┆     ┆     ┆     ┆     ┆     ┆     ┆     ┆     ┆     ┆     ┆     ┆     ┆     ┆     ┆     ┆     ┆     ┆     ┆     ┆     ┆     ┆     ┆     ┆     ┆     ┆     ┆     ┆     ┆     ┆     ┆     ┆     ┆     ┆     ┆     ┆     ┆     ┆     ┆     ┆     ┆     ┆     ┆     ┆     ┆     ┆     ┆     ┆     ┆     ┆     ┆     ┆     ┆     │\n",
       "│     ┆     ┆     ┆     ┆ lit ┆     ┆     ┆     ┆     ┆     ┆     ┆     ┆     ┆     ┆     ┆     ┆     ┆     ┆     ┆     ┆     ┆     ┆     ┆     ┆     ┆     ┆     ┆     ┆     ┆     ┆     ┆     ┆     ┆     ┆     ┆     ┆     ┆     ┆     ┆     ┆     ┆     ┆     ┆     ┆     ┆     ┆     ┆     ┆     ┆     ┆     ┆     ┆     ┆     ┆     ┆     ┆     ┆     ┆     ┆     ┆     ┆     ┆     ┆     ┆     ┆     ┆     ┆     ┆     ┆     ┆     ┆     ┆     ┆     ┆     ┆     ┆     ┆     ┆     ┆     ┆     ┆     ┆     ┆     ┆     │\n",
       "│     ┆     ┆     ┆     ┆ y   ┆     ┆     ┆     ┆     ┆     ┆     ┆     ┆     ┆     ┆     ┆     ┆     ┆     ┆     ┆     ┆     ┆     ┆     ┆     ┆     ┆     ┆     ┆     ┆     ┆     ┆     ┆     ┆     ┆     ┆     ┆     ┆     ┆     ┆     ┆     ┆     ┆     ┆     ┆     ┆     ┆     ┆     ┆     ┆     ┆     ┆     ┆     ┆     ┆     ┆     ┆     ┆     ┆     ┆     ┆     ┆     ┆     ┆     ┆     ┆     ┆     ┆     ┆     ┆     ┆     ┆     ┆     ┆     ┆     ┆     ┆     ┆     ┆     ┆     ┆     ┆     ┆     ┆     ┆     ┆     │\n",
       "│     ┆     ┆     ┆     ┆ of  ┆     ┆     ┆     ┆     ┆     ┆     ┆     ┆     ┆     ┆     ┆     ┆     ┆     ┆     ┆     ┆     ┆     ┆     ┆     ┆     ┆     ┆     ┆     ┆     ┆     ┆     ┆     ┆     ┆     ┆     ┆     ┆     ┆     ┆     ┆     ┆     ┆     ┆     ┆     ┆     ┆     ┆     ┆     ┆     ┆     ┆     ┆     ┆     ┆     ┆     ┆     ┆     ┆     ┆     ┆     ┆     ┆     ┆     ┆     ┆     ┆     ┆     ┆     ┆     ┆     ┆     ┆     ┆     ┆     ┆     ┆     ┆     ┆     ┆     ┆     ┆     ┆     ┆     ┆     ┆     │\n",
       "│     ┆     ┆     ┆     ┆ OSS ┆     ┆     ┆     ┆     ┆     ┆     ┆     ┆     ┆     ┆     ┆     ┆     ┆     ┆     ┆     ┆     ┆     ┆     ┆     ┆     ┆     ┆     ┆     ┆     ┆     ┆     ┆     ┆     ┆     ┆     ┆     ┆     ┆     ┆     ┆     ┆     ┆     ┆     ┆     ┆     ┆     ┆     ┆     ┆     ┆     ┆     ┆     ┆     ┆     ┆     ┆     ┆     ┆     ┆     ┆     ┆     ┆     ┆     ┆     ┆     ┆     ┆     ┆     ┆     ┆     ┆     ┆     ┆     ┆     ┆     ┆     ┆     ┆     ┆     ┆     ┆     ┆     ┆     ┆     ┆     │\n",
       "│     ┆     ┆     ┆     ┆ and ┆     ┆     ┆     ┆     ┆     ┆     ┆     ┆     ┆     ┆     ┆     ┆     ┆     ┆     ┆     ┆     ┆     ┆     ┆     ┆     ┆     ┆     ┆     ┆     ┆     ┆     ┆     ┆     ┆     ┆     ┆     ┆     ┆     ┆     ┆     ┆     ┆     ┆     ┆     ┆     ┆     ┆     ┆     ┆     ┆     ┆     ┆     ┆     ┆     ┆     ┆     ┆     ┆     ┆     ┆     ┆     ┆     ┆     ┆     ┆     ┆     ┆     ┆     ┆     ┆     ┆     ┆     ┆     ┆     ┆     ┆     ┆     ┆     ┆     ┆     ┆     ┆     ┆     ┆     ┆     │\n",
       "│     ┆     ┆     ┆     ┆ clo ┆     ┆     ┆     ┆     ┆     ┆     ┆     ┆     ┆     ┆     ┆     ┆     ┆     ┆     ┆     ┆     ┆     ┆     ┆     ┆     ┆     ┆     ┆     ┆     ┆     ┆     ┆     ┆     ┆     ┆     ┆     ┆     ┆     ┆     ┆     ┆     ┆     ┆     ┆     ┆     ┆     ┆     ┆     ┆     ┆     ┆     ┆     ┆     ┆     ┆     ┆     ┆     ┆     ┆     ┆     ┆     ┆     ┆     ┆     ┆     ┆     ┆     ┆     ┆     ┆     ┆     ┆     ┆     ┆     ┆     ┆     ┆     ┆     ┆     ┆     ┆     ┆     ┆     ┆     ┆     │\n",
       "│     ┆     ┆     ┆     ┆ sed ┆     ┆     ┆     ┆     ┆     ┆     ┆     ┆     ┆     ┆     ┆     ┆     ┆     ┆     ┆     ┆     ┆     ┆     ┆     ┆     ┆     ┆     ┆     ┆     ┆     ┆     ┆     ┆     ┆     ┆     ┆     ┆     ┆     ┆     ┆     ┆     ┆     ┆     ┆     ┆     ┆     ┆     ┆     ┆     ┆     ┆     ┆     ┆     ┆     ┆     ┆     ┆     ┆     ┆     ┆     ┆     ┆     ┆     ┆     ┆     ┆     ┆     ┆     ┆     ┆     ┆     ┆     ┆     ┆     ┆     ┆     ┆     ┆     ┆     ┆     ┆     ┆     ┆     ┆     ┆     │\n",
       "│     ┆     ┆     ┆     ┆ sou ┆     ┆     ┆     ┆     ┆     ┆     ┆     ┆     ┆     ┆     ┆     ┆     ┆     ┆     ┆     ┆     ┆     ┆     ┆     ┆     ┆     ┆     ┆     ┆     ┆     ┆     ┆     ┆     ┆     ┆     ┆     ┆     ┆     ┆     ┆     ┆     ┆     ┆     ┆     ┆     ┆     ┆     ┆     ┆     ┆     ┆     ┆     ┆     ┆     ┆     ┆     ┆     ┆     ┆     ┆     ┆     ┆     ┆     ┆     ┆     ┆     ┆     ┆     ┆     ┆     ┆     ┆     ┆     ┆     ┆     ┆     ┆     ┆     ┆     ┆     ┆     ┆     ┆     ┆     ┆     │\n",
       "│     ┆     ┆     ┆     ┆ rce ┆     ┆     ┆     ┆     ┆     ┆     ┆     ┆     ┆     ┆     ┆     ┆     ┆     ┆     ┆     ┆     ┆     ┆     ┆     ┆     ┆     ┆     ┆     ┆     ┆     ┆     ┆     ┆     ┆     ┆     ┆     ┆     ┆     ┆     ┆     ┆     ┆     ┆     ┆     ┆     ┆     ┆     ┆     ┆     ┆     ┆     ┆     ┆     ┆     ┆     ┆     ┆     ┆     ┆     ┆     ┆     ┆     ┆     ┆     ┆     ┆     ┆     ┆     ┆     ┆     ┆     ┆     ┆     ┆     ┆     ┆     ┆     ┆     ┆     ┆     ┆     ┆     ┆     ┆     ┆     │\n",
       "│     ┆     ┆     ┆     ┆ sof ┆     ┆     ┆     ┆     ┆     ┆     ┆     ┆     ┆     ┆     ┆     ┆     ┆     ┆     ┆     ┆     ┆     ┆     ┆     ┆     ┆     ┆     ┆     ┆     ┆     ┆     ┆     ┆     ┆     ┆     ┆     ┆     ┆     ┆     ┆     ┆     ┆     ┆     ┆     ┆     ┆     ┆     ┆     ┆     ┆     ┆     ┆     ┆     ┆     ┆     ┆     ┆     ┆     ┆     ┆     ┆     ┆     ┆     ┆     ┆     ┆     ┆     ┆     ┆     ┆     ┆     ┆     ┆     ┆     ┆     ┆     ┆     ┆     ┆     ┆     ┆     ┆     ┆     ┆     ┆     │\n",
       "│     ┆     ┆     ┆     ┆ twa ┆     ┆     ┆     ┆     ┆     ┆     ┆     ┆     ┆     ┆     ┆     ┆     ┆     ┆     ┆     ┆     ┆     ┆     ┆     ┆     ┆     ┆     ┆     ┆     ┆     ┆     ┆     ┆     ┆     ┆     ┆     ┆     ┆     ┆     ┆     ┆     ┆     ┆     ┆     ┆     ┆     ┆     ┆     ┆     ┆     ┆     ┆     ┆     ┆     ┆     ┆     ┆     ┆     ┆     ┆     ┆     ┆     ┆     ┆     ┆     ┆     ┆     ┆     ┆     ┆     ┆     ┆     ┆     ┆     ┆     ┆     ┆     ┆     ┆     ┆     ┆     ┆     ┆     ┆     ┆     │\n",
       "│     ┆     ┆     ┆     ┆ re  ┆     ┆     ┆     ┆     ┆     ┆     ┆     ┆     ┆     ┆     ┆     ┆     ┆     ┆     ┆     ┆     ┆     ┆     ┆     ┆     ┆     ┆     ┆     ┆     ┆     ┆     ┆     ┆     ┆     ┆     ┆     ┆     ┆     ┆     ┆     ┆     ┆     ┆     ┆     ┆     ┆     ┆     ┆     ┆     ┆     ┆     ┆     ┆     ┆     ┆     ┆     ┆     ┆     ┆     ┆     ┆     ┆     ┆     ┆     ┆     ┆     ┆     ┆     ┆     ┆     ┆     ┆     ┆     ┆     ┆     ┆     ┆     ┆     ┆     ┆     ┆     ┆     ┆     ┆     ┆     │\n",
       "│     ┆     ┆     ┆     ┆ is  ┆     ┆     ┆     ┆     ┆     ┆     ┆     ┆     ┆     ┆     ┆     ┆     ┆     ┆     ┆     ┆     ┆     ┆     ┆     ┆     ┆     ┆     ┆     ┆     ┆     ┆     ┆     ┆     ┆     ┆     ┆     ┆     ┆     ┆     ┆     ┆     ┆     ┆     ┆     ┆     ┆     ┆     ┆     ┆     ┆     ┆     ┆     ┆     ┆     ┆     ┆     ┆     ┆     ┆     ┆     ┆     ┆     ┆     ┆     ┆     ┆     ┆     ┆     ┆     ┆     ┆     ┆     ┆     ┆     ┆     ┆     ┆     ┆     ┆     ┆     ┆     ┆     ┆     ┆     ┆     │\n",
       "│     ┆     ┆     ┆     ┆ a…  ┆     ┆     ┆     ┆     ┆     ┆     ┆     ┆     ┆     ┆     ┆     ┆     ┆     ┆     ┆     ┆     ┆     ┆     ┆     ┆     ┆     ┆     ┆     ┆     ┆     ┆     ┆     ┆     ┆     ┆     ┆     ┆     ┆     ┆     ┆     ┆     ┆     ┆     ┆     ┆     ┆     ┆     ┆     ┆     ┆     ┆     ┆     ┆     ┆     ┆     ┆     ┆     ┆     ┆     ┆     ┆     ┆     ┆     ┆     ┆     ┆     ┆     ┆     ┆     ┆     ┆     ┆     ┆     ┆     ┆     ┆     ┆     ┆     ┆     ┆     ┆     ┆     ┆     ┆     ┆     │\n",
       "│ 888 ┆ NA  ┆ No  ┆ Nev ┆ NA  ┆ Emp ┆ NA  ┆ NA  ┆ NA  ┆ NA  ┆ NA  ┆ NA  ┆ NA  ┆ NA  ┆ NA  ┆ NA  ┆ NA  ┆ NA  ┆ NA  ┆ NA  ┆ NA  ┆ NA  ┆ NA  ┆ NA  ┆ NA  ┆ NA  ┆ NA  ┆ NA  ┆ NA  ┆ NA  ┆ NA  ┆ NA  ┆ NA  ┆ NA  ┆ NA  ┆ NA  ┆ NA  ┆ NA  ┆ NA  ┆ NA  ┆ NA  ┆ NA  ┆ NA  ┆ NA  ┆ NA  ┆ NA  ┆ NA  ┆ NA  ┆ NA  ┆ NA  ┆ NA  ┆ NA  ┆ NA  ┆ NA  ┆ NA  ┆ NA  ┆ NA  ┆ NA  ┆ NA  ┆ NA  ┆ NA  ┆ NA  ┆ NA  ┆ NA  ┆ NA  ┆ NA  ┆ NA  ┆ NA  ┆ NA  ┆ NA  ┆ NA  ┆ NA  ┆ NA  ┆ NA  ┆ NA  ┆ NA  ┆ NA  ┆ NA  ┆ NA  ┆ NA  ┆ NA  ┆ NA  ┆ NA  ┆ NA  ┆ NA  │\n",
       "│ 02  ┆     ┆     ┆ er  ┆     ┆ loy ┆     ┆     ┆     ┆     ┆     ┆     ┆     ┆     ┆     ┆     ┆     ┆     ┆     ┆     ┆     ┆     ┆     ┆     ┆     ┆     ┆     ┆     ┆     ┆     ┆     ┆     ┆     ┆     ┆     ┆     ┆     ┆     ┆     ┆     ┆     ┆     ┆     ┆     ┆     ┆     ┆     ┆     ┆     ┆     ┆     ┆     ┆     ┆     ┆     ┆     ┆     ┆     ┆     ┆     ┆     ┆     ┆     ┆     ┆     ┆     ┆     ┆     ┆     ┆     ┆     ┆     ┆     ┆     ┆     ┆     ┆     ┆     ┆     ┆     ┆     ┆     ┆     ┆     ┆     │\n",
       "│     ┆     ┆     ┆     ┆     ┆ ed  ┆     ┆     ┆     ┆     ┆     ┆     ┆     ┆     ┆     ┆     ┆     ┆     ┆     ┆     ┆     ┆     ┆     ┆     ┆     ┆     ┆     ┆     ┆     ┆     ┆     ┆     ┆     ┆     ┆     ┆     ┆     ┆     ┆     ┆     ┆     ┆     ┆     ┆     ┆     ┆     ┆     ┆     ┆     ┆     ┆     ┆     ┆     ┆     ┆     ┆     ┆     ┆     ┆     ┆     ┆     ┆     ┆     ┆     ┆     ┆     ┆     ┆     ┆     ┆     ┆     ┆     ┆     ┆     ┆     ┆     ┆     ┆     ┆     ┆     ┆     ┆     ┆     ┆     ┆     │\n",
       "│     ┆     ┆     ┆     ┆     ┆ ful ┆     ┆     ┆     ┆     ┆     ┆     ┆     ┆     ┆     ┆     ┆     ┆     ┆     ┆     ┆     ┆     ┆     ┆     ┆     ┆     ┆     ┆     ┆     ┆     ┆     ┆     ┆     ┆     ┆     ┆     ┆     ┆     ┆     ┆     ┆     ┆     ┆     ┆     ┆     ┆     ┆     ┆     ┆     ┆     ┆     ┆     ┆     ┆     ┆     ┆     ┆     ┆     ┆     ┆     ┆     ┆     ┆     ┆     ┆     ┆     ┆     ┆     ┆     ┆     ┆     ┆     ┆     ┆     ┆     ┆     ┆     ┆     ┆     ┆     ┆     ┆     ┆     ┆     ┆     │\n",
       "│     ┆     ┆     ┆     ┆     ┆ l-t ┆     ┆     ┆     ┆     ┆     ┆     ┆     ┆     ┆     ┆     ┆     ┆     ┆     ┆     ┆     ┆     ┆     ┆     ┆     ┆     ┆     ┆     ┆     ┆     ┆     ┆     ┆     ┆     ┆     ┆     ┆     ┆     ┆     ┆     ┆     ┆     ┆     ┆     ┆     ┆     ┆     ┆     ┆     ┆     ┆     ┆     ┆     ┆     ┆     ┆     ┆     ┆     ┆     ┆     ┆     ┆     ┆     ┆     ┆     ┆     ┆     ┆     ┆     ┆     ┆     ┆     ┆     ┆     ┆     ┆     ┆     ┆     ┆     ┆     ┆     ┆     ┆     ┆     ┆     │\n",
       "│     ┆     ┆     ┆     ┆     ┆ ime ┆     ┆     ┆     ┆     ┆     ┆     ┆     ┆     ┆     ┆     ┆     ┆     ┆     ┆     ┆     ┆     ┆     ┆     ┆     ┆     ┆     ┆     ┆     ┆     ┆     ┆     ┆     ┆     ┆     ┆     ┆     ┆     ┆     ┆     ┆     ┆     ┆     ┆     ┆     ┆     ┆     ┆     ┆     ┆     ┆     ┆     ┆     ┆     ┆     ┆     ┆     ┆     ┆     ┆     ┆     ┆     ┆     ┆     ┆     ┆     ┆     ┆     ┆     ┆     ┆     ┆     ┆     ┆     ┆     ┆     ┆     ┆     ┆     ┆     ┆     ┆     ┆     ┆     ┆     │\n",
       "│ 888 ┆ NA  ┆ No  ┆ Nev ┆ OSS ┆ Ind ┆ NA  ┆ NA  ┆ NA  ┆ NA  ┆ NA  ┆ NA  ┆ NA  ┆ NA  ┆ NA  ┆ NA  ┆ NA  ┆ NA  ┆ NA  ┆ NA  ┆ NA  ┆ NA  ┆ NA  ┆ NA  ┆ NA  ┆ NA  ┆ NA  ┆ NA  ┆ NA  ┆ NA  ┆ NA  ┆ NA  ┆ NA  ┆ NA  ┆ NA  ┆ NA  ┆ NA  ┆ NA  ┆ NA  ┆ NA  ┆ NA  ┆ NA  ┆ NA  ┆ NA  ┆ NA  ┆ NA  ┆ NA  ┆ NA  ┆ NA  ┆ NA  ┆ NA  ┆ NA  ┆ NA  ┆ NA  ┆ NA  ┆ NA  ┆ NA  ┆ NA  ┆ NA  ┆ NA  ┆ NA  ┆ NA  ┆ NA  ┆ NA  ┆ NA  ┆ NA  ┆ NA  ┆ NA  ┆ NA  ┆ NA  ┆ NA  ┆ NA  ┆ NA  ┆ NA  ┆ NA  ┆ NA  ┆ NA  ┆ NA  ┆ NA  ┆ NA  ┆ NA  ┆ NA  ┆ NA  ┆ NA  ┆ NA  │\n",
       "│ 16  ┆     ┆     ┆ er  ┆ is, ┆ epe ┆     ┆     ┆     ┆     ┆     ┆     ┆     ┆     ┆     ┆     ┆     ┆     ┆     ┆     ┆     ┆     ┆     ┆     ┆     ┆     ┆     ┆     ┆     ┆     ┆     ┆     ┆     ┆     ┆     ┆     ┆     ┆     ┆     ┆     ┆     ┆     ┆     ┆     ┆     ┆     ┆     ┆     ┆     ┆     ┆     ┆     ┆     ┆     ┆     ┆     ┆     ┆     ┆     ┆     ┆     ┆     ┆     ┆     ┆     ┆     ┆     ┆     ┆     ┆     ┆     ┆     ┆     ┆     ┆     ┆     ┆     ┆     ┆     ┆     ┆     ┆     ┆     ┆     ┆     │\n",
       "│     ┆     ┆     ┆     ┆ on  ┆ nde ┆     ┆     ┆     ┆     ┆     ┆     ┆     ┆     ┆     ┆     ┆     ┆     ┆     ┆     ┆     ┆     ┆     ┆     ┆     ┆     ┆     ┆     ┆     ┆     ┆     ┆     ┆     ┆     ┆     ┆     ┆     ┆     ┆     ┆     ┆     ┆     ┆     ┆     ┆     ┆     ┆     ┆     ┆     ┆     ┆     ┆     ┆     ┆     ┆     ┆     ┆     ┆     ┆     ┆     ┆     ┆     ┆     ┆     ┆     ┆     ┆     ┆     ┆     ┆     ┆     ┆     ┆     ┆     ┆     ┆     ┆     ┆     ┆     ┆     ┆     ┆     ┆     ┆     ┆     │\n",
       "│     ┆     ┆     ┆     ┆ ave ┆ nt  ┆     ┆     ┆     ┆     ┆     ┆     ┆     ┆     ┆     ┆     ┆     ┆     ┆     ┆     ┆     ┆     ┆     ┆     ┆     ┆     ┆     ┆     ┆     ┆     ┆     ┆     ┆     ┆     ┆     ┆     ┆     ┆     ┆     ┆     ┆     ┆     ┆     ┆     ┆     ┆     ┆     ┆     ┆     ┆     ┆     ┆     ┆     ┆     ┆     ┆     ┆     ┆     ┆     ┆     ┆     ┆     ┆     ┆     ┆     ┆     ┆     ┆     ┆     ┆     ┆     ┆     ┆     ┆     ┆     ┆     ┆     ┆     ┆     ┆     ┆     ┆     ┆     ┆     ┆     │\n",
       "│     ┆     ┆     ┆     ┆ rag ┆ con ┆     ┆     ┆     ┆     ┆     ┆     ┆     ┆     ┆     ┆     ┆     ┆     ┆     ┆     ┆     ┆     ┆     ┆     ┆     ┆     ┆     ┆     ┆     ┆     ┆     ┆     ┆     ┆     ┆     ┆     ┆     ┆     ┆     ┆     ┆     ┆     ┆     ┆     ┆     ┆     ┆     ┆     ┆     ┆     ┆     ┆     ┆     ┆     ┆     ┆     ┆     ┆     ┆     ┆     ┆     ┆     ┆     ┆     ┆     ┆     ┆     ┆     ┆     ┆     ┆     ┆     ┆     ┆     ┆     ┆     ┆     ┆     ┆     ┆     ┆     ┆     ┆     ┆     ┆     │\n",
       "│     ┆     ┆     ┆     ┆ e,  ┆ tra ┆     ┆     ┆     ┆     ┆     ┆     ┆     ┆     ┆     ┆     ┆     ┆     ┆     ┆     ┆     ┆     ┆     ┆     ┆     ┆     ┆     ┆     ┆     ┆     ┆     ┆     ┆     ┆     ┆     ┆     ┆     ┆     ┆     ┆     ┆     ┆     ┆     ┆     ┆     ┆     ┆     ┆     ┆     ┆     ┆     ┆     ┆     ┆     ┆     ┆     ┆     ┆     ┆     ┆     ┆     ┆     ┆     ┆     ┆     ┆     ┆     ┆     ┆     ┆     ┆     ┆     ┆     ┆     ┆     ┆     ┆     ┆     ┆     ┆     ┆     ┆     ┆     ┆     ┆     │\n",
       "│     ┆     ┆     ┆     ┆ of  ┆ cto ┆     ┆     ┆     ┆     ┆     ┆     ┆     ┆     ┆     ┆     ┆     ┆     ┆     ┆     ┆     ┆     ┆     ┆     ┆     ┆     ┆     ┆     ┆     ┆     ┆     ┆     ┆     ┆     ┆     ┆     ┆     ┆     ┆     ┆     ┆     ┆     ┆     ┆     ┆     ┆     ┆     ┆     ┆     ┆     ┆     ┆     ┆     ┆     ┆     ┆     ┆     ┆     ┆     ┆     ┆     ┆     ┆     ┆     ┆     ┆     ┆     ┆     ┆     ┆     ┆     ┆     ┆     ┆     ┆     ┆     ┆     ┆     ┆     ┆     ┆     ┆     ┆     ┆     ┆     │\n",
       "│     ┆     ┆     ┆     ┆ HIG ┆ r,  ┆     ┆     ┆     ┆     ┆     ┆     ┆     ┆     ┆     ┆     ┆     ┆     ┆     ┆     ┆     ┆     ┆     ┆     ┆     ┆     ┆     ┆     ┆     ┆     ┆     ┆     ┆     ┆     ┆     ┆     ┆     ┆     ┆     ┆     ┆     ┆     ┆     ┆     ┆     ┆     ┆     ┆     ┆     ┆     ┆     ┆     ┆     ┆     ┆     ┆     ┆     ┆     ┆     ┆     ┆     ┆     ┆     ┆     ┆     ┆     ┆     ┆     ┆     ┆     ┆     ┆     ┆     ┆     ┆     ┆     ┆     ┆     ┆     ┆     ┆     ┆     ┆     ┆     ┆     │\n",
       "│     ┆     ┆     ┆     ┆ HER ┆ fre ┆     ┆     ┆     ┆     ┆     ┆     ┆     ┆     ┆     ┆     ┆     ┆     ┆     ┆     ┆     ┆     ┆     ┆     ┆     ┆     ┆     ┆     ┆     ┆     ┆     ┆     ┆     ┆     ┆     ┆     ┆     ┆     ┆     ┆     ┆     ┆     ┆     ┆     ┆     ┆     ┆     ┆     ┆     ┆     ┆     ┆     ┆     ┆     ┆     ┆     ┆     ┆     ┆     ┆     ┆     ┆     ┆     ┆     ┆     ┆     ┆     ┆     ┆     ┆     ┆     ┆     ┆     ┆     ┆     ┆     ┆     ┆     ┆     ┆     ┆     ┆     ┆     ┆     ┆     │\n",
       "│     ┆     ┆     ┆     ┆ qua ┆ ela ┆     ┆     ┆     ┆     ┆     ┆     ┆     ┆     ┆     ┆     ┆     ┆     ┆     ┆     ┆     ┆     ┆     ┆     ┆     ┆     ┆     ┆     ┆     ┆     ┆     ┆     ┆     ┆     ┆     ┆     ┆     ┆     ┆     ┆     ┆     ┆     ┆     ┆     ┆     ┆     ┆     ┆     ┆     ┆     ┆     ┆     ┆     ┆     ┆     ┆     ┆     ┆     ┆     ┆     ┆     ┆     ┆     ┆     ┆     ┆     ┆     ┆     ┆     ┆     ┆     ┆     ┆     ┆     ┆     ┆     ┆     ┆     ┆     ┆     ┆     ┆     ┆     ┆     ┆     │\n",
       "│     ┆     ┆     ┆     ┆ lit ┆ nce ┆     ┆     ┆     ┆     ┆     ┆     ┆     ┆     ┆     ┆     ┆     ┆     ┆     ┆     ┆     ┆     ┆     ┆     ┆     ┆     ┆     ┆     ┆     ┆     ┆     ┆     ┆     ┆     ┆     ┆     ┆     ┆     ┆     ┆     ┆     ┆     ┆     ┆     ┆     ┆     ┆     ┆     ┆     ┆     ┆     ┆     ┆     ┆     ┆     ┆     ┆     ┆     ┆     ┆     ┆     ┆     ┆     ┆     ┆     ┆     ┆     ┆     ┆     ┆     ┆     ┆     ┆     ┆     ┆     ┆     ┆     ┆     ┆     ┆     ┆     ┆     ┆     ┆     ┆     │\n",
       "│     ┆     ┆     ┆     ┆ y   ┆ r,  ┆     ┆     ┆     ┆     ┆     ┆     ┆     ┆     ┆     ┆     ┆     ┆     ┆     ┆     ┆     ┆     ┆     ┆     ┆     ┆     ┆     ┆     ┆     ┆     ┆     ┆     ┆     ┆     ┆     ┆     ┆     ┆     ┆     ┆     ┆     ┆     ┆     ┆     ┆     ┆     ┆     ┆     ┆     ┆     ┆     ┆     ┆     ┆     ┆     ┆     ┆     ┆     ┆     ┆     ┆     ┆     ┆     ┆     ┆     ┆     ┆     ┆     ┆     ┆     ┆     ┆     ┆     ┆     ┆     ┆     ┆     ┆     ┆     ┆     ┆     ┆     ┆     ┆     ┆     │\n",
       "│     ┆     ┆     ┆     ┆ tha ┆ or  ┆     ┆     ┆     ┆     ┆     ┆     ┆     ┆     ┆     ┆     ┆     ┆     ┆     ┆     ┆     ┆     ┆     ┆     ┆     ┆     ┆     ┆     ┆     ┆     ┆     ┆     ┆     ┆     ┆     ┆     ┆     ┆     ┆     ┆     ┆     ┆     ┆     ┆     ┆     ┆     ┆     ┆     ┆     ┆     ┆     ┆     ┆     ┆     ┆     ┆     ┆     ┆     ┆     ┆     ┆     ┆     ┆     ┆     ┆     ┆     ┆     ┆     ┆     ┆     ┆     ┆     ┆     ┆     ┆     ┆     ┆     ┆     ┆     ┆     ┆     ┆     ┆     ┆     ┆     │\n",
       "│     ┆     ┆     ┆     ┆ n   ┆ sel ┆     ┆     ┆     ┆     ┆     ┆     ┆     ┆     ┆     ┆     ┆     ┆     ┆     ┆     ┆     ┆     ┆     ┆     ┆     ┆     ┆     ┆     ┆     ┆     ┆     ┆     ┆     ┆     ┆     ┆     ┆     ┆     ┆     ┆     ┆     ┆     ┆     ┆     ┆     ┆     ┆     ┆     ┆     ┆     ┆     ┆     ┆     ┆     ┆     ┆     ┆     ┆     ┆     ┆     ┆     ┆     ┆     ┆     ┆     ┆     ┆     ┆     ┆     ┆     ┆     ┆     ┆     ┆     ┆     ┆     ┆     ┆     ┆     ┆     ┆     ┆     ┆     ┆     ┆     │\n",
       "│     ┆     ┆     ┆     ┆ pro ┆ f-e ┆     ┆     ┆     ┆     ┆     ┆     ┆     ┆     ┆     ┆     ┆     ┆     ┆     ┆     ┆     ┆     ┆     ┆     ┆     ┆     ┆     ┆     ┆     ┆     ┆     ┆     ┆     ┆     ┆     ┆     ┆     ┆     ┆     ┆     ┆     ┆     ┆     ┆     ┆     ┆     ┆     ┆     ┆     ┆     ┆     ┆     ┆     ┆     ┆     ┆     ┆     ┆     ┆     ┆     ┆     ┆     ┆     ┆     ┆     ┆     ┆     ┆     ┆     ┆     ┆     ┆     ┆     ┆     ┆     ┆     ┆     ┆     ┆     ┆     ┆     ┆     ┆     ┆     ┆     │\n",
       "│     ┆     ┆     ┆     ┆ pri ┆ mpl ┆     ┆     ┆     ┆     ┆     ┆     ┆     ┆     ┆     ┆     ┆     ┆     ┆     ┆     ┆     ┆     ┆     ┆     ┆     ┆     ┆     ┆     ┆     ┆     ┆     ┆     ┆     ┆     ┆     ┆     ┆     ┆     ┆     ┆     ┆     ┆     ┆     ┆     ┆     ┆     ┆     ┆     ┆     ┆     ┆     ┆     ┆     ┆     ┆     ┆     ┆     ┆     ┆     ┆     ┆     ┆     ┆     ┆     ┆     ┆     ┆     ┆     ┆     ┆     ┆     ┆     ┆     ┆     ┆     ┆     ┆     ┆     ┆     ┆     ┆     ┆     ┆     ┆     ┆     │\n",
       "│     ┆     ┆     ┆     ┆ e…  ┆ oy… ┆     ┆     ┆     ┆     ┆     ┆     ┆     ┆     ┆     ┆     ┆     ┆     ┆     ┆     ┆     ┆     ┆     ┆     ┆     ┆     ┆     ┆     ┆     ┆     ┆     ┆     ┆     ┆     ┆     ┆     ┆     ┆     ┆     ┆     ┆     ┆     ┆     ┆     ┆     ┆     ┆     ┆     ┆     ┆     ┆     ┆     ┆     ┆     ┆     ┆     ┆     ┆     ┆     ┆     ┆     ┆     ┆     ┆     ┆     ┆     ┆     ┆     ┆     ┆     ┆     ┆     ┆     ┆     ┆     ┆     ┆     ┆     ┆     ┆     ┆     ┆     ┆     ┆     ┆     │\n",
       "│ 888 ┆ NA  ┆ Yes ┆ Les ┆ OSS ┆ Not ┆ Spa ┆ Yes ┆ Pro ┆ Com ┆ Tak ┆ NA  ┆ NA  ┆ 8   ┆ 11  ┆ 3   ┆ NA  ┆ NA  ┆ NA  ┆ NA  ┆ NA  ┆ NA  ┆ NA  ┆ NA  ┆ NA  ┆ NA  ┆ NA  ┆ NA  ┆ NA  ┆ NA  ┆ NA  ┆ NA  ┆ NA  ┆ NA  ┆ NA  ┆ NA  ┆ NA  ┆ NA  ┆ NA  ┆ NA  ┆ NA  ┆ NA  ┆ NA  ┆ Bas ┆ C;C ┆ Dyn ┆ Mar ┆ iOS ┆ And ┆ Dja ┆ Dja ┆ Uni ┆ NA  ┆ And ┆ Lin ┆ Pro ┆ NA  ┆ Use ┆ Yes ┆ Als ┆ Yes ┆ Wha ┆ In  ┆ NA  ┆ 201 ┆ Dai ┆ Fin ┆ 6-1 ┆ Sta ┆ 11- ┆ Yes ┆ A   ┆ Yes ┆ No, ┆ Yes ┆ Som ┆ Tec ┆ 18  ┆ Man ┆ No  ┆ Str ┆ His ┆ No  ┆ App ┆ Eas │\n",
       "│ 63  ┆     ┆     ┆ s   ┆ is, ┆ emp ┆ in  ┆ ,   ┆ fes ┆ put ┆ en  ┆     ┆     ┆     ┆     ┆     ┆     ┆     ┆     ┆     ┆     ┆     ┆     ┆     ┆     ┆     ┆     ┆     ┆     ┆     ┆     ┆     ┆     ┆     ┆     ┆     ┆     ┆     ┆     ┆     ┆     ┆     ┆     ┆ h/S ┆ ++; ┆ amo ┆ iaD ┆ ;Li ┆ roi ┆ ngo ┆ ngo ┆ ty  ┆     ┆ roi ┆ ux- ┆ duc ┆     ┆ ful ┆     ┆ o   ┆     ┆ tsA ┆ rea ┆     ┆ 2   ┆ ly  ┆ d   ┆ 0   ┆ ck  ┆ 30  ┆     ┆ few ┆     ┆ I'v ┆ ,   ┆ ewh ┆ h   ┆     ┆     ┆     ┆ aig ┆ pan ┆     ┆ rop ┆ y   │\n",
       "│     ┆     ┆     ┆ tha ┆ on  ┆ loy ┆     ┆ ful ┆ sio ┆ er  ┆ an  ┆     ┆     ┆     ┆     ┆     ┆     ┆     ┆     ┆     ┆     ┆     ┆     ┆     ┆     ┆     ┆     ┆     ┆     ┆     ┆     ┆     ┆     ┆     ┆     ┆     ┆     ┆     ┆     ┆     ┆     ┆     ┆     ┆ hel ┆ C#; ┆ DB; ┆ B;M ┆ nux ┆ d;A ┆ ;jQ ┆     ┆ 3D; ┆     ┆ d   ┆ bas ┆ tio ┆     ┆ for ┆     ┆ Yes ┆     ┆ pp  ┆ l   ┆     ┆     ┆ or  ┆ ans ┆ tim ┆ Ove ┆ min ┆     ┆ tim ┆     ┆ e   ┆ som ┆ at  ┆ art ┆     ┆     ┆     ┆ ht  ┆ ic  ┆     ┆ ria ┆     │\n",
       "│     ┆     ┆     ┆ n   ┆ ave ┆ ed, ┆     ┆ l-t ┆ nal ┆ sci ┆ onl ┆     ┆     ┆     ┆     ┆     ┆     ┆     ┆     ┆     ┆     ┆     ┆     ┆     ┆     ┆     ┆     ┆     ┆     ┆     ┆     ┆     ┆     ┆     ┆     ┆     ┆     ┆     ┆     ┆     ┆     ┆     ┆     ┆ l/P ┆ HTM ┆ Mar ┆ ySQ ┆ ;Ma ┆ WS; ┆ uer ┆     ┆ Unr ┆     ┆ Stu ┆ ed  ┆ n   ┆     ┆ dec ┆     ┆     ┆     ┆     ┆ lif ┆     ┆     ┆ alm ┆ wer ┆ es  ┆ rfl ┆ ute ┆     ┆ es  ┆     ┆ hea ┆ ewh ┆ les ┆ icl ┆     ┆     ┆     ┆ /   ┆ or  ┆     ┆ te  ┆     │\n",
       "│     ┆     ┆     ┆ onc ┆ rag ┆ and ┆     ┆ ime ┆ deg ┆ enc ┆ ine ┆     ┆     ┆     ┆     ┆     ┆     ┆     ┆     ┆     ┆     ┆     ┆     ┆     ┆     ┆     ┆     ┆     ┆     ┆     ┆     ┆     ┆     ┆     ┆     ┆     ┆     ┆     ┆     ┆     ┆     ┆     ┆     ┆ owe ┆ L/C ┆ iaD ┆ L;O ┆ cOS ┆ Goo ┆ y;R ┆     ┆ eal ┆     ┆ dio ┆     ┆     ┆     ┆ ent ┆     ┆     ┆     ┆     ┆ e   ┆     ┆     ┆ ost ┆ s   ┆ per ┆ ow  ┆ s   ┆     ┆ per ┆     ┆ rd  ┆ at  ┆ s   ┆ es  ┆     ┆     ┆     ┆ Het ┆ Lat ┆     ┆ in  ┆     │\n",
       "│     ┆     ┆     ┆ e   ┆ e,  ┆ not ┆     ┆     ┆ ree ┆ e,  ┆ cou ┆     ┆     ┆     ┆     ┆     ┆     ┆     ┆     ┆     ┆     ┆     ┆     ┆     ┆     ┆     ┆     ┆     ┆     ┆     ┆     ┆     ┆     ┆     ┆     ┆     ┆     ┆     ┆     ┆     ┆     ┆     ┆     ┆ rSh ┆ SS; ┆ B;M ┆ rac ┆ ;Wo ┆ gle ┆ eac ┆     ┆ Eng ┆     ┆ ;At ┆     ┆     ┆     ┆ ral ┆     ┆     ┆     ┆     ┆ (in ┆     ┆     ┆ dai ┆ to  ┆ wee ┆ was ┆     ┆     ┆ mon ┆     ┆ of  ┆     ┆ wel ┆ wri ┆     ┆     ┆     ┆ ero ┆ ino ┆     ┆ len ┆     │\n",
       "│     ┆     ┆     ┆ per ┆ of  ┆ loo ┆     ┆     ┆ (JD ┆ com ┆ rse ┆     ┆     ┆     ┆     ┆     ┆     ┆     ┆     ┆     ┆     ┆     ┆     ┆     ┆     ┆     ┆     ┆     ┆     ┆     ┆     ┆     ┆     ┆     ┆     ┆     ┆     ┆     ┆     ┆     ┆     ┆     ┆     ┆ ell ┆ Jav ┆ icr ┆ le; ┆ rdP ┆ Clo ┆ t.j ┆     ┆ ine ┆     ┆ om; ┆     ┆     ┆     ┆ ize ┆     ┆     ┆     ┆     ┆ per ┆     ┆     ┆ ly  ┆ spe ┆ k   ┆ muc ┆     ┆     ┆ th  ┆     ┆ the ┆     ┆ com ┆ tte ┆     ┆     ┆     ┆ sex ┆ /La ┆     ┆ gth ┆     │\n",
       "│     ┆     ┆     ┆ yea ┆ HIG ┆ kin ┆     ┆     ┆ ,   ┆ put ┆ in  ┆     ┆     ┆     ┆     ┆     ┆     ┆     ┆     ┆     ┆     ┆     ┆     ┆     ┆     ┆     ┆     ┆     ┆     ┆     ┆     ┆     ┆     ┆     ┆     ┆     ┆     ┆     ┆     ┆     ┆     ┆     ┆     ┆ ;HT ┆ a;O ┆ oso ┆ SQL ┆ res ┆ ud  ┆ s   ┆     ┆     ┆     ┆ Ecl ┆     ┆     ┆     ┆ d   ┆     ┆     ┆     ┆     ┆ son ┆     ┆     ┆     ┆ cif ┆     ┆ h   ┆     ┆     ┆ or  ┆     ┆ m,  ┆     ┆ e   ┆ n   ┆     ┆     ┆     ┆ ual ┆ tin ┆     ┆     ┆     │\n",
       "│     ┆     ┆     ┆ r   ┆ HER ┆ g   ┆     ┆     ┆ MD, ┆ er  ┆ pro ┆     ┆     ┆     ┆     ┆     ┆     ┆     ┆     ┆     ┆     ┆     ┆     ┆     ┆     ┆     ┆     ┆     ┆     ┆     ┆     ┆     ┆     ┆     ┆     ┆     ┆     ┆     ┆     ┆     ┆     ┆     ┆     ┆ ML/ ┆ bje ┆ ft  ┆ ite ┆ s   ┆ Pla ┆     ┆     ┆     ┆     ┆ ips ┆     ┆     ┆     ┆ cur ┆     ┆     ┆     ┆     ┆ )   ┆     ┆     ┆     ┆ ic  ┆     ┆ fas ┆     ┆     ┆ wee ┆     ┆ but ┆     ┆ now ┆ by  ┆     ┆     ┆     ┆     ┆ a;W ┆     ┆     ┆     │\n",
       "│     ┆     ┆     ┆     ┆ qua ┆ for ┆     ┆     ┆ etc ┆ eng ┆ gra ┆     ┆     ┆     ┆     ┆     ┆     ┆     ┆     ┆     ┆     ┆     ┆     ┆     ┆     ┆     ┆     ┆     ┆     ┆     ┆     ┆     ┆     ┆     ┆     ┆     ┆     ┆     ┆     ┆     ┆     ┆     ┆     ┆ CSS ┆ cti ┆ SQL ┆     ┆     ┆ tfo ┆     ┆     ┆     ┆     ┆ e;N ┆     ┆     ┆     ┆ ren ┆     ┆     ┆     ┆     ┆     ┆     ┆     ┆     ┆ que ┆     ┆ ter ┆     ┆     ┆ kly ┆     ┆ I   ┆     ┆ tha ┆ oth ┆     ┆     ┆     ┆     ┆ hit ┆     ┆     ┆     │\n",
       "│     ┆     ┆     ┆     ┆ lit ┆ wor ┆     ┆     ┆ .)  ┆ ine ┆ mmi ┆     ┆     ┆     ┆     ┆     ┆     ┆     ┆     ┆     ┆     ┆     ┆     ┆     ┆     ┆     ┆     ┆     ┆     ┆     ┆     ┆     ┆     ┆     ┆     ┆     ┆     ┆     ┆     ┆     ┆     ┆     ┆     ┆ ;Ja ┆ ve- ┆ Ser ┆     ┆     ┆ rm; ┆     ┆     ┆     ┆     ┆ etB ┆     ┆     ┆     ┆ cy  ┆     ┆     ┆     ┆     ┆     ┆     ┆     ┆     ┆ sti ┆     ┆     ┆     ┆     ┆     ┆     ┆ am  ┆     ┆ n   ┆ er  ┆     ┆     ┆     ┆     ┆ e   ┆     ┆     ┆     │\n",
       "│     ┆     ┆     ┆     ┆ y   ┆ k   ┆     ┆     ┆     ┆ eri ┆ ng  ┆     ┆     ┆     ┆     ┆     ┆     ┆     ┆     ┆     ┆     ┆     ┆     ┆     ┆     ┆     ┆     ┆     ┆     ┆     ┆     ┆     ┆     ┆     ┆     ┆     ┆     ┆     ┆     ┆     ┆     ┆     ┆     ┆ va; ┆ C;S ┆ ver ┆     ┆     ┆ IBM ┆     ┆     ┆     ┆     ┆ ean ┆     ┆     ┆     ┆ (i. ┆     ┆     ┆     ┆     ┆     ┆     ┆     ┆     ┆ ons ┆     ┆     ┆     ┆     ┆     ┆     ┆ not ┆     ┆ las ┆ dev ┆     ┆     ┆     ┆     ┆ or  ┆     ┆     ┆     │\n",
       "│     ┆     ┆     ┆     ┆ tha ┆     ┆     ┆     ┆     ┆ ng, ┆ or  ┆     ┆     ┆     ┆     ┆     ┆     ┆     ┆     ┆     ┆     ┆     ┆     ┆     ┆     ┆     ┆     ┆     ┆     ┆     ┆     ┆     ┆     ┆     ┆     ┆     ┆     ┆     ┆     ┆     ┆     ┆     ┆     ┆ Jav ┆ QL; ┆ ;My ┆     ┆     ┆ Clo ┆     ┆     ┆     ┆     ┆ s;N ┆     ┆     ┆     ┆ e., ┆     ┆     ┆     ┆     ┆     ┆     ┆     ┆     ┆ ;Le ┆     ┆     ┆     ┆     ┆     ┆     ┆ par ┆     ┆ t   ┆ elo ┆     ┆     ┆     ┆     ┆ of  ┆     ┆     ┆     │\n",
       "│     ┆     ┆     ┆     ┆ n   ┆     ┆     ┆     ┆     ┆ or  ┆ sof ┆     ┆     ┆     ┆     ┆     ┆     ┆     ┆     ┆     ┆     ┆     ┆     ┆     ┆     ┆     ┆     ┆     ┆     ┆     ┆     ┆     ┆     ┆     ┆     ┆     ┆     ┆     ┆     ┆     ┆     ┆     ┆     ┆ aSc ┆ Swi ┆ SQL ┆     ┆     ┆ ud  ┆     ┆     ┆     ┆     ┆ ote ┆     ┆     ┆     ┆ Bit ┆     ┆     ┆     ┆     ┆     ┆     ┆     ┆     ┆ arn ┆     ┆     ┆     ┆     ┆     ┆     ┆ t   ┆     ┆ yea ┆ per ┆     ┆     ┆     ┆     ┆ Eur ┆     ┆     ┆     │\n",
       "│     ┆     ┆     ┆     ┆ pro ┆     ┆     ┆     ┆     ┆ sof ┆ twa ┆     ┆     ┆     ┆     ┆     ┆     ┆     ┆     ┆     ┆     ┆     ┆     ┆     ┆     ┆     ┆     ┆     ┆     ┆     ┆     ┆     ┆     ┆     ┆     ┆     ┆     ┆     ┆     ┆     ┆     ┆     ┆     ┆ rip ┆ ft  ┆     ┆     ┆     ┆ or  ┆     ┆     ┆     ┆     ┆ pad ┆     ┆     ┆     ┆ coi ┆     ┆     ┆     ┆     ┆     ┆     ┆     ┆     ┆ how ┆     ┆     ┆     ┆     ┆     ┆     ┆ of  ┆     ┆ r   ┆ s;I ┆     ┆     ┆     ┆     ┆ ope ┆     ┆     ┆     │\n",
       "│     ┆     ┆     ┆     ┆ pri ┆     ┆     ┆     ┆     ┆ twa ┆ re  ┆     ┆     ┆     ┆     ┆     ┆     ┆     ┆     ┆     ┆     ┆     ┆     ┆     ┆     ┆     ┆     ┆     ┆     ┆     ┆     ┆     ┆     ┆     ┆     ┆     ┆     ┆     ┆     ┆     ┆     ┆     ┆     ┆ t;P ┆     ┆     ┆     ┆     ┆ Wat ┆     ┆     ┆     ┆     ┆ ++; ┆     ┆     ┆     ┆ n)  ┆     ┆     ┆     ┆     ┆     ┆     ┆     ┆     ┆ to  ┆     ┆     ┆     ┆     ┆     ┆     ┆ a   ┆     ┆     ┆ ndu ┆     ┆     ┆     ┆     ┆ an  ┆     ┆     ┆     │\n",
       "│     ┆     ┆     ┆     ┆ e…  ┆     ┆     ┆     ┆     ┆ r…  ┆ …   ┆     ┆     ┆     ┆     ┆     ┆     ┆     ┆     ┆     ┆     ┆     ┆     ┆     ┆     ┆     ┆     ┆     ┆     ┆     ┆     ┆     ┆     ┆     ┆     ┆     ┆     ┆     ┆     ┆     ┆     ┆     ┆     ┆ HP… ┆     ┆     ┆     ┆     ┆ …   ┆     ┆     ┆     ┆     ┆ Sub ┆     ┆     ┆     ┆     ┆     ┆     ┆     ┆     ┆     ┆     ┆     ┆     ┆ do… ┆     ┆     ┆     ┆     ┆     ┆     ┆ pri ┆     ┆     ┆ str ┆     ┆     ┆     ┆     ┆ des ┆     ┆     ┆     │\n",
       "│     ┆     ┆     ┆     ┆     ┆     ┆     ┆     ┆     ┆     ┆     ┆     ┆     ┆     ┆     ┆     ┆     ┆     ┆     ┆     ┆     ┆     ┆     ┆     ┆     ┆     ┆     ┆     ┆     ┆     ┆     ┆     ┆     ┆     ┆     ┆     ┆     ┆     ┆     ┆     ┆     ┆     ┆     ┆     ┆     ┆     ┆     ┆     ┆     ┆     ┆     ┆     ┆     ┆ …   ┆     ┆     ┆     ┆     ┆     ┆     ┆     ┆     ┆     ┆     ┆     ┆     ┆     ┆     ┆     ┆     ┆     ┆     ┆     ┆ …   ┆     ┆     ┆ y…  ┆     ┆     ┆     ┆     ┆ …   ┆     ┆     ┆     │\n",
       "└─────┴─────┴─────┴─────┴─────┴─────┴─────┴─────┴─────┴─────┴─────┴─────┴─────┴─────┴─────┴─────┴─────┴─────┴─────┴─────┴─────┴─────┴─────┴─────┴─────┴─────┴─────┴─────┴─────┴─────┴─────┴─────┴─────┴─────┴─────┴─────┴─────┴─────┴─────┴─────┴─────┴─────┴─────┴─────┴─────┴─────┴─────┴─────┴─────┴─────┴─────┴─────┴─────┴─────┴─────┴─────┴─────┴─────┴─────┴─────┴─────┴─────┴─────┴─────┴─────┴─────┴─────┴─────┴─────┴─────┴─────┴─────┴─────┴─────┴─────┴─────┴─────┴─────┴─────┴─────┴─────┴─────┴─────┴─────┴─────┘"
      ]
     },
     "execution_count": 16,
     "metadata": {},
     "output_type": "execute_result"
    }
   ],
   "source": [
    "pl.Config.set_tbl_cols(85)\n",
    "df"
   ]
  },
  {
   "cell_type": "code",
   "execution_count": 61,
   "id": "93ee959d",
   "metadata": {},
   "outputs": [
    {
     "data": {
      "text/html": [
       "<div><style>\n",
       ".dataframe > thead > tr > th,\n",
       ".dataframe > tbody > tr > td {\n",
       "  text-align: right;\n",
       "  white-space: pre-wrap;\n",
       "}\n",
       "</style>\n",
       "<small>shape: (22_289, 3)</small><table border=\"1\" class=\"dataframe\"><thead><tr><th>Country</th><th>LanguageWorkedWith</th><th>ConvertedComp</th></tr><tr><td>str</td><td>str</td><td>f64</td></tr></thead><tbody><tr><td>&quot;Canada&quot;</td><td>&quot;Java;R;SQL&quot;</td><td>366420.0</td></tr><tr><td>&quot;New Zealand&quot;</td><td>&quot;Bash/Shell/Pow…</td><td>95179.0</td></tr><tr><td>&quot;United States&quot;</td><td>&quot;Bash/Shell/Pow…</td><td>90000.0</td></tr><tr><td>&quot;United Kingdom…</td><td>&quot;Bash/Shell/Pow…</td><td>455352.0</td></tr><tr><td>&quot;United States&quot;</td><td>&quot;Bash/Shell/Pow…</td><td>103000.0</td></tr><tr><td>&hellip;</td><td>&hellip;</td><td>&hellip;</td></tr><tr><td>&quot;United States&quot;</td><td>&quot;Bash/Shell/Pow…</td><td>180000.0</td></tr><tr><td>&quot;United States&quot;</td><td>&quot;Bash/Shell/Pow…</td><td>2e6</td></tr><tr><td>&quot;United States&quot;</td><td>&quot;HTML/CSS;JavaS…</td><td>130000.0</td></tr><tr><td>&quot;Finland&quot;</td><td>&quot;Bash/Shell/Pow…</td><td>82488.0</td></tr><tr><td>&quot;Netherlands&quot;</td><td>&quot;C#;HTML/CSS;Ja…</td><td>588012.0</td></tr></tbody></table></div>"
      ],
      "text/plain": [
       "shape: (22_289, 3)\n",
       "┌────────────────┬───────────────────────────────────┬───────────────┐\n",
       "│ Country        ┆ LanguageWorkedWith                ┆ ConvertedComp │\n",
       "│ ---            ┆ ---                               ┆ ---           │\n",
       "│ str            ┆ str                               ┆ f64           │\n",
       "╞════════════════╪═══════════════════════════════════╪═══════════════╡\n",
       "│ Canada         ┆ Java;R;SQL                        ┆ 366420.0      │\n",
       "│ New Zealand    ┆ Bash/Shell/PowerShell;C#;HTML/CS… ┆ 95179.0       │\n",
       "│ United States  ┆ Bash/Shell/PowerShell;HTML/CSS;J… ┆ 90000.0       │\n",
       "│ United Kingdom ┆ Bash/Shell/PowerShell;C#;HTML/CS… ┆ 455352.0      │\n",
       "│ United States  ┆ Bash/Shell/PowerShell;C++;HTML/C… ┆ 103000.0      │\n",
       "│ …              ┆ …                                 ┆ …             │\n",
       "│ United States  ┆ Bash/Shell/PowerShell;C#;HTML/CS… ┆ 180000.0      │\n",
       "│ United States  ┆ Bash/Shell/PowerShell;C;Clojure;… ┆ 2e6           │\n",
       "│ United States  ┆ HTML/CSS;JavaScript;Scala;TypeSc… ┆ 130000.0      │\n",
       "│ Finland        ┆ Bash/Shell/PowerShell;C++;Python  ┆ 82488.0       │\n",
       "│ Netherlands    ┆ C#;HTML/CSS;Java;JavaScript;PHP;… ┆ 588012.0      │\n",
       "└────────────────┴───────────────────────────────────┴───────────────┘"
      ]
     },
     "execution_count": 61,
     "metadata": {},
     "output_type": "execute_result"
    }
   ],
   "source": [
    "# See people with salary higher than 70k\n",
    "\n",
    "(df\n",
    "#  .filter(pl.col('ConvertedComp') > 70_000) #doesn't work!\n",
    "#  .select(pl.col('ConvertedComp')).dtypes\n",
    " .with_columns(pl.when(pl.col('ConvertedComp') == 'NA') # Replacing NA with None\n",
    "               .then(None)\n",
    "               .otherwise(pl.col('ConvertedComp').cast(pl.Float64, strict=False))\n",
    "               .alias('ConvertedComp'))\n",
    "#  .select('ConvertedComp')\n",
    " .filter(pl.col('ConvertedComp') > 70_000) \n",
    " .select('Country','LanguageWorkedWith','ConvertedComp') #get specific attributes\n",
    " )"
   ]
  },
  {
   "cell_type": "code",
   "execution_count": 65,
   "id": "72d59757",
   "metadata": {},
   "outputs": [
    {
     "data": {
      "text/html": [
       "<div><style>\n",
       ".dataframe > thead > tr > th,\n",
       ".dataframe > tbody > tr > td {\n",
       "  text-align: right;\n",
       "  white-space: pre-wrap;\n",
       "}\n",
       "</style>\n",
       "<small>shape: (7, 1)</small><table border=\"1\" class=\"dataframe\"><thead><tr><th>Country</th></tr><tr><td>str</td></tr></thead><tbody><tr><td>&quot;Italy&quot;</td></tr><tr><td>&quot;Germany&quot;</td></tr><tr><td>&quot;Japan&quot;</td></tr><tr><td>&quot;France&quot;</td></tr><tr><td>&quot;Canada&quot;</td></tr><tr><td>&quot;United Kingdom…</td></tr><tr><td>&quot;United States&quot;</td></tr></tbody></table></div>"
      ],
      "text/plain": [
       "shape: (7, 1)\n",
       "┌────────────────┐\n",
       "│ Country        │\n",
       "│ ---            │\n",
       "│ str            │\n",
       "╞════════════════╡\n",
       "│ Italy          │\n",
       "│ Germany        │\n",
       "│ Japan          │\n",
       "│ France         │\n",
       "│ Canada         │\n",
       "│ United Kingdom │\n",
       "│ United States  │\n",
       "└────────────────┘"
      ]
     },
     "execution_count": 65,
     "metadata": {},
     "output_type": "execute_result"
    }
   ],
   "source": [
    "# See only respondents from G8 countries\n",
    "g7_countries = [\n",
    "    'United States',\n",
    "    'Canada',\n",
    "    'United Kingdom',\n",
    "    'Germany',\n",
    "    'France',\n",
    "    'Italy',\n",
    "    'Japan'\n",
    "]\n",
    "\n",
    "(df\n",
    " .filter(pl.col('Country').is_in(g7_countries))\n",
    " .select('Country') #show that filtering worked\n",
    " .unique() #really prove that it worked\n",
    " )"
   ]
  },
  {
   "cell_type": "code",
   "execution_count": 67,
   "id": "c1006a8f",
   "metadata": {},
   "outputs": [
    {
     "data": {
      "text/html": [
       "<div><style>\n",
       ".dataframe > thead > tr > th,\n",
       ".dataframe > tbody > tr > td {\n",
       "  text-align: right;\n",
       "  white-space: pre-wrap;\n",
       "}\n",
       "</style>\n",
       "<small>shape: (88_883,)</small><table border=\"1\" class=\"dataframe\"><thead><tr><th>LanguageWorkedWith</th></tr><tr><td>str</td></tr></thead><tbody><tr><td>&quot;HTML/CSS;Java;JavaScript;Python&quot;</td></tr><tr><td>&quot;C++;HTML/CSS;Python&quot;</td></tr><tr><td>&quot;HTML/CSS&quot;</td></tr><tr><td>&quot;C;C++;C#;Python;SQL&quot;</td></tr><tr><td>&quot;C++;HTML/CSS;Java;JavaScript;Python;SQL;VBA&quot;</td></tr><tr><td>&hellip;</td></tr><tr><td>&quot;HTML/CSS;JavaScript;Other(s):&quot;</td></tr><tr><td>&quot;NA&quot;</td></tr><tr><td>&quot;NA&quot;</td></tr><tr><td>&quot;NA&quot;</td></tr><tr><td>&quot;Bash/Shell/PowerShell;HTML/CSS;Java;JavaScript;PH…</td></tr></tbody></table></div>"
      ],
      "text/plain": [
       "shape: (88_883,)\n",
       "Series: 'LanguageWorkedWith' [str]\n",
       "[\n",
       "\t\"HTML/CSS;Java;JavaScript;Python\"\n",
       "\t\"C++;HTML/CSS;Python\"\n",
       "\t\"HTML/CSS\"\n",
       "\t\"C;C++;C#;Python;SQL\"\n",
       "\t\"C++;HTML/CSS;Java;JavaScript;Python;SQL;VBA\"\n",
       "\t…\n",
       "\t\"HTML/CSS;JavaScript;Other(s):\"\n",
       "\t\"NA\"\n",
       "\t\"NA\"\n",
       "\t\"NA\"\n",
       "\t\"Bash/Shell/PowerShell;HTML/CSS;Java;JavaScript;PH…\n",
       "]"
      ]
     },
     "execution_count": 67,
     "metadata": {},
     "output_type": "execute_result"
    }
   ],
   "source": [
    "# Poeple who answered that they knew Python as a programming language.\n",
    "pl.Config.set_fmt_str_lengths(50)\n",
    "\n",
    "df['LanguageWorkedWith']\n",
    "\n",
    "(df\n",
    " .filter(pl.col('LanguageWorkedWith').str.contains('Python'))\n",
    " .select('LanguageWorkedWith')\n",
    " )"
   ]
  },
  {
   "cell_type": "markdown",
   "id": "b60b8e9a-2ec9-4cef-a507-cf0bfc5638ab",
   "metadata": {},
   "source": [
    "<!-- <div class=\"alert alert-warning\" role=\"alert\" style=\"background-color: black;\">\n",
    "    <center><h1><strong> Part 5: Updating Rows & Columns.</strong></h1></center>\n",
    "</div>\n",
    " -->"
   ]
  }
 ],
 "metadata": {
  "kernelspec": {
   "display_name": "Python 3 (ipykernel)",
   "language": "python",
   "name": "python3"
  },
  "language_info": {
   "codemirror_mode": {
    "name": "ipython",
    "version": 3
   },
   "file_extension": ".py",
   "mimetype": "text/x-python",
   "name": "python",
   "nbconvert_exporter": "python",
   "pygments_lexer": "ipython3",
   "version": "3.11.5"
  }
 },
 "nbformat": 4,
 "nbformat_minor": 5
}
