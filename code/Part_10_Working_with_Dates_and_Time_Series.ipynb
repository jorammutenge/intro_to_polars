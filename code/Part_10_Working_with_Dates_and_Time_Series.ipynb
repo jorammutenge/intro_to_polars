{
 "cells": [
  {
   "cell_type": "markdown",
   "id": "0cd44bea",
   "metadata": {},
   "source": [
    "# Part 10: Working with Timeseries Data"
   ]
  },
  {
   "cell_type": "code",
   "execution_count": 2,
   "id": "05cae330",
   "metadata": {},
   "outputs": [
    {
     "data": {
      "text/html": [
       "<div><style>\n",
       ".dataframe > thead > tr > th,\n",
       ".dataframe > tbody > tr > td {\n",
       "  text-align: right;\n",
       "  white-space: pre-wrap;\n",
       "}\n",
       "</style>\n",
       "<small>shape: (23_674, 7)</small><table border=\"1\" class=\"dataframe\"><thead><tr><th>Date</th><th>Symbol</th><th>Open</th><th>High</th><th>Low</th><th>Close</th><th>Volume</th></tr><tr><td>str</td><td>str</td><td>f64</td><td>f64</td><td>f64</td><td>f64</td><td>f64</td></tr></thead><tbody><tr><td>&quot;2020-03-13 08-PM&quot;</td><td>&quot;ETHUSD&quot;</td><td>129.94</td><td>131.82</td><td>126.87</td><td>128.71</td><td>1.9407e6</td></tr><tr><td>&quot;2020-03-13 07-PM&quot;</td><td>&quot;ETHUSD&quot;</td><td>119.51</td><td>132.02</td><td>117.1</td><td>129.94</td><td>7.5797e6</td></tr><tr><td>&quot;2020-03-13 06-PM&quot;</td><td>&quot;ETHUSD&quot;</td><td>124.47</td><td>124.85</td><td>115.5</td><td>119.51</td><td>4.8987e6</td></tr><tr><td>&quot;2020-03-13 05-PM&quot;</td><td>&quot;ETHUSD&quot;</td><td>124.08</td><td>127.42</td><td>121.63</td><td>124.47</td><td>2.7535e6</td></tr><tr><td>&quot;2020-03-13 04-PM&quot;</td><td>&quot;ETHUSD&quot;</td><td>124.85</td><td>129.51</td><td>120.17</td><td>124.08</td><td>4.4614e6</td></tr><tr><td>&hellip;</td><td>&hellip;</td><td>&hellip;</td><td>&hellip;</td><td>&hellip;</td><td>&hellip;</td><td>&hellip;</td></tr><tr><td>&quot;2017-07-01 03-PM&quot;</td><td>&quot;ETHUSD&quot;</td><td>265.74</td><td>272.74</td><td>265.0</td><td>272.57</td><td>1.5003e6</td></tr><tr><td>&quot;2017-07-01 02-PM&quot;</td><td>&quot;ETHUSD&quot;</td><td>268.79</td><td>269.9</td><td>265.0</td><td>265.74</td><td>1.7025e6</td></tr><tr><td>&quot;2017-07-01 01-PM&quot;</td><td>&quot;ETHUSD&quot;</td><td>274.83</td><td>274.93</td><td>265.0</td><td>268.79</td><td>3.0108e6</td></tr><tr><td>&quot;2017-07-01 12-PM&quot;</td><td>&quot;ETHUSD&quot;</td><td>275.01</td><td>275.01</td><td>271.0</td><td>274.83</td><td>824362.87</td></tr><tr><td>&quot;2017-07-01 11-AM&quot;</td><td>&quot;ETHUSD&quot;</td><td>279.98</td><td>279.99</td><td>272.1</td><td>275.01</td><td>679358.87</td></tr></tbody></table></div>"
      ],
      "text/plain": [
       "shape: (23_674, 7)\n",
       "┌──────────────────┬────────┬────────┬────────┬────────┬────────┬───────────┐\n",
       "│ Date             ┆ Symbol ┆ Open   ┆ High   ┆ Low    ┆ Close  ┆ Volume    │\n",
       "│ ---              ┆ ---    ┆ ---    ┆ ---    ┆ ---    ┆ ---    ┆ ---       │\n",
       "│ str              ┆ str    ┆ f64    ┆ f64    ┆ f64    ┆ f64    ┆ f64       │\n",
       "╞══════════════════╪════════╪════════╪════════╪════════╪════════╪═══════════╡\n",
       "│ 2020-03-13 08-PM ┆ ETHUSD ┆ 129.94 ┆ 131.82 ┆ 126.87 ┆ 128.71 ┆ 1.9407e6  │\n",
       "│ 2020-03-13 07-PM ┆ ETHUSD ┆ 119.51 ┆ 132.02 ┆ 117.1  ┆ 129.94 ┆ 7.5797e6  │\n",
       "│ 2020-03-13 06-PM ┆ ETHUSD ┆ 124.47 ┆ 124.85 ┆ 115.5  ┆ 119.51 ┆ 4.8987e6  │\n",
       "│ 2020-03-13 05-PM ┆ ETHUSD ┆ 124.08 ┆ 127.42 ┆ 121.63 ┆ 124.47 ┆ 2.7535e6  │\n",
       "│ 2020-03-13 04-PM ┆ ETHUSD ┆ 124.85 ┆ 129.51 ┆ 120.17 ┆ 124.08 ┆ 4.4614e6  │\n",
       "│ …                ┆ …      ┆ …      ┆ …      ┆ …      ┆ …      ┆ …         │\n",
       "│ 2017-07-01 03-PM ┆ ETHUSD ┆ 265.74 ┆ 272.74 ┆ 265.0  ┆ 272.57 ┆ 1.5003e6  │\n",
       "│ 2017-07-01 02-PM ┆ ETHUSD ┆ 268.79 ┆ 269.9  ┆ 265.0  ┆ 265.74 ┆ 1.7025e6  │\n",
       "│ 2017-07-01 01-PM ┆ ETHUSD ┆ 274.83 ┆ 274.93 ┆ 265.0  ┆ 268.79 ┆ 3.0108e6  │\n",
       "│ 2017-07-01 12-PM ┆ ETHUSD ┆ 275.01 ┆ 275.01 ┆ 271.0  ┆ 274.83 ┆ 824362.87 │\n",
       "│ 2017-07-01 11-AM ┆ ETHUSD ┆ 279.98 ┆ 279.99 ┆ 272.1  ┆ 275.01 ┆ 679358.87 │\n",
       "└──────────────────┴────────┴────────┴────────┴────────┴────────┴───────────┘"
      ]
     },
     "execution_count": 2,
     "metadata": {},
     "output_type": "execute_result"
    }
   ],
   "source": [
    "import polars as pl\n",
    "import numpy as np\n",
    "pl.Config.set_tbl_rows(10)\n",
    "pl.Config.set_fmt_str_lengths(50)\n",
    "from datetime import datetime\n",
    "\n",
    "url = 'https://raw.githubusercontent.com/CoreyMSchafer/code_snippets/master/Python/Pandas/10-Datetime-Timeseries/ETH_1h.csv'\n",
    "\n",
    "df = pl.read_csv(url)\n",
    "df"
   ]
  },
  {
   "cell_type": "code",
   "execution_count": 3,
   "id": "cb8e8a99",
   "metadata": {},
   "outputs": [
    {
     "data": {
      "text/plain": [
       "'2020-03-13 08-PM'"
      ]
     },
     "execution_count": 3,
     "metadata": {},
     "output_type": "execute_result"
    }
   ],
   "source": [
    "# Target first row to see that it's date\n",
    "df[0,'Date']"
   ]
  },
  {
   "cell_type": "code",
   "execution_count": 4,
   "id": "31f5dab4",
   "metadata": {},
   "outputs": [
    {
     "data": {
      "text/html": [
       "<div><style>\n",
       ".dataframe > thead > tr > th,\n",
       ".dataframe > tbody > tr > td {\n",
       "  text-align: right;\n",
       "  white-space: pre-wrap;\n",
       "}\n",
       "</style>\n",
       "<small>shape: (1, 1)</small><table border=\"1\" class=\"dataframe\"><thead><tr><th>Date</th></tr><tr><td>str</td></tr></thead><tbody><tr><td>&quot;2020-03-13 08-PM&quot;</td></tr></tbody></table></div>"
      ],
      "text/plain": [
       "shape: (1, 1)\n",
       "┌──────────────────┐\n",
       "│ Date             │\n",
       "│ ---              │\n",
       "│ str              │\n",
       "╞══════════════════╡\n",
       "│ 2020-03-13 08-PM │\n",
       "└──────────────────┘"
      ]
     },
     "execution_count": 4,
     "metadata": {},
     "output_type": "execute_result"
    }
   ],
   "source": [
    "df.select(pl.col('Date'))[0]"
   ]
  },
  {
   "cell_type": "code",
   "execution_count": 5,
   "id": "f15d84aa",
   "metadata": {},
   "outputs": [
    {
     "ename": "InvalidOperationError",
     "evalue": "`weekday` operation not supported for dtype `str`",
     "output_type": "error",
     "traceback": [
      "\u001b[1;31m---------------------------------------------------------------------------\u001b[0m",
      "\u001b[1;31mInvalidOperationError\u001b[0m                     Traceback (most recent call last)",
      "\u001b[1;32mc:\\Users\\Jmutenge\\OneDrive - searsseating.com\\Desktop\\jm\\polars\\today.ipynb Cell 63\u001b[0m line \u001b[0;36m2\n\u001b[0;32m      <a href='vscode-notebook-cell:/c%3A/Users/Jmutenge/OneDrive%20-%20searsseating.com/Desktop/jm/polars/today.ipynb#Y116sZmlsZQ%3D%3D?line=0'>1</a>\u001b[0m \u001b[39m# Get day name\u001b[39;00m\n\u001b[1;32m----> <a href='vscode-notebook-cell:/c%3A/Users/Jmutenge/OneDrive%20-%20searsseating.com/Desktop/jm/polars/today.ipynb#Y116sZmlsZQ%3D%3D?line=1'>2</a>\u001b[0m df\u001b[39m.\u001b[39;49mselect(pl\u001b[39m.\u001b[39;49mcol(\u001b[39m'\u001b[39;49m\u001b[39mDate\u001b[39;49m\u001b[39m'\u001b[39;49m)\u001b[39m.\u001b[39;49mdt\u001b[39m.\u001b[39;49mweekday())[\u001b[39m0\u001b[39m]\n",
      "File \u001b[1;32mc:\\Users\\Jmutenge\\AppData\\Local\\Programs\\Python\\Python311\\searsseating.com\\Desktop\\jm\\datafall\\Lib\\site-packages\\polars\\dataframe\\frame.py:7727\u001b[0m, in \u001b[0;36mDataFrame.select\u001b[1;34m(self, *exprs, **named_exprs)\u001b[0m\n\u001b[0;32m   7625\u001b[0m \u001b[39mdef\u001b[39;00m \u001b[39mselect\u001b[39m(\n\u001b[0;32m   7626\u001b[0m     \u001b[39mself\u001b[39m, \u001b[39m*\u001b[39mexprs: IntoExpr \u001b[39m|\u001b[39m Iterable[IntoExpr], \u001b[39m*\u001b[39m\u001b[39m*\u001b[39mnamed_exprs: IntoExpr\n\u001b[0;32m   7627\u001b[0m ) \u001b[39m-\u001b[39m\u001b[39m>\u001b[39m DataFrame:\n\u001b[0;32m   7628\u001b[0m \u001b[39m    \u001b[39m\u001b[39m\"\"\"\u001b[39;00m\n\u001b[0;32m   7629\u001b[0m \u001b[39m    Select columns from this DataFrame.\u001b[39;00m\n\u001b[0;32m   7630\u001b[0m \n\u001b[1;32m   (...)\u001b[0m\n\u001b[0;32m   7725\u001b[0m \n\u001b[0;32m   7726\u001b[0m \u001b[39m    \"\"\"\u001b[39;00m\n\u001b[1;32m-> 7727\u001b[0m     \u001b[39mreturn\u001b[39;00m \u001b[39mself\u001b[39;49m\u001b[39m.\u001b[39;49mlazy()\u001b[39m.\u001b[39;49mselect(\u001b[39m*\u001b[39;49mexprs, \u001b[39m*\u001b[39;49m\u001b[39m*\u001b[39;49mnamed_exprs)\u001b[39m.\u001b[39;49mcollect(eager\u001b[39m=\u001b[39;49m\u001b[39mTrue\u001b[39;49;00m)\n",
      "File \u001b[1;32mc:\\Users\\Jmutenge\\AppData\\Local\\Programs\\Python\\Python311\\searsseating.com\\Desktop\\jm\\datafall\\Lib\\site-packages\\polars\\utils\\deprecation.py:95\u001b[0m, in \u001b[0;36mdeprecate_renamed_parameter.<locals>.decorate.<locals>.wrapper\u001b[1;34m(*args, **kwargs)\u001b[0m\n\u001b[0;32m     90\u001b[0m \u001b[39m@wraps\u001b[39m(function)\n\u001b[0;32m     91\u001b[0m \u001b[39mdef\u001b[39;00m \u001b[39mwrapper\u001b[39m(\u001b[39m*\u001b[39margs: P\u001b[39m.\u001b[39margs, \u001b[39m*\u001b[39m\u001b[39m*\u001b[39mkwargs: P\u001b[39m.\u001b[39mkwargs) \u001b[39m-\u001b[39m\u001b[39m>\u001b[39m T:\n\u001b[0;32m     92\u001b[0m     _rename_keyword_argument(\n\u001b[0;32m     93\u001b[0m         old_name, new_name, kwargs, function\u001b[39m.\u001b[39m\u001b[39m__name__\u001b[39m, version\n\u001b[0;32m     94\u001b[0m     )\n\u001b[1;32m---> 95\u001b[0m     \u001b[39mreturn\u001b[39;00m function(\u001b[39m*\u001b[39;49margs, \u001b[39m*\u001b[39;49m\u001b[39m*\u001b[39;49mkwargs)\n",
      "File \u001b[1;32mc:\\Users\\Jmutenge\\AppData\\Local\\Programs\\Python\\Python311\\searsseating.com\\Desktop\\jm\\datafall\\Lib\\site-packages\\polars\\lazyframe\\frame.py:1713\u001b[0m, in \u001b[0;36mLazyFrame.collect\u001b[1;34m(self, type_coercion, predicate_pushdown, projection_pushdown, simplify_expression, no_optimization, slice_pushdown, comm_subplan_elim, comm_subexpr_elim, streaming, **kwargs)\u001b[0m\n\u001b[0;32m   1700\u001b[0m     comm_subplan_elim \u001b[39m=\u001b[39m \u001b[39mFalse\u001b[39;00m\n\u001b[0;32m   1702\u001b[0m ldf \u001b[39m=\u001b[39m \u001b[39mself\u001b[39m\u001b[39m.\u001b[39m_ldf\u001b[39m.\u001b[39moptimization_toggle(\n\u001b[0;32m   1703\u001b[0m     type_coercion,\n\u001b[0;32m   1704\u001b[0m     predicate_pushdown,\n\u001b[1;32m   (...)\u001b[0m\n\u001b[0;32m   1711\u001b[0m     eager,\n\u001b[0;32m   1712\u001b[0m )\n\u001b[1;32m-> 1713\u001b[0m \u001b[39mreturn\u001b[39;00m wrap_df(ldf\u001b[39m.\u001b[39;49mcollect())\n",
      "\u001b[1;31mInvalidOperationError\u001b[0m: `weekday` operation not supported for dtype `str`"
     ]
    }
   ],
   "source": [
    "# Get day name\n",
    "df.select(pl.col('Date').dt.weekday())[0]"
   ]
  },
  {
   "cell_type": "code",
   "execution_count": 6,
   "id": "4dcdf22b",
   "metadata": {},
   "outputs": [
    {
     "name": "stdout",
     "output_type": "stream",
     "text": [
      "2020-03-13 20:00:00\n"
     ]
    }
   ],
   "source": [
    "# skip this!\n",
    "from datetime import datetime\n",
    "\n",
    "date_string = '2020-03-13 08-PM'\n",
    "parsed_date = datetime.strptime(date_string, '%Y-%m-%d %I-%p')\n",
    "print(parsed_date)"
   ]
  },
  {
   "cell_type": "code",
   "execution_count": 7,
   "id": "31822a23",
   "metadata": {},
   "outputs": [
    {
     "name": "stderr",
     "output_type": "stream",
     "text": [
      "C:\\Users\\Jmutenge\\AppData\\Local\\Temp\\ipykernel_22208\\1694169782.py:4: PolarsInefficientMapWarning: \n",
      "Expr.map_elements is significantly slower than the native expressions API.\n",
      "Only use if you absolutely CANNOT implement your logic otherwise.\n",
      "In this case, you can replace your `map_elements` with the following:\n",
      "  - pl.col(\"Date\").map_elements(lambda date_str: ...)\n",
      "  + pl.col(\"Date\").str.to_datetime(format=\"%Y-%m-%d %I-%p\")\n",
      "\n",
      "  df = df.with_columns(pl.col('Date').map_elements(lambda date_str: datetime.strptime(date_str, '%Y-%m-%d %I-%p')))\n"
     ]
    },
    {
     "data": {
      "text/html": [
       "<div><style>\n",
       ".dataframe > thead > tr > th,\n",
       ".dataframe > tbody > tr > td {\n",
       "  text-align: right;\n",
       "  white-space: pre-wrap;\n",
       "}\n",
       "</style>\n",
       "<small>shape: (23_674, 7)</small><table border=\"1\" class=\"dataframe\"><thead><tr><th>Date</th><th>Symbol</th><th>Open</th><th>High</th><th>Low</th><th>Close</th><th>Volume</th></tr><tr><td>datetime[μs]</td><td>str</td><td>f64</td><td>f64</td><td>f64</td><td>f64</td><td>f64</td></tr></thead><tbody><tr><td>2020-03-13 20:00:00</td><td>&quot;ETHUSD&quot;</td><td>129.94</td><td>131.82</td><td>126.87</td><td>128.71</td><td>1.9407e6</td></tr><tr><td>2020-03-13 19:00:00</td><td>&quot;ETHUSD&quot;</td><td>119.51</td><td>132.02</td><td>117.1</td><td>129.94</td><td>7.5797e6</td></tr><tr><td>2020-03-13 18:00:00</td><td>&quot;ETHUSD&quot;</td><td>124.47</td><td>124.85</td><td>115.5</td><td>119.51</td><td>4.8987e6</td></tr><tr><td>2020-03-13 17:00:00</td><td>&quot;ETHUSD&quot;</td><td>124.08</td><td>127.42</td><td>121.63</td><td>124.47</td><td>2.7535e6</td></tr><tr><td>2020-03-13 16:00:00</td><td>&quot;ETHUSD&quot;</td><td>124.85</td><td>129.51</td><td>120.17</td><td>124.08</td><td>4.4614e6</td></tr><tr><td>&hellip;</td><td>&hellip;</td><td>&hellip;</td><td>&hellip;</td><td>&hellip;</td><td>&hellip;</td><td>&hellip;</td></tr><tr><td>2017-07-01 15:00:00</td><td>&quot;ETHUSD&quot;</td><td>265.74</td><td>272.74</td><td>265.0</td><td>272.57</td><td>1.5003e6</td></tr><tr><td>2017-07-01 14:00:00</td><td>&quot;ETHUSD&quot;</td><td>268.79</td><td>269.9</td><td>265.0</td><td>265.74</td><td>1.7025e6</td></tr><tr><td>2017-07-01 13:00:00</td><td>&quot;ETHUSD&quot;</td><td>274.83</td><td>274.93</td><td>265.0</td><td>268.79</td><td>3.0108e6</td></tr><tr><td>2017-07-01 12:00:00</td><td>&quot;ETHUSD&quot;</td><td>275.01</td><td>275.01</td><td>271.0</td><td>274.83</td><td>824362.87</td></tr><tr><td>2017-07-01 11:00:00</td><td>&quot;ETHUSD&quot;</td><td>279.98</td><td>279.99</td><td>272.1</td><td>275.01</td><td>679358.87</td></tr></tbody></table></div>"
      ],
      "text/plain": [
       "shape: (23_674, 7)\n",
       "┌─────────────────────┬────────┬────────┬────────┬────────┬────────┬───────────┐\n",
       "│ Date                ┆ Symbol ┆ Open   ┆ High   ┆ Low    ┆ Close  ┆ Volume    │\n",
       "│ ---                 ┆ ---    ┆ ---    ┆ ---    ┆ ---    ┆ ---    ┆ ---       │\n",
       "│ datetime[μs]        ┆ str    ┆ f64    ┆ f64    ┆ f64    ┆ f64    ┆ f64       │\n",
       "╞═════════════════════╪════════╪════════╪════════╪════════╪════════╪═══════════╡\n",
       "│ 2020-03-13 20:00:00 ┆ ETHUSD ┆ 129.94 ┆ 131.82 ┆ 126.87 ┆ 128.71 ┆ 1.9407e6  │\n",
       "│ 2020-03-13 19:00:00 ┆ ETHUSD ┆ 119.51 ┆ 132.02 ┆ 117.1  ┆ 129.94 ┆ 7.5797e6  │\n",
       "│ 2020-03-13 18:00:00 ┆ ETHUSD ┆ 124.47 ┆ 124.85 ┆ 115.5  ┆ 119.51 ┆ 4.8987e6  │\n",
       "│ 2020-03-13 17:00:00 ┆ ETHUSD ┆ 124.08 ┆ 127.42 ┆ 121.63 ┆ 124.47 ┆ 2.7535e6  │\n",
       "│ 2020-03-13 16:00:00 ┆ ETHUSD ┆ 124.85 ┆ 129.51 ┆ 120.17 ┆ 124.08 ┆ 4.4614e6  │\n",
       "│ …                   ┆ …      ┆ …      ┆ …      ┆ …      ┆ …      ┆ …         │\n",
       "│ 2017-07-01 15:00:00 ┆ ETHUSD ┆ 265.74 ┆ 272.74 ┆ 265.0  ┆ 272.57 ┆ 1.5003e6  │\n",
       "│ 2017-07-01 14:00:00 ┆ ETHUSD ┆ 268.79 ┆ 269.9  ┆ 265.0  ┆ 265.74 ┆ 1.7025e6  │\n",
       "│ 2017-07-01 13:00:00 ┆ ETHUSD ┆ 274.83 ┆ 274.93 ┆ 265.0  ┆ 268.79 ┆ 3.0108e6  │\n",
       "│ 2017-07-01 12:00:00 ┆ ETHUSD ┆ 275.01 ┆ 275.01 ┆ 271.0  ┆ 274.83 ┆ 824362.87 │\n",
       "│ 2017-07-01 11:00:00 ┆ ETHUSD ┆ 279.98 ┆ 279.99 ┆ 272.1  ┆ 275.01 ┆ 679358.87 │\n",
       "└─────────────────────┴────────┴────────┴────────┴────────┴────────┴───────────┘"
      ]
     },
     "execution_count": 7,
     "metadata": {},
     "output_type": "execute_result"
    }
   ],
   "source": [
    "# Converting string to date. This worked!\n",
    "\n",
    "def convert_date(df):\n",
    "    df = df.with_columns(pl.col('Date').map_elements(lambda date_str: datetime.strptime(date_str, '%Y-%m-%d %I-%p')))\n",
    "    return df\n",
    "\n",
    "df = df.pipe(convert_date)\n",
    "df"
   ]
  },
  {
   "cell_type": "code",
   "execution_count": 8,
   "id": "43429303",
   "metadata": {},
   "outputs": [
    {
     "data": {
      "text/html": [
       "<div><style>\n",
       ".dataframe > thead > tr > th,\n",
       ".dataframe > tbody > tr > td {\n",
       "  text-align: right;\n",
       "  white-space: pre-wrap;\n",
       "}\n",
       "</style>\n",
       "<small>shape: (1, 1)</small><table border=\"1\" class=\"dataframe\"><thead><tr><th>Date</th></tr><tr><td>u32</td></tr></thead><tbody><tr><td>5</td></tr></tbody></table></div>"
      ],
      "text/plain": [
       "shape: (1, 1)\n",
       "┌──────┐\n",
       "│ Date │\n",
       "│ ---  │\n",
       "│ u32  │\n",
       "╞══════╡\n",
       "│ 5    │\n",
       "└──────┘"
      ]
     },
     "execution_count": 8,
     "metadata": {},
     "output_type": "execute_result"
    }
   ],
   "source": [
    "# Get day name\n",
    "df.select(pl.col('Date').dt.weekday())[0]"
   ]
  },
  {
   "cell_type": "code",
   "execution_count": 10,
   "id": "56e7b5da",
   "metadata": {},
   "outputs": [
    {
     "data": {
      "text/html": [
       "<div><style>\n",
       ".dataframe > thead > tr > th,\n",
       ".dataframe > tbody > tr > td {\n",
       "  text-align: right;\n",
       "  white-space: pre-wrap;\n",
       "}\n",
       "</style>\n",
       "<small>shape: (23_674, 8)</small><table border=\"1\" class=\"dataframe\"><thead><tr><th>Date</th><th>Symbol</th><th>Open</th><th>High</th><th>Low</th><th>Close</th><th>Volume</th><th>DayOfWeek</th></tr><tr><td>datetime[μs]</td><td>str</td><td>f64</td><td>f64</td><td>f64</td><td>f64</td><td>f64</td><td>u32</td></tr></thead><tbody><tr><td>2020-03-13 20:00:00</td><td>&quot;ETHUSD&quot;</td><td>129.94</td><td>131.82</td><td>126.87</td><td>128.71</td><td>1.9407e6</td><td>5</td></tr><tr><td>2020-03-13 19:00:00</td><td>&quot;ETHUSD&quot;</td><td>119.51</td><td>132.02</td><td>117.1</td><td>129.94</td><td>7.5797e6</td><td>5</td></tr><tr><td>2020-03-13 18:00:00</td><td>&quot;ETHUSD&quot;</td><td>124.47</td><td>124.85</td><td>115.5</td><td>119.51</td><td>4.8987e6</td><td>5</td></tr><tr><td>2020-03-13 17:00:00</td><td>&quot;ETHUSD&quot;</td><td>124.08</td><td>127.42</td><td>121.63</td><td>124.47</td><td>2.7535e6</td><td>5</td></tr><tr><td>2020-03-13 16:00:00</td><td>&quot;ETHUSD&quot;</td><td>124.85</td><td>129.51</td><td>120.17</td><td>124.08</td><td>4.4614e6</td><td>5</td></tr><tr><td>&hellip;</td><td>&hellip;</td><td>&hellip;</td><td>&hellip;</td><td>&hellip;</td><td>&hellip;</td><td>&hellip;</td><td>&hellip;</td></tr><tr><td>2017-07-01 15:00:00</td><td>&quot;ETHUSD&quot;</td><td>265.74</td><td>272.74</td><td>265.0</td><td>272.57</td><td>1.5003e6</td><td>6</td></tr><tr><td>2017-07-01 14:00:00</td><td>&quot;ETHUSD&quot;</td><td>268.79</td><td>269.9</td><td>265.0</td><td>265.74</td><td>1.7025e6</td><td>6</td></tr><tr><td>2017-07-01 13:00:00</td><td>&quot;ETHUSD&quot;</td><td>274.83</td><td>274.93</td><td>265.0</td><td>268.79</td><td>3.0108e6</td><td>6</td></tr><tr><td>2017-07-01 12:00:00</td><td>&quot;ETHUSD&quot;</td><td>275.01</td><td>275.01</td><td>271.0</td><td>274.83</td><td>824362.87</td><td>6</td></tr><tr><td>2017-07-01 11:00:00</td><td>&quot;ETHUSD&quot;</td><td>279.98</td><td>279.99</td><td>272.1</td><td>275.01</td><td>679358.87</td><td>6</td></tr></tbody></table></div>"
      ],
      "text/plain": [
       "shape: (23_674, 8)\n",
       "┌─────────────────────┬────────┬────────┬────────┬────────┬────────┬───────────┬───────────┐\n",
       "│ Date                ┆ Symbol ┆ Open   ┆ High   ┆ Low    ┆ Close  ┆ Volume    ┆ DayOfWeek │\n",
       "│ ---                 ┆ ---    ┆ ---    ┆ ---    ┆ ---    ┆ ---    ┆ ---       ┆ ---       │\n",
       "│ datetime[μs]        ┆ str    ┆ f64    ┆ f64    ┆ f64    ┆ f64    ┆ f64       ┆ u32       │\n",
       "╞═════════════════════╪════════╪════════╪════════╪════════╪════════╪═══════════╪═══════════╡\n",
       "│ 2020-03-13 20:00:00 ┆ ETHUSD ┆ 129.94 ┆ 131.82 ┆ 126.87 ┆ 128.71 ┆ 1.9407e6  ┆ 5         │\n",
       "│ 2020-03-13 19:00:00 ┆ ETHUSD ┆ 119.51 ┆ 132.02 ┆ 117.1  ┆ 129.94 ┆ 7.5797e6  ┆ 5         │\n",
       "│ 2020-03-13 18:00:00 ┆ ETHUSD ┆ 124.47 ┆ 124.85 ┆ 115.5  ┆ 119.51 ┆ 4.8987e6  ┆ 5         │\n",
       "│ 2020-03-13 17:00:00 ┆ ETHUSD ┆ 124.08 ┆ 127.42 ┆ 121.63 ┆ 124.47 ┆ 2.7535e6  ┆ 5         │\n",
       "│ 2020-03-13 16:00:00 ┆ ETHUSD ┆ 124.85 ┆ 129.51 ┆ 120.17 ┆ 124.08 ┆ 4.4614e6  ┆ 5         │\n",
       "│ …                   ┆ …      ┆ …      ┆ …      ┆ …      ┆ …      ┆ …         ┆ …         │\n",
       "│ 2017-07-01 15:00:00 ┆ ETHUSD ┆ 265.74 ┆ 272.74 ┆ 265.0  ┆ 272.57 ┆ 1.5003e6  ┆ 6         │\n",
       "│ 2017-07-01 14:00:00 ┆ ETHUSD ┆ 268.79 ┆ 269.9  ┆ 265.0  ┆ 265.74 ┆ 1.7025e6  ┆ 6         │\n",
       "│ 2017-07-01 13:00:00 ┆ ETHUSD ┆ 274.83 ┆ 274.93 ┆ 265.0  ┆ 268.79 ┆ 3.0108e6  ┆ 6         │\n",
       "│ 2017-07-01 12:00:00 ┆ ETHUSD ┆ 275.01 ┆ 275.01 ┆ 271.0  ┆ 274.83 ┆ 824362.87 ┆ 6         │\n",
       "│ 2017-07-01 11:00:00 ┆ ETHUSD ┆ 279.98 ┆ 279.99 ┆ 272.1  ┆ 275.01 ┆ 679358.87 ┆ 6         │\n",
       "└─────────────────────┴────────┴────────┴────────┴────────┴────────┴───────────┴───────────┘"
      ]
     },
     "execution_count": 10,
     "metadata": {},
     "output_type": "execute_result"
    }
   ],
   "source": [
    "# Create a column based that will have day of week\n",
    "\n",
    "df = df.with_columns(pl.col('Date').dt.weekday().alias('DayOfWeek'))\n",
    "df\n",
    " "
   ]
  },
  {
   "cell_type": "code",
   "execution_count": 11,
   "id": "f45eca8d",
   "metadata": {},
   "outputs": [
    {
     "data": {
      "text/plain": [
       "datetime.datetime(2017, 7, 1, 11, 0)"
      ]
     },
     "execution_count": 11,
     "metadata": {},
     "output_type": "execute_result"
    }
   ],
   "source": [
    "# Get earliest date\n",
    "df['Date'].min()"
   ]
  },
  {
   "cell_type": "code",
   "execution_count": 12,
   "id": "46ffd3cf",
   "metadata": {},
   "outputs": [
    {
     "data": {
      "text/plain": [
       "datetime.datetime(2020, 3, 13, 20, 0)"
      ]
     },
     "execution_count": 12,
     "metadata": {},
     "output_type": "execute_result"
    }
   ],
   "source": [
    "df['Date'].max()"
   ]
  },
  {
   "cell_type": "code",
   "execution_count": 13,
   "id": "324667fd",
   "metadata": {},
   "outputs": [
    {
     "data": {
      "text/plain": [
       "datetime.timedelta(days=986, seconds=32400)"
      ]
     },
     "execution_count": 13,
     "metadata": {},
     "output_type": "execute_result"
    }
   ],
   "source": [
    "# What is the time delta\n",
    "df['Date'].max() - df['Date'].min()"
   ]
  },
  {
   "cell_type": "code",
   "execution_count": 18,
   "id": "79425bf5",
   "metadata": {},
   "outputs": [
    {
     "data": {
      "text/html": [
       "<div><style>\n",
       ".dataframe > thead > tr > th,\n",
       ".dataframe > tbody > tr > td {\n",
       "  text-align: right;\n",
       "  white-space: pre-wrap;\n",
       "}\n",
       "</style>\n",
       "<small>shape: (1_748, 8)</small><table border=\"1\" class=\"dataframe\"><thead><tr><th>Date</th><th>Symbol</th><th>Open</th><th>High</th><th>Low</th><th>Close</th><th>Volume</th><th>DayOfWeek</th></tr><tr><td>datetime[μs]</td><td>str</td><td>f64</td><td>f64</td><td>f64</td><td>f64</td><td>f64</td><td>u32</td></tr></thead><tbody><tr><td>2020-03-13 20:00:00</td><td>&quot;ETHUSD&quot;</td><td>129.94</td><td>131.82</td><td>126.87</td><td>128.71</td><td>1.9407e6</td><td>5</td></tr><tr><td>2020-03-13 19:00:00</td><td>&quot;ETHUSD&quot;</td><td>119.51</td><td>132.02</td><td>117.1</td><td>129.94</td><td>7.5797e6</td><td>5</td></tr><tr><td>2020-03-13 18:00:00</td><td>&quot;ETHUSD&quot;</td><td>124.47</td><td>124.85</td><td>115.5</td><td>119.51</td><td>4.8987e6</td><td>5</td></tr><tr><td>2020-03-13 17:00:00</td><td>&quot;ETHUSD&quot;</td><td>124.08</td><td>127.42</td><td>121.63</td><td>124.47</td><td>2.7535e6</td><td>5</td></tr><tr><td>2020-03-13 16:00:00</td><td>&quot;ETHUSD&quot;</td><td>124.85</td><td>129.51</td><td>120.17</td><td>124.08</td><td>4.4614e6</td><td>5</td></tr><tr><td>&hellip;</td><td>&hellip;</td><td>&hellip;</td><td>&hellip;</td><td>&hellip;</td><td>&hellip;</td><td>&hellip;</td><td>&hellip;</td></tr><tr><td>2020-01-01 05:00:00</td><td>&quot;ETHUSD&quot;</td><td>129.56</td><td>129.94</td><td>129.47</td><td>129.83</td><td>232163.7</td><td>3</td></tr><tr><td>2020-01-01 04:00:00</td><td>&quot;ETHUSD&quot;</td><td>129.57</td><td>130.0</td><td>129.5</td><td>129.56</td><td>702786.82</td><td>3</td></tr><tr><td>2020-01-01 03:00:00</td><td>&quot;ETHUSD&quot;</td><td>130.37</td><td>130.44</td><td>129.38</td><td>129.57</td><td>496704.23</td><td>3</td></tr><tr><td>2020-01-01 02:00:00</td><td>&quot;ETHUSD&quot;</td><td>130.14</td><td>130.5</td><td>129.91</td><td>130.37</td><td>396315.72</td><td>3</td></tr><tr><td>2020-01-01 01:00:00</td><td>&quot;ETHUSD&quot;</td><td>128.34</td><td>130.14</td><td>128.32</td><td>130.14</td><td>635419.4</td><td>3</td></tr></tbody></table></div>"
      ],
      "text/plain": [
       "shape: (1_748, 8)\n",
       "┌─────────────────────┬────────┬────────┬────────┬────────┬────────┬───────────┬───────────┐\n",
       "│ Date                ┆ Symbol ┆ Open   ┆ High   ┆ Low    ┆ Close  ┆ Volume    ┆ DayOfWeek │\n",
       "│ ---                 ┆ ---    ┆ ---    ┆ ---    ┆ ---    ┆ ---    ┆ ---       ┆ ---       │\n",
       "│ datetime[μs]        ┆ str    ┆ f64    ┆ f64    ┆ f64    ┆ f64    ┆ f64       ┆ u32       │\n",
       "╞═════════════════════╪════════╪════════╪════════╪════════╪════════╪═══════════╪═══════════╡\n",
       "│ 2020-03-13 20:00:00 ┆ ETHUSD ┆ 129.94 ┆ 131.82 ┆ 126.87 ┆ 128.71 ┆ 1.9407e6  ┆ 5         │\n",
       "│ 2020-03-13 19:00:00 ┆ ETHUSD ┆ 119.51 ┆ 132.02 ┆ 117.1  ┆ 129.94 ┆ 7.5797e6  ┆ 5         │\n",
       "│ 2020-03-13 18:00:00 ┆ ETHUSD ┆ 124.47 ┆ 124.85 ┆ 115.5  ┆ 119.51 ┆ 4.8987e6  ┆ 5         │\n",
       "│ 2020-03-13 17:00:00 ┆ ETHUSD ┆ 124.08 ┆ 127.42 ┆ 121.63 ┆ 124.47 ┆ 2.7535e6  ┆ 5         │\n",
       "│ 2020-03-13 16:00:00 ┆ ETHUSD ┆ 124.85 ┆ 129.51 ┆ 120.17 ┆ 124.08 ┆ 4.4614e6  ┆ 5         │\n",
       "│ …                   ┆ …      ┆ …      ┆ …      ┆ …      ┆ …      ┆ …         ┆ …         │\n",
       "│ 2020-01-01 05:00:00 ┆ ETHUSD ┆ 129.56 ┆ 129.94 ┆ 129.47 ┆ 129.83 ┆ 232163.7  ┆ 3         │\n",
       "│ 2020-01-01 04:00:00 ┆ ETHUSD ┆ 129.57 ┆ 130.0  ┆ 129.5  ┆ 129.56 ┆ 702786.82 ┆ 3         │\n",
       "│ 2020-01-01 03:00:00 ┆ ETHUSD ┆ 130.37 ┆ 130.44 ┆ 129.38 ┆ 129.57 ┆ 496704.23 ┆ 3         │\n",
       "│ 2020-01-01 02:00:00 ┆ ETHUSD ┆ 130.14 ┆ 130.5  ┆ 129.91 ┆ 130.37 ┆ 396315.72 ┆ 3         │\n",
       "│ 2020-01-01 01:00:00 ┆ ETHUSD ┆ 128.34 ┆ 130.14 ┆ 128.32 ┆ 130.14 ┆ 635419.4  ┆ 3         │\n",
       "└─────────────────────┴────────┴────────┴────────┴────────┴────────┴───────────┴───────────┘"
      ]
     },
     "execution_count": 18,
     "metadata": {},
     "output_type": "execute_result"
    }
   ],
   "source": [
    "# show for certain range dates (from Jan 2020 and later)\n",
    "df.filter(pl.col('Date') > datetime(2020,1,1))"
   ]
  },
  {
   "cell_type": "code",
   "execution_count": 31,
   "id": "419f6d7a",
   "metadata": {},
   "outputs": [
    {
     "data": {
      "text/html": [
       "<div><style>\n",
       ".dataframe > thead > tr > th,\n",
       ".dataframe > tbody > tr > td {\n",
       "  text-align: right;\n",
       "  white-space: pre-wrap;\n",
       "}\n",
       "</style>\n",
       "<small>shape: (9_480, 8)</small><table border=\"1\" class=\"dataframe\"><thead><tr><th>Date</th><th>Symbol</th><th>Open</th><th>High</th><th>Low</th><th>Close</th><th>Volume</th><th>DayOfWeek</th></tr><tr><td>datetime[μs]</td><td>str</td><td>f64</td><td>f64</td><td>f64</td><td>f64</td><td>f64</td><td>u32</td></tr></thead><tbody><tr><td>2020-01-30 23:00:00</td><td>&quot;ETHUSD&quot;</td><td>186.62</td><td>186.89</td><td>182.99</td><td>184.55</td><td>1.262371e6</td><td>4</td></tr><tr><td>2020-01-30 22:00:00</td><td>&quot;ETHUSD&quot;</td><td>185.03</td><td>186.63</td><td>183.9</td><td>186.62</td><td>992325.34</td><td>4</td></tr><tr><td>2020-01-30 21:00:00</td><td>&quot;ETHUSD&quot;</td><td>184.4</td><td>185.03</td><td>183.19</td><td>185.03</td><td>701167.77</td><td>4</td></tr><tr><td>2020-01-30 20:00:00</td><td>&quot;ETHUSD&quot;</td><td>181.26</td><td>185.14</td><td>181.26</td><td>184.4</td><td>2.1802e6</td><td>4</td></tr><tr><td>2020-01-30 19:00:00</td><td>&quot;ETHUSD&quot;</td><td>180.91</td><td>181.99</td><td>180.2</td><td>181.26</td><td>1.3786e6</td><td>4</td></tr><tr><td>&hellip;</td><td>&hellip;</td><td>&hellip;</td><td>&hellip;</td><td>&hellip;</td><td>&hellip;</td><td>&hellip;</td><td>&hellip;</td></tr><tr><td>2019-01-01 04:00:00</td><td>&quot;ETHUSD&quot;</td><td>130.75</td><td>133.96</td><td>130.74</td><td>131.96</td><td>2.7911e6</td><td>2</td></tr><tr><td>2019-01-01 03:00:00</td><td>&quot;ETHUSD&quot;</td><td>130.06</td><td>130.79</td><td>130.06</td><td>130.75</td><td>503732.63</td><td>2</td></tr><tr><td>2019-01-01 02:00:00</td><td>&quot;ETHUSD&quot;</td><td>130.79</td><td>130.88</td><td>129.55</td><td>130.06</td><td>838183.43</td><td>2</td></tr><tr><td>2019-01-01 01:00:00</td><td>&quot;ETHUSD&quot;</td><td>131.62</td><td>131.62</td><td>130.77</td><td>130.79</td><td>434917.99</td><td>2</td></tr><tr><td>2019-01-01 00:00:00</td><td>&quot;ETHUSD&quot;</td><td>130.53</td><td>131.91</td><td>130.48</td><td>131.62</td><td>1.0671e6</td><td>2</td></tr></tbody></table></div>"
      ],
      "text/plain": [
       "shape: (9_480, 8)\n",
       "┌─────────────────────┬────────┬────────┬────────┬────────┬────────┬────────────┬───────────┐\n",
       "│ Date                ┆ Symbol ┆ Open   ┆ High   ┆ Low    ┆ Close  ┆ Volume     ┆ DayOfWeek │\n",
       "│ ---                 ┆ ---    ┆ ---    ┆ ---    ┆ ---    ┆ ---    ┆ ---        ┆ ---       │\n",
       "│ datetime[μs]        ┆ str    ┆ f64    ┆ f64    ┆ f64    ┆ f64    ┆ f64        ┆ u32       │\n",
       "╞═════════════════════╪════════╪════════╪════════╪════════╪════════╪════════════╪═══════════╡\n",
       "│ 2020-01-30 23:00:00 ┆ ETHUSD ┆ 186.62 ┆ 186.89 ┆ 182.99 ┆ 184.55 ┆ 1.262371e6 ┆ 4         │\n",
       "│ 2020-01-30 22:00:00 ┆ ETHUSD ┆ 185.03 ┆ 186.63 ┆ 183.9  ┆ 186.62 ┆ 992325.34  ┆ 4         │\n",
       "│ 2020-01-30 21:00:00 ┆ ETHUSD ┆ 184.4  ┆ 185.03 ┆ 183.19 ┆ 185.03 ┆ 701167.77  ┆ 4         │\n",
       "│ 2020-01-30 20:00:00 ┆ ETHUSD ┆ 181.26 ┆ 185.14 ┆ 181.26 ┆ 184.4  ┆ 2.1802e6   ┆ 4         │\n",
       "│ 2020-01-30 19:00:00 ┆ ETHUSD ┆ 180.91 ┆ 181.99 ┆ 180.2  ┆ 181.26 ┆ 1.3786e6   ┆ 4         │\n",
       "│ …                   ┆ …      ┆ …      ┆ …      ┆ …      ┆ …      ┆ …          ┆ …         │\n",
       "│ 2019-01-01 04:00:00 ┆ ETHUSD ┆ 130.75 ┆ 133.96 ┆ 130.74 ┆ 131.96 ┆ 2.7911e6   ┆ 2         │\n",
       "│ 2019-01-01 03:00:00 ┆ ETHUSD ┆ 130.06 ┆ 130.79 ┆ 130.06 ┆ 130.75 ┆ 503732.63  ┆ 2         │\n",
       "│ 2019-01-01 02:00:00 ┆ ETHUSD ┆ 130.79 ┆ 130.88 ┆ 129.55 ┆ 130.06 ┆ 838183.43  ┆ 2         │\n",
       "│ 2019-01-01 01:00:00 ┆ ETHUSD ┆ 131.62 ┆ 131.62 ┆ 130.77 ┆ 130.79 ┆ 434917.99  ┆ 2         │\n",
       "│ 2019-01-01 00:00:00 ┆ ETHUSD ┆ 130.53 ┆ 131.91 ┆ 130.48 ┆ 131.62 ┆ 1.0671e6   ┆ 2         │\n",
       "└─────────────────────┴────────┴────────┴────────┴────────┴────────┴────────────┴───────────┘"
      ]
     },
     "execution_count": 31,
     "metadata": {},
     "output_type": "execute_result"
    }
   ],
   "source": [
    "# CAN'T DO AND (&) OPERATIONS WITH DATES\n",
    "# Show between 2019 all the way to the end of the month of Jan in 2020\n",
    "\n",
    "(df\n",
    " .filter(pl.col('Date') >= datetime(2019,1,1))\n",
    " .filter(pl.col('Date') < datetime(2020,1,31))\n",
    " )"
   ]
  },
  {
   "cell_type": "code",
   "execution_count": 37,
   "id": "f5b7f220",
   "metadata": {},
   "outputs": [
    {
     "data": {
      "text/html": [
       "<div><style>\n",
       ".dataframe > thead > tr > th,\n",
       ".dataframe > tbody > tr > td {\n",
       "  text-align: right;\n",
       "  white-space: pre-wrap;\n",
       "}\n",
       "</style>\n",
       "<small>shape: (1, 1)</small><table border=\"1\" class=\"dataframe\"><thead><tr><th>Close</th></tr><tr><td>f64</td></tr></thead><tbody><tr><td>194.63988</td></tr></tbody></table></div>"
      ],
      "text/plain": [
       "shape: (1, 1)\n",
       "┌───────────┐\n",
       "│ Close     │\n",
       "│ ---       │\n",
       "│ f64       │\n",
       "╞═══════════╡\n",
       "│ 194.63988 │\n",
       "└───────────┘"
      ]
     },
     "execution_count": 37,
     "metadata": {},
     "output_type": "execute_result"
    }
   ],
   "source": [
    "# Avg close for a specific date range\n",
    "(df\n",
    " .filter(pl.col('Date') >= datetime(2020,1,1))\n",
    " .filter(pl.col('Date') < datetime(2020,2,29))\n",
    " .select('Close')\n",
    " .mean()\n",
    " )"
   ]
  },
  {
   "cell_type": "code",
   "execution_count": 51,
   "id": "c8167aa4",
   "metadata": {},
   "outputs": [
    {
     "data": {
      "text/html": [
       "<div><style>\n",
       ".dataframe > thead > tr > th,\n",
       ".dataframe > tbody > tr > td {\n",
       "  text-align: right;\n",
       "  white-space: pre-wrap;\n",
       "}\n",
       "</style>\n",
       "<small>shape: (1, 1)</small><table border=\"1\" class=\"dataframe\"><thead><tr><th>Close</th></tr><tr><td>f64</td></tr></thead><tbody><tr><td>155.085739</td></tr></tbody></table></div>"
      ],
      "text/plain": [
       "shape: (1, 1)\n",
       "┌────────────┐\n",
       "│ Close      │\n",
       "│ ---        │\n",
       "│ f64        │\n",
       "╞════════════╡\n",
       "│ 155.085739 │\n",
       "└────────────┘"
      ]
     },
     "execution_count": 51,
     "metadata": {},
     "output_type": "execute_result"
    }
   ],
   "source": [
    "# GET MORE GRANULAR\n",
    "# See the Highs for Jan 1 2020 (New Year's)\n",
    "# Should have 24 records\n",
    "\n",
    "(df\n",
    " .filter(pl.col('Date') >= datetime(2020,1,1,00,00,00))\n",
    " .filter(pl.col('Date') < datetime(2020,1,31,23,59,00))\n",
    " .select('Close')\n",
    " .mean()\n",
    " )"
   ]
  },
  {
   "cell_type": "code",
   "execution_count": 84,
   "id": "0268ce0b",
   "metadata": {},
   "outputs": [
    {
     "data": {
      "text/html": [
       "<div><style>\n",
       ".dataframe > thead > tr > th,\n",
       ".dataframe > tbody > tr > td {\n",
       "  text-align: right;\n",
       "  white-space: pre-wrap;\n",
       "}\n",
       "</style>\n",
       "<small>shape: (31, 2)</small><table border=\"1\" class=\"dataframe\"><thead><tr><th>Date</th><th>High</th></tr><tr><td>datetime[μs]</td><td>f64</td></tr></thead><tbody><tr><td>2020-01-01 00:00:00</td><td>132.68</td></tr><tr><td>2020-01-02 00:00:00</td><td>130.19</td></tr><tr><td>2020-01-03 00:00:00</td><td>134.93</td></tr><tr><td>2020-01-04 00:00:00</td><td>135.75</td></tr><tr><td>2020-01-05 00:00:00</td><td>138.97</td></tr><tr><td>&hellip;</td><td>&hellip;</td></tr><tr><td>2020-01-27 00:00:00</td><td>171.7</td></tr><tr><td>2020-01-28 00:00:00</td><td>176.5</td></tr><tr><td>2020-01-29 00:00:00</td><td>178.31</td></tr><tr><td>2020-01-30 00:00:00</td><td>186.89</td></tr><tr><td>2020-01-31 00:00:00</td><td>185.68</td></tr></tbody></table></div>"
      ],
      "text/plain": [
       "shape: (31, 2)\n",
       "┌─────────────────────┬────────┐\n",
       "│ Date                ┆ High   │\n",
       "│ ---                 ┆ ---    │\n",
       "│ datetime[μs]        ┆ f64    │\n",
       "╞═════════════════════╪════════╡\n",
       "│ 2020-01-01 00:00:00 ┆ 132.68 │\n",
       "│ 2020-01-02 00:00:00 ┆ 130.19 │\n",
       "│ 2020-01-03 00:00:00 ┆ 134.93 │\n",
       "│ 2020-01-04 00:00:00 ┆ 135.75 │\n",
       "│ 2020-01-05 00:00:00 ┆ 138.97 │\n",
       "│ …                   ┆ …      │\n",
       "│ 2020-01-27 00:00:00 ┆ 171.7  │\n",
       "│ 2020-01-28 00:00:00 ┆ 176.5  │\n",
       "│ 2020-01-29 00:00:00 ┆ 178.31 │\n",
       "│ 2020-01-30 00:00:00 ┆ 186.89 │\n",
       "│ 2020-01-31 00:00:00 ┆ 185.68 │\n",
       "└─────────────────────┴────────┘"
      ]
     },
     "execution_count": 84,
     "metadata": {},
     "output_type": "execute_result"
    }
   ],
   "source": [
    "(df\n",
    " .filter(pl.col('Date') >= datetime(2020,1,1,00,00,00))\n",
    " .filter(pl.col('Date') < datetime(2020,1,31,23,59,00))\n",
    " .sort('Date', descending=False) #requires dates to be sorted.\n",
    "#  .upsample(time_column=\"Date\", every=\"30m\", maintain_order=True) #creates nulls because our data is hourly.\n",
    " .group_by_dynamic('Date', every='1d') # Max for each day\n",
    " .agg(pl.col('High').max())\n",
    " )"
   ]
  },
  {
   "cell_type": "code",
   "execution_count": 102,
   "id": "b70c9c68",
   "metadata": {},
   "outputs": [
    {
     "data": {
      "text/html": [
       "<div><style>\n",
       ".dataframe > thead > tr > th,\n",
       ".dataframe > tbody > tr > td {\n",
       "  text-align: right;\n",
       "  white-space: pre-wrap;\n",
       "}\n",
       "</style>\n",
       "<small>shape: (987, 6)</small><table border=\"1\" class=\"dataframe\"><thead><tr><th>Date</th><th>Open</th><th>High</th><th>Low</th><th>Close</th><th>Volume</th></tr><tr><td>datetime[μs]</td><td>f64</td><td>f64</td><td>f64</td><td>f64</td><td>f64</td></tr></thead><tbody><tr><td>2017-07-01 00:00:00</td><td>266.581538</td><td>268.698462</td><td>261.861538</td><td>265.284615</td><td>2.1988e6</td></tr><tr><td>2017-07-02 00:00:00</td><td>268.870833</td><td>272.43875</td><td>266.422083</td><td>269.7825</td><td>2.1776e6</td></tr><tr><td>2017-07-03 00:00:00</td><td>279.241667</td><td>280.774167</td><td>276.599583</td><td>278.882083</td><td>1.4590e6</td></tr><tr><td>2017-07-04 00:00:00</td><td>277.042083</td><td>278.034167</td><td>275.1175</td><td>276.743333</td><td>1.2546e6</td></tr><tr><td>2017-07-05 00:00:00</td><td>265.147917</td><td>267.12</td><td>262.834583</td><td>265.025833</td><td>1.7979e6</td></tr><tr><td>&hellip;</td><td>&hellip;</td><td>&hellip;</td><td>&hellip;</td><td>&hellip;</td><td>&hellip;</td></tr><tr><td>2020-03-09 00:00:00</td><td>200.680417</td><td>203.311667</td><td>197.86</td><td>200.818333</td><td>3.8048e6</td></tr><tr><td>2020-03-10 00:00:00</td><td>201.672083</td><td>203.155</td><td>199.9125</td><td>201.5775</td><td>1.5531e6</td></tr><tr><td>2020-03-11 00:00:00</td><td>196.155833</td><td>197.684167</td><td>194.100833</td><td>195.910417</td><td>1.8949e6</td></tr><tr><td>2020-03-12 00:00:00</td><td>156.27625</td><td>159.00625</td><td>148.700417</td><td>152.763333</td><td>7.5031e6</td></tr><tr><td>2020-03-13 00:00:00</td><td>123.18381</td><td>130.563333</td><td>117.131905</td><td>124.060476</td><td>6.8696e6</td></tr></tbody></table></div>"
      ],
      "text/plain": [
       "shape: (987, 6)\n",
       "┌─────────────────────┬────────────┬────────────┬────────────┬────────────┬──────────┐\n",
       "│ Date                ┆ Open       ┆ High       ┆ Low        ┆ Close      ┆ Volume   │\n",
       "│ ---                 ┆ ---        ┆ ---        ┆ ---        ┆ ---        ┆ ---      │\n",
       "│ datetime[μs]        ┆ f64        ┆ f64        ┆ f64        ┆ f64        ┆ f64      │\n",
       "╞═════════════════════╪════════════╪════════════╪════════════╪════════════╪══════════╡\n",
       "│ 2017-07-01 00:00:00 ┆ 266.581538 ┆ 268.698462 ┆ 261.861538 ┆ 265.284615 ┆ 2.1988e6 │\n",
       "│ 2017-07-02 00:00:00 ┆ 268.870833 ┆ 272.43875  ┆ 266.422083 ┆ 269.7825   ┆ 2.1776e6 │\n",
       "│ 2017-07-03 00:00:00 ┆ 279.241667 ┆ 280.774167 ┆ 276.599583 ┆ 278.882083 ┆ 1.4590e6 │\n",
       "│ 2017-07-04 00:00:00 ┆ 277.042083 ┆ 278.034167 ┆ 275.1175   ┆ 276.743333 ┆ 1.2546e6 │\n",
       "│ 2017-07-05 00:00:00 ┆ 265.147917 ┆ 267.12     ┆ 262.834583 ┆ 265.025833 ┆ 1.7979e6 │\n",
       "│ …                   ┆ …          ┆ …          ┆ …          ┆ …          ┆ …        │\n",
       "│ 2020-03-09 00:00:00 ┆ 200.680417 ┆ 203.311667 ┆ 197.86     ┆ 200.818333 ┆ 3.8048e6 │\n",
       "│ 2020-03-10 00:00:00 ┆ 201.672083 ┆ 203.155    ┆ 199.9125   ┆ 201.5775   ┆ 1.5531e6 │\n",
       "│ 2020-03-11 00:00:00 ┆ 196.155833 ┆ 197.684167 ┆ 194.100833 ┆ 195.910417 ┆ 1.8949e6 │\n",
       "│ 2020-03-12 00:00:00 ┆ 156.27625  ┆ 159.00625  ┆ 148.700417 ┆ 152.763333 ┆ 7.5031e6 │\n",
       "│ 2020-03-13 00:00:00 ┆ 123.18381  ┆ 130.563333 ┆ 117.131905 ┆ 124.060476 ┆ 6.8696e6 │\n",
       "└─────────────────────┴────────────┴────────────┴────────────┴────────────┴──────────┘"
      ]
     },
     "execution_count": 102,
     "metadata": {},
     "output_type": "execute_result"
    }
   ],
   "source": [
    "# Show weekly mean for all columns\n",
    "(df\n",
    " .sort('Date', descending=False)\n",
    " .group_by_dynamic('Date', every='1d')\n",
    " .agg(pl.col(['Open','High','Low','Close','Volume']).mean())\n",
    " )"
   ]
  },
  {
   "cell_type": "code",
   "execution_count": 107,
   "id": "c39070ff",
   "metadata": {},
   "outputs": [
    {
     "data": {
      "text/html": [
       "<div><style>\n",
       ".dataframe > thead > tr > th,\n",
       ".dataframe > tbody > tr > td {\n",
       "  text-align: right;\n",
       "  white-space: pre-wrap;\n",
       "}\n",
       "</style>\n",
       "<small>shape: (987, 3)</small><table border=\"1\" class=\"dataframe\"><thead><tr><th>Date</th><th>Open</th><th>Volume</th></tr><tr><td>datetime[μs]</td><td>f64</td><td>f64</td></tr></thead><tbody><tr><td>2017-07-01 00:00:00</td><td>279.98</td><td>28584024.81</td></tr><tr><td>2017-07-02 00:00:00</td><td>292.54</td><td>52262287.779999994</td></tr><tr><td>2017-07-03 00:00:00</td><td>285</td><td>35016353.53000001</td></tr><tr><td>2017-07-04 00:00:00</td><td>282.58</td><td>30109905.280000005</td></tr><tr><td>2017-07-05 00:00:00</td><td>271</td><td>43150162.52</td></tr><tr><td>&hellip;</td><td>&hellip;</td><td>&hellip;</td></tr><tr><td>2020-03-09 00:00:00</td><td>207.79</td><td>91314036.65000002</td></tr><tr><td>2020-03-10 00:00:00</td><td>205.79</td><td>37273515.54</td></tr><tr><td>2020-03-11 00:00:00</td><td>202.48</td><td>45476825.550000004</td></tr><tr><td>2020-03-12 00:00:00</td><td>194.61</td><td>180073664.55</td></tr><tr><td>2020-03-13 00:00:00</td><td>134.03</td><td>144261788.69</td></tr></tbody></table></div>"
      ],
      "text/plain": [
       "shape: (987, 3)\n",
       "┌─────────────────────┬────────┬────────────────────┐\n",
       "│ Date                ┆ Open   ┆ Volume             │\n",
       "│ ---                 ┆ ---    ┆ ---                │\n",
       "│ datetime[μs]        ┆ f64    ┆ f64                │\n",
       "╞═════════════════════╪════════╪════════════════════╡\n",
       "│ 2017-07-01 00:00:00 ┆ 279.98 ┆ 28584024.81        │\n",
       "│ 2017-07-02 00:00:00 ┆ 292.54 ┆ 52262287.779999994 │\n",
       "│ 2017-07-03 00:00:00 ┆ 285    ┆ 35016353.53000001  │\n",
       "│ 2017-07-04 00:00:00 ┆ 282.58 ┆ 30109905.280000005 │\n",
       "│ 2017-07-05 00:00:00 ┆ 271    ┆ 43150162.52        │\n",
       "│ …                   ┆ …      ┆ …                  │\n",
       "│ 2020-03-09 00:00:00 ┆ 207.79 ┆ 91314036.65000002  │\n",
       "│ 2020-03-10 00:00:00 ┆ 205.79 ┆ 37273515.54        │\n",
       "│ 2020-03-11 00:00:00 ┆ 202.48 ┆ 45476825.550000004 │\n",
       "│ 2020-03-12 00:00:00 ┆ 194.61 ┆ 180073664.55       │\n",
       "│ 2020-03-13 00:00:00 ┆ 134.03 ┆ 144261788.69       │\n",
       "└─────────────────────┴────────┴────────────────────┘"
      ]
     },
     "execution_count": 107,
     "metadata": {},
     "output_type": "execute_result"
    }
   ],
   "source": [
    "# Get max and sum\n",
    "pl.Config.set_fmt_float('full')\n",
    "\n",
    "(df\n",
    " .sort('Date', descending=False)\n",
    " .group_by_dynamic('Date', every='1d')\n",
    " .agg([pl.col('Open').max(),\n",
    "       pl.col('Volume').sum()])\n",
    " )"
   ]
  }
 ],
 "metadata": {
  "kernelspec": {
   "display_name": "Python 3 (ipykernel)",
   "language": "python",
   "name": "python3"
  },
  "language_info": {
   "codemirror_mode": {
    "name": "ipython",
    "version": 3
   },
   "file_extension": ".py",
   "mimetype": "text/x-python",
   "name": "python",
   "nbconvert_exporter": "python",
   "pygments_lexer": "ipython3",
   "version": "3.11.5"
  }
 },
 "nbformat": 4,
 "nbformat_minor": 5
}
