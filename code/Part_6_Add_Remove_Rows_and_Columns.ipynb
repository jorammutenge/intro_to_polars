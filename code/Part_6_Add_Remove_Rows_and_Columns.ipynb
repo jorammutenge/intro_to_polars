{
 "cells": [
  {
   "cell_type": "markdown",
   "id": "ccdb126b",
   "metadata": {},
   "source": [
    "# Part 6: Adding & Removing Rows or Columns"
   ]
  },
  {
   "cell_type": "code",
   "execution_count": null,
   "id": "83b6d1a6",
   "metadata": {},
   "outputs": [],
   "source": [
    "# Our authors\n",
    "authors = {\n",
    "    'first':['Ernest','Stephen','Harper'],\n",
    "    'last':['Hemingway','King','Lee'],\n",
    "    'email':['ehemingway@email.com','sking@email.com','hlee@email.com']\n",
    "}\n",
    "\n",
    "ff = pl.DataFrame(authors)\n",
    "ff"
   ]
  },
  {
   "cell_type": "code",
   "execution_count": 84,
   "id": "8cd039fb",
   "metadata": {},
   "outputs": [
    {
     "data": {
      "text/html": [
       "<div><style>\n",
       ".dataframe > thead > tr > th,\n",
       ".dataframe > tbody > tr > td {\n",
       "  text-align: right;\n",
       "  white-space: pre-wrap;\n",
       "}\n",
       "</style>\n",
       "<small>shape: (3,)</small><table border=\"1\" class=\"dataframe\"><thead><tr><th>first</th></tr><tr><td>str</td></tr></thead><tbody><tr><td>&quot;Ernest Hemingway&quot;</td></tr><tr><td>&quot;Stephen King&quot;</td></tr><tr><td>&quot;Harper Lee&quot;</td></tr></tbody></table></div>"
      ],
      "text/plain": [
       "shape: (3,)\n",
       "Series: 'first' [str]\n",
       "[\n",
       "\t\"Ernest Hemingway\"\n",
       "\t\"Stephen King\"\n",
       "\t\"Harper Lee\"\n",
       "]"
      ]
     },
     "execution_count": 84,
     "metadata": {},
     "output_type": "execute_result"
    }
   ],
   "source": [
    "# Add values from two columns\n",
    "ff['first'] + ' ' + ff['last']"
   ]
  },
  {
   "cell_type": "code",
   "execution_count": 87,
   "id": "307054b6",
   "metadata": {},
   "outputs": [
    {
     "data": {
      "text/html": [
       "<div><style>\n",
       ".dataframe > thead > tr > th,\n",
       ".dataframe > tbody > tr > td {\n",
       "  text-align: right;\n",
       "  white-space: pre-wrap;\n",
       "}\n",
       "</style>\n",
       "<small>shape: (3, 4)</small><table border=\"1\" class=\"dataframe\"><thead><tr><th>first</th><th>last</th><th>email</th><th>full_name</th></tr><tr><td>str</td><td>str</td><td>str</td><td>str</td></tr></thead><tbody><tr><td>&quot;Ernest&quot;</td><td>&quot;Hemingway&quot;</td><td>&quot;ehemingway@email.com&quot;</td><td>&quot;Ernest Hemingway&quot;</td></tr><tr><td>&quot;Stephen&quot;</td><td>&quot;King&quot;</td><td>&quot;sking@email.com&quot;</td><td>&quot;Stephen King&quot;</td></tr><tr><td>&quot;Harper&quot;</td><td>&quot;Lee&quot;</td><td>&quot;hlee@email.com&quot;</td><td>&quot;Harper Lee&quot;</td></tr></tbody></table></div>"
      ],
      "text/plain": [
       "shape: (3, 4)\n",
       "┌─────────┬───────────┬──────────────────────┬──────────────────┐\n",
       "│ first   ┆ last      ┆ email                ┆ full_name        │\n",
       "│ ---     ┆ ---       ┆ ---                  ┆ ---              │\n",
       "│ str     ┆ str       ┆ str                  ┆ str              │\n",
       "╞═════════╪═══════════╪══════════════════════╪══════════════════╡\n",
       "│ Ernest  ┆ Hemingway ┆ ehemingway@email.com ┆ Ernest Hemingway │\n",
       "│ Stephen ┆ King      ┆ sking@email.com      ┆ Stephen King     │\n",
       "│ Harper  ┆ Lee       ┆ hlee@email.com       ┆ Harper Lee       │\n",
       "└─────────┴───────────┴──────────────────────┴──────────────────┘"
      ]
     },
     "execution_count": 87,
     "metadata": {},
     "output_type": "execute_result"
    }
   ],
   "source": [
    "# Add a column\n",
    "(ff\n",
    " .with_columns((pl.col('first') + ' ' + pl.col('last')).alias('full_name'))\n",
    " )"
   ]
  },
  {
   "cell_type": "code",
   "execution_count": 108,
   "id": "d07cc1a7",
   "metadata": {},
   "outputs": [],
   "source": [
    "# Remove columns\n",
    "ff = (ff\n",
    "    .with_columns((pl.col('first') + ' ' + pl.col('last')).alias('full_name'))\n",
    "    .drop('first','last')\n",
    "    )"
   ]
  },
  {
   "cell_type": "code",
   "execution_count": 109,
   "id": "97fe6981",
   "metadata": {},
   "outputs": [],
   "source": [
    "# Return the original dataframe\n",
    "ff = (ff\n",
    " .with_columns(pl.col('full_name').str.split_exact(' ', 1)\n",
    "               .struct.rename_fields(['first','last']).alias('fields'))\n",
    " .unnest('fields')\n",
    " )"
   ]
  },
  {
   "cell_type": "code",
   "execution_count": 110,
   "id": "c49ea023",
   "metadata": {},
   "outputs": [
    {
     "data": {
      "text/html": [
       "<div><style>\n",
       ".dataframe > thead > tr > th,\n",
       ".dataframe > tbody > tr > td {\n",
       "  text-align: right;\n",
       "  white-space: pre-wrap;\n",
       "}\n",
       "</style>\n",
       "<small>shape: (3, 4)</small><table border=\"1\" class=\"dataframe\"><thead><tr><th>email</th><th>full_name</th><th>first</th><th>last</th></tr><tr><td>str</td><td>str</td><td>str</td><td>str</td></tr></thead><tbody><tr><td>&quot;ehemingway@email.com&quot;</td><td>&quot;Ernest Hemingway&quot;</td><td>&quot;Ernest&quot;</td><td>&quot;Hemingway&quot;</td></tr><tr><td>&quot;sking@email.com&quot;</td><td>&quot;Stephen King&quot;</td><td>&quot;Stephen&quot;</td><td>&quot;King&quot;</td></tr><tr><td>&quot;hlee@email.com&quot;</td><td>&quot;Harper Lee&quot;</td><td>&quot;Harper&quot;</td><td>&quot;Lee&quot;</td></tr></tbody></table></div>"
      ],
      "text/plain": [
       "shape: (3, 4)\n",
       "┌──────────────────────┬──────────────────┬─────────┬───────────┐\n",
       "│ email                ┆ full_name        ┆ first   ┆ last      │\n",
       "│ ---                  ┆ ---              ┆ ---     ┆ ---       │\n",
       "│ str                  ┆ str              ┆ str     ┆ str       │\n",
       "╞══════════════════════╪══════════════════╪═════════╪═══════════╡\n",
       "│ ehemingway@email.com ┆ Ernest Hemingway ┆ Ernest  ┆ Hemingway │\n",
       "│ sking@email.com      ┆ Stephen King     ┆ Stephen ┆ King      │\n",
       "│ hlee@email.com       ┆ Harper Lee       ┆ Harper  ┆ Lee       │\n",
       "└──────────────────────┴──────────────────┴─────────┴───────────┘"
      ]
     },
     "execution_count": 110,
     "metadata": {},
     "output_type": "execute_result"
    }
   ],
   "source": [
    "ff"
   ]
  },
  {
   "cell_type": "code",
   "execution_count": null,
   "id": "1fbbe8a2",
   "metadata": {},
   "outputs": [],
   "source": [
    "<div class=\"alert alert-warning\" role=\"alert\" style=\"background-color: black;\">\n",
    "    <center><h1><strong><font color=\"yellow\">Part 6: Adding & Removing Rows or Columns.</font></strong></h1></center>\n",
    "</di>\n"
   ]
  },
  {
   "cell_type": "code",
   "execution_count": null,
   "id": "0981e867",
   "metadata": {},
   "outputs": [],
   "source": []
  },
  {
   "cell_type": "code",
   "execution_count": 120,
   "id": "899b341a",
   "metadata": {},
   "outputs": [
    {
     "data": {
      "text/html": [
       "<div><style>\n",
       ".dataframe > thead > tr > th,\n",
       ".dataframe > tbody > tr > td {\n",
       "  text-align: right;\n",
       "  white-space: pre-wrap;\n",
       "}\n",
       "</style>\n",
       "<small>shape: (2, 4)</small><table border=\"1\" class=\"dataframe\"><thead><tr><th>first</th><th>last</th><th>full_name</th><th>email</th></tr><tr><td>str</td><td>str</td><td>str</td><td>str</td></tr></thead><tbody><tr><td>&quot;Scott&quot;</td><td>&quot;Fitzgerald&quot;</td><td>&quot;Scott Fitzgerald&quot;</td><td>&quot;sfitzgerald@email.com&quot;</td></tr><tr><td>&quot;Joan&quot;</td><td>&quot;Didion&quot;</td><td>&quot;Joan Didion&quot;</td><td>&quot;jdidion@email.com&quot;</td></tr></tbody></table></div>"
      ],
      "text/plain": [
       "shape: (2, 4)\n",
       "┌───────┬────────────┬──────────────────┬───────────────────────┐\n",
       "│ first ┆ last       ┆ full_name        ┆ email                 │\n",
       "│ ---   ┆ ---        ┆ ---              ┆ ---                   │\n",
       "│ str   ┆ str        ┆ str              ┆ str                   │\n",
       "╞═══════╪════════════╪══════════════════╪═══════════════════════╡\n",
       "│ Scott ┆ Fitzgerald ┆ Scott Fitzgerald ┆ sfitzgerald@email.com │\n",
       "│ Joan  ┆ Didion     ┆ Joan Didion      ┆ jdidion@email.com     │\n",
       "└───────┴────────────┴──────────────────┴───────────────────────┘"
      ]
     },
     "execution_count": 120,
     "metadata": {},
     "output_type": "execute_result"
    }
   ],
   "source": [
    "authors = {\n",
    "    'first':['Scott','Joan'],\n",
    "    'last':['Fitzgerald','Didion'],\n",
    "    'full_name':['Scott Fitzgerald','Joan Didion'],\n",
    "    'email':['sfitzgerald@email.com','jdidion@email.com']\n",
    "}\n",
    "\n",
    "ff2 = pl.DataFrame(authors)\n",
    "ff2"
   ]
  },
  {
   "cell_type": "code",
   "execution_count": 125,
   "id": "e82172fc",
   "metadata": {},
   "outputs": [],
   "source": [
    "ff2=ff2.select(['email', 'full_name', 'first', 'last'])"
   ]
  },
  {
   "cell_type": "code",
   "execution_count": 126,
   "id": "c727a49a",
   "metadata": {},
   "outputs": [
    {
     "data": {
      "text/html": [
       "<div><style>\n",
       ".dataframe > thead > tr > th,\n",
       ".dataframe > tbody > tr > td {\n",
       "  text-align: right;\n",
       "  white-space: pre-wrap;\n",
       "}\n",
       "</style>\n",
       "<small>shape: (5, 4)</small><table border=\"1\" class=\"dataframe\"><thead><tr><th>email</th><th>full_name</th><th>first</th><th>last</th></tr><tr><td>str</td><td>str</td><td>str</td><td>str</td></tr></thead><tbody><tr><td>&quot;ehemingway@email.com&quot;</td><td>&quot;Ernest Hemingway&quot;</td><td>&quot;Ernest&quot;</td><td>&quot;Hemingway&quot;</td></tr><tr><td>&quot;sking@email.com&quot;</td><td>&quot;Stephen King&quot;</td><td>&quot;Stephen&quot;</td><td>&quot;King&quot;</td></tr><tr><td>&quot;hlee@email.com&quot;</td><td>&quot;Harper Lee&quot;</td><td>&quot;Harper&quot;</td><td>&quot;Lee&quot;</td></tr><tr><td>&quot;sfitzgerald@email.com&quot;</td><td>&quot;Scott Fitzgerald&quot;</td><td>&quot;Scott&quot;</td><td>&quot;Fitzgerald&quot;</td></tr><tr><td>&quot;jdidion@email.com&quot;</td><td>&quot;Joan Didion&quot;</td><td>&quot;Joan&quot;</td><td>&quot;Didion&quot;</td></tr></tbody></table></div>"
      ],
      "text/plain": [
       "shape: (5, 4)\n",
       "┌───────────────────────┬──────────────────┬─────────┬────────────┐\n",
       "│ email                 ┆ full_name        ┆ first   ┆ last       │\n",
       "│ ---                   ┆ ---              ┆ ---     ┆ ---        │\n",
       "│ str                   ┆ str              ┆ str     ┆ str        │\n",
       "╞═══════════════════════╪══════════════════╪═════════╪════════════╡\n",
       "│ ehemingway@email.com  ┆ Ernest Hemingway ┆ Ernest  ┆ Hemingway  │\n",
       "│ sking@email.com       ┆ Stephen King     ┆ Stephen ┆ King       │\n",
       "│ hlee@email.com        ┆ Harper Lee       ┆ Harper  ┆ Lee        │\n",
       "│ sfitzgerald@email.com ┆ Scott Fitzgerald ┆ Scott   ┆ Fitzgerald │\n",
       "│ jdidion@email.com     ┆ Joan Didion      ┆ Joan    ┆ Didion     │\n",
       "└───────────────────────┴──────────────────┴─────────┴────────────┘"
      ]
     },
     "execution_count": 126,
     "metadata": {},
     "output_type": "execute_result"
    }
   ],
   "source": [
    "ff.extend(ff2) #change in place."
   ]
  },
  {
   "cell_type": "code",
   "execution_count": 139,
   "id": "225f01ac",
   "metadata": {},
   "outputs": [
    {
     "data": {
      "text/html": [
       "<div><style>\n",
       ".dataframe > thead > tr > th,\n",
       ".dataframe > tbody > tr > td {\n",
       "  text-align: right;\n",
       "  white-space: pre-wrap;\n",
       "}\n",
       "</style>\n",
       "<small>shape: (4, 4)</small><table border=\"1\" class=\"dataframe\"><thead><tr><th>email</th><th>full_name</th><th>first</th><th>last</th></tr><tr><td>str</td><td>str</td><td>str</td><td>str</td></tr></thead><tbody><tr><td>&quot;ehemingway@email.com&quot;</td><td>&quot;Ernest Hemingway&quot;</td><td>&quot;Ernest&quot;</td><td>&quot;Hemingway&quot;</td></tr><tr><td>&quot;sking@email.com&quot;</td><td>&quot;Stephen King&quot;</td><td>&quot;Stephen&quot;</td><td>&quot;King&quot;</td></tr><tr><td>&quot;hlee@email.com&quot;</td><td>&quot;Harper Lee&quot;</td><td>&quot;Harper&quot;</td><td>&quot;Lee&quot;</td></tr><tr><td>&quot;sfitzgerald@email.com&quot;</td><td>&quot;Scott Fitzgerald&quot;</td><td>&quot;Scott&quot;</td><td>&quot;Fitzgerald&quot;</td></tr></tbody></table></div>"
      ],
      "text/plain": [
       "shape: (4, 4)\n",
       "┌───────────────────────┬──────────────────┬─────────┬────────────┐\n",
       "│ email                 ┆ full_name        ┆ first   ┆ last       │\n",
       "│ ---                   ┆ ---              ┆ ---     ┆ ---        │\n",
       "│ str                   ┆ str              ┆ str     ┆ str        │\n",
       "╞═══════════════════════╪══════════════════╪═════════╪════════════╡\n",
       "│ ehemingway@email.com  ┆ Ernest Hemingway ┆ Ernest  ┆ Hemingway  │\n",
       "│ sking@email.com       ┆ Stephen King     ┆ Stephen ┆ King       │\n",
       "│ hlee@email.com        ┆ Harper Lee       ┆ Harper  ┆ Lee        │\n",
       "│ sfitzgerald@email.com ┆ Scott Fitzgerald ┆ Scott   ┆ Fitzgerald │\n",
       "└───────────────────────┴──────────────────┴─────────┴────────────┘"
      ]
     },
     "execution_count": 139,
     "metadata": {},
     "output_type": "execute_result"
    }
   ],
   "source": [
    "# Drop an author\n",
    "# ff.filter(pl.col('last') != 'Didion')\n",
    "ff.filter(~(pl.col('last') == 'Didion'))"
   ]
  }
 ],
 "metadata": {
  "kernelspec": {
   "display_name": "Python 3 (ipykernel)",
   "language": "python",
   "name": "python3"
  },
  "language_info": {
   "codemirror_mode": {
    "name": "ipython",
    "version": 3
   },
   "file_extension": ".py",
   "mimetype": "text/x-python",
   "name": "python",
   "nbconvert_exporter": "python",
   "pygments_lexer": "ipython3",
   "version": "3.11.5"
  }
 },
 "nbformat": 4,
 "nbformat_minor": 5
}
