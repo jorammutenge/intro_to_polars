{
 "cells": [
  {
   "cell_type": "markdown",
   "id": "b48a7f38-dc31-4931-bb41-d77187274bd2",
   "metadata": {},
   "source": [
    "# Part 2: DataFrames and Series\n",
    "* Series --> single column table\n",
    "* Dataframe --> multiple column table"
   ]
  },
  {
   "cell_type": "code",
   "execution_count": 9,
   "id": "6a815214-955a-4aec-8dd7-78eacdc35db3",
   "metadata": {},
   "outputs": [
    {
     "data": {
      "text/plain": [
       "polars.series.series.Series"
      ]
     },
     "execution_count": 9,
     "metadata": {},
     "output_type": "execute_result"
    }
   ],
   "source": [
    "type(df['MainBranch'])"
   ]
  },
  {
   "cell_type": "code",
   "execution_count": 8,
   "id": "d40894bd-f783-4db2-a497-b3992dfe81a0",
   "metadata": {},
   "outputs": [
    {
     "data": {
      "text/plain": [
       "polars.dataframe.frame.DataFrame"
      ]
     },
     "execution_count": 8,
     "metadata": {},
     "output_type": "execute_result"
    }
   ],
   "source": [
    "type(df[['MainBranch', 'Hobbyist']])"
   ]
  },
  {
   "cell_type": "code",
   "execution_count": 2,
   "id": "96e60837-2c59-4ddd-ab08-df4b4d19f74b",
   "metadata": {},
   "outputs": [],
   "source": [
    "# Storing data the pure Python way with dictionaries\n",
    "\n",
    "best_writer = {\n",
    "    'first':'Ernest',\n",
    "    'last':'Hemingway',\n",
    "    'email':'ehemingway@email.com'\n",
    "}"
   ]
  },
  {
   "cell_type": "code",
   "execution_count": 3,
   "id": "ce348e72-e455-4808-8ac0-69ecb2526a46",
   "metadata": {},
   "outputs": [],
   "source": [
    "author = {\n",
    "    'first':['Ernest'],\n",
    "    'last':['Hemingway'],\n",
    "    'email':['ehemingway@email.com']\n",
    "}"
   ]
  },
  {
   "cell_type": "code",
   "execution_count": 4,
   "id": "8ec5f78d-0bfe-4e1b-86b0-5a9e281a64f0",
   "metadata": {},
   "outputs": [],
   "source": [
    "authors = {\n",
    "    'first':['Ernest','Stephen','Harper'],\n",
    "    'last':['Hemingway','King','Lee'],\n",
    "    'email':['ehemingway@email.com','sking@email.com','hlee@email.com']\n",
    "}"
   ]
  },
  {
   "cell_type": "code",
   "execution_count": 15,
   "id": "4f70c5be-3e32-40a0-a1b0-5bf6307c37e4",
   "metadata": {},
   "outputs": [
    {
     "data": {
      "text/plain": [
       "['ehemingway@email.com', 'sking@email.com', 'hlee@email.com']"
      ]
     },
     "execution_count": 15,
     "metadata": {},
     "output_type": "execute_result"
    }
   ],
   "source": [
    "# key value pairs.\n",
    "# Access all author emails\n",
    "authors['email']"
   ]
  },
  {
   "cell_type": "code",
   "execution_count": 5,
   "id": "6a2a4583-f3eb-4834-a1fc-7d4e767f0372",
   "metadata": {},
   "outputs": [],
   "source": [
    "# Create a dataframe from dictionary\n",
    "\n",
    "import polars as pl"
   ]
  },
  {
   "cell_type": "code",
   "execution_count": 6,
   "id": "460df04c-3bc6-4e01-a4d7-963f3265d0c7",
   "metadata": {},
   "outputs": [
    {
     "data": {
      "text/html": [
       "<div><style>\n",
       ".dataframe > thead > tr > th,\n",
       ".dataframe > tbody > tr > td {\n",
       "  text-align: right;\n",
       "  white-space: pre-wrap;\n",
       "}\n",
       "</style>\n",
       "<small>shape: (3, 3)</small><table border=\"1\" class=\"dataframe\"><thead><tr><th>first</th><th>last</th><th>email</th></tr><tr><td>str</td><td>str</td><td>str</td></tr></thead><tbody><tr><td>&quot;Ernest&quot;</td><td>&quot;Hemingway&quot;</td><td>&quot;ehemingway@ema…</td></tr><tr><td>&quot;Stephen&quot;</td><td>&quot;King&quot;</td><td>&quot;sking@email.co…</td></tr><tr><td>&quot;Harper&quot;</td><td>&quot;Lee&quot;</td><td>&quot;hlee@email.com…</td></tr></tbody></table></div>"
      ],
      "text/plain": [
       "shape: (3, 3)\n",
       "┌─────────┬───────────┬──────────────────────┐\n",
       "│ first   ┆ last      ┆ email                │\n",
       "│ ---     ┆ ---       ┆ ---                  │\n",
       "│ str     ┆ str       ┆ str                  │\n",
       "╞═════════╪═══════════╪══════════════════════╡\n",
       "│ Ernest  ┆ Hemingway ┆ ehemingway@email.com │\n",
       "│ Stephen ┆ King      ┆ sking@email.com      │\n",
       "│ Harper  ┆ Lee       ┆ hlee@email.com       │\n",
       "└─────────┴───────────┴──────────────────────┘"
      ]
     },
     "execution_count": 6,
     "metadata": {},
     "output_type": "execute_result"
    }
   ],
   "source": [
    "ff = pl.DataFrame(authors)\n",
    "ff"
   ]
  },
  {
   "cell_type": "code",
   "execution_count": 19,
   "id": "df199181-8ec7-40a8-b2be-68d612157f76",
   "metadata": {},
   "outputs": [
    {
     "data": {
      "text/html": [
       "<div><style>\n",
       ".dataframe > thead > tr > th,\n",
       ".dataframe > tbody > tr > td {\n",
       "  text-align: right;\n",
       "  white-space: pre-wrap;\n",
       "}\n",
       "</style>\n",
       "<small>shape: (3,)</small><table border=\"1\" class=\"dataframe\"><thead><tr><th>email</th></tr><tr><td>str</td></tr></thead><tbody><tr><td>&quot;ehemingway@email.com&quot;</td></tr><tr><td>&quot;sking@email.com&quot;</td></tr><tr><td>&quot;hlee@email.com&quot;</td></tr></tbody></table></div>"
      ],
      "text/plain": [
       "shape: (3,)\n",
       "Series: 'email' [str]\n",
       "[\n",
       "\t\"ehemingway@email.com\"\n",
       "\t\"sking@email.com\"\n",
       "\t\"hlee@email.com\"\n",
       "]"
      ]
     },
     "execution_count": 19,
     "metadata": {},
     "output_type": "execute_result"
    }
   ],
   "source": [
    "# See all emails\n",
    "# Dataframes are much more than a dictionary of lists\n",
    "\n",
    "ff['email']"
   ]
  },
  {
   "cell_type": "code",
   "execution_count": 22,
   "id": "e9e35308-7847-4b31-91b5-ee64e5ca53a1",
   "metadata": {},
   "outputs": [
    {
     "data": {
      "text/plain": [
       "polars.dataframe.frame.DataFrame"
      ]
     },
     "execution_count": 22,
     "metadata": {},
     "output_type": "execute_result"
    }
   ],
   "source": [
    "type(ff.select(pl.col('email')))"
   ]
  },
  {
   "cell_type": "code",
   "execution_count": 23,
   "id": "563089ee-6c58-4cea-a1b6-d0fbbb6bd6c4",
   "metadata": {},
   "outputs": [
    {
     "data": {
      "text/plain": [
       "['first', 'last', 'email']"
      ]
     },
     "execution_count": 23,
     "metadata": {},
     "output_type": "execute_result"
    }
   ],
   "source": [
    "# Get columns in the dataframe\n",
    "ff.columns"
   ]
  },
  {
   "cell_type": "code",
   "execution_count": 29,
   "id": "0c42d775",
   "metadata": {},
   "outputs": [
    {
     "data": {
      "text/html": [
       "<div><style>\n",
       ".dataframe > thead > tr > th,\n",
       ".dataframe > tbody > tr > td {\n",
       "  text-align: right;\n",
       "  white-space: pre-wrap;\n",
       "}\n",
       "</style>\n",
       "<small>shape: (1, 3)</small><table border=\"1\" class=\"dataframe\"><thead><tr><th>first</th><th>last</th><th>email</th></tr><tr><td>str</td><td>str</td><td>str</td></tr></thead><tbody><tr><td>&quot;Ernest&quot;</td><td>&quot;Hemingway&quot;</td><td>&quot;ehemingway@email.com&quot;</td></tr></tbody></table></div>"
      ],
      "text/plain": [
       "shape: (1, 3)\n",
       "┌────────┬───────────┬──────────────────────┐\n",
       "│ first  ┆ last      ┆ email                │\n",
       "│ ---    ┆ ---       ┆ ---                  │\n",
       "│ str    ┆ str       ┆ str                  │\n",
       "╞════════╪═══════════╪══════════════════════╡\n",
       "│ Ernest ┆ Hemingway ┆ ehemingway@email.com │\n",
       "└────────┴───────────┴──────────────────────┘"
      ]
     },
     "execution_count": 29,
     "metadata": {},
     "output_type": "execute_result"
    }
   ],
   "source": [
    "#get first row of dataframe\n",
    "ff[0]"
   ]
  },
  {
   "cell_type": "code",
   "execution_count": 31,
   "id": "5b8d0aed-e966-43e8-9eac-ce1f56d40ef2",
   "metadata": {},
   "outputs": [
    {
     "data": {
      "text/html": [
       "<div><style>\n",
       ".dataframe > thead > tr > th,\n",
       ".dataframe > tbody > tr > td {\n",
       "  text-align: right;\n",
       "  white-space: pre-wrap;\n",
       "}\n",
       "</style>\n",
       "<small>shape: (2,)</small><table border=\"1\" class=\"dataframe\"><thead><tr><th>email</th></tr><tr><td>str</td></tr></thead><tbody><tr><td>&quot;ehemingway@email.com&quot;</td></tr><tr><td>&quot;sking@email.com&quot;</td></tr></tbody></table></div>"
      ],
      "text/plain": [
       "shape: (2,)\n",
       "Series: 'email' [str]\n",
       "[\n",
       "\t\"ehemingway@email.com\"\n",
       "\t\"sking@email.com\"\n",
       "]"
      ]
     },
     "execution_count": 31,
     "metadata": {},
     "output_type": "execute_result"
    }
   ],
   "source": [
    "#get first row of column\n",
    "ff['email'][0] "
   ]
  },
  {
   "cell_type": "code",
   "execution_count": 32,
   "id": "357fa87e-af55-4dd0-af38-8149539e8a94",
   "metadata": {},
   "outputs": [
    {
     "data": {
      "text/html": [
       "<div><style>\n",
       ".dataframe > thead > tr > th,\n",
       ".dataframe > tbody > tr > td {\n",
       "  text-align: right;\n",
       "  white-space: pre-wrap;\n",
       "}\n",
       "</style>\n",
       "<small>shape: (2,)</small><table border=\"1\" class=\"dataframe\"><thead><tr><th>email</th></tr><tr><td>str</td></tr></thead><tbody><tr><td>&quot;ehemingway@email.com&quot;</td></tr><tr><td>&quot;hlee@email.com&quot;</td></tr></tbody></table></div>"
      ],
      "text/plain": [
       "shape: (2,)\n",
       "Series: 'email' [str]\n",
       "[\n",
       "\t\"ehemingway@email.com\"\n",
       "\t\"hlee@email.com\"\n",
       "]"
      ]
     },
     "execution_count": 32,
     "metadata": {},
     "output_type": "execute_result"
    }
   ],
   "source": [
    "# Get multiple rows\n",
    "ff['email'][0,2]"
   ]
  },
  {
   "cell_type": "code",
   "execution_count": 38,
   "id": "ebaa4695-0a76-4618-a31c-2d5e3a02efd6",
   "metadata": {},
   "outputs": [
    {
     "data": {
      "text/plain": [
       "'hlee@email.com'"
      ]
     },
     "execution_count": 38,
     "metadata": {},
     "output_type": "execute_result"
    }
   ],
   "source": [
    "# Like a matrix\n",
    "ff\n",
    "\n",
    "# Getting harper lee's email\n",
    "ff[2,2]"
   ]
  },
  {
   "cell_type": "code",
   "execution_count": 39,
   "id": "b658dc13-32c6-4aa6-bdd5-dee56fcd71cb",
   "metadata": {},
   "outputs": [
    {
     "data": {
      "text/html": [
       "<div><style>\n",
       ".dataframe > thead > tr > th,\n",
       ".dataframe > tbody > tr > td {\n",
       "  text-align: right;\n",
       "  white-space: pre-wrap;\n",
       "}\n",
       "</style>\n",
       "<small>shape: (2, 2)</small><table border=\"1\" class=\"dataframe\"><thead><tr><th>first</th><th>email</th></tr><tr><td>str</td><td>str</td></tr></thead><tbody><tr><td>&quot;Ernest&quot;</td><td>&quot;ehemingway@email.com&quot;</td></tr><tr><td>&quot;Harper&quot;</td><td>&quot;hlee@email.com&quot;</td></tr></tbody></table></div>"
      ],
      "text/plain": [
       "shape: (2, 2)\n",
       "┌────────┬──────────────────────┐\n",
       "│ first  ┆ email                │\n",
       "│ ---    ┆ ---                  │\n",
       "│ str    ┆ str                  │\n",
       "╞════════╪══════════════════════╡\n",
       "│ Ernest ┆ ehemingway@email.com │\n",
       "│ Harper ┆ hlee@email.com       │\n",
       "└────────┴──────────────────────┘"
      ]
     },
     "execution_count": 39,
     "metadata": {},
     "output_type": "execute_result"
    }
   ],
   "source": [
    "# Get even more complicated with selection\n",
    "ff[[0,2],['first','email']]"
   ]
  },
  {
   "cell_type": "markdown",
   "id": "b4aca9a9-44a5-47b8-af07-f26645cb4f91",
   "metadata": {},
   "source": [
    "## Use what we learned"
   ]
  },
  {
   "cell_type": "code",
   "execution_count": 45,
   "id": "8b542d64-1875-4ab7-950e-4ff9f50406f1",
   "metadata": {},
   "outputs": [
    {
     "data": {
      "text/plain": [
       "['Respondent',\n",
       " 'MainBranch',\n",
       " 'Hobbyist',\n",
       " 'OpenSourcer',\n",
       " 'OpenSource',\n",
       " 'Employment',\n",
       " 'Country',\n",
       " 'Student',\n",
       " 'EdLevel',\n",
       " 'UndergradMajor',\n",
       " 'EduOther',\n",
       " 'OrgSize',\n",
       " 'DevType',\n",
       " 'YearsCode',\n",
       " 'Age1stCode',\n",
       " 'YearsCodePro',\n",
       " 'CareerSat',\n",
       " 'JobSat',\n",
       " 'MgrIdiot',\n",
       " 'MgrMoney',\n",
       " 'MgrWant',\n",
       " 'JobSeek',\n",
       " 'LastHireDate',\n",
       " 'LastInt',\n",
       " 'FizzBuzz',\n",
       " 'JobFactors',\n",
       " 'ResumeUpdate',\n",
       " 'CurrencySymbol',\n",
       " 'CurrencyDesc',\n",
       " 'CompTotal',\n",
       " 'CompFreq',\n",
       " 'ConvertedComp',\n",
       " 'WorkWeekHrs',\n",
       " 'WorkPlan',\n",
       " 'WorkChallenge',\n",
       " 'WorkRemote',\n",
       " 'WorkLoc',\n",
       " 'ImpSyn',\n",
       " 'CodeRev',\n",
       " 'CodeRevHrs',\n",
       " 'UnitTests',\n",
       " 'PurchaseHow',\n",
       " 'PurchaseWhat',\n",
       " 'LanguageWorkedWith',\n",
       " 'LanguageDesireNextYear',\n",
       " 'DatabaseWorkedWith',\n",
       " 'DatabaseDesireNextYear',\n",
       " 'PlatformWorkedWith',\n",
       " 'PlatformDesireNextYear',\n",
       " 'WebFrameWorkedWith',\n",
       " 'WebFrameDesireNextYear',\n",
       " 'MiscTechWorkedWith',\n",
       " 'MiscTechDesireNextYear',\n",
       " 'DevEnviron',\n",
       " 'OpSys',\n",
       " 'Containers',\n",
       " 'BlockchainOrg',\n",
       " 'BlockchainIs',\n",
       " 'BetterLife',\n",
       " 'ITperson',\n",
       " 'OffOn',\n",
       " 'SocialMedia',\n",
       " 'Extraversion',\n",
       " 'ScreenName',\n",
       " 'SOVisit1st',\n",
       " 'SOVisitFreq',\n",
       " 'SOVisitTo',\n",
       " 'SOFindAnswer',\n",
       " 'SOTimeSaved',\n",
       " 'SOHowMuchTime',\n",
       " 'SOAccount',\n",
       " 'SOPartFreq',\n",
       " 'SOJobs',\n",
       " 'EntTeams',\n",
       " 'SOComm',\n",
       " 'WelcomeChange',\n",
       " 'SONewContent',\n",
       " 'Age',\n",
       " 'Gender',\n",
       " 'Trans',\n",
       " 'Sexuality',\n",
       " 'Ethnicity',\n",
       " 'Dependents',\n",
       " 'SurveyLength',\n",
       " 'SurveyEase']"
      ]
     },
     "execution_count": 45,
     "metadata": {},
     "output_type": "execute_result"
    }
   ],
   "source": [
    "# Get col names of our survey data\n",
    "df.columns"
   ]
  },
  {
   "cell_type": "code",
   "execution_count": 46,
   "id": "e475fb3c",
   "metadata": {},
   "outputs": [
    {
     "data": {
      "text/html": [
       "<div><style>\n",
       ".dataframe > thead > tr > th,\n",
       ".dataframe > tbody > tr > td {\n",
       "  text-align: right;\n",
       "  white-space: pre-wrap;\n",
       "}\n",
       "</style>\n",
       "<small>shape: (88_883,)</small><table border=\"1\" class=\"dataframe\"><thead><tr><th>Hobbyist</th></tr><tr><td>str</td></tr></thead><tbody><tr><td>&quot;Yes&quot;</td></tr><tr><td>&quot;No&quot;</td></tr><tr><td>&quot;Yes&quot;</td></tr><tr><td>&quot;No&quot;</td></tr><tr><td>&quot;Yes&quot;</td></tr><tr><td>&hellip;</td></tr><tr><td>&quot;Yes&quot;</td></tr><tr><td>&quot;No&quot;</td></tr><tr><td>&quot;No&quot;</td></tr><tr><td>&quot;No&quot;</td></tr><tr><td>&quot;Yes&quot;</td></tr></tbody></table></div>"
      ],
      "text/plain": [
       "shape: (88_883,)\n",
       "Series: 'Hobbyist' [str]\n",
       "[\n",
       "\t\"Yes\"\n",
       "\t\"No\"\n",
       "\t\"Yes\"\n",
       "\t\"No\"\n",
       "\t\"Yes\"\n",
       "\t…\n",
       "\t\"Yes\"\n",
       "\t\"No\"\n",
       "\t\"No\"\n",
       "\t\"No\"\n",
       "\t\"Yes\"\n",
       "]"
      ]
     },
     "execution_count": 46,
     "metadata": {},
     "output_type": "execute_result"
    }
   ],
   "source": [
    "# Get a col\n",
    "df['Hobbyist']"
   ]
  },
  {
   "cell_type": "code",
   "execution_count": 48,
   "id": "5cbfd823",
   "metadata": {},
   "outputs": [
    {
     "data": {
      "text/html": [
       "<div><style>\n",
       ".dataframe > thead > tr > th,\n",
       ".dataframe > tbody > tr > td {\n",
       "  text-align: right;\n",
       "  white-space: pre-wrap;\n",
       "}\n",
       "</style>\n",
       "<small>shape: (2, 2)</small><table border=\"1\" class=\"dataframe\"><thead><tr><th>Hobbyist</th><th>counts</th></tr><tr><td>str</td><td>u32</td></tr></thead><tbody><tr><td>&quot;No&quot;</td><td>17626</td></tr><tr><td>&quot;Yes&quot;</td><td>71257</td></tr></tbody></table></div>"
      ],
      "text/plain": [
       "shape: (2, 2)\n",
       "┌──────────┬────────┐\n",
       "│ Hobbyist ┆ counts │\n",
       "│ ---      ┆ ---    │\n",
       "│ str      ┆ u32    │\n",
       "╞══════════╪════════╡\n",
       "│ No       ┆ 17626  │\n",
       "│ Yes      ┆ 71257  │\n",
       "└──────────┴────────┘"
      ]
     },
     "execution_count": 48,
     "metadata": {},
     "output_type": "execute_result"
    }
   ],
   "source": [
    "# See count of yes and no\n",
    "df['Hobbyist'].value_counts()\n",
    "\n",
    "# More on this in later vidoes"
   ]
  },
  {
   "cell_type": "code",
   "execution_count": 61,
   "id": "7b08f49c",
   "metadata": {},
   "outputs": [
    {
     "data": {
      "text/html": [
       "<div><style>\n",
       ".dataframe > thead > tr > th,\n",
       ".dataframe > tbody > tr > td {\n",
       "  text-align: right;\n",
       "  white-space: pre-wrap;\n",
       "}\n",
       "</style>\n",
       "<small>shape: (4, 4)</small><table border=\"1\" class=\"dataframe\"><thead><tr><th>Hobbyist</th><th>OpenSourcer</th><th>OpenSource</th><th>Employment</th></tr><tr><td>str</td><td>str</td><td>str</td><td>str</td></tr></thead><tbody><tr><td>&quot;Yes&quot;</td><td>&quot;Never&quot;</td><td>&quot;The quality of OSS and closed source software is …</td><td>&quot;Not employed, and not looking for work&quot;</td></tr><tr><td>&quot;No&quot;</td><td>&quot;Less than once per year&quot;</td><td>&quot;The quality of OSS and closed source software is …</td><td>&quot;Not employed, but looking for work&quot;</td></tr><tr><td>&quot;Yes&quot;</td><td>&quot;Never&quot;</td><td>&quot;The quality of OSS and closed source software is …</td><td>&quot;Employed full-time&quot;</td></tr><tr><td>&quot;No&quot;</td><td>&quot;Never&quot;</td><td>&quot;The quality of OSS and closed source software is …</td><td>&quot;Employed full-time&quot;</td></tr></tbody></table></div>"
      ],
      "text/plain": [
       "shape: (4, 4)\n",
       "┌──────────┬─────────────────────────┬─────────────────────────────────┬───────────────────────────┐\n",
       "│ Hobbyist ┆ OpenSourcer             ┆ OpenSource                      ┆ Employment                │\n",
       "│ ---      ┆ ---                     ┆ ---                             ┆ ---                       │\n",
       "│ str      ┆ str                     ┆ str                             ┆ str                       │\n",
       "╞══════════╪═════════════════════════╪═════════════════════════════════╪═══════════════════════════╡\n",
       "│ Yes      ┆ Never                   ┆ The quality of OSS and closed   ┆ Not employed, and not     │\n",
       "│          ┆                         ┆ source software is a…           ┆ looking for work          │\n",
       "│ No       ┆ Less than once per year ┆ The quality of OSS and closed   ┆ Not employed, but looking │\n",
       "│          ┆                         ┆ source software is a…           ┆ for work                  │\n",
       "│ Yes      ┆ Never                   ┆ The quality of OSS and closed   ┆ Employed full-time        │\n",
       "│          ┆                         ┆ source software is a…           ┆                           │\n",
       "│ No       ┆ Never                   ┆ The quality of OSS and closed   ┆ Employed full-time        │\n",
       "│          ┆                         ┆ source software is a…           ┆                           │\n",
       "└──────────┴─────────────────────────┴─────────────────────────────────┴───────────────────────────┘"
      ]
     },
     "execution_count": 61,
     "metadata": {},
     "output_type": "execute_result"
    }
   ],
   "source": [
    "# Get the details of first responder in survey.\n",
    "df[0]\n",
    "\n",
    "# Show only result for hobbyst question\n",
    "df[0,['Hobbyist']]\n",
    "\n",
    "# Can even use slicing\n",
    "df[0:4,['Hobbyist']]\n",
    "\n",
    "df[0:4,'Hobbyist':'Employment']"
   ]
  }
 ],
 "metadata": {
  "kernelspec": {
   "display_name": "Python 3 (ipykernel)",
   "language": "python",
   "name": "python3"
  },
  "language_info": {
   "codemirror_mode": {
    "name": "ipython",
    "version": 3
   },
   "file_extension": ".py",
   "mimetype": "text/x-python",
   "name": "python",
   "nbconvert_exporter": "python",
   "pygments_lexer": "ipython3",
   "version": "3.11.5"
  }
 },
 "nbformat": 4,
 "nbformat_minor": 5
}
